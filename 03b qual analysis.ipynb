{
 "cells": [
  {
   "cell_type": "code",
   "execution_count": 1,
   "metadata": {},
   "outputs": [],
   "source": [
    "from knowknow import *"
   ]
  },
  {
   "cell_type": "code",
   "execution_count": 2,
   "metadata": {},
   "outputs": [],
   "source": [
    "import knowknow"
   ]
  },
  {
   "cell_type": "code",
   "execution_count": 3,
   "metadata": {},
   "outputs": [],
   "source": [
    "from pymongo import MongoClient"
   ]
  },
  {
   "cell_type": "code",
   "execution_count": 4,
   "metadata": {},
   "outputs": [],
   "source": [
    "db = MongoClient()['jstor-soc']"
   ]
  },
  {
   "cell_type": "code",
   "execution_count": 5,
   "metadata": {},
   "outputs": [
    {
     "name": "stdout",
     "output_type": "stream",
     "text": [
      "loading variable sociology-wos-74b/groups from disk\n",
      "loading variable sociology-wos-74b/group_reps from disk\n",
      "loading variable sociology-wos-74b/_attributes from disk\n"
     ]
    }
   ],
   "source": [
    "from load_db import db as dta"
   ]
  },
  {
   "cell_type": "code",
   "execution_count": 6,
   "metadata": {},
   "outputs": [],
   "source": [
    "from pybtex.database.input import bibtex\n",
    "\n",
    "#open a bibtex file\n",
    "parser = bibtex.Parser()\n",
    "bibdata = parser.parse_file(\"C:/Users/amcga/Downloads/my_deaths_fixed.bib\")"
   ]
  },
  {
   "cell_type": "code",
   "execution_count": 7,
   "metadata": {},
   "outputs": [],
   "source": [
    "rows = []\n",
    "qs = []\n",
    "#loop through the individual references\n",
    "for bib_id in bibdata.entries:\n",
    "    b = bibdata.entries[bib_id].fields\n",
    "    try:\n",
    "        # change these lines to create a SQL insert\n",
    "        auths = \", \".join( str(x) for x in bibdata.entries[bib_id].persons[\"author\"] )\n",
    "        rows.append([\n",
    "            auths,\n",
    "            b[\"title\"],\n",
    "            b[\"year\"]\n",
    "        ])\n",
    "        \n",
    "        auths = [ x.last_names[-1] for x in bibdata.entries[bib_id].persons[\"author\"] ]\n",
    "        #print(auths)\n",
    "        parts = auths\n",
    "        \n",
    "        q = \".*\".join( parts )\n",
    "        \n",
    "        if bibdata.entries[bib_id].type != 'book' or True:\n",
    "            #parts.append(b['year'])\n",
    "            q += f\" \\({b['year']}\\)\"\n",
    "            \n",
    "        qs.append(q)\n",
    "    # field may not exist for a reference\n",
    "    except(KeyError):\n",
    "        continue"
   ]
  },
  {
   "cell_type": "code",
   "execution_count": 8,
   "metadata": {},
   "outputs": [
    {
     "data": {
      "text/plain": [
       "['Dohrenwend.*Dohrenwend \\\\(1969\\\\)']"
      ]
     },
     "execution_count": 8,
     "metadata": {},
     "output_type": "execute_result"
    }
   ],
   "source": [
    "[x for x in qs if 'Dohren' in x]"
   ]
  },
  {
   "cell_type": "code",
   "execution_count": 9,
   "metadata": {},
   "outputs": [
    {
     "data": {
      "text/plain": [
       "['Ajzen.*Fishbein \\\\(1980\\\\)',\n",
       " 'Alwin.*Hauser \\\\(1975\\\\)',\n",
       " 'Andrews \\\\(1967\\\\)',\n",
       " 'Aronowitz \\\\(1973\\\\)',\n",
       " 'Barber \\\\(1957\\\\)']"
      ]
     },
     "execution_count": 9,
     "metadata": {},
     "output_type": "execute_result"
    }
   ],
   "source": [
    "qs[:5]"
   ]
  },
  {
   "cell_type": "code",
   "execution_count": 10,
   "metadata": {},
   "outputs": [],
   "source": [
    "from tabulate import tabulate\n",
    "#display(HTML(tabulate(rows, tablefmt='html')))"
   ]
  },
  {
   "cell_type": "code",
   "execution_count": 10,
   "metadata": {},
   "outputs": [],
   "source": [
    "def format_cit(c):\n",
    "    d = db['docs'].find_one( {'_id':c['doc']} )\n",
    "    return \"+ (%s, %s) %s\" % (\n",
    "        d['year'],\n",
    "        d['journal'],\n",
    "        \"///\".join( c['contextPure'].split(\"\\n\") )\n",
    "    )"
   ]
  },
  {
   "cell_type": "code",
   "execution_count": 12,
   "metadata": {},
   "outputs": [],
   "source": [
    "qstr = \"Mead.*1928\"\n",
    "qstr = \"Nettler.*1974\"\n",
    "qstr = \"Nie et al.*\"\n",
    "qstr = \"Bogue.*\"\n",
    "qstr = \"Edwards.*197\"\n",
    "qstr = \".*Kolb.*\"\n",
    "qstr = \"Merton.*Lazarsfeld.*\\)\"\n",
    "qstr = \"Andrews.*\"\n",
    "qstr = \"Dohrenwend.*\"\n",
    "qstr = \"Kardiner\\s\\(\"\n",
    "qstr = \"Loomis and Beegle .*\"\n",
    "qstr = \"MacIver.*1937\\)\"\n",
    "qstr = \"Chapin.*\\)\"\n",
    "\n",
    "q = {\"citations\":{\"$elemMatch\":{\"$regex\":qstr}}}\n",
    "cits = list(db['cits'].find(q))"
   ]
  },
  {
   "cell_type": "code",
   "execution_count": 24,
   "metadata": {},
   "outputs": [],
   "source": [
    "cit_reps = Counter([\n",
    "    y\n",
    "    for x in cits\n",
    "    for y in x['citations']\n",
    "    if re.match(qstr, y)\n",
    "])"
   ]
  },
  {
   "cell_type": "code",
   "execution_count": 25,
   "metadata": {},
   "outputs": [
    {
     "data": {
      "text/plain": [
       "[('Chapin (1974)', 11),\n",
       " ('Chapin (1997)', 7),\n",
       " ('Chapin (2004)', 6),\n",
       " ('Chapin (1955)', 5),\n",
       " ('Chapin (1934)', 3),\n",
       " ('Chapin (1911)', 3),\n",
       " ('Chapin (1938)', 2),\n",
       " ('Chapin (1933)', 2),\n",
       " ('Chapin (1883)', 2),\n",
       " ('Chapin (1935)', 2),\n",
       " ('Chapin (1947)', 1),\n",
       " ('Chapin (1928)', 1),\n",
       " ('Chapin et al. (2000)', 1),\n",
       " ('Chapin and Tsouderos (1955)', 1),\n",
       " ('Chapin (1910)', 1),\n",
       " ('Chapin and Tsouderos (1956)', 1),\n",
       " ('Chapin (1968)', 1),\n",
       " ('Chapin (2007)', 1),\n",
       " ('Chapin et al. (2004)', 1),\n",
       " ('Chapin (1924)', 1)]"
      ]
     },
     "execution_count": 25,
     "metadata": {},
     "output_type": "execute_result"
    }
   ],
   "source": [
    "cit_reps.most_common(20)"
   ]
  },
  {
   "cell_type": "code",
   "execution_count": 32,
   "metadata": {},
   "outputs": [],
   "source": [
    "def find_quote(s, with_who=None):\n",
    "    q = {\"contextPure\":{\"$regex\":s}}\n",
    "    if with_who is not None:\n",
    "        q['citations'] = {\"$elemMatch\":{\"$regex\":with_who}}\n",
    "        \n",
    "    cit = db['cits'].find_one(q)\n",
    "    doc = db['docs'].find_one({\"_id\":cit['doc']})\n",
    "    print(f\"{' '.join(doc['authors'])} {doc['title']} ({doc['year']}). {doc['journal']}, doc['fpage'], doc['lpage']\")\n",
    "    print(f\"{'; '.join(cit['citations']).replace(')','').replace('(','')}\")\n",
    "    print(f\"{cit['contextLeft']} <CITATION> {cit['contextRight']}\")"
   ]
  },
  {
   "cell_type": "code",
   "execution_count": 14,
   "metadata": {},
   "outputs": [
    {
     "name": "stdout",
     "output_type": "stream",
     "text": [
      "William W. Falk Bruce H. Rankin The Cost of Being Black in the Black Belt (1992). Social Problems, doc['fpage'], doc['lpage']\n",
      "Mann 1990; Odum 1936; Vance 1932\n",
      "see). As we show in Maps 1 and 2, these developments led to the settlement pattern still evident today. The \"physical environment\" and \"spatial structure\" of the Black Belt are rooted deeply in the agricultural heritage of the region, particularly in cotton production (see Hilliard 1979). What we call the \"Black Belt\" has often been called by others the \"cotton counties\" or \"plantation counties\" ( <CITATION> ). In addition to their cotton and plantation heritages, the counties are unique in that they have h\n"
     ]
    }
   ],
   "source": [
    "find_quote(\"been called by others the \\\"cotton counties\\\" or \\\"plantation counties\\\"\")"
   ]
  },
  {
   "cell_type": "code",
   "execution_count": 68,
   "metadata": {},
   "outputs": [
    {
     "name": "stdout",
     "output_type": "stream",
     "text": [
      "Abbott L. Ferriss The Quality of Life Concept in Sociology (2004). The American Sociologist, doc['fpage'], doc['lpage']\n",
      "Ogburn 1933\n",
      "ndicators, DHEW, 1969) While \"welfare\" was an initial motive, the term, quality of life (QOL) did not enter until later. The social indicator \"movement\" involves not only statistical time series but also national social reports that analyzed trends and interconnections of social forces. In the United States two conceptual precursors of the movement were Recent So cial Trends in the United States ( <CITATION> ) and Southern Regions of the United States (Odum, 1936), two sociologists. Two chiefly economic soc\n"
     ]
    }
   ],
   "source": [
    "find_quote(\"conceptual precursors of the movement\")"
   ]
  },
  {
   "cell_type": "code",
   "execution_count": 69,
   "metadata": {},
   "outputs": [
    {
     "name": "stdout",
     "output_type": "stream",
     "text": [
      "Seymour Spilerman Wealth and Stratification Processes (2000). Annual Review of Sociology, doc['fpage'], doc['lpage']\n",
      "Wright & Perrone 1977; Wright 1985; Poulantzas 1975; Parkin 1978; Parkin 1978\n",
      "e social order (Davis & Moore 1945; Parkin 1978, p. 610). Also, in Marxian theory, it is one's position in the productive system that underlies life chances and living standards. Neo-Marxian authors have expanded the traditional Marxian formulation by considering the unique situations of different occupational groups, yet location in the productive order remains the essential explanatory dynamic ( <CITATION> ). There is also an empirical basis to the neglect of wealth in stratification research since occupa\n"
     ]
    }
   ],
   "source": [
    "find_quote(\"Neo-Marxian authors\")"
   ]
  },
  {
   "cell_type": "code",
   "execution_count": 70,
   "metadata": {},
   "outputs": [
    {
     "name": "stdout",
     "output_type": "stream",
     "text": [
      "Michael Wallace Kevin T. Leicht Don Sherman Grant, II Positional Power, Class, and Individual Earnings Inequality: Advancing New Structuralist Explanations (1993). The Sociological Quarterly, doc['fpage'], doc['lpage']\n",
      "Wright 1976; Wright 1979; Wright 1985; Wright and Perrone 1977; Robinson and Kelley 1979\n",
      "nce, and is also positively related to earnings (Kalleberg, Wallace, and Althauser 1981). Neo-Marxist contributions to new structuralism center on the role of the class structure in capitalist society, specifically the antagonistic relations between, and changing fortunes\n",
      "\n",
      "Positional Power, Class, and Individual Earnings Inequality 87 of, capitalists, petty bourgeoisie, managers, and proletariat ( <CITATION> ). Past research has consistently shown that class is conceptually and empirically distinct from occ\n"
     ]
    }
   ],
   "source": [
    "find_quote(\"Neo-Marxist contributions to new structuralism\")"
   ]
  },
  {
   "cell_type": "code",
   "execution_count": 71,
   "metadata": {},
   "outputs": [
    {
     "name": "stdout",
     "output_type": "stream",
     "text": [
      "Max Haller Marriage, Women, and Social Stratification: A Theoretical Critique (1981). American Journal of Sociology, doc['fpage'], doc['lpage']\n",
      "Parsons 1953; Parsons 1940; Parsons 1953; Barber 1957\n",
      "ly the same social status from their wedding day onward. Only to the degree that they act together on common tasks or stick together against outsiders \"to maintain proper fronts\" (McCall and Simmons 1966, p. 176) can they be regarded as a unit.11 From this point of view, the model of the nuclear family and its place in the stratification system as developed by functionalist stratification theory ( <CITATION> ) seems highly questionable. Three assumptions of this model are relevant here: (1) individuals deri\n"
     ]
    }
   ],
   "source": [
    "find_quote(\"functionalist stratification theory\")"
   ]
  },
  {
   "cell_type": "code",
   "execution_count": 16,
   "metadata": {},
   "outputs": [
    {
     "name": "stdout",
     "output_type": "stream",
     "text": [
      "Thomas R. Prohaska Gary Albrecht Judith A. Levy Noreen Sugrue Joung-Hwa Kim Determinants of Self-Perceived Risk for AIDS (1990). Journal of Health and Social Behavior, doc['fpage'], doc['lpage']\n",
      "Ajzen and Fishbein 1980\n",
      " Perception of risk is probably the most salient psychodynamic feature in the leading models of health 384\n",
      "\n",
      "DETERMINANTS OF SELF-PERCEIVED RISK FOR AIDS 385 behavior. It is a fundamental component of the health belief model (Becker and Janz 1987; Janz and Becker 1984), the common sense model of illness danger (Leventhal, Meyer, and Nerenz 1980), and Fishbein and Ajzen's theory of reasoned action ( <CITATION> ), as well as a predisposing factor in the PRECEDE model (Green, Kreuter, Deeds, and Partridge 1979)\n"
     ]
    }
   ],
   "source": [
    "find_quote(\"Fishbein and Ajzen's theory of reasoned action\")"
   ]
  },
  {
   "cell_type": "code",
   "execution_count": 18,
   "metadata": {},
   "outputs": [
    {
     "name": "stdout",
     "output_type": "stream",
     "text": [
      "Jörg Rössel Conditions for the Explanatory Power of Life Styles (2008). European Sociological Review, doc['fpage'], doc['lpage']\n",
      "Ajzen and Fishbein 1980\n",
      "es on the one hand and social action on the other we enter a classical field of social psychological research. Here, research on the connection between attitudes and behaviour has a long tradition (Ajzen and Fishbein, 1980, 12-27). Originally, empirical studies in this field were often guided by the assumption that attitudes towards objects also come along with patterns of behaviour towards them ( <CITATION> ). However, numerous empirical tests have made clear that the statistical correlation between patter\n"
     ]
    }
   ],
   "source": [
    "find_quote(\"Originally, empirical studies in this field were often guided by the assumption\")"
   ]
  },
  {
   "cell_type": "code",
   "execution_count": 20,
   "metadata": {},
   "outputs": [
    {
     "name": "stdout",
     "output_type": "stream",
     "text": [
      "Howard Kimeldorf Judith Stepan-Norris Historical Studies of Labor Movements in the United States (1992). Annual Review of Sociology, doc['fpage'], doc['lpage']\n",
      "Radosh 1966; Aronowitz 1973\n",
      "ook many diverse forms; the labor movement of the 1930s was far broader and deeper than the strike wave of 1934-1937. Nevertheless, working-class quiescence, even in the turbulent 1930s, remains a central theme in American historiography, with many new left historians portraying the CIO as a conservative bureaucratic monolith, bent on disarming and integrating an otherwise rebellious proletariat ( <CITATION> ). Minus the latent radicalism of the rank and file, this portrayal bears some rather striking simil\n"
     ]
    }
   ],
   "source": [
    "find_quote(\"new left historians\")"
   ]
  },
  {
   "cell_type": "code",
   "execution_count": 22,
   "metadata": {},
   "outputs": [
    {
     "name": "stdout",
     "output_type": "stream",
     "text": [
      "Michael R. Smith What is New in \"New Structuralist\" Analyses of Earnings? (1990). American Sociological Review, doc['fpage'], doc['lpage']\n",
      "Bibb and Form 1977; Bibb and Form 1977; Tigges 1987; Tigges 1987; Kalleberg 1988; Kalleberg 1988\n",
      " for education. It is true that experience does well in earnings equations (Sorensen 1983, p. 266). But, as we will see, experience has been reinterpreted as ameasure of powerratherthan skill (Kalleberg, Wallace, and Althauser 1981, pp. 658-9). Second, economic analyses rest on all sorts of unreasonable assumptions, the most important of which are labor market homogeneity and perfect competition ( <CITATION> ). If workers competed in a single, perfectly competitive labor market, those with equivalent skills\n"
     ]
    }
   ],
   "source": [
    "find_quote(\"unreasonable assumptions\")"
   ]
  },
  {
   "cell_type": "code",
   "execution_count": 23,
   "metadata": {},
   "outputs": [
    {
     "name": "stdout",
     "output_type": "stream",
     "text": [
      "Mark Evan Edwards Uncertainty and the Rise of the Work-Family Dilemma (2001). Journal of Marriage and Family, doc['fpage'], doc['lpage']\n",
      "Bowen & Finegan 1969; Sweet 1973\n",
      " than one third of all mothers with children under age 18 were employed in the late 1940s, and many Americans, anticipating a return to prewar patterns of employed fathers and homemaking mothers, would have predicted that this number would shrink. By the early 1970s, however, social scientists recognized that instead there had been steady, substantial growth in the employment rate of all mothers ( <CITATION> ), and this in the midst of the quintessentially domestic ethos of the 1950s. This observed trend ob\n"
     ]
    }
   ],
   "source": [
    "find_quote(\"substantial growth in the employment rate of all mothers\")"
   ]
  },
  {
   "cell_type": "code",
   "execution_count": 24,
   "metadata": {},
   "outputs": [
    {
     "name": "stdout",
     "output_type": "stream",
     "text": [
      "Stephan Fuchs Jonathan H. Turner \"What Makes a Science 'Mature'?: Patterns of Organizational Control in Scientific Production\" (1986). Sociological Theory, doc['fpage'], doc['lpage']\n",
      "Merton 1968; Collins 1975\n",
      "processes within which these laboratory practices operate. What is needed, therefore, is a more fine-tuned theory of the organizational dynamics of scientific activity that seeks to analyze the structural processes within which the \"fact-fabrication,\" \"discursive practices,\" and \"paradigmatic processes\" of science operate. There has been, of course, a number of creative efforts along these lines ( <CITATION> ); and so, our proposal is hardly revolutionary. Instead, we propose to extend existing analyses in \n"
     ]
    }
   ],
   "source": [
    "find_quote(\"creative efforts along these lines\")"
   ]
  },
  {
   "cell_type": "code",
   "execution_count": 35,
   "metadata": {},
   "outputs": [
    {
     "name": "stdout",
     "output_type": "stream",
     "text": [
      "Mary Elizabeth O'Brien Effective Social Environment and Hemodialysis Adaptation: A Panel Analysis (1980). Journal of Health and Social Behavior, doc['fpage'], doc['lpage']\n",
      "Dean 1961\n",
      "and responsible before the onset of their chronic illness. The quality of interaction scale measured the relative ease or difficulty of the chronic renal patient's social functioning, such as facility in making new friends or acquaintances and degree of effort to participate in ongoing family relationships. Alienation or anomie was determined through use of the standardized Dean Alienation Scale ( <CITATION> ), which measures alienation in terms of three subcomponents: powerlessness, normlessness, and socia\n"
     ]
    }
   ],
   "source": [
    "find_quote(\"the standardized Dean Alienation Scale\")"
   ]
  },
  {
   "cell_type": "code",
   "execution_count": 36,
   "metadata": {},
   "outputs": [
    {
     "name": "stdout",
     "output_type": "stream",
     "text": [
      "Joe R. Feagin Social Justice and Sociology: Agendas for the Twenty-First Century: Presidential Address (2001). American Sociological Review, doc['fpage'], doc['lpage']\n",
      "Friedrichs 1970\n",
      " the first graduate sociology department (at the University of Chicago), listed among the major interests of the journal editors the analysis of \"plans for social amelioration\" (Small 1895:14). A decade later, Small presented a paper at the American Sociological Society's first meeting in which he argued vigorously that social research was not an end in itself but should serve to improve society ( <CITATION> ). Small was not alone in this commitment. In the first decade or two of U.S. sociology, leading sch\n"
     ]
    }
   ],
   "source": [
    "find_quote(\"vigorously that social research was not an end in itself \")"
   ]
  },
  {
   "cell_type": "code",
   "execution_count": 40,
   "metadata": {},
   "outputs": [
    {
     "name": "stdout",
     "output_type": "stream",
     "text": [
      "James Moody Ryan Light A View from Above: The Evolving Sociological Landscape (2006). The American Sociologist, doc['fpage'], doc['lpage']\n",
      "Friedrichs 1970; Gouldner 1970; Horowitz 1993; Daipha 2001; Daipha 2001; Griffith et al. 1974; Pool and Kochen 1978; He 1999\n",
      "ps. Nineteenth century sociologists, such as Durkheim (1966), optimistically evaluated sociology's centrality within the broader scientific landscape. By the end of the twenti eth century, however, numerous prominent scholars predicted the increasing fragmenta tion of the discipline. This largely theoretical research describes a fractured discipline structured by solidly bound, autonomous groups ( <CITATION> ). The overall distribution of peaks has changed with the lowering of the HIV/AIDS work. We see now \n"
     ]
    }
   ],
   "source": [
    "find_quote(\"This largely theoretical research describes a fractured discipline structured by solidly bound\")"
   ]
  },
  {
   "cell_type": "code",
   "execution_count": 41,
   "metadata": {},
   "outputs": [
    {
     "name": "stdout",
     "output_type": "stream",
     "text": [
      "James E. Curtis John W. Petras The Sociology of Sociology: Some Lines of Inquiry in the Study of the Discipline (1972). The Sociological Quarterly, doc['fpage'], doc['lpage']\n",
      "Page 1963; Page 1965; Friedrichs 1970; Gouldner 1970; Reynolds and Reynolds 1970; Tiryakian 1970\n",
      "ents in research techniques and the rigors of the scientific method rule out significant influences by such factors (Curtis and Petras, 1970a). Some research, however, has begun to evolve in this area, and our purpose in this article is to examine the nature and types of works that have been done. No major American or European scholar has yet specialized in research in the sociology of sociology ( <CITATION> ), and only occasionally are students introduced, in graduate courses, to some of the scattered find\n"
     ]
    }
   ],
   "source": [
    "find_quote(\"No major American or European scholar has yet specialized in research in the sociology of sociology\")"
   ]
  },
  {
   "cell_type": "code",
   "execution_count": 42,
   "metadata": {},
   "outputs": [
    {
     "name": "stdout",
     "output_type": "stream",
     "text": [
      "Chloe E. Bird Catherine E. Ross Houseworkers and Paid Workers: Qualities of the Work and Effects on Personal Control (1993). Journal of Marriage and Family, doc['fpage'], doc['lpage']\n",
      "Bernard 1972; Gove & Geerken 1977; Gove & Tudor 1973\n",
      "ntain that housework is associated with fewer validations of work well done than is paid work (Schooler et al., 1984). We expect that the lack of thanks and of recognition decrease perceived control compared to paid work. Work Fulfillment We expect that unpaid household labor is less fulfilling, on average, than paid labor. A number of researchers describe housework as intrinsically ungratifying ( <CITATION> ). Housewives report that housework does not require a great deal of skill or offer much opportunity\n"
     ]
    }
   ],
   "source": [
    "find_quote(\"researchers describe housework as intrinsically ungratifying\")"
   ]
  },
  {
   "cell_type": "code",
   "execution_count": 43,
   "metadata": {},
   "outputs": [
    {
     "name": "stdout",
     "output_type": "stream",
     "text": [
      "Richard L. Meile David Richard Johnson Louis St. Peter Whither Marital Bliss?: Reply to Roberts (1977). Journal of Health and Social Behavior, doc['fpage'], doc['lpage']\n",
      "Gove and Tudor 1973; Gove and Clancy 1976; Dohrenwend and Dohrenwend 1976\n",
      "s of mental disorder of men and women, but rather we were interested in the effect of marital roles upon the prevalence of mental symptomatology in women. The only place the male gender is even mentioned is in the introductory paragraph of our\n",
      "\n",
      "WHITHER MARITAL BLISS 225 paper. Furthermore, the question of the respective prevalence rates of mental disorder between the sexes is still hotly debated ( <CITATION> ) and we fail to see how the eventual outcome of that debate has any relevance to our test of marita\n"
     ]
    }
   ],
   "source": [
    "find_quote(\"the respective prevalence rates of mental disorder between the sexes\")"
   ]
  },
  {
   "cell_type": "code",
   "execution_count": 44,
   "metadata": {},
   "outputs": [
    {
     "name": "stdout",
     "output_type": "stream",
     "text": [
      "Petro Georgiou The Goal Paradigm and Notes Towards a Counter Paradigm (1973). Administrative Science Quarterly, doc['fpage'], doc['lpage']\n",
      "Roethlisberger and Dickson 1939; Mayo 1945\n",
      "vior; for example Michels (1962) showed that the stated goals of democratic political parties were substantially divorced from the actual functioning of these parties. Merton (1957) drew attention to the process by which goals were subordinated to means, as organizational members treated rules as ends rather than means for pursuing the substantive organizational goal. The \"human relations\" group ( <CITATION> ) and many others found that people in organizations were not one-dimensional \"officials\" or \"employ\n"
     ]
    }
   ],
   "source": [
    "find_quote(\"The \\\"human relations\\\" group \")"
   ]
  },
  {
   "cell_type": "code",
   "execution_count": 45,
   "metadata": {},
   "outputs": [
    {
     "name": "stdout",
     "output_type": "stream",
     "text": [
      "PEDRO REYES DONALD J. McCARTY Factors Related to the Power of Lower Participants in Educational Organizations: Multiple Perspectives (1990). Sociological Focus, doc['fpage'], doc['lpage']\n",
      "Gouldner 1959; Mayo 1945; Selznick 1948\n",
      "l coordination and control of the members' contributions. Thus, a supervisory position is defined as being more powerful than that of an ordinary worker. A hierarchy is struc tured within a formalized process which removes the \"personal\" element from the power of the office. On the other hand, natural system theorists argued that no organization fully succeeds in controlling all sources of power ( <CITATION> ). Their view\n",
      "\n",
      "THE POWER OF LOWER PARTICIPANTS IN EDUCATIONAL ORGANIZATIONS 19 suggests that organiz\n"
     ]
    }
   ],
   "source": [
    "find_quote(\"natural system theorists argued that no organization fully\")"
   ]
  },
  {
   "cell_type": "code",
   "execution_count": 14,
   "metadata": {},
   "outputs": [
    {
     "name": "stdout",
     "output_type": "stream",
     "text": [
      "[('Alexander (2004)', 51)]\n",
      "['Alexander (2004)']...is \"a discursive response to a tear in the social fabric, where the foundations of an established collective identity are shaken by a traumatic occurrence and are in need of renarration and repair.\" Cultural trauma is not an event per se but an open-ended and contingent process that \"allows collectivities to define new forms of moral responsibility and to redirect the course of political action\" ( <CITATION> ). Eyerman's (201 1) research on the political assassination of MLK demonstrates how cultural trauma\n",
      "['Lamont (1992)', 'Zerubavel (1997)', 'Ganz (2000)', 'Alexander (2004)']...ever, did not allow us to test the explanatory mechanism at play. We do so here.\n",
      " We begin by considering new work in cultural sociology. The critical juncture in that field is Swidler’s (1986) reconceptualization of culture not as internalized beliefs, norms, and shared values but as “resources that can be put to strategic use” (DiMaggio 1997, p. 265). Swidler’s statement generated new research ( <CITATION> ) that viewed culture less as a set of rules and more as a set of skills. But as Swidler herself lat\n",
      "['Alexander (1988)', 'Alexander (2004)', 'Alexander and Smith (1993)', 'Alexander and Smith (1999)', 'Smith (1991)']...e by a social group, whipped into a frenzy, to express their dominance over another (Collins 1974) or terrorize populations (Luban 2005). The Toxicity of Torture These trends in Western conceptions of torture may be helpfully interpreted by reference to the cultural framework developed by Jeffrey Alexander and Philip Smith. In a series of studies of democratic, civil society, Alexander and Smith ( <CITATION> ) examine the cultural force of binary structures of meaning that separate, in a Durkheimian sense, \n",
      "['Alexander (1988)', 'Alexander (2004)', 'Alexander and Smith (1993)', 'Alexander and Smith (1999)', 'Smith (1991)']...e by a social group, whipped into a frenzy, to express their dominance over another (Collins 1974) or terrorize populations (Luban 2005). The Toxicity of Torture These trends in Western conceptions of torture may be helpfully interpreted by reference to the cultural framework developed by Jeffrey Alexander and Philip Smith. In a series of studies of democratic, civil society, Alexander and Smith ( <CITATION> ) examine the cultural force of binary structures of meaning that separate, in a Durkheimian sense, \n",
      "['Letwin (1998)', 'Alexander (2004)']...cross racial organizing from Reconstruction through the Civil Rights movement. There was significant interracial organizing in specific occupational sectors in both Alabama and Georgia in the late 1800s and the first part of the 1900s. Alabama coal miners routinely organized across racial lines to protest the hiring of convict laborers, the use of strikebreakers, and the rise in contract workers ( <CITATION> ). The Farmers’ Alliance demonstrated brief successes in Georgia during this time period (Gerteis 20\n",
      "['Alexander (2004)']...early transformative for an entire society and those that are important but not transformative.\n",
      "\n",
      "Transformative Events and Generational Memory 375 Sewell is primarily concerned with structural change brought about by transformative events, but his discussion suggests that the events and the change they produce entail individual-level consequences for everyday life as well. Cultural trauma theory ( <CITATION> ) proceeds from a quite different perspective but makes a parallel distinction between social change\n",
      "['Alexander (2004)']...bout it is taken as a measure of its prominence, Tulsa's riot stands as one of the two most mnemonically-resurgent incidents of its kind in the United States. Why have these similar incidents, all mnemonically \"resurrected\" (Jansen 2007) in the past two decades, varied so widely in the scope of such resurrection? More broadly, why do some efforts to transform collective memory of traumatic pasts ( <CITATION> ) attain greater success than others? In the wake of the civil rights movement, America's history of\n",
      "['Alexander (2004)', 'Alexander (2010)', 'Alexander, Giesen, and Mast (2006)']...ariation in performance effectiveness. The theory is illustrated in a comparative study of Chinese leaders' empathetic performance in disasters. Keywords performance; dramaturgical theory; China The notion of social action as performance has a long history in social theory (Brissett and Edgley 1974; Goffman 1959; Hare and Blumberg 1988). The most recent advance, Alexander's \"cultural pragmatics\" ( <CITATION> ), expands the scope of social performance from interpersonal interactions to political performance \n",
      "['Alexander (2004)']...political performance and outline my theory. I then turn to the Chinese case. I conclude with a discussion of the theory's implications. SCENE AND POLITICAL PERFORMANCE Cultural pragmatics attempts to transcend the divide between performance as strategic action and as enactment of deep cultural structures by providing a theoretical framework that focalizes the \"fusion\" of performative components ( <CITATION> ). Cultural pragmatics scholars argue that traditional dramaturgical theories place too much emphasi\n",
      "['Alexander (2004)']...ivility in modern Western democratic societies. Rooted in Alexander's \"strong program in cultural theory\" (Alexander and Smith 2001), cultural pragmatics emphasizes the autonomy of cultural structures and criticizes ostensibly weaker approaches to cultural analysis, especially the idea of culture as toolkit (Swidler 1986). Cultural pragmatics asserts that \"culture is less toolkit than storybook\" ( <CITATION> ). Cultural pragmatics scholars use two main concepts to achieve their goal: script and mise-en-scèn\n",
      "['Alexander (2004)']...exander 2004:568). Cultural pragmatics scholars use two main concepts to achieve their goal: script and mise-en-scène. Alexander argues that script, \"the performance's immediate referential text,\" defines words and interaction details that performers need in order to project a certain image in front of audiences; script is shaped by background cultural representations and deep cultural \"grammar\" ( <CITATION> ). Which script works does not depend merely on the performer's improvisational skills in picking an\n",
      "['Alexander (2004)']...n-scène, seems more helpful. For cultural pragmatics scholars, mise-en-scène refers to the fusing of components of performance together within a particular scene in a particular context. Cultural codes and situational contingency must be consistent with the scene and be played out there to be effective. This idea of scene as involving fusing is intriguing but remains theoretically underdeveloped ( <CITATION> ) and not extensively examined by empirical studies undertaken from a cultural pragmatics perspectiv\n",
      "['Alexander (2004)', 'Wuthnow (1987)']...e expected before any concrete social actors show up. Performances in line with expectations generate social approval. Violations generate emotive reactions around cognitive discordance and alter attributions of motives - leading, for example, to sarcasm and anger. The expectations contained in a scene derive from different levels of cultural structures and frames, including cultural-moral codes ( <CITATION> ) and cognitive and emotional rules (Goffman 1974; Hochschild 1983). But they all must be translated\n",
      "['Alexander (2004)']...ludes the antithesis between good and evil\" (Frye 2006:211), the very antithesis that forms the backbone for dualism. It invites reflection, and remains open to discussion and debate. Tragedies recognize that heroes have foibles and that even villains are human, rendering their motives comprehensible (WagnerPacifici 1986). The dualistic theodicy was probably crucial to the \"moral revivification\" ( <CITATION> ) that took place immediately after September 11. Yet interpretations that conceive events strictly \n",
      "['Alexander (2004)']...f — for watching others \"play themselves\" and being watched in turn. Once the province of professional actors, the self-reflexive cultivation of emotional expressiveness is now expected and highly prized, and this state of affairs suggests a general cultural drift across many different spheres, but including, especially, the media. Indeed, we may be better served by the concept of a public stage ( <CITATION> ) or a public screen (DeLuca and Peeples 2002) rather than a public sphere (Habermas 1987), as reali\n"
     ]
    },
    {
     "ename": "TypeError",
     "evalue": "'<' not supported between instances of 'NoneType' and 'NoneType'",
     "output_type": "error",
     "traceback": [
      "\u001b[1;31m---------------------------------------------------------------------------\u001b[0m",
      "\u001b[1;31mTypeError\u001b[0m                                 Traceback (most recent call last)",
      "\u001b[1;32m<ipython-input-14-1b60df19eebb>\u001b[0m in \u001b[0;36m<module>\u001b[1;34m\u001b[0m\n\u001b[0;32m     14\u001b[0m \u001b[1;33m\u001b[0m\u001b[0m\n\u001b[0;32m     15\u001b[0m display(Markdown(\n\u001b[1;32m---> 16\u001b[1;33m     \u001b[1;34m\"\\n\"\u001b[0m\u001b[1;33m.\u001b[0m\u001b[0mjoin\u001b[0m\u001b[1;33m(\u001b[0m \u001b[0msorted\u001b[0m\u001b[1;33m(\u001b[0m\u001b[1;33m[\u001b[0m\u001b[0mprint\u001b[0m\u001b[1;33m(\u001b[0m\u001b[1;34mf\"{c['citations']}...{c['contextLeft']} <CITATION> {c['contextRight']}\"\u001b[0m\u001b[1;33m)\u001b[0m \u001b[1;32mfor\u001b[0m \u001b[0mc\u001b[0m \u001b[1;32min\u001b[0m \u001b[0mcits\u001b[0m\u001b[1;33m[\u001b[0m\u001b[1;33m:\u001b[0m\u001b[1;36m15\u001b[0m\u001b[1;33m]\u001b[0m\u001b[1;33m]\u001b[0m\u001b[1;33m)\u001b[0m \u001b[1;33m)\u001b[0m\u001b[1;33m\u001b[0m\u001b[1;33m\u001b[0m\u001b[0m\n\u001b[0m\u001b[0;32m     17\u001b[0m ))\n",
      "\u001b[1;31mTypeError\u001b[0m: '<' not supported between instances of 'NoneType' and 'NoneType'"
     ]
    }
   ],
   "source": [
    "qstr = \"Alexander\\s\\(2004\\)\"\n",
    "q = {\"citations\":{\"$elemMatch\":{\"$regex\":qstr}}}\n",
    "cits = list(db['cits'].find(q))\n",
    "\n",
    "#display(Markdown(f\"## {' '.join(r)}\"))\n",
    "\n",
    "counts = Counter()\n",
    "for x in cits:\n",
    "    counts.update( [y for y in x['citations'] if re.match(qstr, y)] )\n",
    "\n",
    "print(counts.most_common(5))\n",
    "cits = list(filter(lambda x:any( re.match(qstr, y) for y in x['citations'] ), cits))\n",
    "cits = sorted(cits, key=lambda x:-db['docs'].find_one({\"_id\":x['doc']})['year'])\n",
    "\n",
    "display(Markdown(\n",
    "    \"\\n\".join( sorted([print(f\"{c['citations']}...{c['contextLeft']} <CITATION> {c['contextRight']}\") for c in cits[:15]]) )\n",
    "))"
   ]
  },
  {
   "cell_type": "markdown",
   "metadata": {},
   "source": [
    "# Random Sample"
   ]
  },
  {
   "cell_type": "code",
   "execution_count": 18,
   "metadata": {},
   "outputs": [
    {
     "data": {
      "text/markdown": [
       "# Ajzen, I, Fishbein, M {Understanding attitudes and predicting social behavior} 1980"
      ],
      "text/plain": [
       "<IPython.core.display.Markdown object>"
      ]
     },
     "metadata": {},
     "output_type": "display_data"
    },
    {
     "name": "stdout",
     "output_type": "stream",
     "text": [
      "[('Ajzen and Fishbein (1980)', 96), ('Ajzen & Fishbein (1980)', 17)]\n"
     ]
    },
    {
     "data": {
      "text/markdown": [
       "+ (1984, Social Psychology Quarterly) By far the most prominent and influential of these models has been the Fishbein/Ajzen \n",
       "+ (1984, Social Psychology Quarterly) Extensive reviews of this literature are available \n",
       "+ (1984, Social Psychology Quarterly) They explicitly argue \n",
       "+ (1985, Social Psychology Quarterly) Although Fishbein and Ajzen \n",
       "+ (1985, Social Psychology Quarterly) In by far the most dominant paradigm, attitude and social norms are hypothesized to be independent, parallel causes of intentions \n",
       "+ (1986, Review of Religious Research) \n",
       "+ (1987, Journal of Health and Social Behavior) Thus, among ethnic adolescents, drug use behavior, including the acceptability of cigarette smoking, is influenced in part by these culturally based beliefs, attitudes and values \n",
       "+ (1987, Journal of Marriage and Family) A number of researchers have explored predictions of population behaviors such as contraceptive use and childbearing from the perspective of a psychological model proposed by Fishbein and Ajzen \n",
       "+ (1988, Journal of Marriage and Family) A person's intention to perform a particular behavior is considered to be the immediate determinant and best predictor of behavior \n",
       "+ (1989, Social Psychology Quarterly) Research on this issue relies heavily on the theory of reasoned action, which maintains that attitudes affect behavior indirectly through intentions \n",
       "+ (1990, Social Psychology Quarterly) The \"theory of reasoned action\" represents the most sustained treatment of the intentionbehavior relationship \n",
       "+ (1991, Symbolic Interaction) Behavior’s visibility and accessibility may make its definition and measurement seem more obvious than the relatively obscure attitude \n",
       "+ (1992, Social Psychology Quarterly) (187) were not the standard measures suggested by Fishbein and Ajzen \n",
       "+ (1992, Social Psychology Quarterly) The Theory of Reasoned Action and the Theory of Planned Behavior The theory of reasoned action (henceforth TRA) \n",
       "+ (1992, Social Psychology Quarterly) We hypothesized that self-identity would both reflect and influence attitudes, but that it would not show an independent influence on behavioral intentions in regression equations as long as the relevant measures were constructed according to the method suggested by the exponents of the TRA \n",
       "+ (1993, Review of Religious Research) Each intervention was labelled by its position in the presented order as \"Strategy A,\" \"Strategy B,\" and \"Strategy C.\" Three 7-point Likert scales were then presented for each of the three interventions in order to assess the three theoretical components of the attitude construct \n",
       "+ (1993, Review of Religious Research) Since attitude has been found to be related to treatment outcome \n",
       "+ (1994, American Journal of Sociology) Conative attitudes have been operationalized as attitudes that are inferred from past behavior (Rosenberg and Hovland 1960), or from respondents' stated evaluations of performance of various behaviors, as distinguished from their evaluations of the consequences or goals of those behaviors (Ajzen and Fishbein 1980).8 I think that 8 In their influential work, Fishbein and Ajzen \n",
       "+ (1996, European Sociological Review) Of course, this is a Pandora's box that cannot be adequately discussed in this paper \n",
       "+ (1998, Journal of Marriage and Family) This perspective on fertility determinants rests on a theoretical linkage that runs from background factors shaping reproductive attitudes, which influence preferences, contraceptive use, and ultimately fertility \n",
       "+ (2001, Journal for the Scientific Study of Religion) Intentions, social norms, and salient beliefs about consequences were measured on a seven-point unlikely-likely rating scale \n",
       "+ (2001, Social Psychology Quarterly) In the social sciences, Fishbein and Ajzen's theories of reasoned action and planned behavior are the most widely used frameworks for relating attitudes to behavior \n",
       "+ (2001, Social Psychology Quarterly) Individuals who are inclined toward a behavior that they perceive as nonnormative are likely to be influenced in their intentions by social pressure to avoid that behavior \n",
       "+ (2002, Social Psychology Quarterly) The theory of reasoned action and the theory of planned behavior are leading examples of this level of explanation \n",
       "+ (2004, European Sociological Review) One such aspect is 'the person's perception of the social pressures put on him' that a certain behaviour should or should not be performed \n",
       "+ (2006, Social Indicators Research) The results of this study support the assertions of Ajzen and Fishbein \n",
       "+ (2009, Journal of Health and Social Behavior) In studying the development of AAS risk perceptions, it is important to note that percep tions of risk, in general, have consistently been associated with behavioral intentions, as pro posed in models such as the theory of reasoned action \n",
       "+ (2011, BMS: Bulletin of Sociological Methodology / Bulletin de Méthodologie Sociologique) For this, two theories that can be integrated in the contextual framework of value-expectancy theories (Esser, 2001: 245-9) came into consideration: Theory of Reasoned Action (TORA)lTheory of Planned Behavior (TOPB) \n",
       "+ (2014, Social Forces) The individual-level approach reflects the influential \"theory of reasoned action\" in psychology \n",
       "+ (2014, Social Forces) The individual-level approach reflects the influential \"theory of reasoned action\" in psychology "
      ],
      "text/plain": [
       "<IPython.core.display.Markdown object>"
      ]
     },
     "metadata": {},
     "output_type": "display_data"
    },
    {
     "data": {
      "text/markdown": [
       "# Alwin, Duane F., Hauser, Robert M. {The Decomposition of Effects in Path Analysis} 1975"
      ],
      "text/plain": [
       "<IPython.core.display.Markdown object>"
      ]
     },
     "metadata": {},
     "output_type": "display_data"
    },
    {
     "name": "stdout",
     "output_type": "stream",
     "text": [
      "[('Alwin and Hauser (1975)', 54), ('Alwin & Hauser (1975)', 4)]\n"
     ]
    },
    {
     "data": {
      "text/markdown": [
       "+ (1977, International Journal of Sociology of the Family) In this case a complete decomposi tion is not possible, for that would require specifying the causal order of all the variables and that is not possible for several of the factors \n",
       "+ (1977, Journal of Marriage and Family) Briefly, a total effect is that part of a total association or zero-order correlation between two variables in a causal model which is not due to common causes (spuriousness), to correlation between their causes, or unanalyzed correlation among the predetermined variables \n",
       "+ (1979, Journal of Health and Social Behavior) .common causes, to correlation among causes, [and] to unanalyzed (predetermined) correlation\" \n",
       "+ (1979, Journal of Marriage and Family) Without incorporating the effect of military service, which acts as a suppressor variable \n",
       "+ (1979, Sociological Focus) In analyzing patterns of change, researchers have made several suggestions for determining differential impacts and for controlling or adjusting for initial student positions \n",
       "+ (1980, Sociological Methodology) In the language of path analysis \n",
       "+ (1981, Journal of Health and Social Behavior) 222 JOURNAL OF HEALTH AND SOCIAL BEHAVIOR the sum of the reported direct and indirect effects is the causal component of the association between variables \n",
       "+ (1981, Sociology of Education) In order to provide a closer examination of these conditional relationships, as well as to provide estimates of the strength of the indirect effects of ethnicity on performances, the direct and indirect effects \n",
       "+ (1983, Journal of Marriage and Family) By using path analysis with recursive models such as the one presented here, it is possible to calculate the direct, indirect, and total effects of each prior variable on the remaining variables in the model \n",
       "+ (1983, Sociology of Education) Following path analysis conventions \n",
       "+ (1984, Journal of Health and Social Behavior) Although we have used stress-attenuation analysis in our own research (Billings and Moos, 1981), we have come to view the analysis as a procedure by which a variable's total effect can be decomposed into its direct and indirect effects \n",
       "+ (1984, Journal of Marriage and Family) It specifies the direct and indirect effects of the independent variables on the dependent variable in the model \n",
       "+ (1985, Journal of Marriage and Family) Other models, which focus on direct and indirect relationships among sets of multiple independent variables and the dependent variable(s), may be best estimated by other techniques, such as path analysis for recursive models \n",
       "+ (1986, European Sociological Review) This is conceptually similar to asking how much of the total effect of one variable is mediated by another one \n",
       "+ (1986, Sociological Methodology) 159//////160 MICHAEL E. SOBEL models with observed variables \n",
       "+ (1986, Sociology of Education) To provide a closer examination of the effects of ethnicity and sex, the direct and indirect effects \n",
       "+ (1987, American Sociological Review) The resulting change in the value of the partial regression coefficient for gender shows the indirect effect of the variables being entered at that particular time \n",
       "+ (1987, Sociological Methodology) Others have used the reduced-form coefficients to define total effects \n",
       "+ (1988, Social Forces) This approach permits a thorough examination of the influence of state social and legal characteristics on disparity \n",
       "+ (1989, Sociological Perspectives) Least-squares regression using reduced-form equations to decompose total effects into their constituent direct and indirect effects was used to test the proposed model \n",
       "+ (1991, American Sociological Review) In the present analysis only the reduced-form effects of these variables can be estimated \n",
       "+ (1991, American Sociological Review) This permits a decomposition of the effects of family origin factors into components mediated by respondent's years of schooling and those not so mediated \n",
       "+ (1991, Sociological Focus) It permits an analysis of the direct and indirect effects of variables in a theoretically-explicit model \n",
       "+ (1993, Journal of Health and Social Behavior) The path analysis permits an assessment of both the direct and indirect effects of predictor variables on knowledge levels \n",
       "+ (1994, Journal of Marriage and Family) We answer these questions by incrementally building the reduced-form model \n",
       "+ (1994, The Canadian Journal of Sociology / Cahiers canadiens de sociologie) The statistical analysis consists of numerous multiple regressions that proceed in stages, thereby providing a path analytic decomposition of direct and indirect effects \n",
       "+ (1995, Sociological Methodology) AN EXAMPLE Like many other authors \n",
       "+ (1995, The British Journal of Sociology) In total, the subsample consists of approximately 3,300 general and advanced level students.4 To analyse data, regression models utilizing path analytic decomposition of effects were employed \n",
       "+ (1997, Journal of Marriage and Family) Indirect effects were calculated by multiplying together all of the path coefficients in a multivariate path \n",
       "+ (2015, American Journal of Sociology) effects of the socioeconomic characteristics (net of one another), that the estimated effects of the socioeconomic characteristics in model 7 of table 3 indicate the direct effects of the socioeconomic characteristics net of one another and the DI scales, and that the differences between the two estimates indicate the indirect effects of the socioeconomic characteristics through the DI scales "
      ],
      "text/plain": [
       "<IPython.core.display.Markdown object>"
      ]
     },
     "metadata": {},
     "output_type": "display_data"
    },
    {
     "data": {
      "text/markdown": [
       "# Andrews, Frank M. {Multiple Classification Analysis: A report on a computer program for multiple regression using categorical predictors} 1967"
      ],
      "text/plain": [
       "<IPython.core.display.Markdown object>"
      ]
     },
     "metadata": {},
     "output_type": "display_data"
    },
    {
     "name": "stdout",
     "output_type": "stream",
     "text": [
      "[('Andrews (1967)', 11)]\n"
     ]
    },
    {
     "data": {
      "text/markdown": [
       "+ (1971, Administrative Science Quarterly) Also, the fact that overpaid subjects reduced the number of units produced, and thus their pay over time \n",
       "+ (1971, Administrative Science Quarterly) Another hypothesis in inequity theorythat the threshold for underpayment is lower than for overpayment-received fairly consistent support from different investigators \n",
       "+ (1971, Administrative Science Quarterly) For example, change over time in subject behavior within an experimental session \n",
       "+ (1971, Administrative Science Quarterly) METHODOLOGICAL ISSUES Recruitment-Selection There are a number of important modera.. tors-ability (Bass, 1968; Moore, 1968); past work experience (Friedman and Goodman, 1967); past wages \n",
       "+ (1971, Administrative Science Quarterly) Two studies \n",
       "+ (1974, American Sociological Review) In such studies \n",
       "+ (1977, Acta Sociologica) Results from several empirical studies have lent support to this conjecture, both when the subject of injustice is underas well as over-rewarded \n",
       "+ (1980, Journal for the Scientific Study of Religion) Eta is analogous to a simple correlation coefficient with Eta squared representing the proportion of variance explained by the independent variable without taking account of the other variables' influence on cash salary \n",
       "+ (1980, Journal for the Scientific Study of Religion) response to a one standard deviation change in the independent variable \n",
       "+ (1983, Annual Review of Sociology) More recently, Vecchio (1981) found that response in the overpaid condition depended partially on the moral maturity of the individual; the equity prediction regarding quantity was true only for \"morally mature\" subjects.12 Again, much less evidence supports (Lawler & O'Gara 1967) or refutes \n",
       "+ (1983, Annual Review of Sociology) Research has generally supported this prediction in the overpaid condition "
      ],
      "text/plain": [
       "<IPython.core.display.Markdown object>"
      ]
     },
     "metadata": {},
     "output_type": "display_data"
    },
    {
     "data": {
      "text/markdown": [
       "# Aronowitz, S {False promises: The shaping of American working class consciousness} 1973"
      ],
      "text/plain": [
       "<IPython.core.display.Markdown object>"
      ]
     },
     "metadata": {},
     "output_type": "display_data"
    },
    {
     "name": "stdout",
     "output_type": "stream",
     "text": [
      "[('Aronowitz (1973)', 73)]\n"
     ]
    },
    {
     "data": {
      "text/markdown": [
       "+ (1975, Annual Review of Sociology) To the degree that this is so, the movement is directed at the problem of powerlessness, is no guarantee of improvement in the workers' attitudes about the nature of the work itself or about life outside the plant (Obradovic 1970, Whitehorn 1974), and is open to the charge that the modest transformation involved simply encourages the workers \"to share in their own exploitation\" \n",
       "+ (1977, Annual Review of Sociology) Some analysts believe that these work-related values and negative consequences are becoming more visible, especially among younger and more highly educated workers \n",
       "+ (1977, The Sociological Quarterly) Finally, research on current and past worker struggles \n",
       "+ (1978, Annual Review of Sociology) As a result, this literature sheds relatively little light on the ways in which changes in the labor process, the composition of the labor force, and the economic system interact with the consciousness and action of workers \n",
       "+ (1978, Journal of Marriage and Family) Its status somewhat resembles what it was in the nineteenth century before \"protective\" legislation relegated working class women to the reserve labor force \n",
       "+ (1978, Journal of Marriage and Family) When the focus is on working men, the most commonly encountered themes are that work is degrading, demeaning, alienating, and unsatisfying \n",
       "+ (1978, Social Problems) 12 Some of the literature on play emphasizes its seriousness as a socializing mechanism or form of practice \n",
       "+ (1978, The Canadian Journal of Sociology / Cahiers canadiens de sociologie) The relative conservatism of the bulk of the trade union movement in Britain and North America at least, has become something of an orthodoxy \n",
       "+ (1979, Social Problems) In addition, quality of life \"off the job\" has been seen as affected by conditions and experiences in the work place, at least for men \n",
       "+ (1979, The Sociological Quarterly) In blue collar occupations, \"rank and file\" concerns with working conditions and local grievances may not find expression in union leadership, and in turn generate \"unauthorized\" wildcat strikes such as the well-publicized one at Lordstown \n",
       "+ (1980, American Sociological Review) It is in the interest of craft unions to maintain skill hierarchies and detailed job descriptions, while industrial unions are more likely to mobilize an undifferentiated work force \n",
       "+ (1980, American Sociological Review) Struggles within and among unions at the industrial and firm level are seen as fragmenting the working class \n",
       "+ (1980, The Sociological Quarterly) Further, several indicators suggest that instrumentalism and resignation have, over time, influenced conditions and attitudes beyond the work place in an ideological and a structural fashion which ultimately limit options for change, both real and perceived; the reification process reinforces the structure of alienation \n",
       "+ (1980, The Sociological Quarterly) Hence, the instrumental integration may be considered a partial alienation closely tied to the historical relations, work organization, the perception of limited alternatives, trade unionism, and social order \n",
       "+ (1983, American Sociological Review) Similarly, there is evidence that, at least for some industries, twentieth-century changes in the organization of production have resulted in more routinized and specialized labor processes that correspond to decreased skill requirements \n",
       "+ (1983, The Sociological Quarterly) Sociological Quarterly 24 (Autumn 1983):589-603 Sociology as Social Contribution: University of North Dakota as a Case Study of the Contradictions of Academic Sociology* Patrick McGuire, State University of New York-Stony Brook Kenneth Dawes, University of North Dakota In the debate over the \"value-free\" approach to sociology, most critics have developed their position from structural analyses \n",
       "+ (1985, Annual Review of Sociology) \n",
       "+ (1985, The Sociological Quarterly) Other research on the topic indicates a decline in work satisfaction, especially among lower-level workers, and attribute this to changes in work-related values \n",
       "+ (1986, American Sociological Review) of most rank and file union members in collective bargaining is minimal, limited only to passive forms of participation, such as voting on contracts (Aronowitz 1973b; Garson, 1973); that unions are not concerned with control of the workplace, but only with obtaining extrinsic benefits (Aronowitz, 1973b; Garson, 1973; Benello, 1982); that unions work with management to control worker protests \n",
       "+ (1991, American Journal of Sociology) \"It is not possible [for radical unionists] to transcend the institutional constraints of trade unionism itself\" \n",
       "+ (1991, American Journal of Sociology) Other work argues that unions, particularly in crafts and trades, perpetuate white male privilege, making 1368//////Gender Integration integration efforts more costly and disruptive \n",
       "+ (1991, American Journal of Sociology) They assume, in particular, that the \"institutionalization of class conflict\" \n",
       "+ (1991, American Journal of Sociology) Thus, \"the modern labor agreement is the principal instrument of class collaboration between the trade unions and corporations\" \n",
       "+ (1992, American Sociological Review) However, like other final assemblers described in the literature \n",
       "+ (1992, Annual Review of Sociology) Nevertheless, working-class quiescence, even in the turbulent 1930s, remains a central theme in American historiography, with many new left historians portraying the CIO as a conservative bureaucratic monolith, bent on disarming and integrating an otherwise rebellious proletariat \n",
       "+ (1992, Sociology) More recent theorists suggest that greater legal, judicial, market, client and bureaucratic controls weaken the professions' self-regulatory capacity and undermine claims to autonomy, monopoly and privilege, thereby resulting in deprofessionalisation or proletarianisation \n",
       "+ (1993, Sociological Theory) Play requires an autonomous space, like a public sphere, where action can take place voluntarily among equals \n",
       "+ (2000, Social Problems) There has never been a labor party of consequence in the United States \n",
       "+ (2006, American Journal of Sociology) Many of these young workers shared with their on‐campus contemporaries features of the new left/counterculture: political views, music, clothing, hair styles, drug use \n",
       "+ (2006, Sociological Forum) Despite its low status and low pay, messengering is a form of \"creative work\" "
      ],
      "text/plain": [
       "<IPython.core.display.Markdown object>"
      ]
     },
     "metadata": {},
     "output_type": "display_data"
    },
    {
     "data": {
      "text/markdown": [
       "# Barber, B {Social Stratification} 1957"
      ],
      "text/plain": [
       "<IPython.core.display.Markdown object>"
      ]
     },
     "metadata": {},
     "output_type": "display_data"
    },
    {
     "name": "stdout",
     "output_type": "stream",
     "text": [
      "[('Barber (1957)', 47)]\n"
     ]
    },
    {
     "data": {
      "text/markdown": [
       "+ (1968, American Sociological Review) This study was conducted while the author was United States \n",
       "+ (1969, American Journal of Sociology) American folklor-e \n",
       "+ (1970, Journal of Marriage and Family) This is mainly because a man's salary, his religion, or the cost of his house may be considered private, but his job is a public part of his social life \n",
       "+ (1970, Social Problems) Third, in a consumptionconscious society like our own, the way in which people spend their money is associated with such social factors as status, power, and success \n",
       "+ (1971, Sociological Focus) Of all immigrants from the autonomy fac tion 52.9 percent were professionals, compared to 8.8 percent of father professionals \n",
       "+ (1971, The British Journal of Sociology) \n",
       "+ (1971, The British Journal of Sociology) Barber, a self-confessed \n",
       "+ (1971, The British Journal of Sociology) Our interpretation here flies against the kind of view put forward, for example, by Barber, who has argued that the high crosscultural correlations reveal common cross-cultural values \n",
       "+ (1971, The Sociological Quarterly) The functionalists consider the consequences of social stratification to be: (1) \"eufunctional,\" that is, integrative and stabilizing, instrumental and adaptive with regard to adequate recruitment to and rewarding of the functionally important positions, basically, an a priori and concomitant condition for the existence, functioning, and survival of the society \n",
       "+ (1972, Review of Religious Research) The different social strata tend to exert different influences on the attitudes, values, and beliefs of people \n",
       "+ (1974, American Sociological Review) As indicators of social positions, or of aspirations and identifications \n",
       "+ (1974, International Review of Modern Sociology) Earlier studies indicate that income and possessions tend to reflect prestige and power positions in industrial societies \n",
       "+ (1974, International Review of Modern Sociology) Level considered of consumption as one of the has importbeen Level considered as one of the important indicators of status in many earlier studies in social stratification \n",
       "+ (1974, International Review of Modern Sociology) Many of the relatively full-time, functionally significant social roles, the criteria of social evaluation, are defined as \"jobs\" which are the positions in a single occupational sphere \n",
       "+ (1974, International Review of Modern Sociology) Various studies • have shown that the larger the population of an inhabited area, the more social class significance is attached to residential area, and hence the importance of residential areas for determining social class has been emphasized \n",
       "+ (1975, American Sociological Review) According to this assumption, status is unitary for the nuclear family \n",
       "+ (1975, Journal of Marriage and Family) issues, and indexing social position was beset by disagreements whether social differentiation is a function of the local community or society at large (Hatt, 1950), whether differentiation is a discrete or continuous variable (Landecker, 1960), whether social position is a subjective phenomenon scaled by self-report or an objective phenomenon to be scored by independent indicators \n",
       "+ (1976, Language in Society) Even a brief sampling of the sociological literature on social stratification \n",
       "+ (1976, Social Problems) A woman's status is assumed to be determined originally by her father and later by her husband \n",
       "+ (1978, American Journal of Sociology) A home is not just where you live; it is a location in a well developed status ecology and, inferentially, a telltale clue to one's location in the occupational hierarchy\" \n",
       "+ (1978, American Journal of Sociology) Our thesis rests on the premise that families or households are meaningful units of social stratification, a position that has considerable support in the stratification literature \n",
       "+ (1978, The American Sociologist) They have suggested inconsistencies in the use of different language forms in American society: some (such as the frequent use of first names) would seem to be consistent with the ideology of universal equality; others (such as greetings and introduc tions) more frequently emphasize class differences \n",
       "+ (1979, Annual Review of Sociology) by Annual Reviews Inc. All rights reserved ASCRIBED AND ACHIEVED * 10577 BASES OF STRATIFICATION Anne Foner Department of Sociology, Rutgers University, New Brunswick, New Jersey 08903 INTRODUCTION Only a few decades ago a prominent theme in the social stratification literature was the decline in ascription and rise in achievement as the basis for distributing social rewards in modem societies \n",
       "+ (1979, The Sociological Quarterly) A major weakness of the SES approach is that it fails to take into account the fact that individuals are more complex than what objective social class position might indicate \n",
       "+ (1981, American Journal of Sociology) Only to the degree that they act together on common tasks or stick together against outsiders \"to maintain proper fronts\" (McCall and Simmons 1966, p. 176) can they be regarded as a unit.11 From this point of view, the model of the nuclear family and its place in the stratification system as developed by functionalist stratification theory \n",
       "+ (1981, American Journal of Sociology) Parsons ([1953] 1966, [1940] 1954a, 1970) and his followers \n",
       "+ (1981, American Journal of Sociology) The most common explanation of the persistence of patterns of homogamy in such societies, which lack strong and open forms of institutional control over mate selection, is that parents and peer groups still exercise such control, though more informally \n",
       "+ (1981, American Journal of Sociology) Whereas theorists traditionally have maintained that the family is the true unit of social stratification \n",
       "+ (1981, American Sociological Review) Sociological research makes it abundantly clear that spatial mobility facilitates vertical mobility \n",
       "+ (1993, Sociological Forum) How is the \"horizontal\" structure differentiated \"vertically\" "
      ],
      "text/plain": [
       "<IPython.core.display.Markdown object>"
      ]
     },
     "metadata": {},
     "output_type": "display_data"
    },
    {
     "data": {
      "text/markdown": [
       "# Bibb, Robert, Form, William H {The Effects of Industrial, Occupational, and Sex Stratification on Wages in Blue-Collar Markets} 1977"
      ],
      "text/plain": [
       "<IPython.core.display.Markdown object>"
      ]
     },
     "metadata": {},
     "output_type": "display_data"
    },
    {
     "name": "stdout",
     "output_type": "stream",
     "text": [
      "[('Bibb and Form (1977)', 112), ('Bibb & Form (1977)', 23)]\n"
     ]
    },
    {
     "data": {
      "text/markdown": [
       "+ (1980, American Journal of Sociology) This interest in economic structure has received added research impetus from a recent trend of reaction against individualistic research traditions in social stratification \n",
       "+ (1980, American Sociological Review) Much of this research purports to show that individual achievement is a function of structural factors such as class (Wright and Perrone, 1977; Wright, 1978; Kalleberg and Griffin, 1978; 1980), authority (Kluegel, 1978; Robinson and Kelley, 1979; Wolf and Fligstein, 1979), organizational size (Stolzenberg, 1978), or labor market sector \n",
       "+ (1980, American Sociological Review) Researchers include education, job tenure, and other personal characteristics, for example, in models disaggregated by some structural typology, typically referring to these as \"human capital\" variables \n",
       "+ (1980, American Sociological Review) being only one rendition of the general institutional economic theme, is crucial for two reasons: (1) it is the foundation of further theoretical developments-primarily those which add a neo-Marxist or radical twist (see especially, O'Connor, 1973; Edwards, 1975); (2) in conjunction with the work of Averitt (1968), it has provided the underpinnings for much of the recent empirical research \n",
       "+ (1980, Contemporary Sociology) While some few have been explicitly critical of the individualist approach (e.g., Collins, 1971; Squires, 1977), the majority have simply pointed to the efficacy of a structural aporoach \n",
       "+ (1981, American Journal of Sociology) Although the status-attainment literature has been sharply criticized for its limited conception of occupational structure \n",
       "+ (1981, American Journal of Sociology) Further, the dual economy perspective suggests a link between economic segmentation and worker power, that is, that \"the economic stratification of enterprises is matched by the organizational power of occupational groups\" \n",
       "+ (1981, American Journal of Sociology) Thus it comes as no surprise that a clear relationship between skill and one or more dimensions of economic segmentation has not been demonstrated \n",
       "+ (1981, American Journal of Sociology) Yet most empirical studies in the dual economy tradition use industries, or aggregations of firms, as the units of analysis \n",
       "+ (1981, American Sociological Review) SAMPLE, VARIABLES, AND PROCEDURES To compare the four taxonomies of industrial sectors empirically, data are ob- 2 Not only are the explanatory variables different, but also the actual procedure followed in defining sectors is quite varied: (1) industries are divided according to rough judgments; typical criteria are stability of employment or wage rates \n",
       "+ (1982, American Journal of Sociology) Hodson's definition seems preferable to alternative definitions developed by others \n",
       "+ (1982, American Sociological Review) Empirical support for this explanation for low wages has been found by a growing number of sociologists \n",
       "+ (1982, American Sociological Review) In any case, those who found that size is positively related to wages \n",
       "+ (1982, American Sociological Review) Still others have demonstrated the direct effects of industrial organization on the earnings determination process \n",
       "+ (1983, Social Problems) Instead, they argue that the economy is characterized by different reward systems and avenues for mobility \n",
       "+ (1985, American Sociological Review) A number of researchers draw on this perspective \n",
       "+ (1985, American Sociological Review) Prior studies in sociology used data from individuals to answer these questions and often found that economic institutions had important effects \n",
       "+ (1985, American Sociological Review) Thus, large size, industrial concentration, and economic scale are characteristics of firms and industries denoting the control of great resources by employers \n",
       "+ (1988, Social Forces) \n",
       "+ (1988, Social Forces) In the third section I use NORC General Social Survey data to demonstrate (1) that the four most commonly used measures of the dual economy \n",
       "+ (1988, The Sociological Quarterly) The problem here is that these theorists claim that core firms will pay wages that are higher than those offered by competitive firms \n",
       "+ (1989, Social Forces) More recent research, derived from the structuralist perspective, has aimed to enhance our understanding of wage distribution by introducing organizational, industrial, and ecological dimensions of the labor market as additional sources of income inequality \n",
       "+ (1989, Social Forces) More recent research, derived from the structuralist perspective, has aimed to enhance our understanding of wage distribution by introducing organizational, industrial, and ecological dimensions of the labor market as additional sources of income inequality \n",
       "+ (1989, Social Forces) Rather than viewing earnings solely as outcomes of workers' investments, sociologists (and some institutional economists-see Piore 1973) soon began to reject human capital explanations of earnings inequality in favor of more structural theories that emphasized the power of workers to realize their interests in labor market exchanges \n",
       "+ (1990, Social Forces) The second examines the correlates of wages in cross-sectional samples of workers and notes the superior performance of institutional variables \n",
       "+ (1990, Social Forces) Women generally are overrepresented in less advantaged market sectors \n",
       "+ (1992, Social Forces) In recent years it has become apparent that earnings inequality is affected not only by workers' individual characteristics, but also by structural features of labor markets such as their ecology, sectors, occupational segregation and organizations \n",
       "+ (1992, Social Forces) In recent years it has become apparent that earnings inequality is affected not only by workers' individual characteristics, but also by structural features of labor markets such as their ecology, sectors, occupational segregation and organizations \n",
       "+ (1993, The Sociological Quarterly) 4/1993 general, they suggest that occupational rather than individual characteristics determine labor practices, such as bargaining power, pay, or, to be investigated here, whether people receive fringe benefits \n",
       "+ (1993, The Sociological Quarterly) arguments is the focus on work structures which coincide with key dimensions of the labor market (see Kalleberg and Berg 1987).1 For example, early research in the dual economy and economic segmentation approaches emphasized correlates of workers' industries, such as market concentration, capital intensity, profitability, and relationships to the state, as key determinants of workers' earnings "
      ],
      "text/plain": [
       "<IPython.core.display.Markdown object>"
      ]
     },
     "metadata": {},
     "output_type": "display_data"
    },
    {
     "data": {
      "text/markdown": [
       "# Blalock, H M {Social statistics} 1960"
      ],
      "text/plain": [
       "<IPython.core.display.Markdown object>"
      ]
     },
     "metadata": {},
     "output_type": "display_data"
    },
    {
     "name": "stdout",
     "output_type": "stream",
     "text": [
      "[('Blalock (1960)', 84)]\n"
     ]
    },
    {
     "data": {
      "text/markdown": [
       "+ (1969, The American Sociologist) Although eschewing this, Gold (1969) has recently re-issued a more systematic version of his previous rationale (1964) for using significance tests as a necessary, though not sufficient, condition for substantive significance \n",
       "+ (1969, The American Sociologist) meaningfully be applied to such a set of cases or, more generally, to any set of cases, by treating the set (1) as a probability sample of a hypothetical universe of possibilities (Hagood and Price, 1952:193-195, 287 294, 419-423; Blalock, 1960:270), or (2) \"as an indi cation of the probability that an observed association could be generated in the given set of data by a random process model\" \n",
       "+ (1970, Journal of Marriage and Family) Also, the degree of association between stage of family life cycle and marital satisfaction was determined by the coefficient of contingency corrected for size of the contingency table \n",
       "+ (1970, The American Sociologist) On the other hand, the whole logic of research is to consider error as random fluctuation \n",
       "+ (1971, Journal of Marriage and Family) To test this hypothesis the couples were dichotomized into two groups, equal- 2 This and subsequent probabilities are based on the Mann Whitney U test or the Kolmogarov-Smirnov test \n",
       "+ (1971, Social Forces) Using an analysis of variance technique, we took the percentage vote for a particular party or candidate as a dependent variable and tested whether that particular party or candidate vote is conditioned by place of residence (domain) \n",
       "+ (1972, Journal of Health and Social Behavior) Such analyses permit the determination of the overall predictive value of some set of variables as well as the specific contribution of each independent variable with the remaining ones controlled \n",
       "+ (1972, Journal of Marriage and Family) The statistical significance of the differences between the correlations is calculated, using Z-values of the correlations \n",
       "+ (1972, Social Forces) \"This measure derives its name from the fact that basically it involves a productmoment correlation between all possible pairs of cases within categories of the nominal-scale variable\" \n",
       "+ (1972, Social Forces) Population size was transformed to logarithms \n",
       "+ (1972, Social Forces) Population size was transformed to logarithms \n",
       "+ (1974, The Sociological Quarterly) The analysis was repeated using multi-partials \n",
       "+ (1975, Acta Sociologica) One is the remaining variance of status by families, or (IY - r2yf), which is a partial intraclass correlation coefficient \n",
       "+ (1975, Acta Sociologica) Thus, IY measures the tendency of brothers to be similar in status, and groups of brothers to be different, relative to the total variance of status \n",
       "+ (1975, Journal of Marriage and Family) Extreme cases such as this can seriously distort the magnitudes of the simple and partial correlation coefficients used in the present analysis \n",
       "+ (1975, Journal of Marriage and Family) Ideally, theoretical definitions and operationalizations should be associated on a one-to-one basis \n",
       "+ (1975, Journal of Marriage and Family) Logarithmic functions of the form Y= a + blogX are illustrative of this process \n",
       "+ (1975, Journal of Marriage and Family) This is accomplished using partial correlations; these allow us to statistically remove the effects of the \"control\" variables and measure the correlation which remains between the independent variable of interest and divorce rates \n",
       "+ (1975, Journal of Marriage and Family) Using a test for significant difference in correlations \n",
       "+ (1976, American Journal of Sociology) only those ethnic effects for which the beta (,/) weight is significant when these background variables are also included as predictors in the multiple-regression equation.5 Under such conditions, the f8 weight for a given independent variable indicates \"how much change in the dependent variable is produced by a standardized change in one of the independent variables when others are controlled\" \n",
       "+ (1976, Journal of Marriage and Family) Kendall's rank order correlation, tau, is used to compare the rankings of traits for black and white respondents \n",
       "+ (1976, Sociological Focus) - 14 tions Less than 4 15 775 p < .10 - 1.345 *The _t-test for the difference between two means is that for the case of heterogeneity of variance, and the degrees of freedom are calculated for the case of a small N or very different sample sizes \n",
       "+ (1978, American Journal of Sociology) To find the covariance of group subscores of education and status, the within-groups mean cross products are subtracted from the between-groups mean cross products, and the remainder is divided by the average number per group \n",
       "+ (1978, Journal of Health and Social Behavior) Specifically, multiple partial correlation coefficients were used to assess the nature of the germane relationships \n",
       "+ (1978, Sociological Focus) V. The latter is especially appropriate for measuring the degree of association between two nominal variables which have an unequal number of categories \n",
       "+ (1979, Journal of Marriage and Family) White welfare recipients dissolved their marriages three times more frequently than those not on welfare \n",
       "+ (1981, American Journal of Political Science) A systematic random sampling technique \n",
       "+ (1984, Social Problems) Since that time, many authors have considered a power deficiency to be the central factor relevant to such groups \n",
       "+ (1987, The Sociological Quarterly) Yet it must be acknowledged that the activity of many of the objectivists is structured by the objective of formulating a set of abstract assertions \n",
       "+ (1991, Social Forces) I explored this issue by examining the coefficients of variability "
      ],
      "text/plain": [
       "<IPython.core.display.Markdown object>"
      ]
     },
     "metadata": {},
     "output_type": "display_data"
    },
    {
     "data": {
      "text/markdown": [
       "# Blalock, H M {Causal inferences in nonexperimental research} 1961"
      ],
      "text/plain": [
       "<IPython.core.display.Markdown object>"
      ]
     },
     "metadata": {},
     "output_type": "display_data"
    },
    {
     "name": "stdout",
     "output_type": "stream",
     "text": [
      "[('Blalock (1961)', 36)]\n"
     ]
    },
    {
     "data": {
      "text/markdown": [
       "+ (1970, American Sociological Review) The variables outside of the system, i.e., residual variables, are uncorrelated with any of the immediate determinants of the dependent variable to which they pertain \n",
       "+ (1970, American Sociological Review) This pertains only to the correlation procedure \n",
       "+ (1970, Social Forces) Blalock, for example, has been most active in the formalization of criteria for making causal inferences \n",
       "+ (1970, Social Forces) Blalock, for example, has been most active in the formalization of criteria for making causal inferences \n",
       "+ (1970, The American Sociologist) It deals with such problems as causal inference \n",
       "+ (1970, The American Sociologist) On the other hand, the whole logic of research is to consider error as random fluctuation \n",
       "+ (1970, The Sociological Quarterly) \n",
       "+ (1970, The Sociological Quarterly) Making Causal Inferences The logic common to the discussions of causality and spuriousness \n",
       "+ (1972, American Journal of Sociology) The Simon-Blalock-Duncan path analysis tradition is based on a simple version of a similar kind of pattern prediction \n",
       "+ (1972, Social Forces) In speaking to the latter point, the present study involves an emphasis on causal inference and the use of model-building procedures \n",
       "+ (1972, Social Forces) In speaking to the latter point, the present study involves an emphasis on causal inference and the use of model-building procedures \n",
       "+ (1972, Sociological Methodology) The distinction between these two comparisons has been developed with regard to political units and societies (Zelditch, 1971) and to different studies or collections of data \n",
       "+ (1973, Sociology of Education) It can be shown that the most probable causal order is that which is found in the Path model \n",
       "+ (1974, American Journal of Sociology) However, since comparisons of these standardized coefficients over time may be misleading \n",
       "+ (1975, Journal of Marriage and Family) However, the measurement error in the independent variable attenuates the actual correlations with the dependent variable \n",
       "+ (1975, Sociological Focus) Finally, the problem of mul ticollinearity \n",
       "+ (1975, The American Sociologist) Multivariate Analysis and Results It was decided that the data could best be analyzed by initially using the Simon-Blalock mode of causal analysis \n",
       "+ (1976, American Journal of Political Science) 9), and is easily extended with the partial correlation coefficient to dramatically increase the analytic power of correlational analysis \n",
       "+ (1977, Journal of Health and Social Behavior) The limited usefulness of causal models should not be surprising since causal models in sociology are a relatively new concept, largely stimulated in the early and mid-1960's \n",
       "+ (1978, Journal of Marriage and Family) This should not lead to erroneous conclusions since most of the key variables, highly reliable scales and indirect effects which are most vulnerable to measurement error \n",
       "+ (1981, American Journal of Sociology) Here the inept can receive the most protection (Goode 1967) and discrimination will be virtually costless \n",
       "+ (1981, American Journal of Sociology) la) and where individual accomplishments are measurable \n",
       "+ (1981, Humboldt Journal of Social Relations) 2 Other works which have discussed the problems of the correlation coefficient include \n",
       "+ (1986, Journal for the Scientific Study of Religion) Still, it is possible to impute some order to these variables by applying techniques for causal modelling of cross-sectional data \n",
       "+ (1991, American Journal of Sociology) A complete explanation also must specify a mechanism that describes the process by which one variable influences the other, in other words, how it is that X produces Y \n",
       "+ (1991, American Journal of Sociology) Although a concept such as 'mass' may be conceived theoretically or metaphysically as a property, it is only a pious opinion, in Eddington's words, that 'mass' as a property is equivalent to 'mass' as inferred from pointer readings\" \n",
       "+ (1991, American Journal of Sociology) Granted, historical events are often complex and unique, but this does not mean that general theories cannot help explain them \n",
       "+ (2007, Sociological Methodology) Regression coefficients, while often not explicitly termed causal effects, are gener ally intcrpreted as indicating how much the dependent variable would increase or decrease under an intervention in which the value of a par ticular independent variable is changed by one unit, while the values of the other independent variables are held constant \n",
       "+ (2011, Social Forces) Most would readily agree, for example, that power is enacted at micro-interactional (e.g., West and Zimmerman 1987), group \n",
       "+ (2011, Social Forces) Most would readily agree, for example, that power is enacted at micro-interactional (e.g., West and Zimmerman 1987), group "
      ],
      "text/plain": [
       "<IPython.core.display.Markdown object>"
      ]
     },
     "metadata": {},
     "output_type": "display_data"
    },
    {
     "data": {
      "text/markdown": [
       "# Blalock, H M, Blalock, A B {Methodology in social research} 1968"
      ],
      "text/plain": [
       "<IPython.core.display.Markdown object>"
      ]
     },
     "metadata": {},
     "output_type": "display_data"
    },
    {
     "name": "stdout",
     "output_type": "stream",
     "text": [
      "[('Blalock and Blalock (1968)', 2)]\n"
     ]
    },
    {
     "data": {
      "text/markdown": [
       "+ (1975, Journal for the Scientific Study of Religion) By comparison, slopes are less affected by sampling fluctuations and skewed population characteristics "
      ],
      "text/plain": [
       "<IPython.core.display.Markdown object>"
      ]
     },
     "metadata": {},
     "output_type": "display_data"
    },
    {
     "data": {
      "text/markdown": [
       "# Blalock, Hubert M. {Theory construction: From verbal to mathematical formulations} 1969"
      ],
      "text/plain": [
       "<IPython.core.display.Markdown object>"
      ]
     },
     "metadata": {},
     "output_type": "display_data"
    },
    {
     "name": "stdout",
     "output_type": "stream",
     "text": [
      "[('Blalock (1969)', 82)]\n"
     ]
    },
    {
     "data": {
      "text/markdown": [
       "+ (1970, Sociological Methodology) Information about the time lag is also relevant if feedback is postulated \n",
       "+ (1970, Sociological Methodology) Recent applications of path analysis and causal inference to the study of measurement error (Siegel and Hodge, 1968; Heise, 1969b) have focused more on the reliability of measures than on their validity 151//////152 ROBERT P. ALTHAUSER AND THOMAS A. HEBERLEIN \n",
       "+ (1972, American Journal of Sociology) What is needed are some precise mathematical or statistical formulations \n",
       "+ (1972, Sociology of Education) Unfortunately, systems of reciprocal causal relations of this complexity are almost impossible to quantify and, hence, one is forced into assuming greater simplicity than probably exists in order to estimate the empirical parameters of a verbal theory \n",
       "+ (1973, American Journal of Sociology) The question of whether or not one can arrive at unique solutions for the coefficients is often discussed as the \"identification problem\" \n",
       "+ (1973, Sociological Methodology) In order to assess the epistemic relationship between particular observed variables and given unobserved constructs, sociologists have 51//////52 MICHAEL PATRICK ALLEN formulated explicit measurement models \n",
       "+ (1974, American Journal of Sociology) A major use of unobserved variables in sociology has been to represent various types of error in the measurement of variables \n",
       "+ (1974, American Journal of Sociology) The computation of d*, then, provides a way to determine where to stop considering causes of causes in a theory structure and hence eliminates the need for concern over immense and unmanageable theories \n",
       "+ (1975, American Journal of Sociology) 2 Path analytic representation has been widely used to help clarify measurement models, but only with respect to errors in interval scales \n",
       "+ (1975, Sociology of Education) Second, the effects of variable measurement error are difficult to separate from change, and this error is likely to be large in relation to change \n",
       "+ (1975, Sociology of Education) This hypothetical system of relationships is shown in Figures 1 and 2 in block-recursive form \n",
       "+ (1975, The Sociological Quarterly) For example, it has been argued \n",
       "+ (1976, Sociological Methodology) For the practical research worker, strict order can be a fairly stiff restriction; it is possible, however, to apply the scheme to a set of variables that is block-recursive \n",
       "+ (1977, Administrative Science Quarterly) A major part of this group is interested in estimating the parameters of the system of equations representing a loopless cause map and in solving the associated problems of estimation \n",
       "+ (1977, Humboldt Journal of Social Relations) Several proponents of formal theory have noted that the formal statement of a theory requires a distinction between definitional statements and empirical assertions \n",
       "+ (1978, The Sociological Quarterly) In short, the relationship between constraint utilization and policy responsiveness is potentially a reciprocal one, and thus may not be adequately tested by using static regression models \n",
       "+ (1979, Humboldt Journal of Social Relations) There are excellent accounts of what a finished theory should look like (Stinchcombe, 1968; Zetterberg, 1965; Burr, 1973), and of how to translate a finished verbal theory into mathematical terms \n",
       "+ (1980, American Sociological Review) The major statistical and mathematical issues associated with dynamic models are complex and not yet fully understood \n",
       "+ (1980, Annual Review of Sociology) No direct paths connect one variable with another \n",
       "+ (1980, Annual Review of Sociology) There are proposals for and analyses of special modes of theory construction, both imported from other disciplines \n",
       "+ (1984, Social Psychology Quarterly) We do not have additional variables which meet this criterion \n",
       "+ (1985, Sociological Theory) One of the most important advances in sociology has been the development of multivariate analysis, in which we analyze the operation of variables linked in networks of direct and indirect causal flows \n",
       "+ (1986, Sociological Focus) The view of these structures as contextual factors that determine the effectiveness of organizational control suggests multiplicative interactions as the functional form \n",
       "+ (1987, The Sociological Quarterly) When difference equations are used and the linearity of the loop relationships is assumed, the test of convergence (or \"stability\") is whether the product of the slopes empirically exceeds unity \n",
       "+ (1989, American Sociological Review) Structural Modeling Many distinct meanings exist for the word model in sociology \n",
       "+ (1992, The Canadian Journal of Sociology / Cahiers canadiens de sociologie) In a soon-to-be-published book (Hage, 1992), a number of advocates and critics wrote essays on why the formal theory movement of the late 1960s and 1970s failed \n",
       "+ (1993, Social Indicators Research) However, use of multiple manifest indicators for satisfaction con structs permits estimation of (a) scale scores' reliabilities, on the basis of communality estimates (see Bentler and Woodward, 1983; Feldt and Brennan, 1989), and (b) disattenuated estimates of correlations among latent satisfaction variables which are, theoretically, perfectly reliable \n",
       "+ (1998, Sociological Perspectives) The spate of books on \"building theory\" looked very much like instructions to an erector set and resembled our pre-programed computer manuals \n",
       "+ (2010, American Journal of Sociology) Error has long been recognized as a conceptual feature of social science research, since measures are typically indirect and concepts are often linked to observed states by mechanisms that are not well understood \n",
       "+ (2010, American Journal of Sociology) Once error in the measurement of poverty status is estimated, it is removed from the structural model parameter estimates "
      ],
      "text/plain": [
       "<IPython.core.display.Markdown object>"
      ]
     },
     "metadata": {},
     "output_type": "display_data"
    },
    {
     "data": {
      "text/markdown": [
       "# Blau, P M, Schwartz, J E {Crosscutting social circles: Testing a macrostructural theory of intergroup relations} 1984"
      ],
      "text/plain": [
       "<IPython.core.display.Markdown object>"
      ]
     },
     "metadata": {},
     "output_type": "display_data"
    },
    {
     "name": "stdout",
     "output_type": "stream",
     "text": [
      "[('Blau and Schwartz (1984)', 152), ('Blau & Schwartz (1984)', 65)]\n"
     ]
    },
    {
     "data": {
      "text/markdown": [
       "+ (1988, Annual Review of Sociology) Structural properties refer to \"the distribution of persons among social positions that influence their role relations, for example, a community's racial composition\" \n",
       "+ (1989, American Sociological Review) Drawing on the recent theoretical and empirical work of Peter Blau and associates \n",
       "+ (1990, Journal of Health and Social Behavior) Social structure in this sense is defined as \"peoples' distribution in various dimensions of social positions that influence their relations\" \n",
       "+ (1991, Social Forces) First, Blau's \n",
       "+ (1992, The Sociological Quarterly) However, many of these tests find limited support for the relationship between racial heterogeneity and intermarriage, unless racial income inequality is controlled \n",
       "+ (1995, Social Forces) Social structure, using Blau's definition, is \"the distribution of a population among positions in a multidimensional space\" \n",
       "+ (1995, Sociology of Religion) Rubin (1969), expanding on Durkheim, states that a community should be small enough to give members a \"sense of community,\" yet \"large enough to give members a feeling of meaningful incorporation into the larger societal structure....\" The second theory, the macrostructural theory of group relations \n",
       "+ (1996, Social Forces) Our audit of the literature reveals that while some find support that inequality directly increases crime rates \n",
       "+ (1997, Sociological Perspectives) And, in contrast to status attainment theory which takes the structural framework as given in order to carry out its investigations, macrostructural theory explicitly focuses on various processes operating within the macrostructural realm \n",
       "+ (1997, Sociological Perspectives) Finally, in Blau's macrostructural theory \n",
       "+ (1998, Polish Sociological Review) and classical references to those outlined above may also be found in many other works of Blau: in Exchange and Power in Social Life (1964) Blau reformulates Homans' paradigm of social exchange and adopts a dialectic vision of exchange relations; Inequality and Heterogeneity (1977) is a spectacular attempt to transform Durkheim's concept of social integration; Cross-cutting Social Circles \n",
       "+ (1999, Social Forces) Public school legitimacy today seems to depend on the formation of cross-cutting social networks \n",
       "+ (1999, Social Forces) Public school legitimacy today seems to depend on the formation of cross-cutting social networks \n",
       "+ (2002, American Sociological Review) One traditional way to distinguish such groups is to consider whether they cross-cut social boundaries \n",
       "+ (2004, Social Forces) A given population is differentiated along nominal parameters such as racial and ethnic categories or occupational categories and by graduated parameters (or hierarchical gradations) such as levels of income or education \n",
       "+ (2006, American Journal of Sociology) A core assumption of Blau’s theory is that rates of social association depend on opportunity for contact \n",
       "+ (2006, American Journal of Sociology) A sense of injustice undermines the legitimacy of the rules of the game and can lighten moral constraints that inhibit criminal behavior \n",
       "+ (2009, Annual Review of Sociology) Rates of ho mogamy reflect the degree to which individu als of similar social origin and with the same characteristics, such as education, status, re ligion, race, ethnicity, or occupation, marry each other \n",
       "+ (2010, American Journal of Sociology) Note its relationship with the index of social heterogeneity, which is defined as /// /// , where /// /// stands for the proportion of the population in the ith group \n",
       "+ (2010, Social Indicators Research) All other things being equal, the probability of a coincidental meeting with somebody from a large group is higher than the probability of such a meeting with somebody from a small group \n",
       "+ (2010, Social Indicators Research) For this reason, mixed marriages are expected to promote the social cohesion of societies \n",
       "+ (2012, Social Forces) In past research, the importance of structural conditions for intermarriage has been studied frequently, in particular by examining differ ences among geographical regions such as states and Standard Metropolitan Statistical Areas \n",
       "+ (2013, Journal for the Scientific Study of Religion) Organizational ecology theory draws from plant and animal ecology, and it is useful in under standing the dynamics of social organizations \n",
       "+ (2014, American Journal of Sociology) The larger the size of the minority group, the lower the level of racial heterogeneity necessary to generate this critical number.43/// /// Sociology has a long tradition of formal analysis investigating how structural factors such as the size and composition of populations constrain what social groupings are possible \n",
       "+ (2015, American Journal of Sociology) ), making homophily noticeably distinct from random interactions and making consolidation very different from intersecting social circles \n",
       "+ (2015, American Journal of Sociology) Homophily can naturally emerge as a result of “choice homophily”: individuals’ preferences to form ties with similarly positioned alters \n",
       "+ (2015, American Journal of Sociology) Nor does simply increasing the number of crosscutting ties increase diffusion rates \n",
       "+ (2015, American Journal of Sociology) “Rates of social association depend on opportunities for social contact” \n",
       "+ (2015, American Journal of Sociology) “Social associations are more prevalent between persons in proximate than those in distant social positions” \n",
       "+ (2015, Sociological Theory) THEORETICAL AND METHODOLOGICAL MODELS Although developed to capture the difference between models for intergroup association in a single population, the distinction between theoretical and methodological models applies as well to models for intergroup association across populations, an essential concern of Peter M. Blau's macrostructural theory "
      ],
      "text/plain": [
       "<IPython.core.display.Markdown object>"
      ]
     },
     "metadata": {},
     "output_type": "display_data"
    },
    {
     "data": {
      "text/markdown": [
       "# Bogue, Donald J. {The population of the United States: Historical trends and future projections} 1959"
      ],
      "text/plain": [
       "<IPython.core.display.Markdown object>"
      ]
     },
     "metadata": {},
     "output_type": "display_data"
    },
    {
     "name": "stdout",
     "output_type": "stream",
     "text": [
      "[('Bogue (1959)', 24)]\n"
     ]
    },
    {
     "data": {
      "text/markdown": [
       "+ (1969, Social Forces) Use is made of previous theoretical insights and research findings; including Rossi's (1955) mobility accounting scheme, and \"push-pull\" colncepts taken from migration studies \n",
       "+ (1969, Social Forces) Use is made of previous theoretical insights and research findings; including Rossi's (1955) mobility accounting scheme, and \"push-pull\" colncepts taken from migration studies \n",
       "+ (1970, American Journal of Sociology) Although Negroes have experienced a dramatic socioeconomic upgrading, whites have fared better in absolute terms \n",
       "+ (1970, American Sociological Review) Many of these studies, however, are primarily descriptive; they compare the occupations of Catholics and Protestants, but do not extend the analysis further to seek causal explanations of religious differences in occupation \n",
       "+ (1971, American Journal of Sociology) Of all ethnic groups in the United States, Mexican-Americans are the only group whose members show no intergenerational increase in socioeconomic circumstances \n",
       "+ (1971, American Journal of Sociology) This classification of movers agrees conceptually with Bogue's \"local moves\" and \"moves of migration\" \n",
       "+ (1971, Journal for the Scientific Study of Religion) Classification was made by educational attainment, place of residence, and social class self-identification; economic status was linked with education \n",
       "+ (1971, The Sociological Quarterly) At specific times and in specific contexts there have been discernible patterns, e.g., \"persons in their late teens, twenties, and early thirties are much more mobile than younger or older persons\" \n",
       "+ (1973, Journal for the Scientific Study of Religion) PREVIOUS RESEARCH Most of the available published data on religious differences in educational attainment are primarily descriptive; educational distributions of religious groups are compared, but few or no control variables other than race and sex are introduced into that comparison \n",
       "+ (1973, Journal of Marriage and Family) This type of residential movement is distinguished from \"short distance change of residence within the same community\" or local movement \n",
       "+ (1974, Journal for the Scientific Study of Religion) \n",
       "+ (1975, Journal of Health and Social Behavior) For example, in the United States the infant mortality rate -has plummeted from an estimate of 99.9 infant deaths per 1,000 live births in 1915 \n",
       "+ (1976, American Sociological Review) In examining the determinants of family migration, sociologists, like demographers \n",
       "+ (1979, Journal of Marriage and Family) The settlers, however, accustomed to swampy land in Germany, possessed the necessary skills to tile and drain the soil arduously by hand \n",
       "+ (1980, Sociology of Education) Research which has examined denominational differences in education has shown large differences \n",
       "+ (1985, Hitotsubashi Journal of Social Studies) First, the volume of migration measured by aggregate data is treated as dependent variable \n",
       "+ (1989, Social Indicators Research) In the United States in 1957, fewer than 3% of persons over the age of 14 reported having no religion \n",
       "+ (1989, Social Indicators Research) There have been a number of significant attempts to arrive at generalizations concerning the selectivity of migrants \n",
       "+ (1995, The Canadian Journal of Sociology / Cahiers canadiens de sociologie) But the more generic theoretical point, and the one stressed by Cohn (1976), is a view of population movement as loosening family and community bonds, thereby removing some of the most basic sources of control and.restraint in a society "
      ],
      "text/plain": [
       "<IPython.core.display.Markdown object>"
      ]
     },
     "metadata": {},
     "output_type": "display_data"
    },
    {
     "data": {
      "text/markdown": [
       "# Bogue, Donald Joseph {The Structure of the Metropolitan Community: A Study of Dominance and Subdominance} 1949"
      ],
      "text/plain": [
       "<IPython.core.display.Markdown object>"
      ]
     },
     "metadata": {},
     "output_type": "display_data"
    },
    {
     "name": "stdout",
     "output_type": "stream",
     "text": [
      "[('Bogue (1949)', 11)]\n"
     ]
    },
    {
     "data": {
      "text/markdown": [
       "+ (1975, Sociological Focus) The basic measure employed in this study to assess differentiation is the index of dissimilarity \n",
       "+ (1976, American Sociological Review) Patterns of functional variation by size underlie nearly all approaches to the urban hierarchy such as central place theory (Berry and Pred, 1961) and metropolitan dominance \n",
       "+ (1978, Administrative Science Quarterly) As Gras (1922) showed theoretically and others \n",
       "+ (1980, American Sociological Review) Geographers and planners following earlier work by sociologists \n",
       "+ (1982, The Sociological Quarterly) In earlier work, dominance was felt to be transmitted by fluctuations in the rhythms of production \n",
       "+ (1984, Annual Review of Sociology) Thus, the literature on interurban linkages has been primarily composed of attempts to investigate metropolitan dominance or influence as it is reflected in urban systems' relative importance in integrating the activities of societies \n",
       "+ (1987, American Sociological Review) The classics in the area \n",
       "+ (1991, American Sociological Review) We conclude that the reorganization of the airline network has been a criticalfactor transforming and integrating the spatial economy of the U.S. Human ecology views a metropolitan area's competitive position as determined by its \"dominance\" \n",
       "+ (1993, American Sociological Review) Commuting patterns were recognized as a principle indicator of economic and social integration in early theories of intrametropolitan relationships (Burgess 1924; McKenzie 1933), and they have been used to define metropolitan areas and central places since 1949 \n",
       "+ (1994, Social Forces) Advocates of human ecology \n",
       "+ (1994, Social Forces) Advocates of human ecology "
      ],
      "text/plain": [
       "<IPython.core.display.Markdown object>"
      ]
     },
     "metadata": {},
     "output_type": "display_data"
    },
    {
     "data": {
      "text/markdown": [
       "# Bornstedt, G W, Marwell, A S {The reliability of the products of two random variables} 1978"
      ],
      "text/plain": [
       "<IPython.core.display.Markdown object>"
      ]
     },
     "metadata": {},
     "output_type": "display_data"
    },
    {
     "name": "stdout",
     "output_type": "stream",
     "text": [
      "[]\n"
     ]
    },
    {
     "data": {
      "text/markdown": [],
      "text/plain": [
       "<IPython.core.display.Markdown object>"
      ]
     },
     "metadata": {},
     "output_type": "display_data"
    },
    {
     "data": {
      "text/markdown": [
       "# Bowen, William G., Finegan, Thomas Aldrich {The Economics of Labor Force Participation} 1969"
      ],
      "text/plain": [
       "<IPython.core.display.Markdown object>"
      ]
     },
     "metadata": {},
     "output_type": "display_data"
    },
    {
     "name": "stdout",
     "output_type": "stream",
     "text": [
      "[('Bowen and Finegan (1969)', 61), ('Bowen & Finegan (1969)', 10)]\n"
     ]
    },
    {
     "data": {
      "text/markdown": [
       "+ (1975, Social Forces) 53:4, june 1975 labor supply, the inclusion of additional socialpsychological variables has been urged-for instance, motivation (Conlisk, 1968), \"tastes\" \n",
       "+ (1976, American Sociological Review) Research on the latter subject has been done by economists and while frequently excellent, has typically focused on the aggregate level \n",
       "+ (1977, American Sociological Review) Most research on female labor-force participation, for example, has shown that whether or not a wife works-hence, whether or not she has an occupational status//////WOMEN'S ECONOMIC ROLE IN THE FAMILY 389 to measure-is related to such socioeconomic characteristics of the husband as his income \n",
       "+ (1977, The Sociological Quarterly) 8 The index is computed by the formula (Ti-Ki)/C where Ti is the total employment in the ith industry in the local labor market area and Ki is the national ratio of female employment to total employment in the ith industry and C is the total civilian employment in the local labor market area \n",
       "+ (1979, Social Problems) Although retirement income is seldom as high as preretirement wages, many persons feel that the sacrifice in wages is worth the gain in satisfaction that comes from increased leisure time \n",
       "+ (1980, American Journal of Sociology) Economic Considerations A woman's earning potential, her husband's income (Cain 1966; Waite 1976), her history of labor force participation (Mott 1972; Waite 1976), and the conditions of the labor market in which she lives \n",
       "+ (1980, American Sociological Review) Because of its theoretical interest \n",
       "+ (1980, Journal of Marriage and Family) More concretely, the absence of a spouse or a head may be linked directly with changes in the labor-force activity of other members \n",
       "+ (1980, Journal of Marriage and Family) The positive relationship between a married woman's employment and her own potential income \n",
       "+ (1980, Journal of Marriage and Family) These studies have, in general, found an inverse relationship between husband's income and likelihood of wife's employment \n",
       "+ (1982, Journal of Marriage and Family) 410 JOURNAL OF MARRIAGE AND THE FAMILY May 1982//////Economic Well-being Like education, economic well-being is known to be associated with both labor-force participation \n",
       "+ (1982, Journal of Marriage and Family) By the middle of the 1970s about 40% changes in the attitudes of society toward the of wives with husbands present, close to 50% working wife \n",
       "+ (1982, Journal of Marriage and Family) Nevertheless, there remains a consistently documented inverse relationship between labor-force participation and fertility \n",
       "+ (1983, Humboldt Journal of Social Relations) 2 - SPRING/SUMMER 1983//////62 Given the historical concern surrounding employed women who have children at home, it is not surprising that the increase in the number of employed wives and mothers attracted the attention of numerous social scien tists \n",
       "+ (1983, International Journal of Sociology of the Family) With regard to the association of women s age and employment rate, national surveys (across class and race) indicate a curvilinear relationship with lower labor force participation at younger and older ages \n",
       "+ (1985, Journal of Marriage and Family) A large body of research and theory on the effects of education shows that more highly educated women are more likely to participate in the labor force because they have higher earning potential and are consequently more likely to experience greater opportunity costs in the way of forgone wages if they stay home \n",
       "+ (1986, American Journal of Sociology) Other studies of female labor force status during old age have been limited to analyses of time-series data for the United States \n",
       "+ (1986, Journal of Health and Social Behavior) Several previous studies of labor-force participation reported that health status is important in determining older workers' decisions whether to retire or to continue in the labor force \n",
       "+ (1987, Annual Review of Sociology) Many empirical studies document these trends and identify the determinants of this growing work force involvement \n",
       "+ (1989, Social Forces) SMSAs with a larger percentage of workers in manufacturing would be expected to have less demand for women overall \n",
       "+ (1989, Social Forces) SMSAs with a larger percentage of workers in manufacturing would be expected to have less demand for women overall \n",
       "+ (1990, Journal of Marriage and Family) While the determinants of wives' labor force behavior have been well documented \n",
       "+ (1991, Journal of Marriage and Family) Second, they have poorer health and they are more likely to have jobs that are physically demanding; thus they are less likely to be able to continue to work \n",
       "+ (1991, Journal of Marriage and Family) The decline was most pronounced among married men, who traditionally have the highest labor force participation rates \n",
       "+ (1991, The Sociological Quarterly) Large metropolitan centers are likely to provide them better employment opportunities due to their complex economic structure and the presence of tertiary (or other female-demanding) industries \n",
       "+ (1994, Sociological Perspectives) This conceptualization of weak labor force attachment, or disengagement from the labor force, is suggested by previous research \n",
       "+ (1996, Journal of Marriage and Family) Finally, regional unemployment rates for women reflect the opportunities-or lack of opportunities-in the local labor market \n",
       "+ (1998, Social Forces) The calculus used to decide what maximizes family wellbeing is usually monetary in economics - the value of the wife's earnings outside the home minus the costs of replacing her labor in the home \n",
       "+ (2001, Journal of Marriage and Family) By the early 1970s, however, social scientists recognized that instead there had been steady, substantial growth in the employment rate of all mothers \n",
       "+ (2001, Journal of Marriage and Family) LITERATURE REVIEW Social scientists in the 1960s and 1970s generated a flurry of important, suggestive, interdisciplinary research into the causes of growing labor force participation of married women and young mothers "
      ],
      "text/plain": [
       "<IPython.core.display.Markdown object>"
      ]
     },
     "metadata": {},
     "output_type": "display_data"
    },
    {
     "data": {
      "text/markdown": [
       "# Boyle, Richard P. {Path Analysis and Ordinal Data} 1970"
      ],
      "text/plain": [
       "<IPython.core.display.Markdown object>"
      ]
     },
     "metadata": {},
     "output_type": "display_data"
    },
    {
     "name": "stdout",
     "output_type": "stream",
     "text": [
      "[('Boyle (1970)', 35)]\n"
     ]
    },
    {
     "data": {
      "text/markdown": [
       "+ (1971, Administrative Science Quarterly) In addition, it has been demonstrated \n",
       "+ (1971, Administrative Science Quarterly) The method of path analysis \n",
       "+ (1971, American Journal of Sociology) For this purpose, the expected proportions of leftist radicals for different levels of frustration and blame were computed on the basis of a dummy-variable regression equation \n",
       "+ (1971, Social Forces) Low-minor services, unskilled and semiskilled blue collar For purposes of clarity, LRI was also dichotomized4 into: Leftist radicalism-scores equal to or higher than one standard deviation in the leftist radical direction No-leftist radicalism-scores below one standard deviation in the leftist radical direction.5 Additive effects are computed through a dummy-variable regression equation \n",
       "+ (1971, Social Forces) Other authors \n",
       "+ (1971, Social Forces) Other authors \n",
       "+ (1971, Social Forces) This conclusion is not altered by suggestions that in some situations it may make little practical difference what scoring procedure is used \n",
       "+ (1971, Social Forces) This conclusion is not altered by suggestions that in some situations it may make little practical difference what scoring procedure is used \n",
       "+ (1972, Social Forces) 5 While regression analysis of ordinal data appears justified for the present purposes \n",
       "+ (1972, Social Forces) used, rather than assuming equal-interval scales \n",
       "+ (1972, Social Forces) used, rather than assuming equal-interval scales \n",
       "+ (1972, Social Forces) used, rather than assuming equal-interval scales (Boyle, 1970:467-470; Hodge and Treiman, 1968:536-537; Labovitz, 1967, 1970) or working with dummy variables \n",
       "+ (1972, Social Forces) used, rather than assuming equal-interval scales (Boyle, 1970:467-470; Hodge and Treiman, 1968:536-537; Labovitz, 1967, 1970) or working with dummy variables \n",
       "+ (1972, Sociology of Education) \n",
       "+ (1972, The Sociological Quarterly) This involves making use of dummy-variables regression equations \n",
       "+ (1973, Social Forces) 10 The degree of association may be underestimated given the nature of the data, i.e., the independent variables are ordinal and the dependent variable (behavior) bivarate \n",
       "+ (1973, Social Forces) 10 The degree of association may be underestimated given the nature of the data, i.e., the independent variables are ordinal and the dependent variable (behavior) bivarate \n",
       "+ (1974, Journal of Marriage and Family) As it was, after the nominal variable \"religious preference\" was decomposed into two dummy variables \n",
       "+ (1974, Social Forces) Since this family of ordinal statistics is not usually conceptualized or derived in this manner, my reconceptualization and development hopefully enabled the reader to gain new understanding about one aspect of the meaning of these statistics, while at the same time extending path analysis to ordinal measures \n",
       "+ (1974, Social Forces) Since this family of ordinal statistics is not usually conceptualized or derived in this manner, my reconceptualization and development hopefully enabled the reader to gain new understanding about one aspect of the meaning of these statistics, while at the same time extending path analysis to ordinal measures \n",
       "+ (1975, Social Problems) However, there are persuasive arguments for the use of parametric statistics with ordinal variables \n",
       "+ (1976, American Journal of Political Science) S 1 1 S 1 1 S 5 1 S 7 1 S 2 2 S 4 2 S 6 2 S 10 2 S 4 4 S 7 3 S 8 4 S 13 3 N 3 3 S 10 4 N 7 3 S 16 4 N 5 5 N 4 3 N 9 5 N 6 3 N 6 6 N 6 5 N 10 6 N 8 5 N 7 7 N 8 7 N 11 7 N 10 7 N 8 8 N 10 9 N 12 8 N 12 9 N 9 9 N 12 11 N 13 9 N 14 11 N 10 10 N 14 13 N 14 10 N 16 13 N 11 11 N 15 11 assumption that one's data are interval is relatively cheap compared to the increased power the assumption affords us \n",
       "+ (1976, Sociology of Education) The four levels of academic achievement were represented as a set of binarys following Boyle's rationale for a Type I decomposition \n",
       "+ (1977, Journal of Marriage and Family) We have taken the position of a number of previous social scientists in assuming that even though the measurements we have used do not go beyond ordinal scales, little harm is done in applying statistics to them that are really appropriate for interval scales \n",
       "+ (1977, Review of Religious Research) Since their analysis, the robustness of correlation and regression analysis has been adequately demonstrated, particularly for ordinal and dummy variables \n",
       "+ (1977, The Sociological Quarterly) Recent explorations of this technique, however, recommend its use with ordinal-scale variables, since this level of measurement does not seriously distort the coefficients produced \n",
       "+ (1979, Sociological Focus) The pragmatic validity of this approach is high (i.e., this variable correlates well with our dependent measures), consistent with the position that the treatment of ordinal measures as interval usually yields few substantive problems \n",
       "+ (1980, Journal of Marriage and Family) It appears, however, that the use of ordinal measures is justifiable for most applications \n",
       "+ (1982, Journal of Marriage and Family) Regression analysis with ordinal independent variables is not problematic \n",
       "+ (1983, Sociology) While regression requires that the dependent variable (although not the independent variables) be internally measured, or at minimum ordinally measured "
      ],
      "text/plain": [
       "<IPython.core.display.Markdown object>"
      ]
     },
     "metadata": {},
     "output_type": "display_data"
    },
    {
     "data": {
      "text/markdown": [
       "# Brunner, Edmund de S. {Rural social trends} 1928"
      ],
      "text/plain": [
       "<IPython.core.display.Markdown object>"
      ]
     },
     "metadata": {},
     "output_type": "display_data"
    },
    {
     "name": "stdout",
     "output_type": "stream",
     "text": [
      "[]\n"
     ]
    },
    {
     "data": {
      "text/markdown": [],
      "text/plain": [
       "<IPython.core.display.Markdown object>"
      ]
     },
     "metadata": {},
     "output_type": "display_data"
    },
    {
     "data": {
      "text/markdown": [
       "# Burgess, E W, Wallin, P {Engagement and marriage} 1953"
      ],
      "text/plain": [
       "<IPython.core.display.Markdown object>"
      ]
     },
     "metadata": {},
     "output_type": "display_data"
    },
    {
     "name": "stdout",
     "output_type": "stream",
     "text": [
      "[('Burgess and Wallin (1953)', 42), ('Burgess & Wallin (1953)', 6)]\n"
     ]
    },
    {
     "data": {
      "text/markdown": [
       "+ (1970, Journal of Marriage and Family) FINDINGS The distribution of scores on \"general marital satisfaction\" was similar to that of many studies \n",
       "+ (1970, Journal of Marriage and Family) This approach contrasts sharply with the earlier attempts to predict adjustment in the early stages of marriage \n",
       "+ (1972, Journal of Marriage and Family) Subsequent studies exhibit even less sensitivity to this generosity factor \n",
       "+ (1972, The Sociological Quarterly) The existent studies, however, do not support the aim-inhibition hypothesis \n",
       "+ (1973, American Journal of Sociology) when the advantages the wives reported having gained from swinging were compared to the disadvantages similarly reported, the latter outweighed the former in 11 cases.4 Our data, as well as those mentioned by other researchers, seem to indicate that when we can obtain a measure of decision making with regard to nonspontaneous sex-and sex in general is an important correlate of marital happiness \n",
       "+ (1974, Journal of Marriage and Family) But, aside from some early work on the subject \n",
       "+ (1974, Journal of Marriage and Family) In addition to the empathy questionnaire, a standard engagement adjustment test \n",
       "+ (1974, Journal of Marriage and Family) In addition to warning students and prospective couples of the pitfalls of idealization, tests have been developed to predict which couples would be more likely to be happily married and which would not \n",
       "+ (1974, Journal of Marriage and Family) Some investigators (e.g., Renee, 1970) find the absence of children associated with greater satisfaction, many investigators find no relationship \n",
       "+ (1975, Journal of Marriage and Family) These have included individual personality characteristics \n",
       "+ (1976, Journal of Marriage and Family) This summary does not include related measures of variables such as marital integration (Farber, 1957), marital strain (Hurvitz, 1965), or marital communication (Navran, 1967); some scales based on modification of earlier scales \n",
       "+ (1977, Journal of Marriage and Family) Divorce data can be used as other criteria for lack of marital satisfaction \n",
       "+ (1977, Journal of Marriage and Family) Finally, parents may have genuine bonds with and affection toward the children which may keep the marriage intact \n",
       "+ (1977, Journal of Marriage and Family) First, many people view divorce as harmful to children in certain respects and because of this, unhappy couples may stay together for the \"good of the children\" \n",
       "+ (1977, Journal of Marriage and Family) The hypothesis \n",
       "+ (1977, Journal of Marriage and Family) This hypothesis proposes a direct impact (\"d\") of children upon marital instability \n",
       "+ (1977, Journal of Marriage and Family) Yet other scholars \n",
       "+ (1978, Journal for the Scientific Study of Religion) Religious agreement (Scale 17), a single item that asked the extent of agreement between partners on religious matters \n",
       "+ (1978, Journal for the Scientific Study of Religion) The marital adjustment items were part of a separate booklet containing questions about the couples' beliefs about marriage, family attitudes, and other questions relating to marriage and family \n",
       "+ (1978, Journal of Marriage and Family) To maximize the discriminative power of the scale items, these early studies added weights to item alternatives according to the amount of difference between the percentage from each group answering each alternative \n",
       "+ (1980, Journal of Marriage and Family) Many studies have reported it to be a determinant of happy marriage \n",
       "+ (1980, Journal of Marriage and Family) Studies of marital happiness, however, have found emotional stability, consideration of others, and being yielding, companionable, self-confident, and emotionally dependent to be related to reported happiness with marriage \n",
       "+ (1981, Journal of Marriage and Family) For example, their question on organization memberships has four fixed-category re- 144 JOURNAL OF MARRIAGE AND THE FAMILY February 1981//////sponses-none, one, two, and three or more \n",
       "+ (1982, Journal of Marriage and Family) The major conclusion that emerged from the early investigations was that variables that described the relationship were most important in accounting for variance in marital satisfaction \n",
       "+ (1982, Journal of Marriage and Family) These factors are commonly known and easily measured: geographic proximity and shared race, religion, social status, and important values and attitudes \n",
       "+ (1984, International Journal of Sociology of the Family) Well-being is also measured in terms of perceived marriage happiness (Orden and Bradburn, 1968), and by a set of four items asking the respondent how frequently in the past few months he had positive and negative feelings about his marriage \n",
       "+ (1991, Journal of Marriage and Family) Support for this hypothesis was found in several studies conducted between the 1920s and 1950s that found that husbands and wives with no premarital sexual experience scored higher on scales of marital happiness and satisfaction (i.e., the studies' indicators of marital \"success\") than did couples in which at least one spouse had had premarital relations \n",
       "+ (1994, International Journal of Sociology of the Family) Several factors, however, have been proposed that may contribute to the role taking process of all in-laws; these include mutual intergenerational re spect and maturity of the persons involved (Kirkpatrick, 1963; Marotz Baden & Cowan, 1987), attachment and/or dependency on the family of origin (Duvall, 1954; Landis & Landis, 1958; Styker 1955), proximity to in laws after marriage \n",
       "+ (1994, International Journal of Sociology of the Family) This was not supported and is significant because they contradict previous researchers who have found proximity to be an issue \n",
       "+ (2013, Journal of Marriage and Family) Regardless of whether a courtship is largely \"sweet,\" \"sour,\" or a blended mix, rational theories presume that partners enter marriage with their eyes wide open to their partners' and relationships' strengths and weaknesses "
      ],
      "text/plain": [
       "<IPython.core.display.Markdown object>"
      ]
     },
     "metadata": {},
     "output_type": "display_data"
    },
    {
     "data": {
      "text/markdown": [
       "# Chapin, F. S. {Contemporary American institutions} 1935"
      ],
      "text/plain": [
       "<IPython.core.display.Markdown object>"
      ]
     },
     "metadata": {},
     "output_type": "display_data"
    },
    {
     "name": "stdout",
     "output_type": "stream",
     "text": [
      "[('Chapin (1935)', 2)]\n"
     ]
    },
    {
     "data": {
      "text/markdown": [
       "+ (1968, American Sociological Review) Although specialized works flourished mainly from the late twenties to the early forties \n",
       "+ (1971, The Sociological Quarterly) If, say, Chapin's 'level of living scale\" ever did measure (in part, and among other things) \"status\", its use today would be suspect "
      ],
      "text/plain": [
       "<IPython.core.display.Markdown object>"
      ]
     },
     "metadata": {},
     "output_type": "display_data"
    },
    {
     "data": {
      "text/markdown": [
       "# Collins, R {Conflict sociology: Toward an explanatory science} 1975"
      ],
      "text/plain": [
       "<IPython.core.display.Markdown object>"
      ]
     },
     "metadata": {},
     "output_type": "display_data"
    },
    {
     "name": "stdout",
     "output_type": "stream",
     "text": [
      "[('Collins (1975)', 226)]\n"
     ]
    },
    {
     "data": {
      "text/markdown": [
       "+ (1975, Humboldt Journal of Social Relations) For the conflict theorist, values and culture derive from class divisions are, themselves, media of domination and conflict \n",
       "+ (1979, American Sociological Review) These themes have been diligently pursued in the literature on stratification and political sociology \n",
       "+ (1979, Journal for the Scientific Study of Religion) Furthermore, even those who sometimes made derisive remarks about the magical rituals had little doubt that they potentially involved more powerful processes than had the older, passive devotional formats; done properly, these collective magical rituals could activate and amplify animal-based emotional bonds while simultaneously restructuring individual cognitive processes \n",
       "+ (1980, Social Problems) In any case, Beirne should realize there are major differences between conflict theory and Marxism \n",
       "+ (1981, American Journal of Sociology) In explaining why individuals take the actions they take, however, it is necessary to refer to the structure of social relations present in a group \n",
       "+ (1982, The Sociological Quarterly) Primary emphasis is given to the listing of the specific propositions as the constituent elements of the theory, with general, explanatory propositions serving merely as a secondary integrative device \n",
       "+ (1985, American Journal of Sociology) Requiring more education among successively higher levels of supervisors and managers legitimizes inequalities of power (Bowles and Gintis 1977, p. 82); ensures that the persons in control have the values and work habits that the owners and management deem appropriate \n",
       "+ (1985, Sociological Theory) In the diffuse fashion characteristic of large twentieth-century fields, we are passing slowly into becoming a science\" \n",
       "+ (1985, Sociological Theory) In the preface to an early book, Conflict Sociology, he predicts that when historians look back on this era they \"will see a great intellectual revolution in the twentieth century-establishment of a true social science\" \n",
       "+ (1987, Annual Review of Sociology) Rather than proposing models of generative mechanisms or deep structures invisible to the acting agents, they incorporate a view of the actor who understands and reflects upon his or her behavior as he/she is engaged in it \n",
       "+ (1987, Annual Review of Sociology) The organized character of everyday life has been used in two ways: as a base for building an \"aggregation\" (Knorr-Cetina 1981) of micro interactions into a macro reality \n",
       "+ (1988, Annual Review of Sociology) The domination of some groups over others is seen as the force holding society together, as well as the source of change through the conflict it engenders \n",
       "+ (1989, Sociological Perspectives) Group membership is typically represented by ritual symbols and objects that express and reinforce group identity even if members are not copresent \n",
       "+ (1990, American Sociological Review) The interdependence of class and status has long been recognized, prompting the empirical question of how the relationship between these attributes has varied over time \n",
       "+ (1990, Sociological Forum) The development and promulgation of such frames depends, in turn, upon the outcome of cultural \"contests\" in which groups struggle over how issues are to be defined and over whose definitions will dominate public discourse \n",
       "+ (1991, American Sociological Review) Such contexts frequently are characterized in terms of their environmental (Aldrich 1979; Hannan and Freeman 1977), institutional \n",
       "+ (1991, Sociological Forum) Any causal explanation must ultimately come down to the actions of real individuals\" \n",
       "+ (1991, The Sociological Quarterly) The former focus on power relations by which some groups' norms and values dominate \n",
       "+ (1992, American Sociological Review) As research in the sociology of science has shown, contemporary academic practices revolve around making \"contributions\" to a literature - a circumstance that requires academics to link the content of their work with previous work and \"to demonstrate that [their] results 'fit in' with those of others\" \n",
       "+ (1996, American Journal of Sociology) Some modern followers of the grand theorists \n",
       "+ (1998, American Journal of Sociology) In earlier papers, I reported on the controversy that followed \n",
       "+ (1998, American Sociological Review) The metaphor of science as a conversation made up of individual scientists' contributions (e.g., papers, books) competing for attention \n",
       "+ (2000, Sociological Theory) A society in which there is much inequality in D-power will be one in which there are sharp differences in social identities, and a good deal of smouldering resentment and suppressed conflict \n",
       "+ (2003, American Sociological Review) More generally, the centrality of motives in conflict theory's assumption that people seek to protect-if not to increase-their share of scarce resources obscures the importance of the mechanisms through which motives might operate \n",
       "+ (2003, The Sociological Quarterly) Various sociologists have correctly surmised that in status hierarchies, unpleasant emotions tend to flow downhill \n",
       "+ (2004, Social Problems) According to many Marxist (Chambliss 1964) and Weberian \n",
       "+ (2006, American Sociological Review) Particularized cultural capital is much more important in Collins's view (1988:406) in solidifying net works of power and authority \n",
       "+ (2006, European Sociological Review) est probability of academic success \n",
       "+ (2008, Sociology of Religion) The Charismatic Movement A congregation's members are more likely to comply with leaders who have important resources such as exclusive control over information in areas of uncer tainty \n",
       "+ (2011, American Sociological Review) Keywords culture, coherence, social movements, sexualities, networks The means by which social cohesion is generated—in small groups, organizations, and the larger society—stands at the heart of the sociological imagination, both theoret ically "
      ],
      "text/plain": [
       "<IPython.core.display.Markdown object>"
      ]
     },
     "metadata": {},
     "output_type": "display_data"
    },
    {
     "data": {
      "text/markdown": [
       "# Costner, H {Criteria for measures of association} 1965"
      ],
      "text/plain": [
       "<IPython.core.display.Markdown object>"
      ]
     },
     "metadata": {},
     "output_type": "display_data"
    },
    {
     "name": "stdout",
     "output_type": "stream",
     "text": [
      "[('Costner (1965)', 38)]\n"
     ]
    },
    {
     "data": {
      "text/markdown": [
       "+ (1968, American Sociological Review) The absolute value of Gamma has a \"proportional reduction in error\" interpretation which enables the researcher to examine how much error is eliminated in predicting the rankings of a given variable through knowledge of the ranking of a second variable \n",
       "+ (1969, Social Problems) Tau-b was selected because of its precise operational interpretation, namely the proportional reduction of total error in the dependent variable produced by knowledge of the independent variable \n",
       "+ (1970, Social Forces) The degree of association between HPR in this combined form and BD was calculated using gamma, the most meaningfully interpreted measure of association for ordinal variables \n",
       "+ (1970, Social Forces) The degree of association between HPR in this combined form and BD was calculated using gamma, the most meaningfully interpreted measure of association for ordinal variables \n",
       "+ (1970, Social Forces) Two recent articles (Goodman and Kruskal, 1963; Rosenthal, 1966) have explored the asymptotic and small-sample variance of a; and it has been compared \n",
       "+ (1970, The Sociological Quarterly) For the same table gamma equals Yule's Q, and we now have a proportional-reduction-in-error interpretation of gamma \n",
       "+ (1971, American Journal of Sociology) On the other hand, y has a simple operational definition (Goodman and Kruskal 1954) and a P-R-E interpretation based on the exclusion of ties \n",
       "+ (1971, American Journal of Sociology) P-R-E INDEX AND REFERENCE FUNCTION The notion of P-R-E in prediction is an extremely convenient interpretive device for a variety of measures of association \n",
       "+ (1971, American Journal of Sociology) Such prediction will always be correct if the pair is tied on Y, but will be expected to be erroneous half of the time if the pair is not 897//////American Journal of Sociology tied on Y, because for a randomly chosen pair, the order is as likely to be Yi > Yi as Yi < Y, \n",
       "+ (1971, American Journal of Sociology) Therefore, in describing the bivariate relationships, the Goodman and Kruskall y \n",
       "+ (1971, Journal of Marriage and Family) The absolute value of gamma indicates the proportion which error in estimating the order of pairs of units can be reduced as one shifts from a random device for estimating order to using the independent variable to predict order \n",
       "+ (1971, Social Forces) However in order to allow for the effect of marginals Menzel (1953) has developed a modified criterion of scalability which is reported to be a PRE measure \n",
       "+ (1971, Social Forces) However in order to allow for the effect of marginals Menzel (1953) has developed a modified criterion of scalability which is reported to be a PRE measure \n",
       "+ (1972, Administrative Science Quarterly) ambiguously \n",
       "+ (1972, American Journal of Sociology) Gamma, a symmetrical measure of association with a \"proportional reduction in error\" interpretation appropriate to an ordinal level of measurement \n",
       "+ (1972, American Sociological Review) Others, expounding further on this position, propose that a selected measure should be able to represent the form as well as the degree of association that exists among the variables in the hypothesis \n",
       "+ (1972, Social Problems) Thus, specific values of Q refer to the percent of improvement in prediction with, as opposed to without, knowledge of the independent variable \n",
       "+ (1972, The Sociological Quarterly) Gamma was used to measure the degree of association between variables because it gives a proportional reduction in the error of estimation by using a specified independent variable to estimate a given dependent variable \n",
       "+ (1973, The Sociological Quarterly) IT Is GENERALLY agreed that a measure of association should represent the form as well as the degree of association among the variables in a hypothesis \n",
       "+ (1974, Social Forces) In order to arrive at a useful and meaningful measure of association for nominal-level variables, two considerations must be kept in mind: (a) the form of the empirical test must be identical with the form of the research hypothesis \n",
       "+ (1974, Social Forces) Using a model of reduction in predictive error, one can prove mathematically that Goodman and Kruskal's y, Somers' dy, and an apparently new measure e are the appropriate measures of association, respectively, for these three types of hypotheses \n",
       "+ (1974, Social Forces) Using a model of reduction in predictive error, one can prove mathematically that Goodman and Kruskal's y, Somers' dy, and an apparently new measure e are the appropriate measures of association, respectively, for these three types of hypotheses \n",
       "+ (1974, Social Forces) must be kept in mind: (a) the form of the empirical test must be identical with the form of the research hypothesis (see Costner, 1965; Duggan and Dean, 1968; Francis, 1961; Kang, 1972, 1973; Leik and Gove, 1969) and (b) the measure of association should be \"'operationally interpretable' in terms of the proportional reduction in error of estimation made possible by the relationship\" \n",
       "+ (1974, Social Forces) must be kept in mind: (a) the form of the empirical test must be identical with the form of the research hypothesis (see Costner, 1965; Duggan and Dean, 1968; Francis, 1961; Kang, 1972, 1973; Leik and Gove, 1969) and (b) the measure of association should be \"'operationally interpretable' in terms of the proportional reduction in error of estimation made possible by the relationship\" \n",
       "+ (1975, American Journal of Sociology) We usually choose a measure of association as a means of examining and parsimoniously describing the relationship between mx and m. Since, however, there is no general measure of association \n",
       "+ (1981, The Sociological Quarterly) Although not an exhaustive list, the following may be considered as proportional reduction in error measures: Goodman and Kruskal's lambda (Guttman's coefficient of relative predictability), Goodman and Kruskal's tau-b, Goodman and Kruskal's gamma, Yule's Q, Pearson's r', correlation ratio (eta squared) \n",
       "+ (1983, Journal of Health and Social Behavior) We have presented \"PRE\" measures of association \n",
       "+ (1983, Sociological Perspectives) Gamma has the advantage of having a clearcut \"proportionate reduction in error\" interpretation \n",
       "+ (1992, Social Problems) A Distributional Inequality Interpretation of T Goodman and Kruskal's 1b is an asymmetric measure of association appropriate for nominal-level data that is typically interpreted using a proportional reduction in error \n",
       "+ (1999, Sociological Perspectives) Gamma was selected as the measure of association because of its proportional reduction in error interpretation "
      ],
      "text/plain": [
       "<IPython.core.display.Markdown object>"
      ]
     },
     "metadata": {},
     "output_type": "display_data"
    },
    {
     "data": {
      "text/markdown": [
       "# Davis, J. A. {Hierarchical Models for Significance Tests in Multivariate Contingency Tables: An Exegesis of Goodman's Recent Papers} 1974"
      ],
      "text/plain": [
       "<IPython.core.display.Markdown object>"
      ]
     },
     "metadata": {},
     "output_type": "display_data"
    },
    {
     "name": "stdout",
     "output_type": "stream",
     "text": [
      "[('Davis (1974)', 45)]\n"
     ]
    },
    {
     "data": {
      "text/markdown": [
       "+ (1976, Annual Review of Sociology) The end of conscription in the United States could be encompassed in the more general paradigm of the decline of the mass army in Western parliamentary democracies \n",
       "+ (1976, Journal of Marriage and Family) Much of the research on sexual behavior, including the forms of concern here, has been in the tradition of what has been termed \"sexual demography\" \n",
       "+ (1976, Review of Religious Research) On the other hand, the change in attitudes toward civil liberties involved not merely cohort replacement but actual change in adult population groups \n",
       "+ (1976, Review of Religious Research) The Goodman method \n",
       "+ (1976, The Sociological Quarterly) An odds ratio is the \"ratio of the frequencies for two categories of some variable\" \n",
       "+ (1977, International Journal of Sociology of the Family) Methods The data of this study are drawn from the 1974 General Social Survey of NORC: the National Opinion Research Center \n",
       "+ (1977, International Journal of Sociology of the Family) Mother's work status was dichoto mized into mother never worked for as long as a year after marriage and 4The abortion scale is a Guttman scale composed of six items which ask if a woman should be permitted to obtain a legal abor tion under specified circumstances \n",
       "+ (1977, Social Problems) 8 Leo Goodman's method of testing for higher-order interactions involving nominal or ordinal variables were used \n",
       "+ (1977, The Sociological Quarterly) Goodman's second method \n",
       "+ (1978, Annual Review of Sociology) Virtually all analyses of migration are demographic \n",
       "+ (1979, Annual Review of Sociology) We do not attempt to summarize the main features of these models because there are a variety of clear \n",
       "+ (1979, Review of Religious Research) The major advantage of utilizing the multiple contingency table and log linear approach over more traditional Chi-square and ANOVA techniques is that log linear analysis makes possible the ability to examine specific interactions between two or more variables within specific categories of third, fourth, fifth, and additional variables \n",
       "+ (1979, Review of Religious Research) The particular survey utilized was conducted in the spring of 1974 and forms a representative sample of the adult, non-institutionalized, American population \n",
       "+ (1979, Review of Religious Research) These differences were more than just fluctuations in the data in that the saturated model, which contains these effects (Table 5, part B), is the model which best fits the data \n",
       "+ (1979, The Sociological Quarterly) Determinants of Religious Participation 53 Data and Methodology The source of our data is the 1974 General Social Survey \n",
       "+ (1979, The Sociological Quarterly) There are three measures of socioeconomic position: the occupation, education, and total family income of the respondent \n",
       "+ (1980, American Sociological Review) One of the most widely cited nontechnical introductions to log-linear modeling \n",
       "+ (1980, Sociological Focus) This variable may be a proxy for \"the cost of living space\" (Friedlander and Silver, 1967: 53) or \"population pressure\" \n",
       "+ (1982, Journal of Marriage and Family) The second possible explanation is that minorities have less confidence in the effectiveness of the criminal justice system in solving social problems \n",
       "+ (1982, Symbolic Interaction) Let me see if I can specify this better by sketching, perhaps somewhat ideal-typically, what I think you may agree is a characteristic, i f not the sole, architectonic of the symbolic interactionist study - the formal structure of a familiar symbolic interactionist plot, if you will \n",
       "+ (1984, Sociological Perspectives) An examination of racial prejudice in 1946 and 1963 found that the decline in racial prejudice was no greater in the South than in the North \n",
       "+ (1986, Journal for the Scientific Study of Religion) METHOD Log-linear modelling \n",
       "+ (1986, Journal for the Scientific Study of Religion) These are the substantively unimportant impacts of \"marginal skews,\" produced from \"a difference in cell frequencies that reflects the marginal distributions for\" the independent variables \n",
       "+ (1986, Journal for the Scientific Study of Religion) These quantities are difficult to evaluate (Knoke, 1975: 422; Reynolds, 1977b: 59, 63, 65), but they may be transformed into the more readily interpretable partial odds ratios \n",
       "+ (1990, American Journal of Sociology) In addition, baseball (in 1922) was granted immunity from antitrust laws by an act of Congress, faced no players' union, and had no rival leagues except for a short-lived effort in the late 1940s \n",
       "+ (1990, Sociological Forum) But the warrior elite presented an absolutist-bureaucratic face to//////The Individual in Japanese Ilistory 581 the rest of society, much in the manner of European governments at a similar stage of development\" \n",
       "+ (1991, Journal of Marriage and Family) The age of sibs, therefore, should be related to parental involvement, with older sibs being less close, doing fewer things with parents, and being less closely supervised.2 The precise age and times of reduced parental control and involvement are not well specified \n",
       "+ (1993, The Sociological Quarterly) This focus would see sociologists as spinners of professional tales that we call theories \n",
       "+ (1994, Sociological Forum) First, the central mystery of causal network analysis -decomposition into path componentssimply does not work for nonlinear relationships \n",
       "+ (2000, Journal of Marriage and Family) Much of the previous research on marital sexual behavior has been in the tradition of \"sexual demography\", or a mapping of the relationships between sexual behavior and social background variables "
      ],
      "text/plain": [
       "<IPython.core.display.Markdown object>"
      ]
     },
     "metadata": {},
     "output_type": "display_data"
    },
    {
     "data": {
      "text/markdown": [
       "# Davis, K {Human society} 1948"
      ],
      "text/plain": [
       "<IPython.core.display.Markdown object>"
      ]
     },
     "metadata": {},
     "output_type": "display_data"
    },
    {
     "name": "stdout",
     "output_type": "stream",
     "text": [
      "[('Davis (1948)', 25)]\n"
     ]
    },
    {
     "data": {
      "text/markdown": [
       "+ (1969, Social Problems) Such notions are congruent with the social scientific view that religious sanctioning systems play an important role in ensuring and maintaining conformity to social norms \n",
       "+ (1971, Social Problems) ... \n",
       "+ (1973, American Sociological Review) Generally, following Parsons' view of the community as a territorially grounded social system embracing all aspects of social life \n",
       "+ (1975, Social Forces) 1 The poverty culture thesis can be subsumed within the class culture thesis \n",
       "+ (1975, Social Forces) 1 The poverty culture thesis can be subsumed within the class culture thesis \n",
       "+ (1975, Social Problems) In essence, these theories suggest that as technology becomes more complex, it requires a more rational and efficient division of labor (Durkheim, 1964) which in turn requires a shift from ascription to achievement as the predominant mode of social differentiation \n",
       "+ (1977, American Sociological Review) It is hard to imagine a category of positions more likely to yield support for the theory \n",
       "+ (1977, Social Problems) Conventional sociology, it is argued, which takes the family rather than the individual as the unit of stratification analysis and equates the status of women with that of the household or household head \n",
       "+ (1978, Sociological Focus) It is clear that so-called achieved statuses are in most cases heavily dependent on ascribed ones \n",
       "+ (1980, American Sociological Review) Theorists have tried to explain it: functionalists \n",
       "+ (1983, American Journal of Sociology) There is a body of evidence showing a positive correlation between social class and a positive valuation of abstract knowledge and of education for its own sake \n",
       "+ (1983, American Journal of Sociology) This point is not new, and for some time commentators have been pointing out that intelligence seems to be as much a function of class and culture as some inherent mental ability \n",
       "+ (1984, Social Psychology Quarterly) Similar attempts to describe two major kinds of relationships in terms of their solidary characteristics have a long tradition in classical as well as in modem sociological thought \n",
       "+ (1985, American Sociological Review) Alternative hypotheses about functional form are that political violence will be most frequent at intermediate levels of inequality (Nagel, 1974), i.e., an inverse \"U\" curve; or, just the opposite, that political violence will be most frequent at either low or high levels of inequality \n",
       "+ (1985, Sociological Perspectives) To the degree that criminal laws embody the moral principles of a particular religion, strong adherence to that religion should result in fewer violations of those criminal laws than weak (or non-) religious adherence \n",
       "+ (1989, Review of Religious Research) The first tradition sees the incompatibility to lie in the supposed contradiction between the scientific canons of detached scientific objectivity on the one hand, and committed religious belief and practice on the other \n",
       "+ (1993, Social Indicators Research) The basic assumption made by the study is that technological change will create strains in the existing normative order, and that changes will occur in the latter to alleviate these strains \n",
       "+ (1999, Annual Review of Sociology) First, throughout human history, families have helped to regulate crime rates by serving as the primary institution for passing social rules and values from one generation to the next \n",
       "+ (1999, Journal of Health and Social Behavior) These hypotheses were based on the theoretical assumption that there are mutual effects between events and norms or values \n",
       "+ (1999, Sociology of Education) They are that the gap is caused primarily by (1) differences in social class \n",
       "+ (2015, Social Indicators Research) Demographic transition theory is used by demographers to explain the trends from high mortality and high fertility to low mortality and low fertility "
      ],
      "text/plain": [
       "<IPython.core.display.Markdown object>"
      ]
     },
     "metadata": {},
     "output_type": "display_data"
    },
    {
     "data": {
      "text/markdown": [
       "# Dean, Dwight G. {Alienation: Its Meaning and Measurement} 1961"
      ],
      "text/plain": [
       "<IPython.core.display.Markdown object>"
      ]
     },
     "metadata": {},
     "output_type": "display_data"
    },
    {
     "name": "stdout",
     "output_type": "stream",
     "text": [
      "[('Dean (1961)', 53)]\n"
     ]
    },
    {
     "data": {
      "text/markdown": [
       "+ (1969, American Sociological Review) DEFINITION AND MEASUREMENT OF ALIENATION In the various attempts that have been made to define alienation, little attention has been given to the distinction between alienation from self and alienation from society \n",
       "+ (1970, American Journal of Sociology) Such people have been described as lacking a sense of mastery or self-confidence (Strodtbeck 1958), as believing in external control (Rotter 1966), or as having a sense of powerlessness \n",
       "+ (1972, The Sociological Quarterly) Much of the research in this area assumes the larger society as the social referent from which alienation is measured \n",
       "+ (1972, The Sociological Quarterly) Some advise a multidimensional approach on the basis of evidence that the dimensions of alienation constitute a syndrome of loosely related factors \n",
       "+ (1972, The Sociological Quarterly) There is some research reporting statistical relationships among dimensions of alienation \n",
       "+ (1973, American Sociological Review) They correlate at .32-an association common in the literature \n",
       "+ (1973, Journal of Marriage and Family) physical mobility, occupation and amount of education of the respon- 72 JOURNAL OF MARRIAGE AND THE FAMILY February 1973//////dent's parents, denominational membership and devoutness of the respondent and his parents, his grades in school, his attitudes toward his parents, etc., as well as a number of items concerning his relationships with the opposite sex, and items from Dean's Alienation Scale \n",
       "+ (1974, Journal of Health and Social Behavior) Measures of \"self-to-other alienation\" found to be related to suicide attempts (Srole, 1956) were included, along with items measuring perceived hostility of the environment \n",
       "+ (1974, Journal of Marriage and Family) METHOD Powerlessness was measured through the use of five items, originally taken from Dwight Dean's longer powerlessness scale \n",
       "+ (1974, Journal of Marriage and Family) The six items in the scale were constructed explicitly to tap feelings of purposelessness and normative conflict \n",
       "+ (1975, American Sociological Review) Past research has demonstrated that socioeconomic status is inversely related to various forms of alienation \n",
       "+ (1975, Annual Review of Sociology) These range from indicators of generalized powerlessness \n",
       "+ (1975, Journal of Health and Social Behavior) The powerlessness subscale of Dean's alienation scale was used to measure subjective alienation \n",
       "+ (1976, American Journal of Sociology) This conclusion remains valid, even though Seeman (1972a, 1972b) and others \n",
       "+ (1976, Journal for the Scientific Study of Religion) Empirically, it has been shown that in the lower classes, scores are consistently higher on the Srole \"anomie\" scale \n",
       "+ (1977, Annual Review of Sociology) Evidence supporting the advisibility of a multidimensional approach is stronger both for alienation in general \n",
       "+ (1977, International Review of Modern Sociology) For instance, in an only recently been empirically demonseffort to eliminate the ambiguity of the//////CENTRALIZATION OF AUTHORITY 123 concept, several sociologists \n",
       "+ (1977, Journal of Marriage and Family) There is an extensive group of studies of romantic love with dating couples \n",
       "+ (1979, The Sociological Quarterly) In particular, the presence of disciplined freedom decreases the probability of violence (Hillery, 1978) and alienation \n",
       "+ (1980, Journal of Health and Social Behavior) Alienation Dean's Alienation Scale \n",
       "+ (1980, Journal of Health and Social Behavior) The literature suggests that such an orientation is prevalent among lower socioeconomic groups \n",
       "+ (1983, American Sociological Review) Consistent with the findings of previous research \n",
       "+ (1983, Humboldt Journal of Social Relations) Nonetheless, the great number of studies which report no relationship between religious association and anomia cast further doubt upon the efficacy of association in reducing anomia, for we would expect participation in a religion to enhance integration not only through association but also through adherence to common morals norms2 \n",
       "+ (1983, Sociological Focus) ), have been related to such dispositional antecedents as education (Middleton, 1963; McClosky and Schaar, 1965; Rushing, 1971), race (Middleton, 1963; Wilson, 1972), age \n",
       "+ (1986, Sociological Bulletin) The cross-cultural validity of the alienation scales designed in some studies is again another operational problem \n",
       "+ (1989, International Review of Modern Sociology) Other scales, however, have also been popular \n",
       "+ (1989, Sociological Focus) Validity was tested by means of independent judgments of experts, and the \"split-half\" reliabilities were .78, .73, and .84, respectively \n",
       "+ (1990, Social Indicators Research) QUALITY OF WORKING LIFE 37 Need Satisfaction (QWL) and Personal Alienation The various aspects of alienation are discussed in the psychology literature \n",
       "+ (1990, Social Indicators Research) rural back ground and social status \n",
       "+ (2009, Sociological Forum) Finally, anomie has been conceptualized as a social psychological condition and various psychometric anomie scales "
      ],
      "text/plain": [
       "<IPython.core.display.Markdown object>"
      ]
     },
     "metadata": {},
     "output_type": "display_data"
    },
    {
     "data": {
      "text/markdown": [
       "# Dohrenwend, Bruce P, Dohrenwend, Barbara Snell {Social status and psychological disorder: a causal inquiry} 1969"
      ],
      "text/plain": [
       "<IPython.core.display.Markdown object>"
      ]
     },
     "metadata": {},
     "output_type": "display_data"
    },
    {
     "name": "stdout",
     "output_type": "stream",
     "text": [
      "[('Dohrenwend and Dohrenwend (1969)', 112), ('Dohrenwend & Dohrenwend (1969)', 5)]\n"
     ]
    },
    {
     "data": {
      "text/markdown": [
       "+ (1972, Journal of Health and Social Behavior) One direct result of this conclusion has been the forty-four separate attempts to count all disorders, whether or not officially identified \n",
       "+ (1972, Journal of Health and Social Behavior) While there are examples of experimental or quasi-experimental epidemiological studies \n",
       "+ (1972, Social Forces) Stress Investigators of the role of stress in schizophrenia face a perplexing problem in defining and indexing stress \n",
       "+ (1972, Social Forces) Stress Investigators of the role of stress in schizophrenia face a perplexing problem in defining and indexing stress \n",
       "+ (1973, Journal of Health and Social Behavior) Using these subscales to compare levels of psychological stress or physiological malaise across heterogeneous populations raises a number of problems of conceptual clarity; cross cultural, ethnic, and sex differences; social desirability effects; and effects of response sets \n",
       "+ (1974, American Sociological Review) This study, like most community surveys \n",
       "+ (1976, American Journal of Sociology) following procedures or some combination of them: evaluations by psychiatrists of data from key informants and agency records; evaluations by psychiatrists of data from direct interviews with community residents; and, especially in more recent studies, scores on screening test questions that have been calibrated against psychiatric evaluations or against criterion groups of psychiatric patients \n",
       "+ (1976, Journal of Health and Social Behavior) A difficulty of interpretation arises in a test of our first hypotheses unless the inverse effect of social class on mental illness \n",
       "+ (1977, Journal of Health and Social Behavior) Instead, most studies in psychiatric sociology focus on either the epidemiological differences in rates of untreated and treated symptoms between social groups \n",
       "+ (1977, Journal of Health and Social Behavior) Such a condition could arise because the same array of sociocultural factors which have been consistently found to relate to psychological disorder \n",
       "+ (1979, Journal of Health and Social Behavior) Most empirical sociological work based on these models has concerned itself with the first of these two assumptions \n",
       "+ (1979, Journal of Health and Social Behavior) Some studies indicate no differences between whites and blacks \n",
       "+ (1979, Journal of Health and Social Behavior) The literature indicates that education is also inversely related to psychological impairment: the higher the educational level, the lower the rates of impairment \n",
       "+ (1980, American Journal of Sociology) Distress levels of blacks and whites were compared in five studies \n",
       "+ (1980, American Journal of Sociology) Two studies that included Puerto Ricans \n",
       "+ (1980, American Sociological Review) There has been a tendency, in the literature, to associate the social-selection argument with a genetic theory of causation \n",
       "+ (1980, Journal of Health and Social Behavior) Recognition of the limitations of treatment data \n",
       "+ (1982, Journal of Health and Social Behavior) Life events are typically defined as experiences that cause the individual to substantially readjust his or her behavior patterns \n",
       "+ (1982, Journal of Health and Social Behavior) The finding that students with lower SES had greater elevations in blood pressure as a result of the college application stimulus is consistent with prior research on SES and adult stress \n",
       "+ (1984, Journal of Health and Social Behavior) Among the causal explanations are the genetic (Gottesman and Shields, 1972; Kringlen, 1970; Rosenthal, 1971), biochemical (Kety, 1975), social structural \n",
       "+ (1984, Journal of Health and Social Behavior) In contrast, the social causation explanation posits that the higher incidence of mental disorders or psychological distress among those of lower status is due to their greater exposure to stressful life conditions \n",
       "+ (1988, American Sociological Review) All selfreported health status measures are subject to biases of varying magnitude resulting from psychological and social factors that affect self-monitoring, awareness of symptoms or health limitations, and willingness to report socially undesirable conditions \n",
       "+ (1988, Journal of Health and Social Behavior) An unsettled debate continues over the racial difference in the overall rates of mental illness \n",
       "+ (1991, Journal of Marriage and Family) Early community surveys consistently demonstrated that adults in the lower socioeconomic status (SES) groups had higher levels of psychological distress than adults in other SES categories \n",
       "+ (1993, American Journal of Sociology) These studies themselves have given rise to considerable controversy \n",
       "+ (1995, American Sociological Review) The appealing hypothesis was that the elevated levels of psychological distress and disorder observed among people in low status groups may be substantially attributable to their greater exposure to stressful life events \n",
       "+ (1995, Journal of Health and Social Behavior) Minority group members are also exposed to negative life events related to their stigmatization and discrimination \n",
       "+ (1999, Journal of Health and Social Behavior) While questions have been raised about the validity of such measures as indicators of specific psychological disorders \n",
       "+ (2000, Journal of Health and Social Behavior) 1994; Robins and Regier 1991), and inconsistent differences when indicators of psychological distress are used \n",
       "+ (2000, Journal of Health and Social Behavior) minority that may be almost as large showing current nonspecific psychological distress that is severe but does not meet criteria for a specific disorder (Link and Dohrenwend 1980); and (3) where neither psychiatric disorders nor environmental adversities are randomly distributed in the population but, rather, vary with social statuses such as age, gender, ethnic/racial background, and SES "
      ],
      "text/plain": [
       "<IPython.core.display.Markdown object>"
      ]
     },
     "metadata": {},
     "output_type": "display_data"
    },
    {
     "data": {
      "text/markdown": [
       "# Duncan, Otis Dudley {Introduction to structural equation models} 1973"
      ],
      "text/plain": [
       "<IPython.core.display.Markdown object>"
      ]
     },
     "metadata": {},
     "output_type": "display_data"
    },
    {
     "name": "stdout",
     "output_type": "stream",
     "text": [
      "[('Duncan (1973)', 18)]\n"
     ]
    },
    {
     "data": {
      "text/markdown": [
       "+ (1974, Language in Society) More extended accounts may be found elsewhere \n",
       "+ (1977, Sociological Focus) As the term is used here, goal achievement is not equivalent to organizational effectiveness (Steers, 1975), although it is one aspect of the effectiveness of federal agencies \n",
       "+ (1979, Administrative Science Quarterly) Characteristics of a subunit's work are important determinants of uncertainty and therefore of subunit informationprocessing requirements \n",
       "+ (1979, Administrative Science Quarterly) Conversely, high-performing subunits facing a stable environment can deal with their relatively small information-processing requirements through centralized communication patterns \n",
       "+ (1979, Administrative Science Quarterly) Decentralized communication patterns can, therefore, deal with work-related uncertainty more effectively than hierarchical (that is, more centralized) communication patterns \n",
       "+ (1979, Administrative Science Quarterly) If a subunit has relatively few rules, flexible roles, and is not dependent on the formal hierarchy, then its potential to deal with uncertainty is enhanced \n",
       "+ (1979, Administrative Science Quarterly) Measures of internal processes include flexibility (Georgopoulos and Tannenbaum, 1957; Schein, 1970; Mott, 1972), open communications (Schein, 1970), manpower acquisition, retention, and utilization (Negandhi and Reimann, 1973), creativity (Schein, 1970), and adaptability \n",
       "+ (1979, Administrative Science Quarterly) More successful routine tasks, on the contrary, rely less on intra-project communication and varied colleague roles, and more on supervisory direction and involvement \n",
       "+ (1979, Administrative Science Quarterly) The increased frequency of these relatively routine decisions may be best dealt with through greater supervisory control, reliance on formality, and centralization of communication \n",
       "+ (1981, Administrative Science Quarterly) \n",
       "+ (1982, Administrative Science Quarterly) A number of empirical studies have used some form of information-processing approach \n",
       "+ (1982, Administrative Science Quarterly) BACKGROUND Previous research on uncertainty in organizations \n",
       "+ (1982, Administrative Science Quarterly) Several researchers \n",
       "+ (1982, Administrative Science Quarterly) or small groups, have managed to measure directly such aspects of information processing as the frequency of oral communications between work groups (Tushman, 1978), the extent to which policies and procedures, work plans, personal contact, and meetings are used to coordinate members of work teams (Van de Ven, Delbecq, and Koenig, 1976), and the structure of groups during decision making \n",
       "+ (1989, Administrative Science Quarterly) To create the capacity to process information, work units develop less hierarchical, more interdependent structures and engage in more intensive modes of coordination \n",
       "+ (1993, The Sociological Quarterly) For instance, diverse work has documented the use of place to communicate social rank, whether through interior decoration of dwellings (Lauman and House 1970; Pratt 1982), neighborhood landscape styles \n",
       "+ (1993, The Sociological Quarterly) Studies of community attachment, in particular, documented how such locales continue to provide a significant locus of sentiment and meaning for the self \n",
       "+ (2002, Social Psychology Quarterly) Early conversation analytic researchers focused on a turn-taking model of conversation, arguing that talk is organized in such a way that one person holds the floor at any one time "
      ],
      "text/plain": [
       "<IPython.core.display.Markdown object>"
      ]
     },
     "metadata": {},
     "output_type": "display_data"
    },
    {
     "data": {
      "text/markdown": [
       "# Duncan, Otis Dudley {Methodological Issues in the Analysis of Social Mobility} 1981"
      ],
      "text/plain": [
       "<IPython.core.display.Markdown object>"
      ]
     },
     "metadata": {},
     "output_type": "display_data"
    },
    {
     "name": "stdout",
     "output_type": "stream",
     "text": [
      "[('Duncan (1981)', 4)]\n"
     ]
    },
    {
     "data": {
      "text/markdown": [
       "+ (1985, Sociology) The clothing industry The clothing industry not only has a relatively large proportion of the workforce employed in small firms, but also has a large number of female workers (roughly 80% of the labour force), is a Wages Council industry, and wage levels tend to be low, all characteristics associated with the small firm \n",
       "+ (1986, Journal of Marriage and Family) There are several ways to constrain the four relationships to be equivalent \n",
       "+ (1988, Sociological Methodology) The intention here, in part, is to improve upon an earlier attempt \n",
       "+ (2013, Sociological Methodology) Many of the characteristic features and uses of marginal modeling can be captured by means of the MH model and its straightforward extensions "
      ],
      "text/plain": [
       "<IPython.core.display.Markdown object>"
      ]
     },
     "metadata": {},
     "output_type": "display_data"
    },
    {
     "data": {
      "text/markdown": [
       "# Duncan, Otis Dudley {Path Analysis: Sociological Examples} 1966"
      ],
      "text/plain": [
       "<IPython.core.display.Markdown object>"
      ]
     },
     "metadata": {},
     "output_type": "display_data"
    },
    {
     "name": "stdout",
     "output_type": "stream",
     "text": [
      "[('Duncan (1966)', 202)]\n"
     ]
    },
    {
     "data": {
      "text/markdown": [
       "+ (1969, American Journal of Sociology) Duncan then proceeded to construct two mobility tables which would be more comparable \n",
       "+ (1969, Sociological Methodology) 82 OTIS DUDLEY DUNCAN The possibility of making quite precise deductions from theoretical premises which go beyond the data is opened up by the systematic exploitation of theorems associated with path analysis \n",
       "+ (1970, American Journal of Sociology) For a technical discussion of the multiple classification analysis, the interested reader is advised to consult the authors of this technique \n",
       "+ (1971, American Journal of Sociology) Some recently developed statistical tlechniques for longitudinal analysis, such as path analysis \n",
       "+ (1971, Social Forces) In short, we are now for the first time technically equipped for process theorizing \n",
       "+ (1971, The American Sociologist) One way causation ; frequently referred to as a \"Hier archical Model\" (Forbes and Tufte, 1968:1259) or, in the terminology of most sociologists \n",
       "+ (1972, American Sociological Review) For example, if downwardly mobile people are more intolerant than stable people, it may be difficult or impossible to attribute this difference to the process of moving rather than to the combined effects of father's and current occupation acting additively on the individual \n",
       "+ (1972, American Sociological Review) If we measure all variables in units of standard deviations, the structural coefficients are path coefficients \n",
       "+ (1973, American Sociological Review) One assumption, critical in the use of path analysis, is that exogenous variables may not be correlated with the residual terms incorporated in the model \n",
       "+ (1973, Social Forces) A major problem in attempting to test hypotheses of the form of the dissociative hypothesis is that assessments of interaction effects are confounded with additive effects \n",
       "+ (1973, The British Journal of Sociology) However, item (a) is unimportant both empirically and conceptually if 'instead of thinking of the classification of father's occupation as conveying information about a \"generation\" of \"fathers\", [we] think of it as describing the origin status of sons' \n",
       "+ (1974, Social Forces) By use of the basic path theorem \n",
       "+ (1975, American Sociological Review) In the same period that the relative mobility chances of American men have been virtually constant, the occupational structure has completed the transformation from that of an agrarian and industrializing society to that of a metropolitan and technological society \n",
       "+ (1975, American Sociological Review) These ratios are defective because the index for each cell in a mobility table varies inversely with the marginal proportion in its row and column and because the set of such ratios in a table determines both the row and column marginal distributions up to a constant of proportionality \n",
       "+ (1976, American Sociological Review) An asymmetric causal model is also a representation of an axiomatic, deductive theory and, consequently, is useful in interpreting the set of interrelationships among the variables specified in the theory \n",
       "+ (1977, American Journal of Sociology) One of the vexing problems of mobility research is the difficulty of expressing the degree of mobility between two categories in a single statistic \n",
       "+ (1977, American Sociological Review) The difference between the two distributions is due, in part, to the changing occupational structure of society, but also to such factors as differential fertility, mortality and marriage rates \n",
       "+ (1977, Annual Review of Sociology) However, Soviet scholars have not attempted to distinguish \"structural\" mobility from \"circulation\" mobility, nor have they tried to incorporate demographic research on ethnic and SES variations in fertility (Belova 1972, 1975; Belova & Darskii 1972; Sifman 1974; Urlanis 1974) into their studies \n",
       "+ (1978, Journal of Health and Social Behavior) \n",
       "+ (1978, Journal of Marriage and Family) Since the statistical issues have been extensively treated by other writers \n",
       "+ (1978, The Sociological Quarterly) As shown elsewhere \n",
       "+ (1979, American Sociological Review) Illustrative diagrams display variables and their relationships (Goodman, 1973a) and serve as useful guides to the theory being tested in much the same way that path diagrams have proven helpful in the conceptualization of social phenomena \n",
       "+ (1981, Administrative Science Quarterly) Path Analysis The method of path coefficients or path analysis \n",
       "+ (1981, American Sociological Review) The DA model parametrizes the observations Yuk as I This departure from prior treatments \n",
       "+ (1982, American Journal of Sociology) Growth and decline in the sizes of occupations take place chiefly through changes in rates of recruitment from young cohorts \n",
       "+ (1984, Social Psychology Quarterly) DATA ANALYSIS These variables were included in a path model \n",
       "+ (1989, Social Forces) As others \n",
       "+ (2006, American Sociological Review) Over the past 50 years, researchers have attempted to examine the implications of differential fertility for the study of social mobility and, conversely, to incorporate intergenerational mobility and assortative mating into the study of differential population growth \n",
       "+ (2008, American Journal of Sociology) An example is the classical problem in mobility analysis of distinguishing the effects of socioeconomic mobility or distance moved on an outcome variable from the effects of origin and destination statuses \n",
       "+ (2013, American Journal of Sociology) 2005) with formal demographic approaches of population projection that describe how groups sort and reproduce across generations "
      ],
      "text/plain": [
       "<IPython.core.display.Markdown object>"
      ]
     },
     "metadata": {},
     "output_type": "display_data"
    },
    {
     "data": {
      "text/markdown": [
       "# Duncan, Otis Dudley, Haller, Archibald O., Portes, Alejandro {Peer Influences on Aspirations: A Reinterpretation} 1968"
      ],
      "text/plain": [
       "<IPython.core.display.Markdown object>"
      ]
     },
     "metadata": {},
     "output_type": "display_data"
    },
    {
     "name": "stdout",
     "output_type": "stream",
     "text": [
      "[('Duncan, Haller, and Portes (1968)', 10), ('Duncan, Haller and Portes (1968)', 3), ('Duncan, Haller & Portes (1968)', 2)]\n"
     ]
    },
    {
     "data": {
      "text/markdown": [
       "+ (1970, American Journal of Sociology) Recently, the thesis that school socioeconomic contexts influence educational outcomes has been disputed by several writers \n",
       "+ (1972, American Sociological Review) In Crockett's (1966) list of personality factors fostering social mobility, we note the argument that the cognitions and cognitive structures of high school students, and their subsequent educational and occupational attainments, are influenced by their peers' achievement aspirations and the encouragements of significant others \n",
       "+ (1972, Sociology of Education) Studies also have shown a moderately strong relationship between the educational intentions of the adolescent respondent and those of his peers \n",
       "+ (1974, American Journal of Sociology) Where reciprocal causation characterizes a substantive problem, the analyst is often advised to separate the variables temporally (Blalock 1964), leave the causal connections unspecified (see Sewell, Haller, and Portes 1969; Sewell, Haller, and Ohlendorf 1970), or allow for simultaneous causation between the variables involved \n",
       "+ (1976, American Journal of Sociology) The adolescent peer culture literature which, among other things, has studied the effects of high school peer groups in shaping the educational plans of students \n",
       "+ (1977, Annual Review of Sociology) Through the early 1970s, the influence of Wright's approach on sociologists was evident both in expository treatments of more complex models (Blalock 1969a, 1970, 1971; Costner 1969, 1971; Duncan 1968, 1969, 1972; Heise 1969; Land 1970; Althauser & Heberlein 1970; Althauser, Heberlein & Scott 1971) and in more sophisticated empirical applications \n",
       "+ (1978, Annual Review of Sociology) Other research on the influence of significant others has included (a) assessing the reciprocal kinds of influence peers exert on one another \n",
       "+ (1979, Sociology of Education) Through well-documented processes of interpersonal and reference group influence \n",
       "+ (1989, Social Psychology Quarterly) Although a few studies have assessed reciprocal influence between friends \n",
       "+ (1989, Social Psychology Quarterly) Because most research on influence has failed to do so \n",
       "+ (1991, Sociological Methodology) *University of California, Santa Barbara tUniversity of Wisconsin, Madison 167//////168 WILLIAM T. BIELBY AND ROSS L. MATSUEDA For example, economists attempt to estimate simultaneous relationships among sets of supply-and-demand equations (Liu 1963), sociologists seek to disentangle the reciprocal influence of one peer on another \n",
       "+ (2003, Sociological Perspectives) I find it notable that through the years sociologists have pioneered many of the most advanced statistical innovations that we now routinely use, such as log-linear analysis (Goodman 1978), event history analysis (Allison 1982; Tuma 1982), structural equation modeling \n",
       "+ (2010, Journal of Health and Social Behavior) Given the important role of relationships in mediating the adverse effects of health insults and the long-observed impact of peer influences on academic achievement \n",
       "+ (2013, American Sociological Review) A diligent peer, even one with whom the student does not frequently interact, may help a student set expectations about how many hours one should spend studying, whether one should regularly attend classes, and the satisfaction one should derive from achieving good grades \n",
       "+ (2013, Sociology of Education) The Wisconsin model did not assume that the educational requirements of expected jobs would determine college expectations, as would be implied by the gray arrow pointing to Expect to Enter College in Figure 1 "
      ],
      "text/plain": [
       "<IPython.core.display.Markdown object>"
      ]
     },
     "metadata": {},
     "output_type": "display_data"
    },
    {
     "data": {
      "text/markdown": [
       "# Edwards, Richard, Reich, Michael, Gordon, David M. {Labor market segmentation} 1975"
      ],
      "text/plain": [
       "<IPython.core.display.Markdown object>"
      ]
     },
     "metadata": {},
     "output_type": "display_data"
    },
    {
     "name": "stdout",
     "output_type": "stream",
     "text": [
      "[('Edwards, Reich, and Gordon (1975)', 6), ('Edwards, Reich & Gordon (1975)', 2), ('Edwards, Reich and Gordon (1975)', 1)]\n"
     ]
    },
    {
     "data": {
      "text/markdown": [
       "+ (1978, American Journal of Sociology) Several recent contextual approaches to the problem of ethnic divisions emphasize the differential stratification of ethnic groups within the labor market \n",
       "+ (1980, American Journal of Sociology) Radical economists have described the existence of a dual labor market within the American economy \n",
       "+ (1980, American Journal of Sociology) The movement's antipathy toward nonwhite labor was based not only 1 Although not entirely dissimilar, Bonacich's \"split labor market\" hypothesis should not be confused with the theory of the dual economy (Averitt 1968; Beck, Horan, and Tolbert 1978), with labor market segmentation theory \n",
       "+ (1981, American Journal of Sociology) However, radical economists who have recently tackled the problem have offered their own rationale for segmentation along with a class-oriented interpretation \n",
       "+ (1985, Sociological Focus) See for example, research on dual labor market theory and labor market segmentation \n",
       "+ (1992, American Sociological Review) male-dominated occupations when they form a relatively large share of the labor force (Kanter 1977).4 And an institutionalist perspective preI Women's concentration in less desirable jobs has been attributed to such diverse factors as sex differences in family responsibilities (Polachek 1981), exclusion by male co-workers or labor unions (Milkman 1987; Cockburn 1991), employer discrimination \n",
       "+ (1995, Social Forces) Theories of labor market segmentation challenge this view, its proponents arguing that the//////1074 / Social Forces 73:3, March 1995 processes that govern hiring, promotion, and wages differ depending on occupation, industry, and the characteristics of the firm \n",
       "+ (1995, Social Forces) Theories of labor market segmentation challenge this view, its proponents arguing that the//////1074 / Social Forces 73:3, March 1995 processes that govern hiring, promotion, and wages differ depending on occupation, industry, and the characteristics of the firm \n",
       "+ (2003, The Sociological Quarterly) While black workers have historically been overrepresented in secondary labor market jobs "
      ],
      "text/plain": [
       "<IPython.core.display.Markdown object>"
      ]
     },
     "metadata": {},
     "output_type": "display_data"
    },
    {
     "data": {
      "text/markdown": [
       "# Featherman, David L., Hauser, Robert M. {Sexual Inequalities and Socioeconomic Achievement in the U.S., 1962-1973} 1976"
      ],
      "text/plain": [
       "<IPython.core.display.Markdown object>"
      ]
     },
     "metadata": {},
     "output_type": "display_data"
    },
    {
     "name": "stdout",
     "output_type": "stream",
     "text": [
      "[('Featherman and Hauser (1976)', 119), ('Featherman & Hauser (1976)', 14)]\n"
     ]
    },
    {
     "data": {
      "text/markdown": [
       "+ (1976, Sociology of Education) While we have made comparable tabulations for the male and female married, spouse-present populations \n",
       "+ (1977, Annual Review of Sociology) It has been argued that \"insofar as occupational prestige and socioeconomic scales scale the 'desirable' aspects of jobs and occupational roles, their values should be relatively unaffected by the characteristics of incumbents, including their gender\" \n",
       "+ (1977, Journal of Marriage and Family) This research has relied on the traditional parent to daughter mobility tables (e.g., DeJong et al., 1971; Tyree and Treas, 1974) and on the life cycle status attainment approach in which education, occupation and/or earnings are the outcome variables of interest \n",
       "+ (1978, American Sociological Review) Within the last few years more attention has been given to considering sex differences in the determination of educational attainment, but these analyses usually have been carried out as part of larger studies of sex differences in the status attainment process, and most have been based on comparisons of working women and men and/or married women and men \n",
       "+ (1979, American Sociological Review) Because the latter are based on education and income, they provide less \" 'error prone' estimates of the socio-economic attributes of occupations\" than prestige scores \n",
       "+ (1979, American Sociological Review) Continued interest in explanations of racial differences in economic outcomes \n",
       "+ (1979, Journal of Marriage and Family) We conclude that the long-run trend toward more marital disruption did not abate during the prosperous late 1960s when the economic status of blacks improved \n",
       "+ (1980, Social Indicators Research) Educational attainment may be viewed as a critical route to advancement in occupational and income position \n",
       "+ (1980, Sociological Focus) Unlike all previous research which assesses gender differences in SES achievement for samples of the general population or of high school students \n",
       "+ (1981, American Journal of Sociology) Most of the systematic comparisons to date between patterns of intergenerational status of men and women have concluded that they do not diverge substantially \n",
       "+ (1981, Journal of Marriage and Family) As a consequence of women's increasing participation in virtually every stratum of the occupational hierarchy \n",
       "+ (1981, The Sociological Quarterly) Indeed, considerable empirical research over the past ten to fifteen years has documented the wide socioeconomic gap between Blacks, Chicanos, and other minority groups from majority whites \n",
       "+ (1982, Journal of Marriage and Family) Sensitive to the large influx of females into the labor market which has occurred over the last three decades, similar attempts to account for female achievement have proven more elusive \n",
       "+ (1983, American Sociological Review) Second, the early 1970s debate concerning the \"amount\" of social mobility experienced by women as compared to men, \n",
       "+ (1983, Social Problems) Black progress is explained by the trend among blacks toward better education and industry's increased need for skilled manpower \n",
       "+ (1983, Sociological Perspectives) Most research on stratification patterns of women has concentrated on the differences between men and women \n",
       "+ (1985, Journal of Health and Social Behavior) Marital status, however, is not highly associated with job-related variables, possibly as a consequence of the sex differences in these relationships \n",
       "+ (1986, American Sociological Review) Much research \n",
       "+ (1988, American Journal of Sociology) This trend appears to be because of (a) a selection for upward mobility during the 1960s of those black men whose origins most resembled the origins of white men normally recruited for the positions in question and (b) the disappearance of racial differences in intergenerational mobility to first jobs among the cohort leaving school between 1962 and 1973 \n",
       "+ (1988, Sociology of Education) Additional research has shown that education is an important factor in models of women's earnings as well, although the returns women receive from education, in terms of earnings, are lower than men's \n",
       "+ (1990, Journal of Marriage and Family) For the most part, their studies have not revealed major differences in the attainment processes \n",
       "+ (1990, Sociological Focus) The context in which questions about the link between occupational status and deferential behavior are most often raised is in discussions of what it is that occupa tional prestige scales measure \n",
       "+ (1992, Annual Review of Sociology) A number of studies have sought to compare the mobility of men and women \n",
       "+ (1993, Journal of Marriage and Family) Although some investigators have found that male and female attainment processes are virtually identical \n",
       "+ (1994, Social Forces) Research on gender differences in the labor market outcomes of earnings \n",
       "+ (1994, Social Forces) Research on gender differences in the labor market outcomes of earnings \n",
       "+ (1997, Sociological Methodology) In analyses of correlations between the occupational standing of fathers and sons, prestige scales behave roughly as if they were errorridden measurements of the socioeconomic status of the occupations held by fathers and sons \n",
       "+ (2002, The Sociological Quarterly) However, these patterns are at variance with prior findings that men reap greater earnings returns from education \n",
       "+ (2002, The Sociological Quarterly) Some previous studies also show that education's positive association with earnings \n",
       "+ (2011, Social Forces) By the early 1970s, the association between black fathers' and sons' occupational status had increased as the sons of high-status fathers rose towards the top of the occupational hierarchy "
      ],
      "text/plain": [
       "<IPython.core.display.Markdown object>"
      ]
     },
     "metadata": {},
     "output_type": "display_data"
    },
    {
     "data": {
      "text/markdown": [
       "# Fischer, C S {To dwell among friends} 1982"
      ],
      "text/plain": [
       "<IPython.core.display.Markdown object>"
      ]
     },
     "metadata": {},
     "output_type": "display_data"
    },
    {
     "name": "stdout",
     "output_type": "stream",
     "text": [
      "[('Fischer (1982)', 393)]\n"
     ]
    },
    {
     "data": {
      "text/markdown": [
       "+ (1984, Sociological Perspectives) Homeowners are more apt to be knowledgeable about community affairs than renters and thus presumably more able to participate effectively in social matters (Sykes, 1951); are more likely to participate in local politics (Alford and Scoble, 1968; Steinberger, 1981); are relatively inclined to seek the services of local officials (Guterbock, 1980); are more apt to engage in informal neighboring \n",
       "+ (1985, Social Problems) Studies of urban dwellers in the 1970s found high levels of mistrust for strangers \n",
       "+ (1986, American Sociological Review) While initial relationships are often given, choice plays a more important role over time \n",
       "+ (1987, American Sociological Review) One of the most important arenas for the formation and maintenance of social networks is social groups \n",
       "+ (1987, American Sociological Review) Survey network data have been used recently in studies of such topics as socioeconomic attainment (Lin, Ensel, and Vaughn 1981), social integration, both generally and into subcultures (Fischer 1982a), psychological mood and well-being \n",
       "+ (1988, American Sociological Review) The forces of urbanism are hypothesized to weaken community kinship and friendship bonds, social participation in local affairs, and affectional ties for the community \n",
       "+ (1989, Journal of Marriage and Family) Another approach to the study of personal networks has been developed by Fischer and his colleagues \n",
       "+ (1989, Social Forces) More precise measures of group involvement are now possible usReligious Behavior / 575 ing methodology derived from network studies conducted by Fischer \n",
       "+ (1990, European Sociological Review) In particular, the founding of one's own family usually leads to a reduction of contacts with friends \n",
       "+ (1990, The Sociological Quarterly) Although both the husband's and wife's inteiactions with shared as well as with separate friends decrease during this stage, this is especially true for the wife (Harry 1970; Schmidt and Rohrer 1956).4 Once the child reaches school age, friends become more integral to family life and frequency of contact with them approaches that of the pre-parental stage \n",
       "+ (1991, Social Forces) Stemming from the classical tradition best exemplified by Wirth (1938), the linear-development model focuses on increased size and density as the primary exogenous factors hypothesized to weaken community kinship and friendship bonds, social participation in local affairs, and attachment to the community \n",
       "+ (1991, Social Forces) To the extent that these areas were large and heterogeneous, they do not reflect the concept of local community or neighborhood most relevant to community theory \n",
       "+ (1991, The Sociological Quarterly) \"Whom we know and whom we can depend on influences our success in life, our security and sense of well-being, and even our health\" \n",
       "+ (1992, Journal of Health and Social Behavior) A stratified sample of 50 localities (cities, suburbs, and small towns) provided information on 1,050 Englishspeaking males and females who were selected through multistage probability sampling within each locality \n",
       "+ (1992, Journal of Health and Social Behavior) in response to questions about nine relational contents: taking care of the home while the respondent is away, talking about decisions at work, helping with household tasks, engaging in social activities, discussing common sparetime interests, dating (fiancees or \"best friends\"), discussing personal matters, seeking advice regarding important decisions, and borrowing a large sum of money \n",
       "+ (1992, Sociological Focus) These communi ties are liberated from geographically bounded areas and branch out in ever-wideriing social networks as well as from traditional forms of communal association such as kin and religious ties \n",
       "+ (1994, Journal of Marriage and Family) Those with higher incomes might have the financial resources needed to sustain contact with family, or alternatively, they may use those resources to maintain dispersed nonfamilial social networks \n",
       "+ (1998, The Sociological Quarterly) Because of their children's needs, parents connect to their kin networks and to other parents \n",
       "+ (1999, Journal for the Scientific Study of Religion) The cultural diversity of metropolitan areas affords broader opportunities to affiliate with personal and symbolic networks regionwide as well as to bolster subcultural identities \n",
       "+ (1999, Journal of Marriage and Family) The NCCS has shown good discriminating validity in urban and rural populations \n",
       "+ (2000, The Sociological Quarterly) Gender Differences in Personal Networks Previous research has shown that while women and men do not differ in terms of the size of their personal contacts \n",
       "+ (2001, Annual Review of Sociology) Whether in large-scale studies of schools (Duncan et al 1972, Shrum et al 1988), communities \n",
       "+ (2003, The Sociological Quarterly) 4/2003 receive stronger support from their participants \n",
       "+ (2004, Sociological Methodology) Early examples include the Detroit Area Study (Laumann 1969, 1973), the Northern California Communities Study \n",
       "+ (2006, American Sociological Review) Social scientists know that contacts with other people are important in both instrumental and socio-emotional domains \n",
       "+ (2010, American Journal of Sociology) Second, the average number of “picture friends” per student (15 unique alters) is roughly triple the number of alters that adolescents consider their “close friends” (Dunphy 1963; Cotterell 1996),13 and it only slightly exceeds the 11 alters that individuals consider their “friends” in a Northern California survey \n",
       "+ (2012, European Sociological Review) Introduction Since the second half of the previous century, soci ologists have argued and empirically demonstrated that opportunities for contact affect personal relationships and networks \n",
       "+ (2014, American Sociological Review) Researchers seldom assess network connections in ways that can be generalized to a well-defined population at even one point in time \n",
       "+ (2014, BMS: Bulletin of Sociological Methodology / Bulletin de Méthodologie Sociologique) On demande donc souvent aux enquêtes de décrire chacune de leurs relations interpersonnelles en indiquant si elle comporte ou ne comporte pas différents liens : Lx, Ly, Lz \n",
       "+ (2015, Sociological Perspectives) The results resonated with previous findings that people socialize with different sets of friends to engage in different types of activities "
      ],
      "text/plain": [
       "<IPython.core.display.Markdown object>"
      ]
     },
     "metadata": {},
     "output_type": "display_data"
    },
    {
     "data": {
      "text/markdown": [
       "# Flacks, Richard {The Liberated Generation: An Exploration of the Roots of Student Protest} 1967"
      ],
      "text/plain": [
       "<IPython.core.display.Markdown object>"
      ]
     },
     "metadata": {},
     "output_type": "display_data"
    },
    {
     "name": "stdout",
     "output_type": "stream",
     "text": [
      "[('Flacks (1967)', 70)]\n"
     ]
    },
    {
     "data": {
      "text/markdown": [
       "+ (1969, American Sociological Review) For example, permissive family socialization \n",
       "+ (1970, Social Forces) Furthermore, studies of student activists have generally found that the activists are not traditionally religious but hold intense political commitments \n",
       "+ (1970, The American Sociologist) It is not surprising that younger Jews signed, because many of \"the liberated generation,\" the student activists who were disproportionately Jewish \n",
       "+ (1971, Journal of Marriage and Family) Other studies, however, have suggested that student activists on the political right (hawks) are more likely to be from the lower-middle and working-classes, while activists on the political left (doves) have higher social status origins \n",
       "+ (1971, Sociology of Education) Many recent articles contrast the 1950's with the 1960's \n",
       "+ (1971, Sociology of Education) There have been studies on the psychological characteristics and family experiences of the leaders of student movements \n",
       "+ (1972, Sociology of Education) The student status must be seen as connected directly to political behavior if the best and most educationally involved students are, in many countries, found to be most active \n",
       "+ (1973, Social Problems) Many analysts have looked at the values and socialization of student activists \n",
       "+ (1974, Social Forces) \n",
       "+ (1974, The Sociological Quarterly) Sit-in 547 Conclusions The anti-war movement, with the exception of the spring of 1970, has tended to be concentrated in the elite universities \n",
       "+ (1975, American Sociological Review) The factor analytic procedure resulted in dimensions that are, in fact, similar to categorizations of \"values\" in many other studies \n",
       "+ (1975, Annual Review of Sociology) Earlier reports stated that activists were unusually intellectual with high GPAs \n",
       "+ (1975, Annual Review of Sociology) Other investigators, however, have seen the unconventional cultural values of the student as sources of recruitment to activism \n",
       "+ (1975, Journal of Marriage and Family) Finally, a number of studies reported that students with high grade-point averages were likely to endorse campus protests \n",
       "+ (1975, Journal of Marriage and Family) Research on student politics supported the notion that left-wing youth most often had Democratic or liberal parents \n",
       "+ (1975, Sociological Focus) Indicators of social class such as family income (Flacks, 1967; Heist and Mock, 1969; Lyonns, 1965; Somers, 1965; Kahn and Bowers, 1970), father's occupation (Flacks, 1967; Olson, 1968; Kahn and Bowers, 1970), and parents' education \n",
       "+ (1976, Sociological Focus) From these they tend to receive positive evaluations in the form of high grades \n",
       "+ (1977, Sociological Focus) In addition, research as compared characteristics of leftist activists with those of their non-activist counterparts \n",
       "+ (1980, Sociological Focus) During the sixties it became very clear that the established social structure did not appear open to the anti-authoritarian, communalistic, egalitarian values prevalent among students and other youth \n",
       "+ (1980, Sociological Focus) They were largely the \"young intelligentsia\" and children of the liberal, \"humanistic sector\" of the middle class \n",
       "+ (1985, Journal for the Scientific Study of Religion) But, although some researchers and others insisted on retaining the traditional paradigm approach to this area (Feuer, 1969), others quickly began to modify the approach \n",
       "+ (1986, American Journal of Sociology) This assumption informs any number of otherwise different accounts of participation in political or religious movements \n",
       "+ (1987, Humboldt Journal of Social Relations) Almost all the New Agers had left white, middle-class, financially comfortable homes \n",
       "+ (1991, Social Forces) factors have been proposed as explanations for activism: \"authoritarian personality characteristics\" (Hoffer 1951; Lipset & Rabb 1973); social isolation and alienation (Aberle 1966; Kornhauser 1959); feelings of \"relative deprivation (Davies 1971; Feierabend, Feierabend & Nesvold 1969; Geschwender 1968; Gurr 1970; Morrison 1973); agreement between movement goals and the values of one's parents \n",
       "+ (1991, Social Forces) factors have been proposed as explanations for activism: \"authoritarian personality characteristics\" (Hoffer 1951; Lipset & Rabb 1973); social isolation and alienation (Aberle 1966; Kornhauser 1959); feelings of \"relative deprivation (Davies 1971; Feierabend, Feierabend & Nesvold 1969; Geschwender 1968; Gurr 1970; Morrison 1973); agreement between movement goals and the values of one's parents \n",
       "+ (1992, American Journal of Sociology) 0002-9602/92/9705-0001$01.50 AJS Volume 97 Number 5 (March 1992): 1211-40 1211//////American Journal of Sociology social isolation and alienation (Aberle 1966; Kornhauser 1959), feelings of \"relative deprivation\" (Davies 1969; Feierabend, Feierabend, and Nesvold 1969; Geschwender 1968; Gurr 1970; Morrison 1973), consistency between movement goals and parental values \n",
       "+ (1993, Berkeley Journal of Sociology) to liberal sociology - it does not validate but challenges the legitimacy of the establishment - its structural analysis of the student movement is remarkably consistent with the \"modernization\" thesis of structuralfunctionalism In his early paper on the new left, Richard Flacks attributes the student movement to a conflict between the values of activist families and the occupational system \n",
       "+ (1993, Social Indicators Research) Over the last several decades social researchers have attempted to measure alienation in ethnic or small outgroups \n",
       "+ (2010, Acta Sociologica) Apparently US radicals were predominantly (upper) middle class \n",
       "+ (2010, Acta Sociologica) radicals acting in accordance with their parents' ideology or at least with the sympathy of their parents "
      ],
      "text/plain": [
       "<IPython.core.display.Markdown object>"
      ]
     },
     "metadata": {},
     "output_type": "display_data"
    },
    {
     "data": {
      "text/markdown": [
       "# Friedrichs, R W {A sociology of sociology} 1970"
      ],
      "text/plain": [
       "<IPython.core.display.Markdown object>"
      ]
     },
     "metadata": {},
     "output_type": "display_data"
    },
    {
     "name": "stdout",
     "output_type": "stream",
     "text": [
      "[('Friedrichs (1970)', 83)]\n"
     ]
    },
    {
     "data": {
      "text/markdown": [
       "+ (1970, The American Sociologist) Ignored would be the sensitivities that derive from his intrasubjective, existential self May 1970 139//////awareness; the traditional substantive content granted the interrelated notions of freedom and responsibility; and any qualitative counter to the claim of efficiency \n",
       "+ (1972, Journal for the Scientific Study of Religion) \"The image of man as but a roleplaying animal is in turn reinforced in the larger discipline by the perspective of the sociology of knowledge, and the two are linked through reference group theory\" \n",
       "+ (1974, Review of Religious Research) I have pointed out in detail elsewhere \n",
       "+ (1974, The American Sociologist) \n",
       "+ (1974, The American Sociologist) Several books have ap peared since then \n",
       "+ (1976, Social Problems) The leaders who later provided information but were not among the initial informants, included the late Caroline Rose (charter member and wife of an organizer), Jessie Bernard \n",
       "+ (1977, The Sociological Quarterly) In the situation of \"peaceful co-existence\" \n",
       "+ (1978, American Sociological Review) These critics portray Parsons's writings, particularly his later ones, as concerned only with the organic whole, as taking an antiindividualist, determinist position \n",
       "+ (1979, Review of Religious Research) It is common knowledge that there has been a crisis of paradigms in the human sciences in recent decades \n",
       "+ (1979, The American Sociologist) Previous studies in the sociology of sociology allude to the national variable primarily from an organizational perspec tive (Ben-David and Collins, 1966; Ben David and Zlozcover, 1962; Ben-David, 1965; Shils, 1970; Oberschall, 1972), from a class-ideological perspective (Therborn, 1976; Schwendinger and Schwendinger, 1974), or from the viewpoint of American cultural values \n",
       "+ (1980, The American Sociologist) A common assertion among sociologists//////170 The American Sociologist \n",
       "+ (1981, The Sociological Quarterly) These are predictability, parsimony, control, and orderly relationships \n",
       "+ (1982, The American Sociologist) Critics \n",
       "+ (1982, The Canadian Journal of Sociology / Cahiers canadiens de sociologie) Generally, Kuhn's analysis has been used as a framework to explain why social science is not like natural science with its developed \"paradigms\"; social science is said to be non-paradigmatic, pre-paradigmatic or multi-paradigmatic \n",
       "+ (1983, Annual Review of Sociology) Since the mid-1960s the discipline has endured a crisis of identity, occasioned by discontent with the previously dominant paradigm-positivist methodology coupled with functionalist theory, which together were incapable of explaining social change \n",
       "+ (1983, Sociological Perspectives) Such perceptionguiding ideas are what the term \"paradigm\" now commonly means-an underlying notion of the nature of our subject matter that makes certain kinds of questions about it askable and others unaskable, that makes certain kinds of inquiries seem legitimate and promising and other kinds seem irrelevant, impossible, unnecessary, or fruitless \n",
       "+ (1986, Journal for the Scientific Study of Religion) In recent years various analysts have probed beneath the surface structures of sociological and psychological paradigms to discover the underlying moral-ethical assumptions that ground the particular scientific perspective in question \n",
       "+ (1988, Sociological Theory) Major Types of Metatheory are sometimes equated with theories \n",
       "+ (1989, American Journal of Sociology) If one judges from the evidence available, Structure was a \"sleeper,\" which was known at first chiefly in the network constituted by Parsons's early students and attained a wide audience only in the 1950s, when Parsons's later books (and positions) brought increased prominence to his work as a whole \n",
       "+ (1989, American Journal of Sociology) In upholding this position, however, Parsons does not, as commentators have sometimes suggested, accept a \"metaphysical dualism\" that would set matter and mind apart and require value elements to be ana- 50//////Structure lyzed in ways \"methodologically independent of the sciences of nature\" \n",
       "+ (1991, Sociological Perspectives) \"Thus, only as the discipline discovered its consolidating paradigm-system-in grave difficulty was it tempted to open the Pandora's box that was the sociology of sociology\" \n",
       "+ (1991, Sociological Perspectives) This new effort resulted in what has since been known as the sociology of sociology, which links disciplinary problems of sociology to changes in the larger society \n",
       "+ (1991, Sociological Perspectives) which links disciplinary problems of sociology to changes in the larger society (Gouldner 1970; Friedrichs 1970).7 The result of this external-social meta-analysis damaged the cherished image of sociology as a science, which, along with the influence of Kuhn's ([1962] 1970) popular work on paradigms in the natural sciences, led to a serious debate over the paradigmatic status of sociology \n",
       "+ (1991, The American Sociologist) 34 Elite Year of Ph.D. (4-year intervals) + 37EUte O 57Topl9 64Top21//////As new sociological perspectives and methods \n",
       "+ (1992, American Sociological Review) Sociologists have described the structure of their discipline and have attributed its perceived structural weaknesses to various intellectual and social sources \n",
       "+ (1992, American Sociological Review) Sociologists have shown a keen interest in the social organization of their discipline, as seen in classic studies of the \"sociology of sociology\" \n",
       "+ (1998, Polish Sociological Review) This, paradoxically, has revealed the historical rooting of the argument saying that classical and contemporary argumentations are suprahistorically \"equivalent\"; by suspending ideology and metaphysics I have been able to show both the ideological and the metaphysical origins of many theoretical controversies \n",
       "+ (1999, The American Sociologist) In 1964, George Homans, a former proponent of functionalism, repudiated that position in his presidential address to the American Sociological Association \n",
       "+ (1999, The American Sociologist) Such revolutionary events could hardly be explained in terms of \"system maintenance\" and \"functional integration\" \n",
       "+ (2015, Canadian Journal of Sociology / Cahiers canadiens de sociologie) Ever since Marx’s (in)famous Thesis Eleven (Marx 1978) and the qualification of Weber’s work as a ‘dialogue with the intellectual ghost of Karl Marx’ (Zeitlin 1987), sociology has been, one way or another, on a quest to understand and define its nature, its purpose and relevance, and its audiences "
      ],
      "text/plain": [
       "<IPython.core.display.Markdown object>"
      ]
     },
     "metadata": {},
     "output_type": "display_data"
    },
    {
     "data": {
      "text/markdown": [
       "# Gamson, W A {Power and discontent} 1966"
      ],
      "text/plain": [
       "<IPython.core.display.Markdown object>"
      ]
     },
     "metadata": {},
     "output_type": "display_data"
    },
    {
     "name": "stdout",
     "output_type": "stream",
     "text": [
      "[('Gamson (1966)', 22)]\n"
     ]
    },
    {
     "data": {
      "text/markdown": [
       "+ (1969, Administrative Science Quarterly) Interaction among peers is more conducive to the expression of discontent than is social distance \n",
       "+ (1969, Administrative Science Quarterly) Specializations supported by the authority of distinctive competences are particularly identifiable as targets for hostility \n",
       "+ (1970, Social Forces) Much of the writings on community power structure are addressed to demonstrating the demerits or defending the validity of one approach against other approaches \n",
       "+ (1970, Social Forces) Much of the writings on community power structure are addressed to demonstrating the demerits or defending the validity of one approach against other approaches \n",
       "+ (1971, Journal of Health and Social Behavior) This dilemma was reinforced by the low level of integration within these citizen groups, which increased the rancor of the conflicts between them and the CAC \n",
       "+ (1971, Social Forces) This proposition is in accord with the proposition which suggests, \"the greater the clarity of solidary groups within a social structure, the greater is the conductiveness to rancorous conflict\" \n",
       "+ (1971, Social Forces) This proposition is in accord with the proposition which suggests, \"the greater the clarity of solidary groups within a social structure, the greater is the conductiveness to rancorous conflict\" \n",
       "+ (1973, American Sociological Review) In the second strategy, the investigator selects an issue in which he already has some interest, perhaps because of his interest in a preferred outcome, such as fluoridation of the water supply \n",
       "+ (1973, Social Forces) Others combine aggregate data with interview data drawn from the field sites (Clark, 1968b) and still others rely solely on interview data from the field \n",
       "+ (1973, Social Forces) Others combine aggregate data with interview data drawn from the field sites (Clark, 1968b) and still others rely solely on interview data from the field \n",
       "+ (1973, Social Forces) Some have studied one issue, such as fluoridation, in a number of different communities (Rosenthal and Crain, 1966); others have analyzed a few salient issues in one community (Dahl, 1961); and still others have examined a large number of issues in one community (Freeman, 1968; Martin and Munger, 1961) or many communities \n",
       "+ (1973, Social Forces) Some have studied one issue, such as fluoridation, in a number of different communities (Rosenthal and Crain, 1966); others have analyzed a few salient issues in one community (Dahl, 1961); and still others have examined a large number of issues in one community (Freeman, 1968; Martin and Munger, 1961) or many communities \n",
       "+ (1975, Social Forces) Although the reputational approach that we have employed has been subject to considerable criticism (e.g., Dahl, 1958; Ehrlich, 1967; Polsby, 1963) on the theoretical side there is growing recognition that reputation is at least one resource of influence and hence of power \n",
       "+ (1975, Social Forces) Although the reputational approach that we have employed has been subject to considerable criticism (e.g., Dahl, 1958; Ehrlich, 1967; Polsby, 1963) on the theoretical side there is growing recognition that reputation is at least one resource of influence and hence of power \n",
       "+ (1976, Administrative Science Quarterly) Professional roles are often permitted greater discretion and are supported by the authority of professional codes, which may conflict with organizational goals \n",
       "+ (1976, Social Problems) Additionally, previous to this study there were intensive investigations of teaching orientations in particular departments and in specific colleges \n",
       "+ (1977, American Journal of Sociology) A polarized structure, for example, is likely to produce rancorous conflict and highly public controversy \n",
       "+ (1978, Journal for the Scientific Study of Religion) Such definitions are more likely to prevail if the issues are defined as primarily utilitarian, or if symbolic conflicts are sufficiently minimal that conflicts of authority or basic values may be avoided \n",
       "+ (1978, Journal for the Scientific Study of Religion) are also more likely to become intense and to be defined as irresolvable to the extent that social differences//////JOURNAL FOR THE SCIENTIFIC STUDY OF RELIGION between movement and organization reinforce ideological differences (Niebuhr, 1957), and to the extent that the members of the two parties differ on a set of mutually reinforcing social statuses, rather than having cross-cutting social ties \n",
       "+ (1988, American Sociological Review) with distinctive objectives, dividing workers on the basis of their special interests (Gouldner 1959; Simon 1964); (c) more complicated linkages among units of organizations, thus increasing uncertainty about social boundaries (Crozier 1964; Dubin 1959; White 1961); and (d) greater opportunity for individual differences and clearer group identities, which then serve as targets for hostility "
      ],
      "text/plain": [
       "<IPython.core.display.Markdown object>"
      ]
     },
     "metadata": {},
     "output_type": "display_data"
    },
    {
     "data": {
      "text/markdown": [
       "# Goldberger, A S {Econometric theory} 1964"
      ],
      "text/plain": [
       "<IPython.core.display.Markdown object>"
      ]
     },
     "metadata": {},
     "output_type": "display_data"
    },
    {
     "name": "stdout",
     "output_type": "stream",
     "text": [
      "[('Goldberger (1964)', 57)]\n"
     ]
    },
    {
     "data": {
      "text/markdown": [
       "+ (1970, American Journal of Sociology) When a dichotomous dependent variable is used in a regression equation, as is the case here, the calculated value of y, given any values for the x's, may be interpreted as the conditional probability that the event will occur \n",
       "+ (1971, American Sociological Review) In fact, procedures for estimating parameters in nonrecursive models have been in the econometrics literature for some time \n",
       "+ (1971, American Sociological Review) Numerous methods of estimation exist for such models \n",
       "+ (1971, Sociological Methodology) It can be shown \n",
       "+ (1972, American Sociological Review) 9We should note that since the dependent variable is dichotomous, the homoscedasticity assumption of regression analysis is violated, and thus the significance test for the increment to the R2 is not strictly appropriate \n",
       "+ (1973, American Sociological Review) Causal modelling procedures that have been developed in biology (Wright, 1934, 1954, 1960; Li, 1956), economics \n",
       "+ (1974, American Sociological Review) R2 adjusts the raw coefficient for the number of degrees of freedom lost through adding extra variables to the model, which is useful given that such additions necessarily produce some increment in the raw coefficient \n",
       "+ (1974, American Sociological Review) That is, the disturbances must be mean and variance independent of the X's (a stronger condition than uncorrelatedness); they must be conditionally normally distributed, and have zero auto-covariances conditional on the X's \n",
       "+ (1975, American Sociological Review) That is, has the nature of the relationship between demographic variables and alienation 4The statistical shortcomings of regressions with dichotomous dependent variables are well known \n",
       "+ (1976, American Sociological Review) As alternative methods such as use of a limited dependent variable, logit or probit analysis were for various reasons, not viable for this analysis, ordinary least squares was used as a first approximation of the relationships \n",
       "+ (1976, American Sociological Review) Hence, tests of statistical significance are not accurate \n",
       "+ (1977, Annual Review of Sociology) The econometric literature dealt extensively with identification, estimation, and inference in nonrecursive models \n",
       "+ (1978, American Sociological Review) Estimation of the effects on age at first marriage and educational attainment was accomplished by two-stage least squares \n",
       "+ (1978, Journal of Marriage and Family) Since the data presented by these researchers are for all blacks and all whites, it is unclear from these studies whether these rate differentials exist within all classes, or whether they are more pronounced within 6There are several statistical problems associated with the use of a dichotomous dependent variable \n",
       "+ (1979, American Sociological Review) There are problems using ordinary least squares when the dependent variable is dichotomous \n",
       "+ (1979, Journal of Marriage and Family) As shown in the replication above, an employed wife relies on a combination of her 'Since the use of a dichotomous dependent variable violates the ordinary least-squares assumption of homoscedasticity, a weighted least-squares model was tested with no significant difference in results \n",
       "+ (1980, American Sociological Review) There are a number of better practices: add a larger nominal value (for example, $500 or $1,000) to each observation; use a functional form which gives special treatment to zeros \n",
       "+ (1980, Social Indicators Research) Probit Analysis While multiple regression is commonly used, the difficulties involved in the use of a linear least-square procedure with a dummy dependent variable such as middle class identification are well recognized \n",
       "+ (1980, The Sociological Quarterly) While multiple regression is commonly used, the difficulties involved in the use of a linear least-squares procedure with a dummy dependent variable are weli recognized \n",
       "+ (1982, Journal of Health and Social Behavior) Including a lagged explanatory variable in regression equations is a technique used commonly in econometric analyses; rather than assuming a random sample of observations, we assume that observations arise from a stationary stochastic process \n",
       "+ (1982, Sociological Methodology) Aside from the wellknown limitations of using a dummy dependent variable in a multiple regression \n",
       "+ (1984, American Sociological Review) For a complete identification, we need to introduce two more constraints into the model \n",
       "+ (1984, Journal of Health and Social Behavior) In such a case, a linear specificationS often substantively misrepresents the underlying functional form, and ordinary estimation techniques' are statistically inefficient \n",
       "+ (1984, Journal of Health and Social Behavior) dependent variables \n",
       "+ (1986, Journal of Health and Social Behavior) Although there are potential problems inherent in regression analysis with a dichotomous dependent variable \n",
       "+ (1986, Journal of Marriage and Family) There is much discussion in the literature about the adequacy of analyzing dichotomous dependent variables by using ordinary least squares equations to establish parameter estimates \n",
       "+ (1987, American Sociological Review) 52 (June:380-390)//////ROBUST AND NONPARAMETRIC METHODS 381 NONNORMAL RESIDUALS AND THEIR CONSEQUENCES Ordinary least squares regression yields efficient and unbiased estimates of population regression parameters and their associated standard errors when the Gauss-Markov theorem is applicable \n",
       "+ (1988, Sociological Methodology) This is often discussed in econometrics as the conditions under which ordinary least squares estimates give unbiased estimates of structural parameters \n",
       "+ (1990, Journal for the Scientific Study of Religion) Typological regression standardization has most of the limitations of straightforward regression analysis and, if dichotomies are used as dependent variables, the further restrictions and violations of assumptions that have been widely discussed in the literature \n",
       "+ (2007, European Sociological Review) OLS can provide a robust alternative to Maximum Likelihood Estimation (MLE) estimation if the values in one of the two cells of the dependent variable do not exceed 20- 25 per cent "
      ],
      "text/plain": [
       "<IPython.core.display.Markdown object>"
      ]
     },
     "metadata": {},
     "output_type": "display_data"
    },
    {
     "data": {
      "text/markdown": [
       "# Goodman, Leo A. {Analyzing qualitative/categorical data: Log-linear models and latent-structure analysis} 1978"
      ],
      "text/plain": [
       "<IPython.core.display.Markdown object>"
      ]
     },
     "metadata": {},
     "output_type": "display_data"
    },
    {
     "name": "stdout",
     "output_type": "stream",
     "text": [
      "[('Goodman (1978)', 34)]\n"
     ]
    },
    {
     "data": {
      "text/markdown": [
       "+ (1980, Annual Review of Sociology) log-linear models of the type already applied by Schoener (1970) to analyze comparative ecological data on Anolis species \n",
       "+ (1981, Social Indicators Research) \n",
       "+ (1981, Social Psychology Quarterly) In addition, although black subordinates were helped more frequently than white subordinates (Z = 3.17, p < .01), black supervisors were not helped less frequently, in absolute -terms, than I Log-linear analysis \n",
       "+ (1981, Sociological Methodology) 281//////282 OTIS DUDLEY DUNCAN supplement the standard hierarchical models \n",
       "+ (1981, Sociological Methodology) But one must look beyond the set of hierarchical models previously suggested \n",
       "+ (1982, Journal of Marriage and Family) Goodman's ECTA program \n",
       "+ (1982, Social Problems) Several studies also reveal that tenants are more mobile regardless of family characteristics \n",
       "+ (1982, Sociology of Education) In order to examine specific patterns of change, the relationships among each goal score, sex and decade of graduation were explored using log-linear contingency table analysis \n",
       "+ (1984, Journal of Health and Social Behavior) The extent of the improvement in fit contributed by the term, which is analogous to change in R2 in regression, can be gauged by the coefficient of partial determination (CPD) adjusted for degrees of freedom \n",
       "+ (1984, Social Indicators Research) I tested three models using iterative proportional fitting \n",
       "+ (1985, Annual Review of Sociology) Alternative methodologies that make explicit provision for dichotomous or ordered categorical indicators of latent traits \n",
       "+ (1985, Social Psychology Quarterly) Logit models are categorical analogs to linear regression models for continuous variables \n",
       "+ (1986, Journal for the Scientific Study of Religion) METHOD Log-linear modelling \n",
       "+ (1986, Journal of Marriage and Family) The preferred model not only fulfills the above criteria, but also includes all terms which, if dropped, would significantly diminish the fit of the model to the data \n",
       "+ (1986, Sociology of Education) Both standard, hierarchical models and models involving constrained interactions were fitted to the 10 three-way tables analyzed, and for each table a preferred model was chosen on the basis of parsimony and fit \n",
       "+ (1988, Social Problems) However, questions of style involve both problems of content and form \n",
       "+ (1988, Social Psychology Quarterly) When we analyzed the cross-classification of first and second mentions, marital status, and year by fitting a series of log-linear models \n",
       "+ (1989, American Journal of Sociology) Performed as an art, travel becomes one means of \"worldmaking\" \n",
       "+ (1989, American Sociological Review) Along with this, there is a loosening up in the conception of what constitutes knowledge: not merely the ideal of classical physics, but widened to include the rather different scope of knowledge in the biological and earth sciences, history, extending perhaps even as far as alternative forms of knowledge embodied in art \n",
       "+ (1990, European Sociological Review) I led the computer to believe I had a 60-celled crosstabulation (five nations by three whos by two does by two responses) and asked it to apply the technique 'iterative proportional fitting' \n",
       "+ (1990, Sociology of Education) OLS methods, however, are appropriate to estimate structural -relationships in these situations if the distribution of the dichotomous dependent measure is not extreme (that is, between 20 percent and 80 percent) \n",
       "+ (1990, Symbolic Interaction) Representatives of this shift in psychology include Bruner (1986), Romanyshyn (1982) and Sarbin (1986); in history a major proponent is Hayden White (1973, 1986); in the developing ‘cognitive sciences’ there is the notable work of Lakoff and Johnson (1980, 1987); In philosophy, Goodman’s ideas on ‘worldmaking’ are central \n",
       "+ (1991, Sociological Methodology) Simultaneous Equations: A Loglinear Approach An alternative strategy for analysis of simultaneous relations among discrete variables is to extend standard loglinear and logit models for categorical data \n",
       "+ (1992, Sociology of Education) On the other hand, the nonextreme distribution of our outcome (62 percent of girls and 64 percent of boys are in single-sex schools) suggests that ordinary least-squares (OLS) regression would also provide unbiased estimates \n",
       "+ (1993, Sociological Perspectives) Innovative work that goes on to win the highest awards invents new worlds, much like artistic or literary creation \n",
       "+ (2003, Sociological Perspectives) I find it notable that through the years sociologists have pioneered many of the most advanced statistical innovations that we now routinely use, such as log-linear analysis \n",
       "+ (2005, Social Indicators Research) Finally, it was determined that that there were too many different dimensions to the concept of \"housing quality\" for it to be reducible to one variable \n",
       "+ (2009, Symbolic Interaction) When scopic systems are systematically used they may have “world-making” effects \n",
       "+ (2011, Theory and Society) In this capacity, classification is a \"way of worldmaking,\" marking objects and practices as symbols that carry meaning, placing them inside a coherent system of categories, furnishing the concepts that allow different people to have similar perceptions, avoiding the skepticism about words because they now possess a literal meaning \n",
       "+ (2014, American Sociological Review) It is traditionally viewed as comprising those features of the symbolic functioning of a work that are characteristic of author, period, place, or school "
      ],
      "text/plain": [
       "<IPython.core.display.Markdown object>"
      ]
     },
     "metadata": {},
     "output_type": "display_data"
    },
    {
     "data": {
      "text/markdown": [
       "# Goodman, Leo A. {The Relationship between Modified and Usual Multiple-Regression Approaches to the Analysis of Dichotomous Variables} 1976"
      ],
      "text/plain": [
       "<IPython.core.display.Markdown object>"
      ]
     },
     "metadata": {},
     "output_type": "display_data"
    },
    {
     "name": "stdout",
     "output_type": "stream",
     "text": [
      "[('Goodman (1976)', 25)]\n"
     ]
    },
    {
     "data": {
      "text/markdown": [
       "+ (1977, American Sociological Review) It has recently been demonstrated \n",
       "+ (1978, Journal of Marriage and Family) These final splits are within the 25-75 range, a range within whose boundaries violations of assumptions in regression analysis may not prove too serious \n",
       "+ (1978, Sociology of Education) No satisfactory solution is available to correct for such skew \n",
       "+ (1979, Social Problems) whose distribution is not extreme, will yield substantively similar results \n",
       "+ (1980, Journal of Marriage and Family) In general, no problems normally result from the use of ordinal variables as long as a monotonic relationship exists between the underlying continuum and the ordinal scale; however, if the dependent variable is a dichotomous measure, some of the assumptions of path analysis pertaining to the distributions of error terms or residuals may be violated \n",
       "+ (1981, Annual Review of Sociology) There are only a handful of attempts to apply a \"bounded-rationality\" perspective to MNC decision-making \n",
       "+ (1981, Journal of Marriage and Family) These values are well within the range in which ordinary least squares and other methods yield similar results \n",
       "+ (1982, Journal of Health and Social Behavior) Note also that, as the final splits of the dichotomous dependent variables are approximately at midpoint, violating the assumptions in regression analysis may not have material consequences \n",
       "+ (1982, Sociological Focus) However, recent works show that use of standard regression techniques on dichotomous dependent variables yields results similar to Goodman's log-linear techniques when the split on the dependent variable is between 25 and 75 percent \n",
       "+ (1983, Journal of Health and Social Behavior) Second, recent comparisons of probit, logit, and OLS have concluded that: (1) logit and probit analyses are only marginally superior to OLS (Kobashigawa and Berki, 1977; Werner et al., 1978); (2) when the observed proportions on the dichotomous dependent variables are between 0.25 and 0.75, OLS and multiplicative odds models reach the same conclusions \n",
       "+ (1983, Social Psychology Quarterly) The technique is ideally suited for variables which do not meet the usual requirements for regression analysis, and is appropriate for dichotomous dependent variates with highly skewed distributions \n",
       "+ (1983, Sociology of Education) Recent literature \n",
       "+ (1983, Sociology) Further, there are cases where the//////374 BERNICE A. PESCOSOLIDO AND JONATHAN KELLEY substantive conclusions drawn from the two procedures are similar \n",
       "+ (1984, Journal of Marriage and Family) Unless certain sample requirements are met \n",
       "+ (1984, Journal of Marriage and Family) appropriate for analysis of dichotomous dependent variables \n",
       "+ (1986, American Journal of Sociology) As the dependent variables in this analysis can have codes of only zero or one, we estimated all equations using logistic regression, a maximumlikelihood technique appropriate for analysis of dichotomous dependent variables \n",
       "+ (1986, American Sociological Review) Beyond a proportion of .75-.80, the log-odds begin to increase exponentially, whereas within the .25-.75 range they increase only linearly \n",
       "+ (1987, Journal of Marriage and Family) For this reason we used logistic regression, estimated with maximum likelihood, a technique appropriate for analysis of dichotomous dependent variables \n",
       "+ (1987, Sociology of Education) There are well-known reservations about using regression in such cases, though in practice, such difficulties are minimal unless the marginals are highly skewed \n",
       "+ (1989, The Sociological Quarterly) We note that when the split on a dichtomous dependent variable is between 25% and 75%, OLS and the statistically more correct log-linear analysis techniques yield similar results \n",
       "+ (1990, Journal for the Scientific Study of Religion) As long as they are in the 24%-75% range, ordinary regression results are safely interpretable \n",
       "+ (1992, Journal of Marriage and Family) Moreover, use of linear regression or discriminant analysis is problematic when the dependent variable is so extremely skewed as is the case in this study \n",
       "+ (1992, Sociology of Education) Given the nature of the outcome, we selected logistic regression as the preferred analytic technique \n",
       "+ (1997, Sociological Perspectives) A metaphor \"always involves transfers in the sense that some labels of the scheme are given new extensions\" \n",
       "+ (2000, Symbolic Interaction) A great amount of theoretical effort has been directed to the process of art interpretation "
      ],
      "text/plain": [
       "<IPython.core.display.Markdown object>"
      ]
     },
     "metadata": {},
     "output_type": "display_data"
    },
    {
     "data": {
      "text/markdown": [
       "# Goodman, Leo A. {A Modified Multiple Regression Approach to the Analysis of Dichotomous Variables} 1972"
      ],
      "text/plain": [
       "<IPython.core.display.Markdown object>"
      ]
     },
     "metadata": {},
     "output_type": "display_data"
    },
    {
     "name": "stdout",
     "output_type": "stream",
     "text": [
      "[('Goodman (1972)', 147)]\n"
     ]
    },
    {
     "data": {
      "text/markdown": [
       "+ (1974, American Journal of Sociology) This exhaustion of the initial targets for analysis has thus far produced further extensions of the data-model-building process in the direction of more methodological expansion \n",
       "+ (1975, American Sociological Review) We may specify the observed frequencies, fijk, in the three-way classification of P by S by T by the multiplicative identity, fijki 7 rijkJj' r SkT r IjkTr J (1) Here, 77 is the geometric mean of the fijk, and the r-parameters pertain to the probability that an observation appears in the subscripted cell of the superscripted univariate or joint distribution \n",
       "+ (1976, The Sociological Quarterly) \n",
       "+ (1977, Journal for the Scientific Study of Religion) R esearch on pentecostalism has paid particular attention to explanations of glossolalia (speaking in tongues) which is characteristic of these groups \n",
       "+ (1977, Review of Religious Research) Glossolalia, or the \"speaking in tongues,\" is one of the most spectacular aspects of pentecostal behavior, and has led to many questions about the language of tongue- 134//////THE SOCIAL CONTEXT OF PROPHECY 135 speaking itself \n",
       "+ (1978, American Sociological Review) Double superscripted X's represent the two variable or main effects.11 Triple or higher superscripted X's designate interaction ef- 10 0 is a constant added to insure that the cell entries sum to the total sample size \n",
       "+ (1978, American Sociological Review) Under the most general or saturated model \n",
       "+ (1978, Social Problems) 98 BOGART AND HUTCHISON cient number of jobs and economic exploitation are the more salient determinants of poverty \n",
       "+ (1978, Sociology of Education) Therefore, we do not attempt to prove the significance of any terms which exclude the dependent variable \n",
       "+ (1979, American Journal of Sociology) Table 1 presents the wording of the items we have selected, in both the 2 In addition to representing a landmark in the development of survey research methods, the data generated by these surveys have been used extensively in the progressive refinement of data analysis techniques in sociology \n",
       "+ (1980, American Journal of Sociology) A more fruitful method of measuring occupational sex discrimination can be derived from the use of a log linear model \n",
       "+ (1980, Journal for the Scientific Study of Religion) Moreover, Goodman suggests that \"the glossolalist speaks the way he does because his speech behaviour is modified by the way the body acts in the particular mental state, often termed trance, into which he places himself\" \n",
       "+ (1980, Journal of Marriage and Family) The procedures for model selection used here are those advocated by the developers of log-linear analysis \n",
       "+ (1980, Sociological Methodology) Written in this form it is clear that the model is one of statistical independence, conditional on the assignment of cells in the P X S table to levels of H. Under the model the association between P and S is spurious; no association (quasi independence) between P and S occurs within levels of H \n",
       "+ (1981, Journal for the Scientific Study of Religion) The variation in definition is so great that most contemporary scholars of glossolalia, trances, and similar kinds of hysterical phenomena \n",
       "+ (1981, Review of Religious Research) Data Analysis In this section we use loglinear techniques \n",
       "+ (1981, Sociological Methodology) \n",
       "+ (1982, Journal of Marriage and Family) If the Difference between the two LRX2 statistics is significant, then one can infer that the parameter significantly contributes to fitting the structure of the data \n",
       "+ (1983, Acta Sociologica) In this respect, the multiplicative, log-linear, models introduced by Goodman represent a further step forward \n",
       "+ (1983, Sociology) In log-linear analysis, we are in a similar position with X2 as the measure of goodness of fit \n",
       "+ (1984, American Sociological Review) Among models that assume the strata can be rank ordered or scaled, we have estimated crossings models \n",
       "+ (1984, Journal of Marriage and Family) The marginal associations between the three independent variables (SPC) are considered fixed and, thus, are included in every model tested \n",
       "+ (1984, Sociological Perspectives) RESULTS To measure how well a model fits the data, we will compute a coefficient of multiple determination \n",
       "+ (1985, Journal of Marriage and Family) To assess the probabilities that these results could have occurred by chance (randomization and other random error sources), the series of loglinear models \n",
       "+ (1986, American Sociological Review) variables utilized and their coding was as follows: Race: black, white Age: 20-29, 30-44, 45-54, 55 and older Education;0-8,9-11, 12, 13-15, 16ormore years Region: South, non-South Residence: urban, rural Employment level: part-time, full-time Labor force participation in 1965: in the labor force, not in the labor force The actual measure derived from the loglinear analysis is an odds ratio \n",
       "+ (1986, Journal of Marriage and Family) MODELING THE RELATIONSHIPS Because of the categorical nature of the dependent variable (the probability of marital stability vs. marital instability), the analysis is based on log-linear modeling techniques \n",
       "+ (1994, Sociology of Religion) Latent class analysis and certain related techniques \n",
       "+ (1997, Polish Sociological Review) The simplest constrained diagonals model specifies a single parameter for all diagonal cells of the mobility table, testing the proposition that immobility exceeds what would be expected on the basis of perfect mobility by the same proportion in all occupational categories \n",
       "+ (1998, Polish Sociological Review) Simplest constrained diagonals model specifies a single parameter for all diagonal cells of the mobility table, testing the proposition that immobility exceeds what would be expected on the basis of perfect mobility by the same proportion in all occupational categories \n",
       "+ (2000, American Journal of Sociology) This sex‐linked difference can be also be demonstrated by fitting a log‐linear model that combines quasi‐independence "
      ],
      "text/plain": [
       "<IPython.core.display.Markdown object>"
      ]
     },
     "metadata": {},
     "output_type": "display_data"
    },
    {
     "data": {
      "text/markdown": [
       "# Goodman, Leo A. {A General Model for the Analysis of Surveys} 1972"
      ],
      "text/plain": [
       "<IPython.core.display.Markdown object>"
      ]
     },
     "metadata": {},
     "output_type": "display_data"
    },
    {
     "name": "stdout",
     "output_type": "stream",
     "text": [
      "[('Goodman (1972)', 147)]\n"
     ]
    },
    {
     "data": {
      "text/markdown": [
       "+ (1974, American Journal of Sociology) This exhaustion of the initial targets for analysis has thus far produced further extensions of the data-model-building process in the direction of more methodological expansion \n",
       "+ (1976, American Journal of Sociology) Since the difference between H1 and H3 is the independent association between achievement level and delinquency, we can create a \"partial correlation\" indicating the relative decrease in \"unexplained variation\" when such a connection is introduced \n",
       "+ (1976, American Sociological Review) Its maximum value is 1.0 \n",
       "+ (1976, American Sociological Review) Of course, this \"baseline\" model provides a poor fit to each data set, but the resulting x2 value may be taken as a measure of the \"unexplained variance\" to be accounted for by other models which allow relationships among the variables \n",
       "+ (1976, Sociological Methodology) \n",
       "+ (1976, The Sociological Quarterly) \n",
       "+ (1978, Social Problems) 98 BOGART AND HUTCHISON cient number of jobs and economic exploitation are the more salient determinants of poverty \n",
       "+ (1979, Social Psychology Quarterly) Note that this model fits the observed data fairly well: the chi-square test statistic is nonsignificant and the model accounts for 65% of the X2 value for the baseline model \n",
       "+ (1980, Sociological Methodology) This version of the model suggests a three-dimensional representation of the original two-dimensional table in which IJ(K - 1) of the interior cells contain structural zeros, and the original IJ frequencies are fitted by row (,/i), column (y1), and level (6k) parameters, as under a model of quasi independence \n",
       "+ (1981, American Sociological Review) (1975) and are based on the log-linear models for contingency table analysis \n",
       "+ (1981, Journal for the Scientific Study of Religion) The variation in definition is so great that most contemporary scholars of glossolalia, trances, and similar kinds of hysterical phenomena \n",
       "+ (1981, Review of Religious Research) Data Analysis In this section we use loglinear techniques \n",
       "+ (1981, Sociology of Education) It can be shown that the difference in LRX2 values between models TF and CTF and between models CF and CTF are also distributed as chi-square statistics with DF(TF) - DF(CTF) = 7 - 4 = 3 degrees of freedom (df) and DF(CF) - DF(CTF) = 6 - 4 = 2 df, respectively \n",
       "+ (1982, Journal of Marriage and Family) For each significant parameter included in the final fitted model for a contingency table, the direction of the effect can be determined by standardizing lambda coefficients computed from the odds ratio for that parameter \n",
       "+ (1983, Acta Sociologica) In this respect, the multiplicative, log-linear, models introduced by Goodman represent a further step forward \n",
       "+ (1983, Sociology) In log-linear analysis, we are in a similar position with X2 as the measure of goodness of fit \n",
       "+ (1983, Sociology) There are situations where these log-linear techniques are, in fact, equivalent to regression analysis in the logit form \n",
       "+ (1983, Sociology) These procedures are, however, relatively new and it is not clear when and whether they should be used in place of standard regression techniques.1 Of course, there are cases when the use of OLS techniques are inappropriate.2 In this light, a great deal has been written on the advantages of using log-linear procedures \n",
       "+ (1983, Sociology) With 0-1 or polytomous dependent variable, however, homoscedasticity cannot be readily assumed and this has an influence on the standard error of the OLS estimates \n",
       "+ (1984, American Sociological Review) Although it is commonly found that models with 1 parameter for each diagonal cell do not fit detailed mobility classifications \n",
       "+ (1984, Journal of Marriage and Family) When dichotomous dependent variables are used in regression and analysis of variance models, the assumptions of homoscedasticity and normal distributions at each level of the independent variables are violated, casting doubt on the validity of any statistical tests performed \n",
       "+ (1984, Social Problems) I also report \"best fitting\" log linear models \n",
       "+ (1986, American Journal of Political Science) All models fit the five-way table formed by the independent variables, denoted by PEAIY Including this term in the models makes log-linear models equivalent to logit models \n",
       "+ (1986, American Sociological Review) variables utilized and their coding was as follows: Race: black, white Age: 20-29, 30-44, 45-54, 55 and older Education;0-8,9-11, 12, 13-15, 16ormore years Region: South, non-South Residence: urban, rural Employment level: part-time, full-time Labor force participation in 1965: in the labor force, not in the labor force The actual measure derived from the loglinear analysis is an odds ratio \n",
       "+ (1986, European Sociological Review) 16x20 15x18 11x14 7x9 7x7 2x3 Per cent mobile 78.9 78.5 76.0 65-2 64-3 33.2 Independence: L2 759-69 681-68 566-00 409-53 378-82 176-83 df 285 238 130 48 36 2 Per cent of baseline L2 - 100.0 83.0 60.1 55.6 25-9 Quasi-independence: L2 512-68 437-13 346-97 190-18 143-14 df 269 223 119 41 29 Per cent of baseline L2 - 1000 79-4 43.5 32.7 out; the latter results are labelled 'quasi-independence' \n",
       "+ (1987, Journal of Marriage and Family) It was adapted from the Group Assessment of Interpersonal Traits \n",
       "+ (1993, Social Forces) their assertions, this study adopts their categorizations as closely as possible.3 The recent marriage of loglinear techniques for analyzing relationships among categorical variables with demographic studies of inheritance and mobility has produced a method for systematically and rigorously evaluating hypotheses regarding the general movements of populations across categories of variables \n",
       "+ (1993, Social Forces) their assertions, this study adopts their categorizations as closely as possible.3 The recent marriage of loglinear techniques for analyzing relationships among categorical variables with demographic studies of inheritance and mobility has produced a method for systematically and rigorously evaluating hypotheses regarding the general movements of populations across categories of variables \n",
       "+ (1998, Polish Sociological Review) Several writers offered approach to the problem of \"allowing for\" structural changes which drew on application of log linear models to analysis of multivariate contingency tables \n",
       "+ (1998, Polish Sociological Review) Simplest constrained diagonals model specifies a single parameter for all diagonal cells of the mobility table, testing the proposition that immobility exceeds what would be expected on the basis of perfect mobility by the same proportion in all occupational categories "
      ],
      "text/plain": [
       "<IPython.core.display.Markdown object>"
      ]
     },
     "metadata": {},
     "output_type": "display_data"
    },
    {
     "data": {
      "text/markdown": [
       "# Goodman, Leo A. {The Multivariate Analysis of Qualitative Data: Interactions among Multiple Classifications} 1970"
      ],
      "text/plain": [
       "<IPython.core.display.Markdown object>"
      ]
     },
     "metadata": {},
     "output_type": "display_data"
    },
    {
     "name": "stdout",
     "output_type": "stream",
     "text": [
      "[('Goodman (1970)', 28)]\n"
     ]
    },
    {
     "data": {
      "text/markdown": [
       "+ (1973, American Journal of Sociology) to Las Vegas who wrote the following has seen through the structure of tourist settings and is laughing 600//////Staged Authenticity about it: \"[A]long with winter vacationists by the thousands, I will return to lively Las Vegas, if only to learn whether Howard Hughes, like the Mint Casino, has begun issuing free coupons entitling the visitor to a backstage tour of his moneymaking establishment\" \n",
       "+ (1973, Social Forces) The natural controlled experimental design permits the test of propositions in a naturalistic setting but under controlled conditions \n",
       "+ (1973, Social Forces) The natural controlled experimental design permits the test of propositions in a naturalistic setting but under controlled conditions \n",
       "+ (1974, American Journal of Sociology) If the possible explanatory variables are observed, then elementary methods are available for determining whether or not these variables actually do explain the relationships among the four variables (A, B, C, D) \n",
       "+ (1977, American Journal of Sociology) Leo Goodman, for instance, describes in a series of articles a model-building technique for multidimensional tables \n",
       "+ (1977, American Journal of Sociology) Thus, the model Gtjk = 6 + XiA + Xj + XkB + X..AB + XikAC + XjkBC (4) will be denoted simply { AB }, { AC}, { BC} \n",
       "+ (1977, American Sociological Review) The log-linear specification avoids these difficulties with ease \n",
       "+ (1977, American Sociological Review) The log-linear triple interaction parameters are directly interpretable as effects of living in a particular city on the black-white difference in the (log) probability of being employed in a given occupation \n",
       "+ (1978, Sociology) These specifications derive from Goodman's definition of local labour markets; they reflect the need for the existence of a boundary and a degree of internal density \n",
       "+ (1979, American Journal of Sociology) The data were first analyzed intensively using hierarchical loglinear models \n",
       "+ (1979, Review of Religious Research) In order to study the partial and interactive relationships among the variables and their various levels, we then conducted a log linear analysis \n",
       "+ (1979, Social Psychology Quarterly) Indeed, an alternative description of model 11 is that it specifies response to be independent of sex of subject given sex of intruder and density \n",
       "+ (1980, American Sociological Review) For a given type of directorate tie (0, D, I or ODI), the frequency with which it is absent under hypothesis K (call this frequency fk) can be expressed in terms of four parameters \n",
       "+ (1980, Journal of Health and Social Behavior) Higher order contingency table analyses \n",
       "+ (1982, Administrative Science Quarterly) Other analyses have emphasized evaluation of change efforts, but have failed to trace how research results were incorporated into them \n",
       "+ (1982, Social Psychology Quarterly) In a few instances a zero cell was observed, and a value of .5 was added to each cell in order to calculate logarithms and thus parameters \n",
       "+ (1987, American Sociological Review) We fit standard hierarchical models \n",
       "+ (1990, Sociological Methodology) 2Elementary loglinear models are also easier to interpret than nonelementary loglinear models \n",
       "+ (1990, The American Sociologist) Specifically, we have responses (R) to the questions in a set (Q) in different years (Y), and the null hypothesis that there has been no change in responses to the questions in the set corresponds 202 The American Sociologist/Fall 1990//////to the specification that the R is independent of Y given Q, or equivalently that there are no {Y*R} or {Y*Q*R} interactions \n",
       "+ (1994, Journal for the Scientific Study of Religion) But Chaves (1989) and Hout and Greeley (1987) used contingency tables to display data subjected to logistic regression analysis - a subset of log linear modeling \n",
       "+ (1998, Sociological Methodology) Researchers who have data on one country, one group, or one time point have available a large number of models that can be used to analyze the two-way association that is the focus of concern, especially but not exclusively if the categories of each variable can be ordered along a single dimension \n",
       "+ (2007, Annual Review of Sociology) els and 10 kinds that are somewhat less simple) \n",
       "+ (2007, Annual Review of Sociology) ships among m polytomous variables \n",
       "+ (2011, American Journal of Political Science) Counterinsurgency appeared to be succeeding \n",
       "+ (2012, Administrative Science Quarterly) Because all the variables in our analysis are categorical, and many conditional relationships may exist in the data, we used log-linear techniques \n",
       "+ (2012, Administrative Science Quarterly) We also used the estimated parameters obtained from the saturated model as a guide to selecting which parameters should be included in the selected unsaturated model "
      ],
      "text/plain": [
       "<IPython.core.display.Markdown object>"
      ]
     },
     "metadata": {},
     "output_type": "display_data"
    },
    {
     "data": {
      "text/markdown": [
       "# Goodman, Leo A, Kruskal, William H {Measures of Association for Cross Classifications} 1954"
      ],
      "text/plain": [
       "<IPython.core.display.Markdown object>"
      ]
     },
     "metadata": {},
     "output_type": "display_data"
    },
    {
     "name": "stdout",
     "output_type": "stream",
     "text": [
      "[('Goodman and Kruskal (1954)', 37)]\n"
     ]
    },
    {
     "data": {
      "text/markdown": [
       "+ (1968, American Sociological Review) Table 4 is illustrative of the type of analysis summed up in the gammas \n",
       "+ (1969, American Journal of Sociology) Some devotees of nonparametric statistics would probably turn to one or another of the \"distribution-free\" substitutes for the correlation coefficient \n",
       "+ (1970, American Journal of Sociology) 5 Predictive ability was measured by lambda (asymmetric) \n",
       "+ (1970, Social Forces) '2 The ordinal measures outlined above were intercorrelated by means of gamma coefficients \n",
       "+ (1970, Social Forces) '2 The ordinal measures outlined above were intercorrelated by means of gamma coefficients \n",
       "+ (1970, The American Sociologist) A reanalysis of the data given by Linn yields a gamma coefficient of .54, which, although not statistically significant (p>.05), suggests that some 50 per cent of the variance in the data is accounted for by the relationship between attitude and behavior \n",
       "+ (1970, The Sociological Quarterly) In analyzing the data we used gamma, a measure of association for data arranged in ordered classes \n",
       "+ (1971, American Journal of Sociology) However, the imposition of this criterion should not be taken as indispensable to a useful measure of association or as a substitute for the general principle that the operational definition of a measure should be congruent to a given research problem \n",
       "+ (1971, American Journal of Sociology) On the other hand, y has a simple operational definition \n",
       "+ (1971, American Journal of Sociology) The magnitude of the P-R-E index reflects the degree to which the relationship between two variables deviates from statistical independence insofar as it also approaches the particular form of functional relation assumed in lb.2 2 It is customary to express the P-R-E interpretation in terms of errors in (1) predicting Y without knowledge of X, and (2) predicting Y with knowledge of X \n",
       "+ (1971, Social Problems) If they are not interested in the underlying continnua, then several measures of association more suited to 2 X 2 tables are available which do not require the dummy variable approach to the two dichotomies used \n",
       "+ (1971, The Sociological Quarterly) The relationship between dogmatism and Christian orthodoxy was tested by gamma, a statistic designed to measure association among data ordered on two variables \n",
       "+ (1972, Administrative Science Quarterly) ambiguously \n",
       "+ (1972, American Journal of Sociology) Gamma, a symmetrical measure of association with a \"proportional reduction in error\" interpretation appropriate to an ordinal level of measurement \n",
       "+ (1972, International Journal of Sociology of the Family) The absence of a significant relation between mobility and fertility can be fur ther illustrated by computing Goodman Kruskal's Tau \n",
       "+ (1972, Social Forces) The measure of association used in the matrix analysis is gamma \n",
       "+ (1972, Social Forces) The measure of association used in the matrix analysis is gamma \n",
       "+ (1974, Social Forces) (thinking in terms of rank orderings), then A, -A, = 0 and we have a \"tied ranking\"; if s is higher than r on both variables A and B then (As-Ar) (Bs -Br) = +1 and we have a pair of individuals that is \"concordant\" on variables A and B; if s is higher than r on one variable but lower on the other, then (A -Ar) (B -Br) =-J and we have a pair of individuals that is \"discordant\" on these variables \n",
       "+ (1974, Social Forces) (thinking in terms of rank orderings), then A, -A, = 0 and we have a \"tied ranking\"; if s is higher than r on both variables A and B then (As-Ar) (Bs -Br) = +1 and we have a pair of individuals that is \"concordant\" on variables A and B; if s is higher than r on one variable but lower on the other, then (A -Ar) (B -Br) =-J and we have a pair of individuals that is \"discordant\" on these variables \n",
       "+ (1975, American Journal of Sociology) Although the only guideline we can safely advocate is that the nature of the measure of association should be congruent with the research problem at hand \n",
       "+ (1975, American Journal of Sociology) We usually choose a measure of association as a means of examining and parsimoniously describing the relationship between mx and m. Since, however, there is no general measure of association \n",
       "+ (1975, Journal for the Scientific Study of Religion) Since all the variables were either nominal or dichotomized, a nominal-level statistic, lambda, was used in the analysis \n",
       "+ (1976, American Journal of Political Science) AMERICAN JOURNAL OF POLITICAL SCIENCE, XX, 4, November 1976 781//////782 Jere Bruner the closing years of the nineteenth century, although the departure from chi-square-based measures and the elaboration of rank-order coefficients for tables larger than 2 X 2 is a somewhat more recent development \n",
       "+ (1976, Sociological Methodology) 252 ROBERT K. LEIK Some attempts to deal with strictly ordinal variables concentrate on developing a measure of association \n",
       "+ (1976, Sociological Methodology) Thus the operational interpretation of ND meets certain desirable criteria for a descriptive statistic \n",
       "+ (1985, Social Indicators Research) Given a matrix of inter-item gamma association coefficients \n",
       "+ (1992, Social Problems) A Distributional Inequality Interpretation of T Goodman and Kruskal's 1b is an asymmetric measure of association appropriate for nominal-level data that is typically interpreted using a proportional reduction in error \n",
       "+ (1992, Social Problems) However, they also note that \"in many cases association-however measured-would not be much affected by any reasonable redefinition of the classes\" \n",
       "+ (1995, American Journal of Political Science) One way to assess the relative contribution of the key independent variables is to compute the proportionate reduction of error obtained by adding each variable to the model \n",
       "+ (2002, Sociological Methodology) Carlson (1992) used Goodman and Kruskal's rb "
      ],
      "text/plain": [
       "<IPython.core.display.Markdown object>"
      ]
     },
     "metadata": {},
     "output_type": "display_data"
    },
    {
     "data": {
      "text/markdown": [
       "# Gordon, D M {Theories of poverty and underemployment: Orthodox, radical, and dual labor market perspectives} 1972"
      ],
      "text/plain": [
       "<IPython.core.display.Markdown object>"
      ]
     },
     "metadata": {},
     "output_type": "display_data"
    },
    {
     "name": "stdout",
     "output_type": "stream",
     "text": [
      "[('Gordon (1972)', 144)]\n"
     ]
    },
    {
     "data": {
      "text/markdown": [
       "+ (1974, Journal of Marriage and Family) First of all, a number of important analyses have appeared that challenge the previously held notion of the nuclear family both as a universally functional and structural phenomenon unique to modern industrial societies \n",
       "+ (1975, Social Problems) 11 Black and white women were not differentially successful in their applications; this supports the following argument that it was the applicant's competence rather than other personal characteristics to which the caseworkers were reacting \n",
       "+ (1976, Annual Review of Sociology) A number of other moderately plausible explanations have been offered for blacks scoring higher than whites on such global measures as self-esteem \n",
       "+ (1976, Annual Review of Sociology) A second study, using the Coleman sample of \"metropolitan Northeast\" 9th graders \n",
       "+ (1976, Annual Review of Sociology) Whether the focus is on the contentions, conflicts, and compromises of student politics (Lipset, 1967), on the more private domain of occupational aspirations, choices, and preparations \n",
       "+ (1977, Sociology of Education) Unfortunately, our knowledge of the dynamics of educational performance and aspiration-formation of rural black males and females, or of sex differences among black youth, is less than our similar knowledge about whites, despite much research on the academic performance of blacks and on male black-white differences in the schooling process \n",
       "+ (1978, American Sociological Review) Formal education is widely used to mediate individual access to job ladders, and workers' wages \"are largely determined by their respective access to different job clusters, by the relatively rigid pattern of wages attached to the job structures through which they respectively move, and by the speed with which they pass through those structures\" \n",
       "+ (1978, American Sociological Review) Rather than interpreting group differences in earnings or poverty as due to different rates of individual \"failure\" in a competitive market, the theory suggests that such group differences may be the outcome of differential assignments of group members within the sectoral structure of the economic order \n",
       "+ (1980, American Sociological Review) '2 An illustration: The dualist and segmentation literatures \n",
       "+ (1980, American Sociological Review) BRINGING THE FIRMS BACK IN 747 Neo-Marxian and dualist accounts stress some of the same processes and mechanisms, but the perspectives vary in assigning priority to different levels of social organization \n",
       "+ (1980, American Sociological Review) Indeed, those in secondary labor markets and in the competitive sector have been characterized by (and found to have) lower educational and skill levels \n",
       "+ (1980, American Sociological Review) Radical economists \n",
       "+ (1980, American Sociological Review) Radical economists (e.g., Gordon, 1972; 1976; Marglin, 1974; Edwards, 1975; 1979) juxtapose \"'qualitative\" and \"quantitative\" efficiency; like dual labor market theorists, they \n",
       "+ (1980, Sociology of Education) It is typical in these studies that most antecedent and intervening factors are measured concurrently with the school process outcome(s) of interest \n",
       "+ (1980, The Canadian Journal of Sociology / Cahiers canadiens de sociologie) The main criterion shaping job requirements is the degree of stability the organization requires from the job holder \n",
       "+ (1981, Sociology of Education) Dualmarket theorists \n",
       "+ (1983, Sociology) The process by which job opportunities are shaped by inter and intra-class conflict has tended to be discounted against these historical trends \n",
       "+ (1984, Berkeley Journal of Sociology) Integral to radical economic thought is the assumption that the current organization of the labor force is not accidental, but part of a larger dynamic that has operated to maximize the maintenance of a capitalist system of production \n",
       "+ (1985, Sociological Perspectives) The basic distinction is between the primary and secondary markets \n",
       "+ (1985, The Canadian Journal of Sociology / Cahiers canadiens de sociologie) Three major issues Segmentation has been operationalized at numerous levels: the industry level (Beck, Horan and Tolbert, 1978); the firm (Averitt, 1968; Baron and Bielby, 1980); the job \n",
       "+ (1986, The Sociological Quarterly) 1/1986 representation in primary labor market jobs in core firms \n",
       "+ (1987, Social Problems) Since workers' wages generally equal their marginal productivities when these assumptions are met, discrimination on the basis of ascriptive factors is anomalous \n",
       "+ (1988, Social Forces) In the periphery by contrast, labor is more homogeneous and \"dead-end\" job clusters are predominant \n",
       "+ (1988, Sociological Perspectives) THE DUAL ECONOMY AND MINORITY EARNINGS Early research on the dual labor market was concerned with explaining urban poverty and underemployment \n",
       "+ (1998, Sociological Bulletin) The earlier distinctions between blue collar/white collar workers, Piore argued, are no longer valid because: (1) there is a substantial earnings overlap between the two categories, (2) the machine has invaded the while collar world; and (3) many of the white collar jobs are as routine and alienating as the blue collar ones \n",
       "+ (1998, Sociological Bulletin) The notion of dual labour markets was introduced as a structural explanation for differential wage rates, higher mobility in the core, and other differential labour outcomes \n",
       "+ (2000, American Sociological Review) A RECURRING theme in the sociology and economics of industrial societies is the problem of marginalized workers in bad jobs \n",
       "+ (2001, Sociological Forum) Segmentation Theories Other analysts contend that occupational sex segregation results from the confinement of different types of workers to different labor markets \n",
       "+ (2005, Social Forces) THE LIBERAL ECONOMIC CRITIQUE Arguably, the most powerful critique of the welfare state emerges from liberal economics \n",
       "+ (2005, Sociological Perspectives) Secondary labor market jobs, by contrast, are low paying and low in status "
      ],
      "text/plain": [
       "<IPython.core.display.Markdown object>"
      ]
     },
     "metadata": {},
     "output_type": "display_data"
    },
    {
     "data": {
      "text/markdown": [
       "# Gordon, Robert A {Issues in Multiple Regression} 1968"
      ],
      "text/plain": [
       "<IPython.core.display.Markdown object>"
      ]
     },
     "metadata": {},
     "output_type": "display_data"
    },
    {
     "name": "stdout",
     "output_type": "stream",
     "text": [
      "[('Gordon (1968)', 86)]\n"
     ]
    },
    {
     "data": {
      "text/markdown": [
       "+ (1970, American Sociological Review) And, the history of the American municipal reform movement has often included native American upper-class persons' attempts to wrest local political control from nationality groups \n",
       "+ (1971, Social Forces) Of course if these types of communication are highly intercorrelated, as is likely, then the resulting multicollinearity will produce large sampling errors, so that it would be preferable to treat the Xi as a single block \n",
       "+ (1973, Social Forces) The structure of the self can be viewed as the hierarchical organization of a person's identities \n",
       "+ (1973, The Sociological Quarterly) A category is defined as present when it is attached to self at least once in that measurement \n",
       "+ (1974, American Journal of Sociology) If such measures are used as independent variables, there is the additional problem of multicollinearity, in which case sampling errors are likely to be large and the effects of the component variables not easily separable \n",
       "+ (1975, American Journal of Sociology) 11 Problems involving the accuracy of model specification and the redundancy of measures pertain to all forms of multivariate analysis, even though they are usually illustrated in terms of multiple-regression analysis \n",
       "+ (1975, Humboldt Journal of Social Relations) To briefly recount his intellectual metamorphosis it should be noted that Roy, as a member of one of the several secret anti-British terrorist circles which emerged in Bengal during the first decade of the 20th Century, had been sent abroad in search of German aid and arms soon after the outbreak of World War I \n",
       "+ (1976, American Journal of Political Science) nonpartisan elections, and at-large constituencies-were associated with socially homogeneous middle-class, mobile, and growing populations; while \"unreformed\" governmental structuresmanager-council form, partisan elections, and ward constituencies-tended to persist in large, socially heterogeneous cities with large proportions of working-class residents, and stable or declining growth rates \n",
       "+ (1976, Annual Review of Sociology) Each derives from a separate social-psychological tradition, but I have argued \n",
       "+ (1977, American Sociological Review) The organization of the predictor variables into blocks was not only sensible conceptually, but also was performed to reduce the problem of redundancy \n",
       "+ (1978, Journal of Health and Social Behavior) What the authors have done is engage in what has been called the \"partialling fallacy\" \n",
       "+ (1979, Journal of Marriage and Family) 874 JOURNAL OF MARRIAGE AND THE FAMILY November 1979//////among the four sets of variables render substantive interpretations of the coefficients meaningless \n",
       "+ (1979, Social Psychology Quarterly) In order to provide comparability across subsets of variables (i.e., the subsets of status inconsistency variables) with multiple regression analysis, the number of variables within the subsets must be constant \n",
       "+ (1980, Journal of Health and Social Behavior) Relative R2 contributions are influenced by exogenous correlations \n",
       "+ (1980, Journal of Marriage and Family) 254 JOURNAL OF MARRIAGE AND THE FAMILY May 1980//////expected to have less impact theoretically \n",
       "+ (1980, Sociological Focus) Since the initial formulation of identity within a symbolic interaction perspective (Foote, 1951), there has been progress in developing its theoretical foundation (McCall and Simmons, 1966; Stryker, 1968) and in establishing procedures for its measurement \n",
       "+ (1981, Social Problems) In crude terms, as long as statistical suppression is ignored, regression programs assign the strongest coefficients to the independent variables which have the highest correlations with the dependent variable and the least correlations with the other independent variables \n",
       "+ (1981, Social Psychology Quarterly) Though fewer in number, there have been studies of the self as agent or cause of behavior (e.g., McGuire, 1968; Backman and Secord, 1968; Walster, 1970; Alexander and Knight, 1971; Wells, 1978), and there has been work dealing with various conceptualizations of the self and its components \n",
       "+ (1982, American Journal of Sociology) The direct election of a mayor enhances electorate control most compatible with the individualistic political subculture dominant among immigrant groups \n",
       "+ (1982, The Canadian Journal of Sociology / Cahiers canadiens de sociologie) they are not highly or equally intercorrelated) \n",
       "+ (1984, American Journal of Sociology) I Of course, it is difficult to evaluate the relative importance of variables when they are correlated \n",
       "+ (1984, Sociological Perspectives) With both the initial level of the dependent variable and the control variables measured for 1970, the probability of redundancy among the regressors is high \n",
       "+ (1985, Social Psychology Quarterly) Rather, the two types of variables each seem to account for unique variance in agreement \n",
       "+ (1986, Social Psychology Quarterly) Importantly, this model takes into account the two major ways in which people define themselves, namely roles and attributes \n",
       "+ (1989, American Sociological Review) There are all kinds of \"catches\" in this general observation, including the complications produced by multicollinearity \n",
       "+ (1990, Sociological Perspectives) The inclusion of the six variables in the same equation introduces a partialling fallacy into the analysis \n",
       "+ (1997, Journal of Marriage and Family) Second, because the three indicators of socioeconomic status are highly correlated, the inclusion of all three in one model would introduce multicollinearity \n",
       "+ (1998, Journal of Marriage and Family) Thus, the changing of signs for racial composition may be a consequence of \"partialling\" \n",
       "+ (1998, Social Forces) This redundancy can be especially problematic, attenuating the effects of each indicator, given the explanatory power they each share \n",
       "+ (2004, American Sociological Review) CBOs in poor urban neighborhoods are thus structurally positioned to reprise the role of the political machine, despite the social science consensus that the machine is dead "
      ],
      "text/plain": [
       "<IPython.core.display.Markdown object>"
      ]
     },
     "metadata": {},
     "output_type": "display_data"
    },
    {
     "data": {
      "text/markdown": [
       "# Gove, Walter R, Tudor, Jeannette F {Adult Sex Roles and Mental Illness} 1973"
      ],
      "text/plain": [
       "<IPython.core.display.Markdown object>"
      ]
     },
     "metadata": {},
     "output_type": "display_data"
    },
    {
     "name": "stdout",
     "output_type": "stream",
     "text": [
      "[('Gove and Tudor (1973)', 141), ('Gove & Tudor (1973)', 15)]\n"
     ]
    },
    {
     "data": {
      "text/markdown": [
       "+ (1976, American Journal of Sociology) on which they base their conclusion is inadequate for the problem: It does not deal with trends over time; it omits data on the personality disorders; it includes treatment statistics that are limited and can often be misleading (e.g., Dohrenwend and Dohrenwend 1969); and, where it consists of a presentation of results from some community studies that are not restricted to treated rates \n",
       "+ (1977, American Sociological Review) This has been the case with regard to the psychological impact of such fundamental features of social organization as social class (Kohn, 1972; Mechanic, 1972) and sex roles \n",
       "+ (1977, Journal of Health and Social Behavior) Furthermore, the question of the respective prevalence rates of mental disorder between the sexes is still hotly debated \n",
       "+ (1979, Acta Sociologica) 6//////Fifth, several observers have noted that the expectations confronting women are unclear and diffuse; many have argued that this lack of specificity creates problems for women \n",
       "+ (1979, Journal of Health and Social Behavior) I would note that my lack of total acceptance is due to my perception that psychiatry has tended to utilize too encompassing a definition of mental illness, and that the term \"mental illness\" should be applied to a more rigorously defined phenomenon that is closely linked to theory and practice \n",
       "+ (1981, Journal of Health and Social Behavior) According to the social-role theory, the difference in rates of mental illness between men and women derives from the higher rates of mental illness among married women, even though the married of both sexes have lower rates of mental illness than the unmarried \n",
       "+ (1981, Journal of Health and Social Behavior) Considerable empirical investigation and debate have focused on the social-role theory, explicated by Gove and others \n",
       "+ (1981, Journal of Health and Social Behavior) Since most researchers who use treatment data concern themselves primarily with relatively complicated specifications of these basic patterns-ratios of ratios, comparisons of ratios across age and marital status categories, and similar sorts of rather sensitive analytic procedures \n",
       "+ (1981, Journal of Health and Social Behavior) The housewife role, as described by Gove \n",
       "+ (1983, American Sociological Review) employed women are less psychologically distressed than housewives because employed women have two sources of potential gratification (job and family) instead of one; they have more prestige, power, and personal economic resources; they are less socially isolated; and their occupations are more gratifying than housework, which is low prestige, invisible work for which one receives few rewards \n",
       "+ (1983, Journal of Health and Social Behavior) Interestingly, the Dohrenwends and others \n",
       "+ (1983, Journal of Health and Social Behavior) The first of these \n",
       "+ (1987, Journal of Health and Social Behavior) It has been recognized that the work environment itself might contribute to higher rates of distress among women \n",
       "+ (1987, Journal of Health and Social Behavior) On the other hand, when gender roles entail similar degrees of strain, as may have occurred in the pre-WWII period \n",
       "+ (1987, Social Forces) Housework and child care, whatever their intrinsic merits, are not highly valued or rewarded \n",
       "+ (1987, Social Problems) Horwitz (1982), for example, cites various studies of mental hospital admissions patterns \n",
       "+ (1988, Journal of Health and Social Behavior) Role-content theories say that employment reduces a wife's distress because housework is low-prestige, invisible, ungratifying work for which one receives few rewards \n",
       "+ (1988, Social Indicators Research) Another example is research which suggests that women's subordinate position and restricted social roles partly explains their high rate of depression \n",
       "+ (1989, Journal of Marriage and Family) It has been suggested that the social control exercised by others may cause frustration and be a source of tension (Hughes and Gove, 1981; Rook, 1984), and it has also been shown that marriage can be dysfunctional to women's health \n",
       "+ (1989, Journal of Marriage and Family) Role stress theory used by Gove and his associates \n",
       "+ (1991, Journal of Health and Social Behavior) Women have higher rates of psychological distress including anxiety, depression, worry, and demoralization \n",
       "+ (1991, Journal of Marriage and Family) Gove and colleagues \n",
       "+ (1992, Journal of Health and Social Behavior) adult roles are importantly associated with these differences \n",
       "+ (1992, Social Psychology Quarterly) According to other theories, working for pay is liberating because it provides money at one's personal disposal, status that reflects personal achievement, and identity in the larger society outside the family \n",
       "+ (1993, Acta Sociologica) Gove \n",
       "+ (1994, Journal of Health and Social Behavior) People who do housework describe it as monotonous, routine, isolating work, for which one receives little recognition and few rewards \n",
       "+ (1995, Journal of Marriage and Family) Some evidence shows that marriage protects men's psychological wellbeing more than women's \n",
       "+ (1996, Journal of Marriage and Family) A popular theory over the last two decades has been that marriage benefits men more than women \n",
       "+ (1999, Journal of Health and Social Behavior) ence higher rates of psychological distress including anxiety, demoralization, depression, and worry \n",
       "+ (2005, Social Psychology Quarterly) Because previous research has found gender differences in the association between marriage and mental health "
      ],
      "text/plain": [
       "<IPython.core.display.Markdown object>"
      ]
     },
     "metadata": {},
     "output_type": "display_data"
    },
    {
     "data": {
      "text/markdown": [
       "# Gross, N, Mason, W S, McEachern, A W {Explorations in role analysis: Studies of the school superintendency role} 1958"
      ],
      "text/plain": [
       "<IPython.core.display.Markdown object>"
      ]
     },
     "metadata": {},
     "output_type": "display_data"
    },
    {
     "name": "stdout",
     "output_type": "stream",
     "text": [
      "[('Gross, Mason and McEachern (1958)', 2), ('Gross, Mason, and McEachern (1958)', 2), ('Gross, Mason & McEachern (1958)', 1)]\n"
     ]
    },
    {
     "data": {
      "text/markdown": [
       "+ (1973, American Sociological Review) This is not the place to review the rich vocabulary for role analysis proposed by various studies \n",
       "+ (1974, Journal of Marriage and Family) In this respect we draw from the work of Gross, Merton and Bates in that each position involves more than one role \n",
       "+ (1978, Annual Review of Sociology) Role generally refers to social locations or positions that embody expectations for behavior \n",
       "+ (1991, American Journal of Sociology) As in structural role theory, we define role as a bundle of norms and expectations-the behaviors expected from and anticipated by one 280//////Role as Resource who occupies a position (or status) in a social structure \n",
       "+ (1991, The Sociological Quarterly) In fact, the extensive literature on role conflict and role strain illustrates its popularity "
      ],
      "text/plain": [
       "<IPython.core.display.Markdown object>"
      ]
     },
     "metadata": {},
     "output_type": "display_data"
    },
    {
     "data": {
      "text/markdown": [
       "# Haberman, Shelby {Analysis of Qualitative Data} 1979"
      ],
      "text/plain": [
       "<IPython.core.display.Markdown object>"
      ]
     },
     "metadata": {},
     "output_type": "display_data"
    },
    {
     "name": "stdout",
     "output_type": "stream",
     "text": [
      "[('Haberman (1979)', 30)]\n"
     ]
    },
    {
     "data": {
      "text/markdown": [
       "+ (1982, American Journal of Sociology) If the yt and the vj are given, the model is log-linear in the unknown parameters, A, X.R Xj/, and q, and standard methods of dealing with loglinear models can be directly applied to it \n",
       "+ (1983, American Sociological Review) For example, if the model of quasi-symmetry were true for the table under consideration, the model of symmetry would then represent the concept of structural constancy \n",
       "+ (1983, American Sociological Review) Furthermore, since MH cannot, under general conditions, be subsumed under the model of independence \n",
       "+ (1983, Sociology) All of the variables in that cross-tabulation are or have been collapsed from data which by sociological standards can be considered at least ordinal.5 While log-linear models recently have been developed to take advantage of ordinal level information, these have received less attention than the original formulation \n",
       "+ (1983, Sociology) Log-linear models can be modified to either determine or take advantage of ordering in the variables of interest \n",
       "+ (1985, American Journal of Sociology) Hence I have adopted the common convention of survey analysis \n",
       "+ (1985, Sociological Methodology) We have ruled out latent structure analysis \n",
       "+ (1986, Sociological Methodology) It would also be possible to use FREQ \n",
       "+ (1987, Social Forces) Such an example is provided by the so-called \"uniform association\" models \n",
       "+ (1987, Social Forces) Such an example is provided by the so-called \"uniform association\" models \n",
       "+ (1989, Annual Review of Sociology) Duncan (1984) and Clogg (1984) have argued that investigators should turn to the log-linear model and to the latent class model \n",
       "+ (1989, European Sociological Review) \n",
       "+ (1989, Sociological Forum) The statistical technique that was applied to this study is the log-linear models of \"perfect\" and \"quasiperfect\" recruitment, and the log-linear program in SPSSx and FREQ \n",
       "+ (1990, European Sociological Review) To answer the question about relative chances 1,662-6 240 -887 the Fixed Distance Model \n",
       "+ (1990, Sociological Methodology) Models in subclass 1 are elementary, and iterative procedures are not required to calculate maximum likelihood estimates under the models; whereas, models in subclass 2 are nonelementary, and iterative procedures are required to calculate maximum likelihood estimates under these models.2 Models in subclass 1 are related to certain kinds of multinomial response models \n",
       "+ (1990, Sociological Methodology) Various QS models have been introduced to provide alternative characterizations of the data \n",
       "+ (1991, American Journal of Sociology) My multivariate analysis follows those of Blau and Duncan (1967) and Warren (1966) and extends them by making comparisons over time and by using multivariate log-linear models of variable social distance mobility \n",
       "+ (1991, American Journal of Sociology) The tendency to avoid marriages with people distant in status can be assessed with models of social-distance mobility \n",
       "+ (1991, American Journal of Sociology) This assumption can be tested by estimating variable instead of fixed-distance models \n",
       "+ (1991, American Sociological Review) I use the model of quasi-symmetry to describe educational homogamy \n",
       "+ (1991, Review of Religious Research) Mobility research found that the size factor could be canceled using loglinear models \n",
       "+ (1992, Sociological Forum) The data are analyzed with a log-linear model suitable for the multivariate analysis of countable data \n",
       "+ (1992, Sociological Methodology) The multinomial logit model can be used if the response variable is polytomous \n",
       "+ (1998, American Sociological Review) The simplest model is the fixed-distance model (Models 2 and 3 in Table 1) \n",
       "+ (1998, Sociological Methodology) X = t. The standard latent class model assumes that R and C are conditionally independent given X, which may be written as follows: T X RIX CIX 7Tii =EIt T I t x7t (1 ) t = I//////LATENT CLASS MARGINAL MODELS 299 The 1-class model is the usual model of statistical independence, and models having more than a single class may be viewed as log-linear models for indirectly observed contingency tables \n",
       "+ (1999, Sociological Methodology) Interval analyses are based on assigning scores to the categories of the ordinal variables, as in linear-by-linear association models \n",
       "+ (2000, American Journal of Sociology) While this article analyzes gender-role attitudes for an illustrative application, previous applications of latent-class analysis focused on a variety of variables, including not only attitudinal variables, such as attitude about universalistic/particularistic values (Goodman 1974b; Clogg and Goodman 1985), attitude toward nontherapeutic abortion \n",
       "+ (2001, Sociological Methodology) Latent-class models \n",
       "+ (2013, Sociological Methodology) Many of the characteristic features and uses of marginal modeling can be captured by means of the MH model and its straightforward extensions "
      ],
      "text/plain": [
       "<IPython.core.display.Markdown object>"
      ]
     },
     "metadata": {},
     "output_type": "display_data"
    },
    {
     "data": {
      "text/markdown": [
       "# Hall, R H {Organizations: structure and progress} 1972"
      ],
      "text/plain": [
       "<IPython.core.display.Markdown object>"
      ]
     },
     "metadata": {},
     "output_type": "display_data"
    },
    {
     "name": "stdout",
     "output_type": "stream",
     "text": [
      "[('Hall (1972)', 121)]\n"
     ]
    },
    {
     "data": {
      "text/markdown": [
       "+ (1972, Administrative Science Quarterly) Subsequent research has shown that there are no consistent trends in the type of strategy employed as a function of life stage \n",
       "+ (1974, Administrative Science Quarterly) Because state planning and development agencies attempt to bring about social change they can be characterized as change-agent organizations \n",
       "+ (1975, Administrative Science Quarterly) I recognize the disagreements over the importance of such variables, particularly size \n",
       "+ (1975, Administrative Science Quarterly) They cannot maximize on both dimensions at the same time \n",
       "+ (1975, Administrative Science Quarterly) Type and Size of Agencies Structural characteristics, such as organizational type (Blau and Scott, 1962: 40-57; Haas and Drabek, 1973: 363-374; Hall, 1972: 39-78) and size \n",
       "+ (1976, American Sociological Review) Research has found that if the work undertaken by an organizational unit is analyzable and non-variable, most of the task activities can be standardized and programmed \n",
       "+ (1976, The Sociological Quarterly) Within the last few years, several writers have compared the relative merits of the goal and system resource approaches \n",
       "+ (1977, Journal of Health and Social Behavior) Studies which treat \"bureaucracy\" as both wholistic and undesirable tend to overlook the acknowledged efficiency and effectiveness of the bureaucratic form of organizational structure \n",
       "+ (1977, The Sociological Quarterly) These diverse views can lead to arguments between those who see organizations as \"coherent systems\" (Crozier, 1973a) and organizational members as passive, reactive and instrumentally oriented, and those who see organizations as \"aggregates\" (Krupp, 1972) and organizational members as proactive, selfdirecting, and continuously negotiating organizational settings \n",
       "+ (1977, The Sociological Quarterly) This latter perspective develops out of a larger debate within contemporary sociology \n",
       "+ (1977, The Sociological Quarterly) While some \n",
       "+ (1978, Administrative Science Quarterly) \n",
       "+ (1978, Administrative Science Quarterly) Despite a lack of consensus on specific evaluative criteria in the organizational literature, a recurrent theme regarding the conceptualization of effectiveness does emerge: effectiveness relates to the accomplishment of organizational goals \n",
       "+ (1978, Administrative Science Quarterly) For these reasons, many theorists reject official goals as useful standards of organizational effectiveness \n",
       "+ (1978, Administrative Science Quarterly) In representative formulations \n",
       "+ (1978, Journal of Marriage and Family) The specific behaviors of Type I coping are: the elimination of role activities, but not entire roles; role support from outside the role set, role support from inside the role set (usually the family), problem solving with role senders, role integration; and the change of the societal definition of one's roles \n",
       "+ (1979, Administrative Science Quarterly) Norms, roles, expectations, and unique systems of work behavior in one cultural setting may be inappropriate and even ineffective in another society \n",
       "+ (1979, American Sociological Review) We are concerned with legitimated power in the work setting: authority \n",
       "+ (1979, Symbolic Interaction) For years interactionists failed to examine power critically \n",
       "+ (1980, Administrative Science Quarterly) These concepts are not always defined with care, and the measures used for their indicators are numerous \n",
       "+ (1982, The Sociological Quarterly) We use the term administrative intensity, as Kasarda and most other researchers have used it \n",
       "+ (1985, Symbolic Interaction) Several scholars have productively addressed both organizational and interactional factors in the research \n",
       "+ (1986, International Journal of Sociology of the Family) Yet, only a few studies have examined the strategies used by dual-career couples to lessen role strain, and no research reviewed used multivariate methods to determine the direct relationships between strategy use and the reduction of role strain in families of this type \n",
       "+ (1987, Journal of Health and Social Behavior) A role-combination approach proposes that multiple role involvement undermines psychological health as infinite role demands compete for the finite energies of women \n",
       "+ (1987, Journal of Health and Social Behavior) Others \n",
       "+ (1987, Journal of Marriage and Family) Many women establish priorities, eliminate certain subroles, and rotate attention among roles \n",
       "+ (1988, Sociology of Education) The formal code is based on a clear-cut hierarchical division of labor and authority and fixed rules of behavior \n",
       "+ (1989, The Sociological Quarterly) The conventional \"professionals in organizations\" literature emphasizes the potential conflicts between professionals and organizations, many of which are said to develop when the desire of \"autonomous\" professionals to work according to their own standards and traditions runs up against the constraints inherent in organizational hierarchies \n",
       "+ (1999, Administrative Science Quarterly) Such complex tasks require problem solving, have a high degree of uncertainty, and have few set procedures (Van de Ven, Delbecq, and Koenig, 1976), while routine tasks have a low level of variability, are repetitive \n",
       "+ (2001, Symbolic Interaction) And it is this restricted focus on meaning and interpretation, as suggested by Blumer’s three-pronged conceptualization, that provides a footing for many of the criticisms, both internal and external, of symbolic interactionism and one or more of its variants "
      ],
      "text/plain": [
       "<IPython.core.display.Markdown object>"
      ]
     },
     "metadata": {},
     "output_type": "display_data"
    },
    {
     "data": {
      "text/markdown": [
       "# Hanushek, E A, Jackson, J E {Statistical methods for social scientists} 1977"
      ],
      "text/plain": [
       "<IPython.core.display.Markdown object>"
      ]
     },
     "metadata": {},
     "output_type": "display_data"
    },
    {
     "name": "stdout",
     "output_type": "stream",
     "text": [
      "[('Hanushek and Jackson (1977)', 250), ('Hanushek & Jackson (1977)', 46)]\n"
     ]
    },
    {
     "data": {
      "text/markdown": [
       "+ (1981, American Journal of Political Science) What we have done, technically, is to estimate the reduced form of a structural equation model that includes challenger variables \n",
       "+ (1981, American Sociological Review) Logit models are estimable and interpretable when the explanatory variables are both continuous and categorical \n",
       "+ (1982, American Sociological Review) Statistical analysis Since the response variables are dichotomous contrasts of earlier versus later retirement and the independent variables include both categoric and continuous variables, the analytic procedure used is a multivariate logistic regression technique \n",
       "+ (1982, Journal of Health and Social Behavior) They differ in the exact functional form and in the estimation techniques used, but they are alike in relating the probability of the outcome to the predictors with a sigmoid curve that does not exceed one or go below zero \n",
       "+ (1984, American Sociological Review) As is well known, the probit or logit specifications are usually preferable to the linear model because the former take account of the ceiling and floor effects on the dependent variable whereas the linear model does not \n",
       "+ (1984, Journal of Health and Social Behavior) We feel, however, that with a large sample and only a moderate skew in the dependent variable (16 percent report drug use at Time 3), multiple regression remains a robust technique \n",
       "+ (1985, American Journal of Political Science) If these factors are not controlled in the analysis, context will serve as a partial proxy for them and some of their effects will then (wrongly) be attributed to context \n",
       "+ (1985, American Journal of Political Science) These estimates have more desirable statistical properties, e.g., asymptotic efficiency \n",
       "+ (1985, American Sociological Review) There is some uncertainty in the literature on the interpretation of t-ratios in conjunction with logit regressions \n",
       "+ (1986, American Sociological Review) Thus, weighting proportionate to unit sample size reduces problems of heteroskedasticity \n",
       "+ (1987, American Sociological Review) I WLS estimation-which includes ratio estimationis often the easiest way to correct for heteroscedasticity \n",
       "+ (1987, Social Forces) Since dependent variables with a restricted 0-1 range violate the assumptions of OLS, these outcome measures were reexpressed using the logit transformation \n",
       "+ (1987, Social Forces) The family variables in the \"C\" equations show the effects of family for women only; this is a consequence of how the sex variable is coded in this analysis \n",
       "+ (1988, Journal of Marriage and Family) Logit analysis was used to estimate the extent to which demographic characteristics predict eventual outcomes of separation \n",
       "+ (1988, Journal of Marriage and Family) The following are some of the pitfalls of using OLS regression \n",
       "+ (1988, Review of Religious Research) Thus, the estimated coefficients are standardized betas, not estimates of the population parameters \n",
       "+ (1988, Sociology of Education) In addition, the use of lagged endogenous variables, wages and SEI, in these regression models leads to serial correlation in the error term, which implies the possibility of biased coefficients \n",
       "+ (1989, Social Forces) Analysis A multinomial logit model \n",
       "+ (1990, Administrative Science Quarterly) Using OLS would thus introduce systematic errors in the model and could produce unrealistic predicted probabilities that are greater than one \n",
       "+ (1990, Social Forces) The inverse of the square root of SMSA size served as the weight \n",
       "+ (1991, Journal of Marriage and Family) Model Testing Strategy Given the dichotomous nature of the dependent variable, it was considered prudent to use logit analysis \n",
       "+ (1991, Social Forces) Each regression model was weighted by 1 divided by the square root of the variance of the individual item used to create the aggregate-level dependent variable \n",
       "+ (1993, Journal of Marriage and Family) Since the standard regression assumptions of linear relationships and normally distributed errors are violated when the dependent variables are percentages \n",
       "+ (1993, Social Forces) Although this point has been made before by Petersen (1985), and although other statisticians have been careful to avoid an incorrect interpretation of the partial slope in logit modeling \n",
       "+ (1993, Social Forces) DeMaris makes it difficult to verify this from his citations to calculus and econometric references since he never gives specific pages for works that are hundreds of pages long and cover topics besides logit.3 My citations to the same and similar works refer to the specific~ pages on which the formula for the first-order derivative, 0 P/I X, is presented \n",
       "+ (1994, Social Forces) Logit models express the natural logarithm of the odds ratio, the logit, as a linear function of the explanatory variables \n",
       "+ (1994, Social Forces) Logit models express the natural logarithm of the odds ratio, the logit, as a linear function of the explanatory variables \n",
       "+ (1995, American Sociological Review) In following Burt's method of operationalization, we begin by transforming the input-output flows of actual dollar amounts into proportional trade figures between manufacturing sectors to determine the relative importance of interindustry market ties: I Xi, i=\n",
       "+ (1995, Sociological Forum) Standard tests for interactions and Chow tests \n",
       "+ (2003, International Journal of Sociology) That probability can be expressed as a linear function of a set of explanatory variables: P(t) = a + U?ixi However, since probabilities are bounded by 0 and 1, the use of the simple probability as a dependent variable in an OLS analysis can result in computa tional and interpretive difficulties "
      ],
      "text/plain": [
       "<IPython.core.display.Markdown object>"
      ]
     },
     "metadata": {},
     "output_type": "display_data"
    },
    {
     "data": {
      "text/markdown": [
       "# Harman, H H, Holzinger, K J {Modern Factor Analysis} 1960"
      ],
      "text/plain": [
       "<IPython.core.display.Markdown object>"
      ]
     },
     "metadata": {},
     "output_type": "display_data"
    },
    {
     "name": "stdout",
     "output_type": "stream",
     "text": [
      "[]\n"
     ]
    },
    {
     "data": {
      "text/markdown": [],
      "text/plain": [
       "<IPython.core.display.Markdown object>"
      ]
     },
     "metadata": {},
     "output_type": "display_data"
    },
    {
     "data": {
      "text/markdown": [
       "# Heise, D R {Sociological methodology} 1975"
      ],
      "text/plain": [
       "<IPython.core.display.Markdown object>"
      ]
     },
     "metadata": {},
     "output_type": "display_data"
    },
    {
     "name": "stdout",
     "output_type": "stream",
     "text": [
      "[('Heise (1975)', 35)]\n"
     ]
    },
    {
     "data": {
      "text/markdown": [
       "+ (1976, Sociological Methodology) In models with instrumental variables \n",
       "+ (1977, American Sociological Review) Column 2 of these tables shows the regression estimates of 12 One way to state the statistical requirements for the instruments is to see if they are correlated with the regressor and have no statistically significant direct effect on the dependent variable when the other relevant variables are controlled \n",
       "+ (1977, Annual Review of Sociology) 140 BIELBY & HAUSER The recent appearance of a number of texts on structural equation models written by or for sociologists \n",
       "+ (1977, Annual Review of Sociology) Causal lag \n",
       "+ (1977, Journal of Health and Social Behavior) When populations have different distributions on relevant variables, standardization within each population does not lead to equivalent measurement units across populations and, therefore, the standardized regression coefficients based on those units are not comparable \n",
       "+ (1978, American Sociological Review) In addition, they must assume that the work attitudes variable is not correlated with the unspecified sources (i.e., the error term) of the fertility expectations variable \n",
       "+ (1979, American Journal of Sociology) Assuming no specification error, a satisfactory instrumental variable should have a direct effect on the variable for which it is an instrument, but it should have no direct effect on the other variable in the nonrecursive relationship \n",
       "+ (1980, Journal of Marriage and Family) A third approach, which is more convenient, although not so powerful as the former two approaches, is to inspect the correlation matrix to insure that at least some of the correlations between exogenous and endogenous variables are larger than the largest correlation among the exogenous variables \n",
       "+ (1980, Journal of Marriage and Family) When comparing populations with different variances or when doing longitudinal studies of a changing population, it is important to report unstandardized coefficients \n",
       "+ (1981, Journal of Health and Social Behavior) It should be noted that the use of empirical modeling (e.g., McLeary and Hay, 1980) and of structural equation \n",
       "+ (1981, Sociology of Education) To identify the direct and indirect effects of the independent and intervening variables upon the dependent variables a path analysis was undertaken \n",
       "+ (1982, American Journal of Sociology) We agree but also argue (a) that lagging our economic variables removes the possibility of simultaneous determination between economic conditions at time t - 1 and state expenditures at time t \n",
       "+ (1982, Sociological Methodology) Despite the enormous interest in indirect effects displayed by sociologists \n",
       "+ (1983, Social Psychology Quarterly) In the path analytic method, there is no standard way of handling interactions and they usually are not considered \n",
       "+ (1984, American Sociological Review) Conceivably, recursive tests could indicate a unidirectional relationship between two variables, i.e., X->Y, when the actual relationship (as estimated from a nonrecursive model) could indicate either that the variables are reciprocally related, i.e., X = Y, or that the direction of causality is actually reversed, i.e., X*-Y4 \n",
       "+ (1985, Journal of Health and Social Behavior) Regarding causality, the goals of the research model were modest \n",
       "+ (1985, Journal of Marriage and Family) \n",
       "+ (1985, Sociological Theory) by changes in E (all else being equal), although changes in E may occur without changes C. Furthermore, when we deal with a system of variables with probabilistic relationships we must assume, for estimation purposes, that the population under study is homogeneous; that is, that all the units of analysis in it have the same causal structure, characterized by one set of structural equations \n",
       "+ (1986, Sociological Methodology) 159//////160 MICHAEL E. SOBEL models with observed variables \n",
       "+ (1986, Sociology of Education) To identify the direct and indirect effects of the independent and intervening variables upon the dependent variables, we did a path analysis \n",
       "+ (1988, Journal of Marriage and Family) A first use of causal modeling is as a heuristic tool for organizing and expressing one's thoughts about the expected nature of relationships among variables; for this use it has almost unanimous approval \n",
       "+ (1988, Sociological Methodology) Extended discussions of path analysis and structural equations models are numerous \n",
       "+ (1989, American Sociological Review) \n",
       "+ (1989, Annual Review of Sociology) Now, however, major textbooks on multivariate methods routinely include chapters on covariance structure models \n",
       "+ (1990, Social Psychology Quarterly) I refer to diagrams such as those displayed in Figure 1(b) as scalar flowgraphs in order to distinguish them from path diagrams \n",
       "+ (1991, Sociological Methodology) Three sociological \"texts\" all appeared in 1975 \n",
       "+ (1994, Sociological Forum) Path analysis is its best known application (Duncan, 1966) but the same ideas can be applied to regression as a whole \n",
       "+ (2004, American Journal of Sociology) We will analyze correlations between primary emotions in order to see how movement between distant, mutually inhibiting emotions can be expedited by passage through transitional emotions.2/// /// /// 2/// Inferring transitions over time from cross‐sectional correlations is similar to making causal inferences from cross‐sectional data \n",
       "+ (2004, Sociology of Religion) Nonrecursive models require that instrumental variables be identified for both dependent variables in the loop, with the criteria that the instruments are strongly correlated with one dependent variable in the loop and have no theorized effect on the other \n",
       "+ (2005, Sociological Perspectives) Depending on the two prerequisites, this model shows two potential oscillating saddle points "
      ],
      "text/plain": [
       "<IPython.core.display.Markdown object>"
      ]
     },
     "metadata": {},
     "output_type": "display_data"
    },
    {
     "data": {
      "text/markdown": [
       "# Hess, Robert D, Torney, Judith V {The development of political attitudes in children} 1967"
      ],
      "text/plain": [
       "<IPython.core.display.Markdown object>"
      ]
     },
     "metadata": {},
     "output_type": "display_data"
    },
    {
     "name": "stdout",
     "output_type": "stream",
     "text": [
      "[('Hess and Torney (1967)', 28), ('Hess & Torney (1967)', 3)]\n"
     ]
    },
    {
     "data": {
      "text/markdown": [
       "+ (1970, Sociology of Education) \"The school stresses the ideal norms and ignores the tougher, less pleasant facts of political life in the United States\" \n",
       "+ (1971, Journal of Marriage and Family) Since that time several researchers have called into question the centrality of the family in the political socialization process \n",
       "+ (1972, American Journal of Sociology) Recent studies in the field of political socialization \n",
       "+ (1973, American Sociological Review) Much recent research suggests that the development of basic behavior and beliefs about politics occurs long before adulthood, and that the social sources of these phenomena must be traced to events at a similar point in time \n",
       "+ (1973, American Sociological Review) Without exception, investigations of early political learning emphasize that the affective side of political orientations develops before the others, and colors one's later reactions to political objects and symbols \n",
       "+ (1973, American Sociological Review) cognitive, and evaluative \n",
       "+ (1974, American Sociological Review) Like previous research \n",
       "+ (1974, American Sociological Review) Our questions, in fact, were adapted from the pathbreaking analyses of Easton and Hess \n",
       "+ (1974, American Sociological Review) Political Knowledge and Participation Although the affective dimension of political orientations is believed to be the first to develop among children \n",
       "+ (1975, American Journal of Political Science) Although others \n",
       "+ (1975, American Journal of Political Science) In several early socialization surveys, white American children in the 1960s were found to hold highly positive images of the presidency \n",
       "+ (1975, Review of Religious Research) There are studies of sex practices and attitudes (e.g., Reiss, 1967) and of political practices and attitudes \n",
       "+ (1975, The Canadian Journal of Sociology / Cahiers canadiens de sociologie) Empirical research on trust has concentrated on the development of political support attitudes, especially among children \n",
       "+ (1976, American Journal of Political Science) The number of both political scientists and educators who report positive findings in this domain, or at least envision a prominent role for teachers in political socialization, is impressive \n",
       "+ (1977, American Journal of Political Science) Our findings thus lend further support to the pattern of sustained positive affect for the nation which the socialization literature of the past has so abundantly documented \n",
       "+ (1977, Annual Review of Sociology) Most of these findings were summarized in three works \n",
       "+ (1977, Annual Review of Sociology) To a surprising degree children responded that the policeman and especially the president \"would always want to help me if I needed it,\" that \"they almost never make mistakes,\" that \"they know more than anyone\" \n",
       "+ (1977, Sociological Focus) First, while there is some subcultural variation, particularly among the very poor (Jaros, et al., 1968; Lyons, 1970) and among blacks (Greenberg, 1970; Orum and Cohen, 1973; Miller, 1974; Campbell, 1976) at a very early age, family and school have tended to develop within the child a strong sense of national loyalty \n",
       "+ (1977, Sociological Focus) For purposes of base-line comparison, response patterns were contrasted with available data on childrens' views of the characteristics of people who run for public office \n",
       "+ (1979, American Journal of Sociology) Hypothesis One: Early Political Socialization and Selective Recruitment to College There is some debate over whether the family actually transmits the kinds of attitudes and learnings that would lead to logically coherent political ideologies or whether partisanship among children is largely devoid of specific information about what the parties stand for \n",
       "+ (1979, American Journal of Sociology) In elementary and secondary education, instilling political attitudes involves deliberately training children in citizenship and the development of consensual values and an attachment to the nation and government \n",
       "+ (1980, American Journal of Political Science) However, the number of studies is not large, and the variety of methodology and findings defies categorization \n",
       "+ (1986, American Journal of Political Science) They then argued that such basic attitudes persisted largely unchanged throughout the adult years \n",
       "+ (1986, Annual Review of Sociology) Research has also indicated that the quality of political thought is modified by factors such as intelligence, family background, gender and ethnic differences, and social class, while the direction of political orientation is influenced by socialization agents such as family, friends, teachers, and media \n",
       "+ (1988, American Journal of Political Science) The implications of reference group theory for the impact of partisan ties on issue attitudes are straightforward: an individual may develop a personal attachment to one of the parties as a result of socialization processes \n",
       "+ (1989, American Journal of Political Science) One is the existence of a reservoir of allegiance developed during the childhood political socialization process \n",
       "+ (1991, American Journal of Political Science) Furthermore, these orientations are presumed to persist relatively unchanged throughout adulthood and to shape citizens' attitudes on new concrete political issues that become the subject of public debate \n",
       "+ (2012, American Journal of Political Science) Family, in particular, has long been seen as a primary environmen tal influence on political attitudes in this literature, with significant positive relationships between parents and off spring on political orientations being uncontroversially interpreted as the impact of common environmental so cialization rather than genes \n",
       "+ (2012, American Journal of Political Science) Other studies focusing on explicit political attitudes have used stories and pictures to demonstrate that children, some as young as four or five and even prior to their first year of school, possess independent political attitudes \n",
       "+ (2012, American Journal of Political Science) Recent scholarship, however, has demonstrated that political attitudes de velop much earlier than previously suspected "
      ],
      "text/plain": [
       "<IPython.core.display.Markdown object>"
      ]
     },
     "metadata": {},
     "output_type": "display_data"
    },
    {
     "data": {
      "text/markdown": [
       "# Hodson, Randy {Labor in the Monopoly, Competitive, and State Sectors- of Production} 1978"
      ],
      "text/plain": [
       "<IPython.core.display.Markdown object>"
      ]
     },
     "metadata": {},
     "output_type": "display_data"
    },
    {
     "name": "stdout",
     "output_type": "stream",
     "text": [
      "[('Hodson (1978)', 84)]\n"
     ]
    },
    {
     "data": {
      "text/markdown": [
       "+ (1980, American Sociological Review) Indeed, those in secondary labor markets and in the competitive sector have been characterized by (and found to have) lower educational and skill levels \n",
       "+ (1980, American Sociological Review) Much of this research purports to show that individual achievement is a function of structural factors such as class (Wright and Perrone, 1977; Wright, 1978; Kalleberg and Griffin, 1978; 1980), authority (Kluegel, 1978; Robinson and Kelley, 1979; Wolf and Fligstein, 1979), organizational size (Stolzenberg, 1978), or labor market sector \n",
       "+ (1981, American Journal of Sociology) Yet most empirical studies in the dual economy tradition use industries, or aggregations of firms, as the units of analysis \n",
       "+ (1982, American Journal of Sociology) These industries are characterized by a high degree of capital centralization and concentration \n",
       "+ (1982, American Journal of Sociology) Unemployment in the unionized sector is more subject to pronounced cyclical fluctuations, increasing markedly in recession periods and decreasing in periods of boom \n",
       "+ (1982, American Sociological Review) Averitt (1967), O'Connor (1973) and others \n",
       "+ (1982, American Sociological Review) Both these variables have parallel relations to the three sectors of the economy included in our model \n",
       "+ (1982, American Sociological Review) Empirical support for this explanation for low wages has been found by a growing number of sociologists \n",
       "+ (1982, American Sociological Review) In lieu of this, those industries that would be considered part of the state sector (including \"Government\") were put into the concentrated sector-since state sector wage patterns are closer to the concentrated sector \n",
       "+ (1982, American Sociological Review) Industries were assigned to the sectors according to Hodson's classification scheme \n",
       "+ (1983, Social Problems) Instead, they argue that the economy is characterized by different reward systems and avenues for mobility \n",
       "+ (1983, The Canadian Journal of Sociology / Cahiers canadiens de sociologie) However, the continuing literature in this area, much of it drawing upon, or sympathetic to, the radical position \n",
       "+ (1986, American Journal of Sociology) The establishment-level variables that we chose to include in our initial study were selected primarily to represent major conceptual areas that had been emphasized in the existing literature \n",
       "+ (1986, Social Forces) Sectors with higher pension coverage rates are those typically classified public and private core sectors and primary labor markets \n",
       "+ (1986, Sociological Forum) SUMMARY AND DISCUSSION In the absence of establishment-level data, researchers have often substituted information about industry to place workers within the organizational matrix of advanced capitalist societies \n",
       "+ (1987, Social Forces) Sociological researchers have also examined wage and employment differentials between workers in various sectors of the economy \n",
       "+ (1988, Sociological Focus) In addition, a number of studies have shown that industrial structure does affect labor market returns to workers significantly (e.g., Parcel and Mueller, 1983) and that sector affects socioeconomic outcomes or conditions socioeconomic attainment \n",
       "+ (1988, Sociological Focus) his colleagues suggest that work in the core of the economy is organized via primary labor markets while work in the periphery of the economy is organized along secondary labor market lines.1 Workers within core industries are disproportionately male, generally better paid, more likely to be continuously employed, and more likely to be unionized when compared with those in the peripheral sector \n",
       "+ (1988, Sociological Perspectives) State bureaucracies may share characteristics in common with monopoly firms, but they are most properly analyzed separately \n",
       "+ (1988, Sociological Perspectives) The dual economy model hypothesizes that the economy is divided into two parts: a monopoly (or core) and a competitive (or periphery) sector \n",
       "+ (1989, Social Forces) of dualism, Randy Hodson and Robert Kaufman (1982) note that its ideas are descriptive; that there is no clear specification of the linkages of the components of dualism; and that research fails to support some of its key ideas, including the supposition of parallelism between economic sectors and labor markets (Baron & Bielby 1980) or the homogeneity of an economic sector's labor markets \n",
       "+ (1990, Sociological Focus) Past research has documented the predominant allocation of minorities to periphery industries \n",
       "+ (1991, The Sociological Quarterly) The state sector is further differentiated by its pivotal position in meeting both the needs of monopoly expansion and the demand for public services \n",
       "+ (1992, American Journal of Sociology) Second, labor segmentation theorists suggest that turnover was most costly in capital-intensive, core industries that relied on firm-specific skills, and that those industries increased wages and benefits to induce long-term employment \n",
       "+ (1994, American Sociological Review) 1980) or on wage inequality across markets \n",
       "+ (1996, American Sociological Review) Several writers have suggested that the private-sector U.S. economy can be divided into two subsectors with distinct forms of labor control: \"Core\" industries contain large, capital-intensive firms that depend on skilled workers; \"peripheral\" industries contain small, labor-intensive firms that employ largely unskilled workers \n",
       "+ (2000, Social Forces) Early work on labor-market opportunity made the distinction between core (primary) and peripheral (secondary) labor-market areas, and it was argued that each has implications for the distribution of resources within a population given varying returns on human capital investment, training, wages, and job stability \n",
       "+ (2003, Social Problems) I tested for industry variation by including the dummy variables “monopoly,” “state,” and “competitive,” following the industrial segmentation perspective \n",
       "+ (2003, The Sociological Quarterly) The preponderance of research on the structural determinants of work outcomes, either explicitly or implicitly, assumed a parallel structure between segmented labor markets and dual economic sectors, locating primary labor market occupations in the core of the economy and secondary labor market occupations in the periphery of the economy \n",
       "+ (2011, Social Forces) These two sectors are also often referred to as the monopoly and competitive sectors "
      ],
      "text/plain": [
       "<IPython.core.display.Markdown object>"
      ]
     },
     "metadata": {},
     "output_type": "display_data"
    },
    {
     "data": {
      "text/markdown": [
       "# Horan, Patrick M. {Is Status Attainment Research Atheoretical?} 1978"
      ],
      "text/plain": [
       "<IPython.core.display.Markdown object>"
      ]
     },
     "metadata": {},
     "output_type": "display_data"
    },
    {
     "name": "stdout",
     "output_type": "stream",
     "text": [
      "[('Horan (1978)', 58)]\n"
     ]
    },
    {
     "data": {
      "text/markdown": [
       "+ (1978, American Sociological Review) worker invests in training which will maximize the economic return (earnings) on investments (Becker, 1964; Mincer, 1974) while free competition among firms for labor skills guarantees a price for various labor types which is equal to the marginal productivity of that labor.2 Others have noted the similarities between the functional theory of occupations and neoclassical economic theories \n",
       "+ (1980, American Journal of Sociology) This interest in economic structure has received added research impetus from a recent trend of reaction against individualistic research traditions in social stratification \n",
       "+ (1980, American Sociological Review) Status attainment rests on a neoclassical theoretical perspective \n",
       "+ (1980, Contemporary Sociology) \n",
       "+ (1980, The Sociological Quarterly) To the extent that one accepts this premise, status attainments are perceived as largely the result of individual characteristics \n",
       "+ (1981, American Journal of Sociology) Although the status-attainment literature has been sharply criticized for its limited conception of occupational structure \n",
       "+ (1981, American Journal of Sociology) Heretofore untested commitments abound as to the social class structure of occupational mobility, since non-Marxist theories \n",
       "+ (1983, American Sociological Review) First, the assumption that individual attributes determine occupational outcomes is rejected, since the structural context within which the individual is located effects the pricing of these attributes \n",
       "+ (1983, Sociology of Education) Perhaps, but aside from constant challenges from those who do not completely share the status attainment perspective \n",
       "+ (1984, American Sociological Review) When these theoretical absences and presences are taken together, we see that the model treats stratification as a series of individuated choices taking place on an open market, which \"requires the assumption of market homogeneity for the population under study\" \n",
       "+ (1986, Sociological Forum) The utility of sociological and economic models that attempt to explain social structural phenomena in terms of the decisions or choices of individual actors has been questioned with growing interest over the past decade \n",
       "+ (1986, Symbolic Interaction) Status attainment research has drawn criticism from those who argue that it is atheoretical and overly concerned with method at the expense of substance \n",
       "+ (1987, American Sociological Review) But, others \n",
       "+ (1987, American Sociological Review) In addition, most of the variables in status attainment research have been individual characteristics \n",
       "+ (1987, The Sociological Quarterly) The net consequence is that the consideration of large-scale historical change-historical time-has been eradicated from mobility research \n",
       "+ (1988, Annual Review of Sociology) This point is sometimes obscured when status attainment research is taken as the main exemplar of functionalist research, given the focus of status attainment research on how individual characteristics affect rewards \n",
       "+ (1989, Social Forces) Whereas the early status attainment models were criticized for ignoring social structure as if the attain-//////20 / Social Forces Volume 68:1, September 1989 ment process were wholly a function of motivational and interpersonal factors operating in an \"open\" system \n",
       "+ (1990, Administrative Science Quarterly) In the sociological tradition, the Wisconsin status-attainment model emphasizes this same link between productivity and rewards \n",
       "+ (1990, Sociological Methodology) As this style of research grows in influence, some commentators have argued that the traditional interest in system-level outcomes is being abandoned and that a new emphasis on purely individual behavior is emerging \n",
       "+ (1990, Sociology of Education) However, there is no consensus on exactly what theoretical framework status attainment operates from; some have argued that it is derived from a set of functionalist assumptions \n",
       "+ (1991, European Sociological Review) The 'normal science' of status attainment research and human capital theory has not concealed the fact that the filling and changing of occupational positions does not behave according to the principles of the free market \n",
       "+ (1992, Social Indicators Research) Theoreti cally they stem from the functionalist approach and from the human capital theory that emphasizes the investments in skill, education and work experience as determinants of material work rewards \n",
       "+ (1994, American Sociological Review) 1980) or on wage inequality across markets \n",
       "+ (1994, The Sociological Quarterly) They base this conclusion on two main postulates: (1) studies of social stratification should focus on structured inequalities and structural change; and (2) since occupational prestige scores are averaged judgments, they are of little utility in social stratification research thus conceived \n",
       "+ (1995, Annual Review of Sociology) The adequacy of the status attainment models was soon questioned because they seemed implicitly to assume a wholly \"open\" society in which individuals were able to compete for desired outcomes \n",
       "+ (1995, European Sociological Review) Among criticisms that have been made of such approaches, one of the most common is that these models presuppose the existence of an 'open, fully competitive market process in which individual characteristics are identified and rewarded according to their societal value' \n",
       "+ (1995, The Canadian Journal of Sociology / Cahiers canadiens de sociologie) Researchers using this perspective generally assume that labour markets are open, equitable, rational, and efficient, that individuals have equal power and information available to them when looking for work, and that there is consensus regarding the value and prestige of occupational positions \n",
       "+ (1997, Sociological Perspectives) Finally, when it is even more rarely acknowledged that a phase dealing with status attainment research exists and is, to varying degrees, important in the intellectual career of Blau (see McPherson 1993), the theoretical significance of this work is negated, minimized, or misinterpreted \n",
       "+ (2001, Social Indicators Research) This perspective which is essentially individualistic, stresses the impact of merit, skills, and performance on the rewards received in the labor market \n",
       "+ (2006, Sociology of Education) Some studies have sought to extend this research to include the social-psychological factors that mediate parental characteristics (Sewell and H?user 1975), while others have highlighted struc tural forces, especially economic forces, that shape the attainment process "
      ],
      "text/plain": [
       "<IPython.core.display.Markdown object>"
      ]
     },
     "metadata": {},
     "output_type": "display_data"
    },
    {
     "data": {
      "text/markdown": [
       "# Hyman, H. {The Value Systems of Different Classes} 1966"
      ],
      "text/plain": [
       "<IPython.core.display.Markdown object>"
      ]
     },
     "metadata": {},
     "output_type": "display_data"
    },
    {
     "name": "stdout",
     "output_type": "stream",
     "text": [
      "[('Hyman (1966)', 27)]\n"
     ]
    },
    {
     "data": {
      "text/markdown": [
       "+ (1970, American Sociological Review) Method of Analysis Mobility effects, status inconsistency effects, and structural effects have raised a number of methodological problems \n",
       "+ (1971, American Journal of Sociology) Finally, on methodological grounds, it has been argued that although some statistical interaction effects have been demonstrated between status variables with regard to some presumed effects of status inconsistency, any \"interaction\" effect cannot simply be equated with an inconsistency effect \n",
       "+ (1972, Social Problems) 470 SOCIAL PROBLEMS it performs for people and the meanings it signifies may vary, primarily from the influence that social class generates on the expectations, aspirations, and opportunities which compose the Weltanschuungen of individuals \n",
       "+ (1972, The Sociological Quarterly) 5 With all the available literature in this area \n",
       "+ (1972, The Sociological Quarterly) Status inconsistency analysis is subject to severe methodological problems \n",
       "+ (1973, American Journal of Sociology) (3) The social consistency formulations predict that two or more main variables will affect strain in a nonadditive manner \n",
       "+ (1974, American Journal of Sociology) In spite of the widespread use of the concept of status inconsistency \n",
       "+ (1974, Social Problems) Also, he would almost certainly have reservations about the notion that members of the lower class simply want lesser degrees of attainment than others in the society \n",
       "+ (1974, Social Problems) Obviously, there is no evidence for a negative heterogamy effect on the stability of the marriages.12 There is a possible kind of heterogamy effect which would not be revealed by the test for interaction, namely, approximately equal and opposite influences from the two kinds of heterogamy \n",
       "+ (1975, The Sociological Quarterly) A structural formulation, which argues that social-structural and institutionalstructural factors defining objective opportunities account for most of the variation in educational plans \n",
       "+ (1976, The Sociological Quarterly) and interpersonal attachment (Baumann, 1968; Berelson et al., 1954; Bloombaum, 1964; Brandon, 1965; Chiricos et al., 1970; Curtis, 1970; Demerath, 1965; Dohrenwend, 1966; Eitzen, 1970b; Hunt and Cushing, 1970; Jackson and Burke, 1965; Lane, 1959; Lazarsfeld et al., 1944; Martin, 1965; Meile and Haesse, 1969; Parker, 1963; Rohter, 1970; Sampson, 1963); (3) significant methodological flaws \n",
       "+ (1977, The Sociological Quarterly) The attacks have been of three types: primarily empirical (Jackson and Curtis, 1972; Kelly and Chambliss, 1966; Kenkel, 1956; Olsen and Tully, 1972; Segal et al., 1970), primarily methodological \n",
       "+ (1981, The Sociological Quarterly) Indeed, the literature on beliefs about inequality and poverty supports this reasoning \n",
       "+ (1981, The Sociological Quarterly) With respect to achievement or success values, for example, some simply assert that significant class differences exist: \"the lower class individual doesn't want as much success, couldn't get it even if he wanted to, and doesn't want what might help him get success\" \n",
       "+ (1982, American Sociological Review) It follows a sequence of studies dating back many decades \n",
       "+ (1983, American Journal of Sociology) There is a body of evidence showing a positive correlation between social class and a positive valuation of abstract knowledge and of education for its own sake \n",
       "+ (1983, The Sociological Quarterly) Social psychologists \n",
       "+ (1984, Journal of Health and Social Behavior) According to this argument, failures and inadequacies can be blamed on one's place in society rather than on oneself, and striving for success can be comfortably put aside \n",
       "+ (1985, Annual Review of Sociology) Upper status groups are more likely than lower status groups to believe that anyone has the opportunity to move ahead in American society \n",
       "+ (1985, Annual Review of Sociology) lower status groups to believe that anyone has the opportunity to move ahead in American society (Hyman 1966, Huber & Form 1973:90-7); that opportunities for achievement are essentially equal for all (Huber & Form 1973:90-9, van Fossen 1979:304, Jackman & Jackman 1983:208-10); and that mobility is the product of hard work and ability rather than luck or having been born to well-to-do parents \n",
       "+ (1986, Sociological Focus) The earliest studies \n",
       "+ (1986, Sociological Focus) These studies stand in contrast to others \n",
       "+ (1990, American Journal of Sociology) The consolation-prize theory of alienation says that rejecting responsibility for outcomes in their own lives helps low-status people feel less distressed by their situation \n",
       "+ (1990, Journal of Health and Social Behavior) Theory and research say clearly that instrumentalists have higher social and economic status than fatalists \n",
       "+ (1993, The Sociological Quarterly) Tendencies to hold individuals responsible for failure or success is most pronounced among those in upper \n",
       "+ (2007, European Sociological Review) For instance, the observed association between the families' economic resources and educational outcomes may actually not be the consequence of perceived costs, but could well be due to class-specific norms and values, which are correlated with wealth \n",
       "+ (2008, European Sociological Review) Over a span of more than three decades from the 1940s to the 1980s, research on status incon sistency went from escalation to boom to downfall "
      ],
      "text/plain": [
       "<IPython.core.display.Markdown object>"
      ]
     },
     "metadata": {},
     "output_type": "display_data"
    },
    {
     "data": {
      "text/markdown": [
       "# Kahl, J A {The American class structure: With an introduction by Kingsley Davis} 1965"
      ],
      "text/plain": [
       "<IPython.core.display.Markdown object>"
      ]
     },
     "metadata": {},
     "output_type": "display_data"
    },
    {
     "name": "stdout",
     "output_type": "stream",
     "text": [
      "[('Kahl (1965)', 11)]\n"
     ]
    },
    {
     "data": {
      "text/markdown": [
       "+ (1971, American Journal of Sociology) Closely related are questions concerning the social backgrounds of those who are more affected or less affected by education, the kinds of 2 We refer to these value orientations as \"modern\" but recognize their similarity to those sometimes identified as \"achievement,\" \"Western,\" or \"American\" \n",
       "+ (1972, American Sociological Review) This clarity is especially critical in motivational research, where the validity and reliability of achievement motivation constructs (Krumboltz, 1957), their situational fragility (McClelland, 1958), and their probable multi-dimensionality \n",
       "+ (1972, American Sociological Review) While some social psychologists argue that the components of achievement orientation are multiple \n",
       "+ (1972, Social Problems) (2) A value orientations questionnaire similar to those used in previous research on achievement values was also administered to the subjects \n",
       "+ (1972, Social Problems) Despite the fact that achievement is a multidimensional phenomenon, only two of its dimensions have been emphasized in the current literature: (1) achievement as psychological motive (McClelland, 1961, Rosen, 1964); (2)//////Achievement in Rural South 497 achievement as a cultural value orientation which channels and guides individual motives \n",
       "+ (1972, Social Problems) In either their traditional or modern profile, these values are seen as guiding, channeling, and circumscribing the goals and ends toward which individuals strive \n",
       "+ (1973, International Journal of Sociology of the Family) Largely on the basis of earlier studies which produced findings suggesting that \"independence from family\" and socioeconomic status were positively cor related \n",
       "+ (1973, International Journal of Sociology of the Family) More recent research has produced evidence linking low authoritarian con trol by parents as well as independence from family with such variables as high 145//////INTERNATIONAL JOURNAL OF SOCIOLOGY OF THE FAMILY levels of achievement motivation and high occupational and educational attain ment \n",
       "+ (1973, International Journal of Sociology of the Family) Recent research \n",
       "+ (1978, Annual Review of Sociology) VALUE AND RELATED INVENTORIES Scales of questionnaire items have been used to assess one or multiple components of ambition or a global achievement orientation \n",
       "+ (1989, American Journal of Sociology) In addition to this inferential evidence, a few studies focus directly on the significance of work for self esteem, and these studies also show considerable variation in this relationship "
      ],
      "text/plain": [
       "<IPython.core.display.Markdown object>"
      ]
     },
     "metadata": {},
     "output_type": "display_data"
    },
    {
     "data": {
      "text/markdown": [
       "# Kardiner, Abram {The Psychological Frontiers of Society} 1945"
      ],
      "text/plain": [
       "<IPython.core.display.Markdown object>"
      ]
     },
     "metadata": {},
     "output_type": "display_data"
    },
    {
     "name": "stdout",
     "output_type": "stream",
     "text": [
      "[('Kardiner (1945)', 2)]\n"
     ]
    },
    {
     "data": {
      "text/markdown": [
       "+ (1988, Social Psychology Quarterly) The practice of good mothering in American society, for example, is said to lead to a pattern of passive adaptation in the basic personality structure "
      ],
      "text/plain": [
       "<IPython.core.display.Markdown object>"
      ]
     },
     "metadata": {},
     "output_type": "display_data"
    },
    {
     "data": {
      "text/markdown": [
       "# Keniston, Kenneth {Young Radicals: Notes on Committed Youth} 1968"
      ],
      "text/plain": [
       "<IPython.core.display.Markdown object>"
      ]
     },
     "metadata": {},
     "output_type": "display_data"
    },
    {
     "name": "stdout",
     "output_type": "stream",
     "text": [
      "[('Keniston (1968)', 60)]\n"
     ]
    },
    {
     "data": {
      "text/markdown": [
       "+ (1970, Social Problems) But they rather consciously organized family life to support antiauthoritarian and self-assertive impulses on the part of their children and rather clearly instructed them in attitudes favoring skepticism toward authority, egalitarianism and personal autonomy \n",
       "+ (1970, Social Problems) For example, it clearly signifies a process of change in the position of youth in the society-a change which involves protest against the subordination of youth to rigid and arbitrary forms of authority in the school system and in the general legal system, and which also may involve an extension of youth as a stage of life beyond adolescence \n",
       "+ (1970, Sociology of Education) These and other studies consistently reveal at least four major findings: (1) that activist students come from high status families (Braungart, 1966:10-12, Flacks, 1967:55-56; Kahn, 1968:13-17); (2) that these students have a strong academic commitment (Flacks, 1967:56; Heist, 1965); (3) that most major in the social sciences and humanities \n",
       "+ (1970, Sociology of Education) consistently reveal at least four major findings: (1) that activist students come from high status families (Braungart, 1966:10-12, Flacks, 1967:55-56; Kahn, 1968:13-17); (2) that these students have a strong academic commitment (Flacks, 1967:56; Heist, 1965); (3) that most major in the social sciences and humanities (Keniston, 1968:307); and (4) that most have strong intellectual orientations \n",
       "+ (1971, Journal of Health and Social Behavior) Along these lines, researchers have related drug use to positions on a variety of sociopolitical issues, including opposition to the Vietnam War and identification with the civil-rights movement \n",
       "+ (1971, Journal of Health and Social Behavior) despair of achieving progressive social, political, and economic change \n",
       "+ (1971, Journal of Marriage and Family) Although much of the impetus for this research has come from social scientists whose substantive interest is politics (Eulau et al., 1959; Lane, 1959; Greenstein, 1960, 1965; Almond and Verba, 1963) or whose immediate concern has been student political activism \n",
       "+ (1972, American Journal of Sociology) Perhaps the most consistent finding to emerge from a generation of research on authoritarianism, ethnocentrism, and noneconomic conservatism2 is the negative association between these phenomena and variables which represent intellectual development, such as education, academic performance, and IQ \n",
       "+ (1972, Journal for the Scientific Study of Religion) Hallucinogenic drugs are often used to enhance sensations of interpersonal communion and expressive spontaneity; however the aftermath of a \"bad trip\" can leave a user feeling utterly isolated and unable to relate to others \n",
       "+ (1972, Sociology of Education) \n",
       "+ (1973, Journal for the Scientific Study of Religion) ~ ~ ~ ~ ~ ~ '~r <~~~ 0~~~~~~~~~~~~~~~0 0 00 N -~~~~0 >~~~~~~~~ 0 ~ ~ ~ ~ ~ 0 H~~~~~~~~ 000 0 ~~~~~~~~~ - 0~~~~~~//////RELIGION AMONG COLLEGE YOUTH 171 Such theory flies in the face, however, of a mounting body of evidence that it is more privileged youth who are most attracted to countercultural experimentation generally; an element of which, judging from our own data, is religious experimentation \n",
       "+ (1973, Sociological Focus) Studies on student politics have also suggested that some background factors may be important in determining ideological commitments to change \n",
       "+ (1973, The Sociological Quarterly) Again, dissatisfaction is with prevailing conditions be they poverty, war, racism, education, or political leadership \n",
       "+ (1974, Journal of Marriage and Family) Considerable research has been undertaken to delineate the varying value orientations and political ideologies of college youth, these orientations further examined in relationship to parental values and parent-child relationships \n",
       "+ (1974, Social Forces) \n",
       "+ (1974, Social Forces) For youth, alienation from the present political order, for example, may be a constructive force in the forging of a new and more humane political ideology \n",
       "+ (1975, Journal of Marriage and Family) Finally, a number of studies reported that students with high grade-point averages were likely to endorse campus protests \n",
       "+ (1976, American Sociological Review) Originally linked with the black civil rights movement, the radical group had not only grown significantly in size by the mid-1960s, but had shifted the brunt of its dominant culture critique to two issues more intimately related to most middle-class students: regulation by the educational institution and the Vietnam war \n",
       "+ (1976, Annual Review of Sociology) the focus is on the contentions, conflicts, and compromises of student politics (Lipset, 1967), on the more private domain of occupational aspirations, choices, and preparations (Davis, 1964, 1965; Sewell, Haller & Portes 1969; Duncan, Featherman & Duncan 1972; Gordon 1972), or on the attempts by increasing numbers of young people to transform the adult world before it crushes or destroys them \n",
       "+ (1977, The Sociological Quarterly) Keniston argues that a \"stage of youth\" makes possible reflections about meanings and a//////Draft Protesters 333 testing of potential social roles without which adult status in post-industrial society would be meaningless \n",
       "+ (1980, International Review of Modern Sociology) Campus protests were accompanied by numerous empirical studies of student radicalism and activism \n",
       "+ (1980, Sociological Focus) A large literature soon developed, focusing on the social characteristics of activists, their ideological beliefs, and various structural and cultural sources of the movement \n",
       "+ (1980, Sociological Focus) The format used here is an effort to construct a \"collective biography\" \n",
       "+ (1980, Sociological Focus) The years 1967 to 1970 were years of increasing militancy, political violence, and repression (Gurr, 1979; Flacks, 1971), during which the movement expanded to include large numbers of \"conventional\" middle class young people (Mankoff and Flacks, 1972) as well as \"culturally alienated\" \n",
       "+ (1980, Sociological Focus) When there was conflict between parents and children, various investigators have shown it was conflict over students feeling the parents did not live up to their own politically left-wing or culturally unconventional values \n",
       "+ (1986, Annual Review of Sociology) Much of the research on student activists in the 1960s confirmed the socialization explanation of generational transmission of political values from parent to offspring \n",
       "+ (1986, Annual Review of Sociology) that this was life-course generational conflict par excellence, as young people rejected the adult generation and acted out a host of deep-seated emotional conflicts in the political arena (Feuer 1969, Hendin 1975, Duncan 1980), other scholars contended that activist youth were not rebelling against parents and their politics but were merely carrying out the political values learned in the home \n",
       "+ (1991, Social Forces) factors have been proposed as explanations for activism: \"authoritarian personality characteristics\" (Hoffer 1951; Lipset & Rabb 1973); social isolation and alienation (Aberle 1966; Kornhauser 1959); feelings of \"relative deprivation (Davies 1971; Feierabend, Feierabend & Nesvold 1969; Geschwender 1968; Gurr 1970; Morrison 1973); agreement between movement goals and the values of one's parents \n",
       "+ (1991, Social Forces) factors have been proposed as explanations for activism: \"authoritarian personality characteristics\" (Hoffer 1951; Lipset & Rabb 1973); social isolation and alienation (Aberle 1966; Kornhauser 1959); feelings of \"relative deprivation (Davies 1971; Feierabend, Feierabend & Nesvold 1969; Geschwender 1968; Gurr 1970; Morrison 1973); agreement between movement goals and the values of one's parents \n",
       "+ (1993, Berkeley Journal of Sociology) According to Feuer, student activists are motivated by \"an emotional rebellion in which there is always present a disillusionment with and rejection of the values of the older generation...\" (Feuer, 1969: 11).1 But the evidence from social psychology indicates that students participating in campus protest activities held values similar to those of their parents "
      ],
      "text/plain": [
       "<IPython.core.display.Markdown object>"
      ]
     },
     "metadata": {},
     "output_type": "display_data"
    },
    {
     "data": {
      "text/markdown": [
       "# Kerlinger, F N, Pedhazur, E J {Multiple regression in behavioral research} 1973"
      ],
      "text/plain": [
       "<IPython.core.display.Markdown object>"
      ]
     },
     "metadata": {},
     "output_type": "display_data"
    },
    {
     "name": "stdout",
     "output_type": "stream",
     "text": [
      "[('Kerlinger and Pedhazur (1973)', 68), ('Kerlinger & Pedhazur (1973)', 2)]\n"
     ]
    },
    {
     "data": {
      "text/markdown": [
       "+ (1974, Journal of Health and Social Behavior) This is the squared semi-partial correlation \n",
       "+ (1975, American Sociological Review) Effect parameters for such data would be better estimated by effect coding \n",
       "+ (1977, Journal of Marriage and Family) An additional advantage of overidentified structural models is the ability to evaluate the entire model using the criterion of reproducing the correlation matrix \n",
       "+ (1977, Sociology of Education) This is compared to the explained variation from a model which estimates the same relationship between achievement and background for the entire sample and includes a dichotomous (dummy) variable for attendance in an open school \n",
       "+ (1978, Journal of Health and Social Behavior) compare the multiple R2 without events to the multiple R2 with them, they are in fact examining the square of the semi-partial (part correlation) \n",
       "+ (1978, Journal of Marriage and Family) Multiple classification analysis \n",
       "+ (1979, American Sociological Review) In order to allow for this, the upwardly mobile, downwardly mobile and nonmobile categories were coded in such a way as to generate a set of orthogonal contrasts reflecting these possibilities \n",
       "+ (1979, Social Problems) Although the use of product variables poses technical problems \n",
       "+ (1979, Sociological Focus) Multiple regression \n",
       "+ (1979, The Sociological Quarterly) The presence of interactions (which implies that a single regression line does not adequately fit the data for blacks and whites) should assume precedence over main effects \n",
       "+ (1980, American Journal of Sociology) Since later levels of inclusion have less chance to explain significant portions of variance than does the first level \n",
       "+ (1980, Journal of Marriage and Family) 370 JOURNAL OF MARRIAGE AND THE FAMILY May 1980//////sure of family and work role incompatibility explained role strain variance not accounted for by the job and work environment measures \n",
       "+ (1980, Social Psychology Quarterly) To test this hypothesis, the sample was trichotomized as evenly as possible on each of the predictor variables and a 3 x 3 x 3 weighted means ANOVA in volunteering was performed using dummy variable regression \n",
       "+ (1981, Sociology of Education) Regressions performed on dummy dependent variables are equivalent to discriminant analyses \n",
       "+ (1981, The Sociological Quarterly) Significant interactions exist \n",
       "+ (1982, Administrative Science Quarterly) A test \n",
       "+ (1982, International Review of Modern Sociology) \"The difference between R2 of the screening sample and R2 of the calibration sample is an estimate of the amount of shrinkage\" \n",
       "+ (1982, Journal of Marriage and Family) Finally, the plots are statistically adjusted for other factors by plotting means after they have been adjusted for the other variables entered as covariates \n",
       "+ (1982, Social Indicators Research) Some squared multiple correlations in Table II are negative because they are adjusted for degrees of freedom \n",
       "+ (1982, Sociological Focus) Average earnings was used as a categorical variable to maintain the substantive interpretability of the interaction coefficients \n",
       "+ (1983, The Canadian Journal of Sociology / Cahiers canadiens de sociologie) The issue of non-additivity was addressed by using equations which included interaction terms represented by dummy variables \n",
       "+ (1984, Journal of Marriage and Family) To eliminate this problem, a stepwise multiple regression analysis \n",
       "+ (1985, Journal of Marriage and Family) Thus, the partial correlation indicates the degree to which a variable accounts for the remaining variation in the dependent variable that is unaccounted for by the other independent variables \n",
       "+ (1986, American Sociological Review) The R2s for the two equations (with and without the block of change determinants) were compared using an appropriate hierarchical F-test \n",
       "+ (1988, Review of Religious Research) In addition, it is possible to calculate standardized as well as unstandardized coefficients and to utilize dummy variables in the structural equations \n",
       "+ (1988, The Sociological Quarterly) Each level is represented by a dummy variable \n",
       "+ (1988, The Sociological Quarterly) We assessed the contribution of husband's characteristics by comparing the explained variance of equations, including the characteristics of both spouses and the explained variance of equations that regressed the logged odds on progression on wife's characteristics alone \n",
       "+ (1989, Journal of Marriage and Family) Canonical correlation analysis can be considered as a generalization of multiple regression, with multiple dependent as well as independent variables \n",
       "+ (1989, The Sociological Quarterly) In discriminant analysis, each independent variable has a weight on a discriminant function, which indicates how it is related to that function; this weight can be interpreted as a partial regression coefficient that represents the net effect of the variable on that particular function \n",
       "+ (1992, Journal of Marriage and Family) These seven items taken together discriminated well between masculine and feminine identities, as revealed by an R2 of .83, and 98.8% of cases correctly classified "
      ],
      "text/plain": [
       "<IPython.core.display.Markdown object>"
      ]
     },
     "metadata": {},
     "output_type": "display_data"
    },
    {
     "data": {
      "text/markdown": [
       "# Kolb, John H., Brunner, Edmund de S. {A study of rural society} 1946"
      ],
      "text/plain": [
       "<IPython.core.display.Markdown object>"
      ]
     },
     "metadata": {},
     "output_type": "display_data"
    },
    {
     "name": "stdout",
     "output_type": "stream",
     "text": [
      "[]\n"
     ]
    },
    {
     "data": {
      "text/markdown": [],
      "text/plain": [
       "<IPython.core.display.Markdown object>"
      ]
     },
     "metadata": {},
     "output_type": "display_data"
    },
    {
     "data": {
      "text/markdown": [
       "# Labovitz, S {Some Observations on Measurement and Statistics} 1967"
      ],
      "text/plain": [
       "<IPython.core.display.Markdown object>"
      ]
     },
     "metadata": {},
     "output_type": "display_data"
    },
    {
     "name": "stdout",
     "output_type": "stream",
     "text": [
      "[('Labovitz (1967)', 32)]\n"
     ]
    },
    {
     "data": {
      "text/markdown": [
       "+ (1970, The American Sociologist) The well-established robustness of the analysis of variance \n",
       "+ (1971, American Sociological Review) In a previous paper \n",
       "+ (1971, American Sociological Review) In a previous test \n",
       "+ (1971, American Sociological Review) We are treating all dependent variables in these analyses as interval scales \n",
       "+ (1971, Review of Religious Research) Recently, however, some statisticians have come to the defense of this procedure \n",
       "+ (1971, Social Forces) It is also assumed that the campus acceptance scale, survey year, and class year may be treated as interval scales \n",
       "+ (1971, Social Forces) It is also assumed that the campus acceptance scale, survey year, and class year may be treated as interval scales \n",
       "+ (1971, Social Forces) Other authors \n",
       "+ (1971, Social Forces) Other authors \n",
       "+ (1971, Social Forces) Thus, to show that a few particular examples of ordinal transformations make little difference in certain statistics \n",
       "+ (1971, Social Forces) Thus, to show that a few particular examples of ordinal transformations make little difference in certain statistics \n",
       "+ (1972, Journal of Health and Social Behavior) Furthermore, several statisticians argue that variables which do not completely meet all the assumptions supposedly required for true metrics, can be used in regression analysis without introducing substantial error in the results \n",
       "+ (1972, Social Forces) 5 While regression analysis of ordinal data appears justified for the present purposes \n",
       "+ (1972, Social Forces) 5 While regression analysis of ordinal data appears justified for the present purposes \n",
       "+ (1972, Social Forces) used, rather than assuming equal-interval scales \n",
       "+ (1972, Social Forces) used, rather than assuming equal-interval scales \n",
       "+ (1975, Journal of Marriage and Family) For the sake of uniformity, all variables are trichotomized into ordinal dimensions \n",
       "+ (1976, American Journal of Political Science) S 1 1 S 1 1 S 5 1 S 7 1 S 2 2 S 4 2 S 6 2 S 10 2 S 4 4 S 7 3 S 8 4 S 13 3 N 3 3 S 10 4 N 7 3 S 16 4 N 5 5 N 4 3 N 9 5 N 6 3 N 6 6 N 6 5 N 10 6 N 8 5 N 7 7 N 8 7 N 11 7 N 10 7 N 8 8 N 10 9 N 12 8 N 12 9 N 9 9 N 12 11 N 13 9 N 14 11 N 10 10 N 14 13 N 14 10 N 16 13 N 11 11 N 15 11 assumption that one's data are interval is relatively cheap compared to the increased power the assumption affords us \n",
       "+ (1976, Journal of Health and Social Behavior) Some statisticians have advocated the use of correlational techniques even in the absence of these ideal conditions, on the argument that powerful and critical analysis is thereby made possible at the cost of relatively slight error \n",
       "+ (1977, International Journal of Sociology of the Family) Furthermore, it is argued by some statisticians and demonstrated in much published research that such variables, though not meeting all assumptions for true metrics, can be used in regression analysis without producing undue error in the results \n",
       "+ (1977, Review of Religious Research) Since their analysis, the robustness of correlation and regression analysis has been adequately demonstrated, particularly for ordinal and dummy variables \n",
       "+ (1978, American Sociological Review) The multiple-indicator dependent variable constructs were typically considered interval \n",
       "+ (1979, American Sociological Review) A second approach recommends the calculation of interval statistics directly from ordinal data, i.e., treating the ordinal data as if it were interval \n",
       "+ (1980, Administrative Science Quarterly) The statistical analyses shown below followed the practice of researchers who believe that multivariate parametric statistical techniques can be used with ordinal-level measures \n",
       "+ (1980, Journal of Marriage and Family) It appears, however, that the use of ordinal measures is justifiable for most applications \n",
       "+ (1983, American Sociological Review) focus on the relationship between an underlying continuous variable and its rank-order counterpart \n",
       "+ (1983, Sociological Perspectives) 473//////474 SOCIOLOGICAL PERSPECTIVES / OCTOBER 1983 Second, methodologists have examined the possibility of applying interval level statistics to ordinal or nominal level data \n",
       "+ (1983, Sociology) While regression requires that the dependent variable (although not the independent variables) be internally measured, or at minimum ordinally measured \n",
       "+ (1983, The Sociological Quarterly) Although the presanction flood insurance adoption variable was measured at the ordinal level, good arguments exist for violating the level of measurement assumption of OLS regression \n",
       "+ (1985, Journal of Marriage and Family) However, research suggests that regression analysis on what some might consider ordinal data does not result in significant errors and consequently is commonly used "
      ],
      "text/plain": [
       "<IPython.core.display.Markdown object>"
      ]
     },
     "metadata": {},
     "output_type": "display_data"
    },
    {
     "data": {
      "text/markdown": [
       "# Labovitz, Sanford {The Assignment of Numbers to Rank Order Categories} 1970"
      ],
      "text/plain": [
       "<IPython.core.display.Markdown object>"
      ]
     },
     "metadata": {},
     "output_type": "display_data"
    },
    {
     "name": "stdout",
     "output_type": "stream",
     "text": [
      "[('Labovitz (1970)', 32)]\n"
     ]
    },
    {
     "data": {
      "text/markdown": [
       "+ (1971, American Sociological Review) \n",
       "+ (1971, Review of Religious Research) Recently, however, some statisticians have come to the defense of this procedure \n",
       "+ (1971, Social Forces) Other authors \n",
       "+ (1971, Social Problems) Despite these precautions, the crudeness of the demonstration measure and its failure to meet the interval assumption of regression analysis require that the results be interpreted with caution, although the use of ordinal rather than interval variables in regression analysis has received increasing support \n",
       "+ (1971, The American Sociologist) 10 Frequently social scientists, whose measuring instruments are practically never capable of producing interval scale mea sures, feel it is safe to assume interval measures for all data and to transform scales monotonically in efforts to achieve equal dis tance measures \n",
       "+ (1972, Social Forces) 5 While regression analysis of ordinal data appears justified for the present purposes \n",
       "+ (1972, Social Forces) 5 While regression analysis of ordinal data appears justified for the present purposes \n",
       "+ (1972, Social Forces) used, rather than assuming equal-interval scales \n",
       "+ (1972, Social Forces) used, rather than assuming equal-interval scales \n",
       "+ (1972, Sociology of Education) However, Labovitz has shown that, while violating this assumption may produce a small amount of error, it is more than justified by the increased power and interpretability of the parametric statistics then possible \n",
       "+ (1975, Sociological Focus) Statistical Note for the Entire Study: All Continuous variables were transformed into 36-point ordinal scales so that they could be used in regression analysis with little loss of information \n",
       "+ (1976, American Journal of Political Science) S 1 1 S 1 1 S 5 1 S 7 1 S 2 2 S 4 2 S 6 2 S 10 2 S 4 4 S 7 3 S 8 4 S 13 3 N 3 3 S 10 4 N 7 3 S 16 4 N 5 5 N 4 3 N 9 5 N 6 3 N 6 6 N 6 5 N 10 6 N 8 5 N 7 7 N 8 7 N 11 7 N 10 7 N 8 8 N 10 9 N 12 8 N 12 9 N 9 9 N 12 11 N 13 9 N 14 11 N 10 10 N 14 13 N 14 10 N 16 13 N 11 11 N 15 11 assumption that one's data are interval is relatively cheap compared to the increased power the assumption affords us \n",
       "+ (1978, Journal of Marriage and Family) Experience has consistently shown that this approximation involves little loss of information \n",
       "+ (1978, Journal of Marriage and Family) The premarital permissiveness measure used in the Berkeley data \n",
       "+ (1979, American Sociological Review) \n",
       "+ (1979, American Sociological Review) It has been demonstrated that regression can be confidently employed with ordinal data without introducing bias in the results \n",
       "+ (1979, Sociological Focus) The pragmatic validity of this approach is high (i.e., this variable correlates well with our dependent measures), consistent with the position that the treatment of ordinal measures as interval usually yields few substantive problems \n",
       "+ (1979, Sociological Focus) While multiple regression was designed for interval level variables, it may be used even if the data satisfy only the assumption of ordinal level measurement \n",
       "+ (1980, Administrative Science Quarterly) The statistical analyses shown below followed the practice of researchers who believe that multivariate parametric statistical techniques can be used with ordinal-level measures \n",
       "+ (1980, Journal of Health and Social Behavior) In the present report, only Pearsonian r's, as prerequisite to partial correlation analysis \n",
       "+ (1980, Journal of Marriage and Family) It appears, however, that the use of ordinal measures is justifiable for most applications (Baker et al., 1966; Labovitz, 1967; Boyle, 1970; Bohrenstedt and Carter, 1971; Lyons, 1971; Asher, 1976), especially when as many rankings as possible are obtained \n",
       "+ (1982, Journal of Marriage and Family) Thurstone pioneered equal-appearing interval scales composed of differentially weighted items (Thurstone and Chane, 1929), but simpler procedures and empirical studies showing that violating interval-data assumptions made little practical difference have made the laborious Thurstone scaling procedures obsolete \n",
       "+ (1983, American Sociological Review) I am certainly not the first to examine the use of rank order measures of underlying continuous variables \n",
       "+ (1983, American Sociological Review) focus on the relationship between an underlying continuous variable and its rank-order counterpart \n",
       "+ (1983, Sociological Perspectives) 473//////474 SOCIOLOGICAL PERSPECTIVES / OCTOBER 1983 Second, methodologists have examined the possibility of applying interval level statistics to ordinal or nominal level data \n",
       "+ (1984, American Sociological Review) Consider the longstanding debate on the use of parametric statistics on ordinal data \n",
       "+ (1984, Journal of Marriage and Family) According to his findings \n",
       "+ (1984, Journal of Marriage and Family) The loss of information or error from using an interval-level statistic with ordinal-level data occurs because the differences between successive adjacent integer values may not be constant, constant differences between adjacent integer values being one of the assumptions of interval-level statistics \n",
       "+ (1989, The Sociological Quarterly) Response categories for all variables were coded and analyzed as interval measures in accordance with a parametric strategy for multivariate analyses \n",
       "+ (1995, Journal of Health and Social Behavior) Although there is a substantial precedent for treating ordinal variables as continuous in the general linear model "
      ],
      "text/plain": [
       "<IPython.core.display.Markdown object>"
      ]
     },
     "metadata": {},
     "output_type": "display_data"
    },
    {
     "data": {
      "text/markdown": [
       "# Land, K {Principles of path analysis} 1969"
      ],
      "text/plain": [
       "<IPython.core.display.Markdown object>"
      ]
     },
     "metadata": {},
     "output_type": "display_data"
    },
    {
     "name": "stdout",
     "output_type": "stream",
     "text": [
      "[('Land (1969)', 68)]\n"
     ]
    },
    {
     "data": {
      "text/markdown": [
       "+ (1970, American Sociological Review) \n",
       "+ (1970, Social Forces) The technique has been well-developed for the case of one-way, i.e., recursive, causal systems \n",
       "+ (1971, American Sociological Review) Equations (1.1)-(1.5) are written in the form of the general simultaneous-equation system (see, e.g., Goldberger, 1964:295-297; Christ, 1966:351) rather than in the typical recursive path model form \n",
       "+ (1971, Social Forces) Following his equation ( 1 ) and the usual graphic conventions \n",
       "+ (1971, Sociological Methodology) Under the rubrics of path analysis \n",
       "+ (1971, The American Sociologist) Increasing numbers of empirical examples in the literature have demonstrated the utility of path analysis in \"bridging the gap between sociological theory on the one hand and the results of classical statistical analysis on the other\" \n",
       "+ (1972, Journal of Health and Social Behavior) Rather, standardized partial regression coefficients-betas-are routinely used \n",
       "+ (1973, Journal of Health and Social Behavior) The problem of untangling such interactive effects is simplified by the procedure of path analysis \n",
       "+ (1974, American Sociological Review) It has been observed for mobility of persons between industries (Blumen et al., 1955), mobility of both persons and family lines between occupational categories (Hodge, 1966), and migration of persons or families between geographic regions \n",
       "+ (1974, American Sociological Review) Table 2 shows the (unstandardized) path regression coefficients and the (standardized) path coefficients \n",
       "+ (1974, American Sociological Review) The techniques and assumptions of this procedure are detailed elsewhere \n",
       "+ (1975, American Journal of Sociology) Throughout the paper, it is assumed that the basics of path analysis are known \n",
       "+ (1975, American Sociological Review) The techniques and assumptions of path analysis are available in a number of sources \n",
       "+ (1975, Journal of Marriage and Family) For the sake of uniformity, all variables are trichotomized into ordinal dimensions \n",
       "+ (1975, Journal of Marriage and Family) Others have elaborated the methods for obtaining estimates of path models \n",
       "+ (1975, Social Forces) bDefined as the path coefficient, which refers to the amount of change in the dependent variable associated with a unit change in the independent variable when both are measured in standard deviation units and the effects of all other variables in the particular equation have been controlled \n",
       "+ (1975, Social Problems) However, there are persuasive arguments for the use of parametric statistics with ordinal variables \n",
       "+ (1977, Journal of Health and Social Behavior) The data were analyzed through the use of multiple regression (Blalock, 1972) and path analysis \n",
       "+ (1978, Journal of Health and Social Behavior) \n",
       "+ (1978, The Canadian Journal of Sociology / Cahiers canadiens de sociologie) Although it features causal models \n",
       "+ (1979, Journal of Marriage and Family) The multivariate investigation uses path analysis techniques \n",
       "+ (1980, Journal of Marriage and Family) Although regression models can be used solely for prediction in many applications, path models with rare and questionable exceptions (e.g., Kerckhoff and Parrow, 1979) involve the specification of unidirectional causal (recursive) relationships.3 The correct causal ordering of variables in a model is perhaps the most critical assumption the researcher must meet \n",
       "+ (1980, Journal of Marriage and Family) Consequently, the application of path analysis to areas of only limited or moderate theoretical development has been severely criticized \n",
       "+ (1980, Journal of Marriage and Family) MODEL EVALUATION Linearity and A dditivity Assumptions Usually researchers initially specify path models without nonlinear components or interaction effects.9 Unfortunately, these assumptions have seldom been checked, although parameter estimates may be severely biased if these assumptions are not valid \n",
       "+ (1980, Sociological Focus) Since these techniques have been widely discussed in the literature \n",
       "+ (1982, Sociological Methodology) Despite the enormous interest in indirect effects displayed by sociologists \n",
       "+ (1987, Journal of Marriage and Family) Each model is written as a set of structural equations that represent the causal processes assumed to operate among the variables under consideration \n",
       "+ (1988, American Sociological Review) Multiple-regression equations and standardized beta weights were calculated for a just-identified two-stage path model with the retained variables \n",
       "+ (1993, BMS: Bulletin of Sociological Methodology / Bulletin de Méthodologie Sociologique) This pattern of behaviour corresponds to what is called the cumulative-inertia axiom which implies that the probability for a (further) change of residence decreases as duration of residence increases \n",
       "+ (2006, Journal of Health and Social Behavior) Based on the bivariate correlations and standardized beta coefficients, I conduct path analyses "
      ],
      "text/plain": [
       "<IPython.core.display.Markdown object>"
      ]
     },
     "metadata": {},
     "output_type": "display_data"
    },
    {
     "data": {
      "text/markdown": [
       "# Lenski, Gerhard E. {Status Crystallization: A Non-Vertical Dimension of Social Status} 1954"
      ],
      "text/plain": [
       "<IPython.core.display.Markdown object>"
      ]
     },
     "metadata": {},
     "output_type": "display_data"
    },
    {
     "name": "stdout",
     "output_type": "stream",
     "text": [
      "[('Lenski (1954)', 82)]\n"
     ]
    },
    {
     "data": {
      "text/markdown": [
       "+ (1969, Administrative Science Quarterly) Several students of stratification at the societal level have identified a horizontal dimension, the degree to which people have consistent, congruent or \"crystallized\" rankings on several socially significant dimensions \n",
       "+ (1969, Administrative Science Quarterly) They have shown that persons whose occupational, educational, income, or ethnic-racial ranks are inconsistent, i.e., persons who rank high on one dimension but low on another, are more favorably disposed to social change \n",
       "+ (1969, American Sociological Review) The effects of inconsistencies have been demonstrated repeatedly in studies of partisanship \n",
       "+ (1969, Journal of Health and Social Behavior) \n",
       "+ (1969, Sociological Focus) In the area of political sociology, in contrast to Wiley's hypothesis on inconsistent class attributes, most studies of status inconsistency have found positive relationships with political liberal ism and identification with the Democratic party \n",
       "+ (1970, Social Forces) Research has demonstrated that this phenomenon affects individuals in a number of ways-symptoms of psychological stress (Jackson, 1962), social isolation (Lenski, 1956), desire for change (Goffman, 1957), upward mobility (Fenchel et al., 1951), prejudice toward minority groups (Fauman, 1968), political liberalism \n",
       "+ (1970, Social Forces) Research has demonstrated that this phenomenon affects individuals in a number of ways-symptoms of psychological stress (Jackson, 1962), social isolation (Lenski, 1956), desire for change (Goffman, 1957), upward mobility (Fenchel et al., 1951), prejudice toward minority groups (Fauman, 1968), political liberalism \n",
       "+ (1970, Sociological Methodology) \n",
       "+ (1971, American Journal of Sociology) Since Lenski reintroduced the notion of discontinuities among status systems in his theory of status crystallization or status inconsistency \n",
       "+ (1971, Social Forces) These problems of ambiguity are usually seen as a major reason why status inconsistencies might be stressful \n",
       "+ (1971, Social Forces) they derive from this comparison gives way with time, however, to increasing feelings of frustration as their standards of comparison gradually shift 1 Similarly, the currently popular hypothesis of status inconsistency, not examined here, envisions radical leftism as the consequence, not of an homogenously low socioeconomic position, but of lack of harmony between different status dimensions \n",
       "+ (1971, Sociological Focus) This hypothesis is especially relevant to the continued debate concerning the effects of status incon sistency on political behavior \n",
       "+ (1972, The Sociological Quarterly) The difference is assumed to be due to inconsistency \n",
       "+ (1975, American Sociological Review) \n",
       "+ (1976, The Sociological Quarterly) Status inconsistency has been used as an independent variable to explain psychic stress which gives rise to a number of individual responses such as social isolation \n",
       "+ (1978, American Sociological Review) My contention is that, although Lenski's attitude to his original formulation was equivocal, there is no doubt that the basic idea can be taken in my sense, for he defined his \"quantitative measure of status crystallization\" as 100 minus \"the square root of the sum of the squared deviations from the mean of the four hierarchy scores of the individual\" \n",
       "+ (1978, Sociological Bulletin) In general, the status crystallization theory argues \n",
       "+ (1979, Journal of Marriage and Family) Traditional formulations of status inconsistency have argued that individuals who manifest high status on one outcome and low status on another experience tension which may be manifest in liberalized political attitudes \n",
       "+ (1981, American Journal of Sociology) At the individual level, it is necessary to postulate that (1) a number of parallel vertical hierarchies exist, and (2) the consistency of various combinations of status attributes is defined by socially established sets of rules and norms \n",
       "+ (1981, American Journal of Sociology) Indeed, several sociologists 788//////Marriage, Women, and Social Stratification have already taken some steps in this direction by developing \"conflict theories\" of social stratification \n",
       "+ (1981, American Journal of Sociology) It seems misleading, however, to look for some set of \"fundamental dimensions\" of inequality \n",
       "+ (1983, American Sociological Review) A central claim of this literature is that persons who occupy inconsistent positions on different dimensions of status-in this instance a high educational status and a low occupational status-will experience this situation as stressful and, if efforts at mobility are blocked, are likely to express their discontent in the form of liberal or radical political tendencies \n",
       "+ (1984, Sociological Perspectives) Conceptually, the statuses may be viewed as forming a multidimensional property space representing vertical dimensions of general status as well as hypothesized nonvertical (orthogonal) status inconsistency dimensions \n",
       "+ (1987, Sociological Perspectives) Although early formulations of inconsistency hypothesized that all effects would be the same \n",
       "+ (1987, Sociological Perspectives) Studies of status inconsistency nearly always have treated these emotional responses as unmeasured variables intervening between inconsistency and attitudinal/ behavioral variables, such as political attitudes and voting behavior \n",
       "+ (1990, American Sociological Review) Status inconsistency occurs when an individual actor has unequal or conflicting ranks in two or more different social hierarchies, e.g., great wealth and low prestige \n",
       "+ (2008, European Sociological Review) Over a span of more than three decades from the 1940s to the 1980s, research on status incon sistency went from escalation to boom to downfall \n",
       "+ (2008, European Sociological Review) Previous Methods The first wave of empirical research on status inconsistency employed simple statistical methods, which produced more positive than negative evidence \n",
       "+ (2014, American Journal of Sociology) To the extent that the same social dimensions characterize separation across multiple contexts and to the extent that key social attributes tend to be highly correlated among individuals, their effects will reinforce one another and consolidate group differences \n",
       "+ (2017, American Journal of Political Science) The mismatch between the kin group's prominent demographic position, on the one hand, and its middling economic status, on the other, creates status inconsistency that fosters group grievances "
      ],
      "text/plain": [
       "<IPython.core.display.Markdown object>"
      ]
     },
     "metadata": {},
     "output_type": "display_data"
    },
    {
     "data": {
      "text/markdown": [
       "# Loomis, Charles P., Beegle, Joseph A. {Rural Social Systems: A Textbook in Rural Sociology and Anthropology} 1950"
      ],
      "text/plain": [
       "<IPython.core.display.Markdown object>"
      ]
     },
     "metadata": {},
     "output_type": "display_data"
    },
    {
     "name": "stdout",
     "output_type": "stream",
     "text": [
      "[('Loomis and Beegle (1950)', 1)]\n"
     ]
    },
    {
     "data": {
      "text/markdown": [
       "+ (1970, Journal for the Scientific Study of Religion) By providing participation in an intimate and emotional primary group the religious sect cushions the shock of rapid exposure to urbanism (Johnson 1963; Holt 1940); sectarian churches may also stem from the breakdown of gemeinschaft-like communities "
      ],
      "text/plain": [
       "<IPython.core.display.Markdown object>"
      ]
     },
     "metadata": {},
     "output_type": "display_data"
    },
    {
     "data": {
      "text/markdown": [
       "# MacIver, R M {Society: its structure and changes} 1931"
      ],
      "text/plain": [
       "<IPython.core.display.Markdown object>"
      ]
     },
     "metadata": {},
     "output_type": "display_data"
    },
    {
     "name": "stdout",
     "output_type": "stream",
     "text": [
      "[('MacIver (1931)', 2)]\n"
     ]
    },
    {
     "data": {
      "text/markdown": [
       "+ (1989, American Journal of Sociology) The problem itself, though, was a recurrent one among social scientists in the United States of the period who were seeking to identify-through an issue that commanded broad popular interest-the dark spots in behaviorist and orthodox economic theorizing and to establish that their own discipline furnished the explanation of how the problem is solved \n",
       "+ (1994, Sociological Perspectives) His understanding of \"the ecological approach\" was stunted by his time as well as his political science origins "
      ],
      "text/plain": [
       "<IPython.core.display.Markdown object>"
      ]
     },
     "metadata": {},
     "output_type": "display_data"
    },
    {
     "data": {
      "text/markdown": [
       "# MacIver, Robert M., Page, Charles Hunt {Society: An Introductory Analysis} 1937"
      ],
      "text/plain": [
       "<IPython.core.display.Markdown object>"
      ]
     },
     "metadata": {},
     "output_type": "display_data"
    },
    {
     "name": "stdout",
     "output_type": "stream",
     "text": [
      "[]\n"
     ]
    },
    {
     "data": {
      "text/markdown": [],
      "text/plain": [
       "<IPython.core.display.Markdown object>"
      ]
     },
     "metadata": {},
     "output_type": "display_data"
    },
    {
     "data": {
      "text/markdown": [
       "# Mandel, E {Late Capitalism} 1972"
      ],
      "text/plain": [
       "<IPython.core.display.Markdown object>"
      ]
     },
     "metadata": {},
     "output_type": "display_data"
    },
    {
     "name": "stdout",
     "output_type": "stream",
     "text": [
      "[('Mandel (1972)', 4)]\n"
     ]
    },
    {
     "data": {
      "text/markdown": [
       "+ (1982, American Journal of Sociology) Aid programs, together with other foreign expenditures and capital exports, developed new markets in the Third World at the expense of the U.S. balance of payments and the supreme role of the dollar \n",
       "+ (1982, The Canadian Journal of Sociology / Cahiers canadiens de sociologie) A substantial body of literature suggests that this concept merely needs to be specified, not rejected: e.g., merchants may suppress industrial growth if they are involved in import-export sectors that profit from a scarcity of local production, if they are unable to develop industrial production themselves, and if the domestic market is insufficient to support worldscale technology \n",
       "+ (1982, The Canadian Journal of Sociology / Cahiers canadiens de sociologie) However, Lenin is more commonly interpreted to define finance capital as the \"coalescence of bank and industrial capital,\" which implies the dominance of neither of these capital pools "
      ],
      "text/plain": [
       "<IPython.core.display.Markdown object>"
      ]
     },
     "metadata": {},
     "output_type": "display_data"
    },
    {
     "data": {
      "text/markdown": [
       "# Martin, J, Roberts, C {Women and employment: A lifetime perspective : The report of the 1980 DE/OPCS Women and Employment Survey} 1984"
      ],
      "text/plain": [
       "<IPython.core.display.Markdown object>"
      ]
     },
     "metadata": {},
     "output_type": "display_data"
    },
    {
     "name": "stdout",
     "output_type": "stream",
     "text": [
      "[('Martin and Roberts (1984)', 78), ('Martin & Roberts (1984)', 6)]\n"
     ]
    },
    {
     "data": {
      "text/markdown": [
       "+ (1986, Sociology) The Women and Employment Survey \n",
       "+ (1987, Sociology) To extend this point further, the sexual division of labour in the work situation \n",
       "+ (1991, BMS: Bulletin of Sociological Methodology / Bulletin de Méthodologie Sociologique) The Women and Employment Survey \n",
       "+ (1991, European Sociological Review) At workplace level in Britain one-half to two-thirds of women report that no men do the same work as them, and two-thirds to three-quarters of men work exclusively with other men \n",
       "+ (1991, European Sociological Review) By 1980 husbands and non-working wives were still almost as likely to accept as reject the idea that 'Women cannot combine a career and children'; most working women rejected the idea, but it was still accepted by one-quarter \n",
       "+ (1991, European Sociological Review) On the one hand there is an extensive literature analysing the 'objective' facts about women's position in the labour force, extending into a more polemical literature arguing the case for legislative and procedural changes to improve women's position \n",
       "+ (1991, European Sociological Review) Part-timers are more likely than full-timers to feel very satisfied with their jobs, the key contributing factors being their easy journey to work, part-time work hours and the friendly people they work with, with higher satisfaction on these factors than is felt by full-timers on any aspect of their jobs \n",
       "+ (1991, European Sociological Review) Statements referring to 'most working women' or 'most married women' or even 'most women' reveal even smaller differences between women who choose to work and those who choose not to \n",
       "+ (1991, European Sociological Review) The data has been extensively analysed \n",
       "+ (1991, European Sociological Review) The gradual increase in job satisfaction over the life cycle is usually explained by a process of adaptation to the labour force and of increasing status and other gains, as experienced by both men and women \n",
       "+ (1991, European Sociological Review) in Britain, the USA and many other countries show continuing high levels of job satisfaction over decades; it is very rare for more than ten per cent of workers nationally to express dissatisfaction with their jobs; and levels of dissatisfaction are only slightly higher in particular social groups-for example dissatisfaction rose to 15 per cent of young black males in the USA in the 1960s \n",
       "+ (1991, Sociology) \n",
       "+ (1991, Sociology) The Women and Employment Survey revealed the extent of intra-occupational segregation \n",
       "+ (1992, European Sociological Review) Studies at workplace level will always reveal levels of occupational segregation that are not just higher but of totally different magnitudes to the levels identified in national statistical data in Britain \n",
       "+ (1992, European Sociological Review) The reason for difficulty in defining unemployment among women is that for a large proportion of women a job is not their main activity, so that the absence of a job is equally not a dominant feature of their lives \n",
       "+ (1993, European Sociological Review) Looking at these two generations should illuminate the changes in the practice of returning to work after childbearing over the period, when it formed a major component of the total increase in female labour supply \n",
       "+ (1993, European Sociological Review) RETURNING TO WORK AFTER CHILDBIRTH Studies carried out from 1965 onwards have shown that most British men and women believe that the mothers of pre-school children should stay at home with their children \n",
       "+ (1993, European Sociological Review) The combination of paid work and motherhood, as these activities are currently structured in Western countries, is unquestionably a very difficult task \n",
       "+ (1994, Hitotsubashi Journal of Social Studies) The focus tends to be an analysing women's subordination in terms of prejudice and sexist attitudes, rather than social structural explanations \n",
       "+ (1994, Journal of Marriage and Family) and preferences are likely to play a part in influencing their participation in paid employment; yet their options are constrained by such factors as their family's financial need (Oppenheimer, 1977), their health, their potential earnings, the availability of employment, husbands' wishes (for married women), and the pressure of domestic work including child care (mainly among younger women) \n",
       "+ (1995, Sociology) Caring Responsibilities A major influence on younger women's employment participation is the presence of children and especially the age of the youngest child \n",
       "+ (1995, Sociology) Research on women's employment has tended to focus on the impact of women's childcare role rather than on what influences mid-life women's labour force participation \n",
       "+ (1995, The British Journal of Sociology) Research since the early 1970s has examined the factors influencing women's paid employment \n",
       "+ (1996, European Sociological Review) Recent British work-history surveys include the 1975 National Training Survey, which was never fully coded (Elias and Main, 1982), the 1980 Women and Employment Survey, which did not include men \n",
       "+ (1996, European Sociological Review) The original report on this survey indicated in Table 9.6 that 25% of the sample were 'always economically active' But this result rested on a peculiar definition of economic activity \n",
       "+ (1996, Sociology) In the last decade there has been a dramatic decline in the percentage of mothers with pre-school age children who have no paid job, dropping from 76 per cent in 1980 \n",
       "+ (1997, Sociology) This reflects earlier motherhood but also the great increase in mothers returning to paid work between the first and second birth \n",
       "+ (2001, European Sociological Review) Introduction In the 1970s and 1980s women's employment in Britain was characterized by a period out of the labour market starting at first childbirth and a return to employment some years later, often in a part-time job \n",
       "+ (2001, European Sociological Review) tional downgrading \n",
       "+ (2002, Sociology) By contrast, from an early age young women expected to have a job first and then become mothers; employment was temporarily located before and after motherhood "
      ],
      "text/plain": [
       "<IPython.core.display.Markdown object>"
      ]
     },
     "metadata": {},
     "output_type": "display_data"
    },
    {
     "data": {
      "text/markdown": [
       "# Mayo, E {The social problems of an industrial civilization} 1945"
      ],
      "text/plain": [
       "<IPython.core.display.Markdown object>"
      ]
     },
     "metadata": {},
     "output_type": "display_data"
    },
    {
     "name": "stdout",
     "output_type": "stream",
     "text": [
      "[('Mayo (1945)', 6)]\n"
     ]
    },
    {
     "data": {
      "text/markdown": [
       "+ (1973, Administrative Science Quarterly) The \"human relations\" group \n",
       "+ (1989, Sociological Forum) The first moved away from discourses of how conflict should be handled \n",
       "+ (1990, Sociological Focus) On the other hand, natural system theorists argued that no organization fully succeeds in controlling all sources of power \n",
       "+ (2004, American Journal of Sociology) The focus on job‐level practices builds on a long tradition of human relations research, which, over the last half century, has stressed the importance of employee training and respect for employees as human beings \n",
       "+ (2004, American Journal of Sociology) The focus on job‐level practices builds on a long tradition of human relations research, which, over the last half century, has stressed the importance of employee training and respect for employees as human beings \n",
       "+ (2009, American Journal of Sociology) Companies and their consultants developed a human relations (HR) model of management "
      ],
      "text/plain": [
       "<IPython.core.display.Markdown object>"
      ]
     },
     "metadata": {},
     "output_type": "display_data"
    },
    {
     "data": {
      "text/markdown": [
       "# Mead, Margaret {Coming of age in Samoa: A psychological study of primitive youth for western civilization} 1928"
      ],
      "text/plain": [
       "<IPython.core.display.Markdown object>"
      ]
     },
     "metadata": {},
     "output_type": "display_data"
    },
    {
     "name": "stdout",
     "output_type": "stream",
     "text": [
      "[('Mead (1928)', 8)]\n"
     ]
    },
    {
     "data": {
      "text/markdown": [
       "+ (1973, Social Problems) Recent theorists (for example: Kitsuse, 1962; Becker, 1963, 1964; Scheff, 1966; Lemert, 1967), leaning heavily on the prevision of their forefathers \n",
       "+ (1974, Social Forces) In this society, performance of adult roles such as those attending marriage and parenthood ideally are to be separated from childhood roles by a lengthy interval known as adolescence, characterized by the abandonment of dependent child roles and the adoption of complex and often ambiguous sets of roles intermediate to the transition to adult roles \n",
       "+ (1974, Social Forces) In this society, performance of adult roles such as those attending marriage and parenthood ideally are to be separated from childhood roles by a lengthy interval known as adolescence, characterized by the abandonment of dependent child roles and the adoption of complex and often ambiguous sets of roles intermediate to the transition to adult roles \n",
       "+ (1982, Language in Society) THE DATA BASE: DATA COLLECTION METHODOLOGY While this study draws on ethnographies of American and Western Samoan societies \n",
       "+ (1982, Language in Society) There has long existed an interest in childhood and socialization, particularly among anthropologists \n",
       "+ (1984, International Review of Modern Sociology) For example, Coming of Age in Samoa \n",
       "+ (1998, Symbolic Interaction) this literature, and each, to some degree, is relevant to the conceptual framework developed in this arti- ~ l eB.o~dil y markings, such as tattoos, can communicate one or more of the following: (1) personal identity, (2) cultural values and practices, and (3) membership in sub-groups within societies that are rebellious, peripheral, marginalized, or otherwise set apart from the “mainstream” \n",
       "+ (2000, Sociological Bulletin) It seems we are stuck with the problem of divergent ethnographic accounts of the same cultural area, something which anthropologists have never really resolved since the debate over Mead's accounts of Samoa "
      ],
      "text/plain": [
       "<IPython.core.display.Markdown object>"
      ]
     },
     "metadata": {},
     "output_type": "display_data"
    },
    {
     "data": {
      "text/markdown": [
       "# Merton, Robert K, Lazarsfield, Paul F {Continuities in social research} 1950"
      ],
      "text/plain": [
       "<IPython.core.display.Markdown object>"
      ]
     },
     "metadata": {},
     "output_type": "display_data"
    },
    {
     "name": "stdout",
     "output_type": "stream",
     "text": [
      "[]\n"
     ]
    },
    {
     "data": {
      "text/markdown": [],
      "text/plain": [
       "<IPython.core.display.Markdown object>"
      ]
     },
     "metadata": {},
     "output_type": "display_data"
    },
    {
     "data": {
      "text/markdown": [
       "# Nettler, G. {Explaining Crime} 1974"
      ],
      "text/plain": [
       "<IPython.core.display.Markdown object>"
      ]
     },
     "metadata": {},
     "output_type": "display_data"
    },
    {
     "name": "stdout",
     "output_type": "stream",
     "text": [
      "[('Nettler (1974)', 15)]\n"
     ]
    },
    {
     "data": {
      "text/markdown": [
       "+ (1976, Social Indicators Research) The universal motive of economic gain is likely to be pursued illegitimately when neces sity becomes strong enough and particularly when social controls are weakened by the high mobility associated with insecure employment and low educational levels \n",
       "+ (1977, American Sociological Review) Prior to modernization, data from third world societies yield sex ratio ranging from 900:1 to more than 20,000:1 \n",
       "+ (1977, American Sociological Review) These theories focus on a broad range of causal variables, and they are relatively open to individual differences, to the idea that \"in learning to conduct ourselves, some of us need more lessons than others\" \n",
       "+ (1978, The Sociological Quarterly) Various issues of validity have been raised about self-report measures \n",
       "+ (1979, American Sociological Review) The possibility that these data also reflect trends in rates at which offenses are reported to the police has motivated extensive victimology research \n",
       "+ (1979, Journal of Health and Social Behavior) Instead, the debate has consisted of a rebuttal of Scheff s original position (Gove, 1970), replies to this rebuttal (Dunham, 1971; Mechanic, 1971; Akers, 1972; Scheff, 1974a), rebuttals of these replies \n",
       "+ (1979, Sociological Focus) The reports by Adler (1975) and others which conclude that levels of female violent crime have increased \n",
       "+ (1980, American Sociological Review) The major criticism concerns the unrepresentativity of the items selected \n",
       "+ (1982, The Sociological Quarterly) As Hirschi (1975:190) notes, when the focus is on social psychological variables such as family or peer relationships, \"the findings are generally similar whether one is looking at self-reported misbehavior or at official measures of delinquency\" \n",
       "+ (1985, Annual Review of Sociology) Ideas that at first seemed fruitful, such as Cressey's (1953) explanation of embezzlement in terms of \"nonsharable financial problems\", have failed to attract a body of literature to support them \n",
       "+ (1985, The Sociological Quarterly) 4/1985 Although offenses known to the police typically underestimate the amount of crime because of non-reporting, these are still the best data available on a city-wide basis \n",
       "+ (1987, Social Forces) Inaccuracies in crime reports have been detailed in other places \n",
       "+ (1987, Social Forces) Inaccuracies in crime reports have been detailed in other places \n",
       "+ (1996, Social Forces) Although the UCR data are not perfect estimates of actual risk, they are official risk and have been used by many investigators in previous studies as some of the best available measures of risk \n",
       "+ (1996, Social Forces) Although the UCR data are not perfect estimates of actual risk, they are official risk and have been used by many investigators in previous studies as some of the best available measures of risk "
      ],
      "text/plain": [
       "<IPython.core.display.Markdown object>"
      ]
     },
     "metadata": {},
     "output_type": "display_data"
    },
    {
     "data": {
      "text/markdown": [
       "# Nie, N H, Bent, D H, Hull, C H {SPSS: statistical package for the social sciences} 1975"
      ],
      "text/plain": [
       "<IPython.core.display.Markdown object>"
      ]
     },
     "metadata": {},
     "output_type": "display_data"
    },
    {
     "name": "stdout",
     "output_type": "stream",
     "text": [
      "[]\n"
     ]
    },
    {
     "data": {
      "text/markdown": [],
      "text/plain": [
       "<IPython.core.display.Markdown object>"
      ]
     },
     "metadata": {},
     "output_type": "display_data"
    },
    {
     "data": {
      "text/markdown": [
       "# Odum, Howard Washington {Southern Regions of the United States} 1936"
      ],
      "text/plain": [
       "<IPython.core.display.Markdown object>"
      ]
     },
     "metadata": {},
     "output_type": "display_data"
    },
    {
     "name": "stdout",
     "output_type": "stream",
     "text": [
      "[('Odum (1936)', 9)]\n"
     ]
    },
    {
     "data": {
      "text/markdown": [
       "+ (1973, American Journal of Sociology) It was indeed a massive investigation \n",
       "+ (1982, American Journal of Sociology) Other regional sociologists use the imprecise metaphor of colonialism to explain the South's relatively \"backward\" economic performance, pointing to the dependent character of its growth and to alleged effects of northern \"imperialism\" \n",
       "+ (1992, Social Problems) In the 1930s, the concept of region and the South as a region were central topics for some social scientists \n",
       "+ (1992, Social Problems) The expression is grounded in historical usage which combines and confuses (1) the richness and agricultural uses of the earth in the Mississippi Delta (see Coleman and Hall 1974; Gotsch-Thompson 1984; Hilliard 1979); (2) the old \"cotton counties\" \n",
       "+ (1992, Social Problems) What we call the \"Black Belt\" has often been called by others the \"cotton counties\" or \"plantation counties\" \n",
       "+ (2004, The American Sociologist) In the United States two conceptual precursors of the movement were Recent So cial Trends in the United States (Ogburn, 1933) and Southern Regions of the United States \n",
       "+ (2006, Social Indicators Research) In the U. S. two conceptual precursors of the movement were Recent Social Trends in the United States (Ogburn, 1933) and Southern Regions of the United States \n",
       "+ (2012, Sociological Forum) BACKGROUND The South as \" Place \" and Regional Identity The U.S. South has long been the focus of sociological inquiry "
      ],
      "text/plain": [
       "<IPython.core.display.Markdown object>"
      ]
     },
     "metadata": {},
     "output_type": "display_data"
    },
    {
     "data": {
      "text/markdown": [
       "# Parsons, T, Bales, R F, Shils, E A {Working papers in the theory of action} 1953"
      ],
      "text/plain": [
       "<IPython.core.display.Markdown object>"
      ]
     },
     "metadata": {},
     "output_type": "display_data"
    },
    {
     "name": "stdout",
     "output_type": "stream",
     "text": [
      "[('Parsons, Bales, and Shils (1953)', 6), ('Parsons, Bales and Shils (1953)', 2), ('Parsons, Bales & Shils (1953)', 1)]\n"
     ]
    },
    {
     "data": {
      "text/markdown": [
       "+ (1981, American Journal of Sociology) are: (1) the differentiation of cultural system, social system, and personality, and the analysis of institutionalization and internalization in The Social System (1951) and Toward a General Theory of Action (Parsons and Shils 1951); (2) the differentiation of levels of systems and the macroscopic-microscopic application of the four-function paradigm in Working Papers in the Theory of Action \n",
       "+ (1982, American Journal of Sociology) 1951), Toward a General Theory of Action (Parsons and Shils 1951a), and Family, Socialization, and Interaction Process (Parsons and Bales 1956b); it is true of the differentiation of the subsystems of action and the analyses using multiple \"system references\" with the help of the microscopic-macroscopic applications of the four-function paradigm in Working Papers in the Theory of Action \n",
       "+ (1982, American Journal of Sociology) The pattern variables can be used to indicate with precision the specific relations between opposed modes of orientations of action which have been joined together by the interpenetration of different subsystems of action \n",
       "+ (1983, The Canadian Journal of Sociology / Cahiers canadiens de sociologie) This voluntaristic action frame of reference is translated into the AGIL scheme (see Figure 1, and below), which is itself abstracted by defining it in terms of the two dimensions of symbolic complexity and contingency of action \n",
       "+ (1986, Acta Sociologica) AGIL space revisited, or Parsons trying to avoid meeting Marx I will in the following make all references to a semi-formalized and simplified version of the theoretical AGIL model formulated in Working Papers in the Theory of Action \n",
       "+ (1990, American Journal of Sociology) AGIL: Parsons's Analytic Dimensions Certainly the most ambitious formulation of definitive dimensions in modern sociology was offered by Talcott Parsons \n",
       "+ (1996, American Journal of Sociology) The resulting amalgam of small group observation and pattern variable conceptualization was complex and ambiguous in its details \n",
       "+ (2000, Sociological Theory) Probably the most important distinction among holidays from this viewpoint is that some use narratives, drama, and ceremonies to directly enforce commitments to shared beliefs-which I shall refer to as recommitment holidays-and others fulfill this role indirectly, by releasing tensions that result from the close adherence to beliefs, which I term tension-management holidays \n",
       "+ (2013, Social Psychology Quarterly) Such sex-role specialization was supposed to have important functions in child socialization and stability of the nuclear family "
      ],
      "text/plain": [
       "<IPython.core.display.Markdown object>"
      ]
     },
     "metadata": {},
     "output_type": "display_data"
    },
    {
     "data": {
      "text/markdown": [
       "# Parsons, T, Shils, E {Toward a general theory of action} 1951"
      ],
      "text/plain": [
       "<IPython.core.display.Markdown object>"
      ]
     },
     "metadata": {},
     "output_type": "display_data"
    },
    {
     "name": "stdout",
     "output_type": "stream",
     "text": [
      "[('Parsons and Shils (1951)', 106), ('Parsons & Shils (1951)', 13)]\n"
     ]
    },
    {
     "data": {
      "text/markdown": [
       "+ (1969, The Sociological Quarterly) The future therefore, is viewed as a seat of rewards characteristic perhaps of the very identity of an instrumental orientation to action which demands that actors not expect gratification or completion in the here and now \n",
       "+ (1973, American Sociological Review) \n",
       "+ (1973, Social Problems) Similarly, individual needs usually require social channels for expression \n",
       "+ (1975, Social Problems) Public Assistance and Social Exchange 185 organizations should receive these, regardless of such extraneous factors as sex, race, or personality of the individual \n",
       "+ (1978, American Sociological Review) To the contrary, Parsons's \n",
       "+ (1978, Journal of Marriage and Family) For instance, this is the problem Paine (1969) sees with the Parsonian pattern variables \n",
       "+ (1979, American Journal of Sociology) As will become evident, the utilitarians were concerned with the principles and operations of human action in society, with what Parsons himself \n",
       "+ (1979, Sociology of Education) In contrast, universalism-particularism refers to the extent to which the relationship between evaluators and evaluatees' status attributes (and these may be either achieved or ascribed) influences the formers' evaluations \n",
       "+ (1981, American Journal of Sociology) The major landmarks in this development are: (1) the differentiation of cultural system, social system, and personality, and the analysis of institutionalization and internalization in The Social System (1951) and Toward a General Theory of Action \n",
       "+ (1982, The Sociological Quarterly) Parsons's \n",
       "+ (1984, Sociological Theory) Others (Turner and Beeghley, 1974; Gerstein, 1975; Munch, 1982) want to show the essential continuity between Parsons's voluntary action schema, the pattern variables (Parsons, 1951), and his social system theory \n",
       "+ (1984, The Sociological Quarterly) According to this view, behavior is not completely determined by external factors because the individual's \"orientation involves a scanning of several possible courses of action and [making] a choice from them\" \n",
       "+ (1985, Annual Review of Sociology) contained in the genetic endowments of Homo sapiens, but social interactions appear to channel the operation of this machinery along culturally predetermined paths called need dispositions \n",
       "+ (1988, American Sociological Review) Kanter's theory of commitment elaborates Talcott Parsons's \n",
       "+ (1995, Sociological Theory) 117//////believed that these distinctions captured the deep analytic truth that all social interactions included dimensions of all three: indisputable rootedness in the social system, meaningful reference to the cultural system, and causal influence by psychological motivations \n",
       "+ (1996, Sociological Theory) 50-78, 103-04)-i.e., primarily status groups, and organizationswere central to him, not \"society\" and least of all \"society\" as an organic unity comprised of putatively integrated \"subsystems\" \n",
       "+ (1996, Sociological Theory) The same must be said of churches as well as, Weber is convinced, strata14 and classes (see 1930b, p. 75/60).15 He saw diverse possibilities in regard to, for example, the \"economic form\" of capitalism and the traditional and rational \"economic ethics\": The traditional ethic might combine with 12 Parsons in particular \n",
       "+ (1996, The American Sociologist) There was also a foot note to Sumner in Toward a General Theory of Action \n",
       "+ (1998, The American Sociologist) \n",
       "+ (1998, The American Sociologist) Speaking for all the collaborators, Parsons as serted: \"We feel that the present effort belongs in the context of a major move ment\" \n",
       "+ (2001, American Journal of Sociology) The allocation process—which together with the integration process allows systems to maintain equilibrium—serves the function of allocating functions to roles and to subsystems \n",
       "+ (2002, European Sociological Review) In this approach he in fact follows Parsonian structuralfunctionalism, although he does not quote Parsons \n",
       "+ (2002, European Sociological Review) This is a question open to much debate and we cannot say that it has a definite answer \n",
       "+ (2003, Review of Religious Research) The contrast is reminiscent of the \"pattern variables\" that Talcott Parsons labeled as specificity (the contract relation) versus diffuseness (the covenant relation), and also \"self-orientation\" versus \"collectivity orientation\" \n",
       "+ (2006, Social Indicators Research) Another way of putting this would be by stating that in collectivistic societies, there is an attitude of \"us versus them' which is largely absent in individualistic societies, where an \"us and them' attitude may prevail \n",
       "+ (2010, Sociological Theory) Since all of her acts, therefore, are tied to prior expectations regarding the achievement of social goals, they are from the outset susceptible to the \"polarity of gratification and deprivation\" \n",
       "+ (2012, Social Problems) Particularly culpable in this regard have been some of the most salient and influential strands of twentieth-century sociology including, for example, the various “action” perspectives of Talcott Parsons \n",
       "+ (2015, American Journal of Sociology) Parsons and Shils \n",
       "+ (2015, American Sociological Review) These values guide individuals in the conscious, rational selection of goals, provide a rubric by which strategies for obtaining those goals can be evaluated, and shape normative expectations in interaction situations \n",
       "+ (2015, Sociological Theory) This is not surprising given how closely intertwined the notion of belief has traditionally been for both Parsonian action theory "
      ],
      "text/plain": [
       "<IPython.core.display.Markdown object>"
      ]
     },
     "metadata": {},
     "output_type": "display_data"
    },
    {
     "data": {
      "text/markdown": [
       "# Poulantzas, N {Classes in contemporary capitalism} 1975"
      ],
      "text/plain": [
       "<IPython.core.display.Markdown object>"
      ]
     },
     "metadata": {},
     "output_type": "display_data"
    },
    {
     "name": "stdout",
     "output_type": "stream",
     "text": [
      "[('Poulantzas (1975)', 61)]\n"
     ]
    },
    {
     "data": {
      "text/markdown": [
       "+ (1978, Acta Sociologica) Poulantzas, for instance, claims that the seeking after individual mobility is a characteristic of these middle strata and that through their ideas and behaviour they keep alive the 'myth of social promotion' which in its turn contributes a good deal to the stability of capitalist societies \n",
       "+ (1979, Social Problems) We will attempt to deal with these deficiencies in our theory of juvenile dispositions.3 Our analysis of the structure of juvenile dispositions is based on a neo-Marxian model of the class structure of capitalist societies \n",
       "+ (1979, Sociology) \n",
       "+ (1979, The Sociological Quarterly) On the other hand, there are the structuralists \n",
       "+ (1980, The Canadian Journal of Sociology / Cahiers canadiens de sociologie) Asymmetric relations of exchange, resulting frpm the capitalistic imperative of production and consumption under the condition of profit maximization and/or market competition, eventually lead to alienative and exploitative effects among all members of society \n",
       "+ (1981, International Review of Modern Sociology) These analyses include examination of capitalism and the labor process (Braverman, 1974; Hodgson, 1974; Mandel, 1975), of the texture of capitalist society (Braverman, 1974; Habermas, 1975; E wen, 1977), of the \"world system\" \n",
       "+ (1982, The Canadian Journal of Sociology / Cahiers canadiens de sociologie) 21//////contributed to the development of the class of white-collar clerical workers \n",
       "+ (1982, The Canadian Journal of Sociology / Cahiers canadiens de sociologie) Current debates over the definition and operationalization of class, particularly in regard to \"Marxist class categories,\" provide clear evidence of the continued interest, controversy, and importance attached to the concept \n",
       "+ (1982, The Canadian Journal of Sociology / Cahiers canadiens de sociologie) In addition, the economic aspect of property rights normally includes immediate appropriation of the fruits of such use \n",
       "+ (1982, The Canadian Journal of Sociology / Cahiers canadiens de sociologie) Just how these changes in the class systems of the capitalist societies are best described, however, is an issue of active debate, and this necessarily complicates and compromises any efforts to study these systems empirically \n",
       "+ (1982, The Canadian Journal of Sociology / Cahiers canadiens de sociologie) Thus, Marx distinguished between mental and manual labor, and several latter-day Marxists \n",
       "+ (1983, The Canadian Journal of Sociology / Cahiers canadiens de sociologie) A number of recent writers, more or less inspired by the Althusserian version of Marxism \n",
       "+ (1984, The Canadian Journal of Sociology / Cahiers canadiens de sociologie) Some authors have considered all those who hire any wage labour as members of the bourgeoisie and those who hire no wage labour but who own and control their own businesses as members of the petite bourgeoisie \n",
       "+ (1984, The Canadian Journal of Sociology / Cahiers canadiens de sociologie) Thus, we can speak of a petite bourgeoisie only in personal, recreational, and business services \n",
       "+ (1985, American Sociological Review) This objection has been raised especially by Marxist writers \n",
       "+ (1986, The Canadian Journal of Sociology / Cahiers canadiens de sociologie) However, when neo-Marxist class categories \n",
       "+ (1987, Annual Review of Sociology) And since the days of Marx-largely because of the steadily growing \"new middle classes\"-Marxists cannot get away from dealing with the role of these categories \n",
       "+ (1987, Humboldt Journal of Social Relations) as: the production of intended effects (Russell 1986); the 79//////80 The Power Concept in Sociology probability of imposing desired intentions despite resistance (Weber 1947; Dahl 1957); the extent to which one actor in fluences the behavior of others in accordance with desired inten tions (Goldhammer and Shils 1939); the capacity of a social class to realize its specific objective interests \n",
       "+ (1987, Social Problems) 20 CAMPBELL state managers and, therefore, the capitalist state is only \"relatively autonomous\" from the constraints of civil society \n",
       "+ (1988, American Sociological Review) Recent writers typically identify three: title, control, and possession \n",
       "+ (1988, The Canadian Journal of Sociology / Cahiers canadiens de sociologie) Divisions like these have of course appeared prominently in Marxist class analysis in sociology \n",
       "+ (1989, International Journal of Sociology) Contrary to these authors, neomarxist sociologists argue that the class character of the capitalist system in its fundamental lines is still alive throughout all Western societies \n",
       "+ (1989, The Sociological Quarterly) Since space limitations preclude a review of the various approaches to the resolution of these issues \n",
       "+ (1989, The Sociological Quarterly) Wright (1979b) argued that the fact that each of these locations shares characteristics with the various pairs of the three classes of orthodox Marxism means that they cannot be combined with them as some earlier scholars have claimed \n",
       "+ (1990, American Journal of Sociology) The state then organizes these subjects, who experience class relations as competition among individuals, into \"the public,\" whose general interests the state purports to serve \n",
       "+ (1994, The British Journal of Sociology) Such a view, his critics go on to argue, is not only unwarranted given current levels of methodological sophistication and the kinds of evidence these methods can produce, but is also dangerous in that it may legitimate invidious stereotyping \n",
       "+ (1995, Sociology) Structural approaches, for example -in recent years particularly associated with Marxism - tend to see individual preferences and so on as overdetermined by structural position: in other words, these can be read off from class (and other) position \n",
       "+ (2000, Annual Review of Sociology) Neo-Marxian authors have expanded the traditional Marxian formulation by considering the unique situations of different occupational groups, yet location in the productive order remains the essential explanatory dynamic \n",
       "+ (2000, Social Problems) Since conflicts of interest between capitalist class fractions make coordinated participation problematic, the state identifies capital's interests and translates them into policy outputs, in the process, insuring its own survival and growth \n",
       "+ (2002, International Journal of Sociology) The psychological impact of social class on individuals has been widely studied in sociology "
      ],
      "text/plain": [
       "<IPython.core.display.Markdown object>"
      ]
     },
     "metadata": {},
     "output_type": "display_data"
    },
    {
     "data": {
      "text/markdown": [
       "# Reiss, Albert J. Reiss {Occupations and social status} 1961"
      ],
      "text/plain": [
       "<IPython.core.display.Markdown object>"
      ]
     },
     "metadata": {},
     "output_type": "display_data"
    },
    {
     "name": "stdout",
     "output_type": "stream",
     "text": [
      "[('Reiss (1961)', 106)]\n"
     ]
    },
    {
     "data": {
      "text/markdown": [
       "+ (1970, Social Forces) In determining this, the Duncan Index of Socioeconomic Status \n",
       "+ (1970, Sociology of Education) The measure utilized was the Population Decile Scale developed by Duncan \n",
       "+ (1971, Social Forces) Use of the SEI as a stratification2 device is encouraged by Duncan, who has suggested the formation of either ten sets of ten-point intervals, or deciles with varying point ranges but equal frequencies based on the distribution of the male experienced labor force, or \"class intervals of the index of any degree of coarseness that (an investigator) wishes\" \n",
       "+ (1971, The British Journal of Sociology) \n",
       "+ (1971, The British Journal of Sociology) \n",
       "+ (1971, The British Journal of Sociology) And, in any case, data on occupations were at least 'relatively available and simple' \n",
       "+ (1972, American Sociological Review) Data from the study show two things: First, the absence of accurate knowledge about an occupation does not dissuade people from rating it \n",
       "+ (1974, The American Sociologist) 114 The American Sociologist get a job used a masculine referent \n",
       "+ (1975, American Journal of Sociology) We have recoded these into Duncan socioeconomic index scores \n",
       "+ (1975, Journal of Marriage and Family) Second, occupational prestige studies based on cross-section samples of the general population are devoid of significant variance in rankings due to age, sex, region, residence, education, and occupation of individual raters \n",
       "+ (1975, Social Problems) devoid of the opposite sex (in prisons, for example), in a society that strongly encourages it-say, among the Siwans of Africa (Ford and Beach, 1951:131-132)-in another subculture of male hustlers who adopt no homosexual self-image, follow a rigid code as to what is permitted with others whom they call homosexuals, have intercourse with their girlfriends, and eventually discontinue the practice \n",
       "+ (1975, Sociological Focus) Thus, although responses as analyzed supposedly referred to the general standing of the various jobs, the example given respondents to show them how to answer asked what rating they gave a male job holder \n",
       "+ (1976, American Journal of Sociology) From the subjective perspective, investigators have explored the ways in which people evaluate social positions differentially in terms of their general social standing or prestige \n",
       "+ (1976, Social Problems) Social standing scores for each marital-occupational combination are computed as a weighted frequency average of all ratings in the same way that NORC prestige scores were obtained for occupations \n",
       "+ (1977, American Sociological Review) After all, unfamiliarity with all but very familiar occupations is one well-known problem with occupational prestige studies like the North-Hatt study \n",
       "+ (1977, Annual Review of Sociology) 60 HAUG occupations was secured, with a high of 96 for Supreme Court Justice to a low of 33 for shoeshiners \n",
       "+ (1977, The Canadian Journal of Sociology / Cahiers canadiens de sociologie) Structural factors may operate as barriers to 285//////occupational goals \n",
       "+ (1978, Acta Sociologica) The structure of the US Census offers an easy road to the American sociologist, who can follow the lines laid down by Duncan \n",
       "+ (1978, American Sociological Review) It is the replacement of discrete occupational categories with numerical scores derived from the aggregate evaluations of those occupations by a set of sample respondents \n",
       "+ (1978, American Sociological Review) The occupational prestige of the fathers, rated on the expanded NORC scale \n",
       "+ (1978, Journal of Health and Social Behavior) Use of marijuana was significantly higher among students whose fathers had higher-status occupations as indicated by the Duncan occupational status index \n",
       "+ (1978, Journal of Marriage and Family) It is well known that respondents inflate the prestige value of their own jobs \n",
       "+ (1978, The Sociological Quarterly) Because the manner in which the NORC index was constructed implies that the \"typical\" occupant of a position is male \n",
       "+ (1980, International Review of Modern Sociology) The procedure of occupational prestige rating follows^//////22 INTERNATIONAL REVIEW OF MODERN SOCIOLOGY to a large extent, the standard one used in NORC studies \n",
       "+ (1985, Journal for the Scientific Study of Religion) Responses were coded according to the Duncan Scale of Occupational Status \n",
       "+ (1985, Journal of Marriage and Family) The prestige of the jobs named in the response to both questions were scored by using Duncan's Socioeconomic Index \n",
       "+ (1988, American Journal of Sociology) This finding is consistent with studies of occupational prestige, which show great variation in individual estimates of occupations' general standings but few systematic differences among demographic groups \n",
       "+ (1992, American Sociological Review) Similar results have been found with respect to the age, occupational position, gender, and urban residence of the rater \n",
       "+ (1997, Sociological Methodology) The first was carried out at NORC in 1947 by North and Hatt, but its major findings were not reported for more than a decade \n",
       "+ (1997, Sociological Methodology) While the two more recent prestige surveys obtained ratings for all occupational titles in the then-current Census classification schemes, only 90 titles were rated in the 1947 NORC survey "
      ],
      "text/plain": [
       "<IPython.core.display.Markdown object>"
      ]
     },
     "metadata": {},
     "output_type": "display_data"
    },
    {
     "data": {
      "text/markdown": [
       "# Robinson, Robert V., Kelley, Jonathan {Class as Conceived by Marx and Dahrendorf: Effects on Income Inequality and Politics in the United States and Great Britain} 1979"
      ],
      "text/plain": [
       "<IPython.core.display.Markdown object>"
      ]
     },
     "metadata": {},
     "output_type": "display_data"
    },
    {
     "name": "stdout",
     "output_type": "stream",
     "text": [
      "[('Robinson and Kelley (1979)', 62)]\n"
     ]
    },
    {
     "data": {
      "text/markdown": [
       "+ (1979, American Sociological Review) We have argued elsewhere \n",
       "+ (1980, American Journal of Sociology) Recent research in the two countries on objective stratification (Treiman and Terrell 1975) and class consciousness and voting \n",
       "+ (1980, American Sociological Review) \n",
       "+ (1980, American Sociological Review) \n",
       "+ (1980, American Sociological Review) DEFINITION AND OPERATIONALIZATION OF CONTROL OF THE MEANS OF PRODUCTION Attewell and Fitzgerald claim that we initially \n",
       "+ (1980, American Sociological Review) In Table 2 of our article we \n",
       "+ (1980, American Sociological Review) Investigators have sought to address debates about the distribution and consequences of authority, power, or social control within firms without considering the ways in which hierarchies are arranged or implemented at the organizational and suborganizational level \n",
       "+ (1980, American Sociological Review) They assure their readers that for the British data: \"Control over the means of production and authority are operationalized in a manner identical to our classification in the U.S. except that only a dichotomous version of authority is available\" \n",
       "+ (1980, American Sociological Review) To conclude this point, our finding \n",
       "+ (1980, American Sociological Review) We cautioned \n",
       "+ (1981, American Sociological Review) These concerns have led to several recent attempts to measure additional occupational characteristics in the context of research on determinants of earnings \n",
       "+ (1982, The Canadian Journal of Sociology / Cahiers canadiens de sociologie) Current debates over the definition and operationalization of class, particularly in regard to \"Marxist class categories,\" provide clear evidence of the continued interest, controversy, and importance attached to the concept \n",
       "+ (1982, The Canadian Journal of Sociology / Cahiers canadiens de sociologie) Just how these changes in the class systems of the capitalist societies are best described, however, is an issue of active debate, and this necessarily complicates and compromises any efforts to study these systems empirically \n",
       "+ (1982, The Canadian Journal of Sociology / Cahiers canadiens de sociologie) blue-collar distinction, and it might prove instructive to import an alternative conception of it to the study of voting \n",
       "+ (1982, The Sociological Quarterly) Recent stratification research has begun to recognize this omission by including organizational characteristics, typically position in the authority hierarchy, in models of occupational and earnings attainment \n",
       "+ (1983, American Sociological Review) Consistent with findings from previous studies \n",
       "+ (1985, American Sociological Review) Measures taken from the literature include the absence of a supervisor and a truncated version of organizational level \n",
       "+ (1985, American Sociological Review) These variables have effects on earnings independent of occupational status \n",
       "+ (1988, American Sociological Review) Men and women differ in their class identification processes \n",
       "+ (1988, American Sociological Review) Other studies that have examined the effects of workplace variables on class identification have not focused on gender, but they have nonetheless uncovered gender differences in class identification \n",
       "+ (1988, The Sociological Quarterly) Lastly, as Marxian conceptions of class have been refined and updated for contemporary analysis, a large literature has developed which uses class typologies as structural characteristics \n",
       "+ (1989, American Sociological Review) The literature tying business ownership into the status attainment framework suggests that education should depress the likelihood of business ownership, whereas occupational status and labor force experience should raise it \n",
       "+ (1989, Social Forces) We also include a measure of the extent to which the respondent's father owned the means of production \n",
       "+ (1989, Social Forces) We also include a measure of the extent to which the respondent's father owned the means of production \n",
       "+ (1992, American Sociological Review) Studies of the intergenerational transmission of inequality have consistently demonstrated the multidimensionality of this process \n",
       "+ (1993, American Sociological Review) One prominent line of thought and research emphasizes the control and command properties of jobs \n",
       "+ (1995, American Sociological Review) Combined additively, they give a powerful, flexible model of class \n",
       "+ (1995, American Sociological Review) Second, authority is one of the central ways in which the financial rewards of work are allocated \n",
       "+ (2004, American Sociological Review) The last point is important because racial and gender differences in workplace power are an important source of wage inequality \n",
       "+ (2008, Polish Sociological Review) According to these premises, in the course//////POLARIZED SOCIAL-CLASS STRUCTURE 345 of macro-social changes, some class indicators increase while others lose their importance "
      ],
      "text/plain": [
       "<IPython.core.display.Markdown object>"
      ]
     },
     "metadata": {},
     "output_type": "display_data"
    },
    {
     "data": {
      "text/markdown": [
       "# Rose, A {Theory and Method in the Social Sciences} 1954"
      ],
      "text/plain": [
       "<IPython.core.display.Markdown object>"
      ]
     },
     "metadata": {},
     "output_type": "display_data"
    },
    {
     "name": "stdout",
     "output_type": "stream",
     "text": [
      "[('Rose (1954)', 20)]\n"
     ]
    },
    {
     "data": {
      "text/markdown": [
       "+ (1968, American Sociological Review) Furthermore, in many situations, the stimulation from performers to audience is largely oneway, not mutual \n",
       "+ (1968, American Sociological Review) Recent theorists have been even more explicit in focusing on the \"instrumental\" or \"social influence\" group as a mechanism for reducing alienation \n",
       "+ (1969, American Sociological Review) They are important agencies supporting the normative order (though some groups are organized to change the order), help to distribute power at the grass roots level, function as service centers, and reinforce important values \n",
       "+ (1970, Journal of Marriage and Family) THERE HAS been an increase in recent years in the use of the family life cycle as an explanatory variable, and it has been used to explain such varied phenomena as consumer buying patterns (Foote, 1961), marital power (Blood and Wolfe, 1960), life satisfaction (Rose, 1955), mental health \n",
       "+ (1971, American Sociological Review) On the assumption that de Tocqueville's conclusion still holds true and on the assumption that the extent of association membership in democracies is directly related to a society's \"urbanism,\" \"democratization of social and political life,\" and \"equalitarianism\" \n",
       "+ (1971, American Sociological Review) While some of the most dogmatic conclusions have been questioned, it is safe to say that the American literature still yields agreement on this comparative notion that U.S. rates of affiliation are uniquely high ones \n",
       "+ (1971, Journal of Marriage and Family) Ideally, sociologists are committed to the pursuit of truth, the objective study of human relationships \n",
       "+ (1971, Journal of Marriage and Family) On the other hand, research that is quickly translated into the arena of public policy should bind the scholar to the most stringent adherence to the principle of value neutrality and objectivity in formulating conclusions from his research \n",
       "+ (1975, Sociological Bulletin) The tradition of voluntary associations is said to be weak in France \n",
       "+ (1975, The Sociological Quarterly) in organizations increases members' information, trains them in social interaction and leadership skills, and provides other personal//////Political Participation 30o7 resources essential for effective political activity (Olsen, 1972); (4) that group activity encourages a sense of satisfaction with democratic processes as members come to perceive how these processes work in concrete situations \n",
       "+ (1976, Social Problems) Constraints 19 and the growth of externally funded and group research \n",
       "+ (1976, Social Problems) The founders believed that, given an adequate conceptual scheme, research undertaken for practical purposes would not merely serve these ends, but would also lead to theoretical advances \n",
       "+ (1982, The Sociological Quarterly) Of the several useful group typologies available \n",
       "+ (1982, The Sociological Quarterly) Solidary groups are \"expressive\" organizations \n",
       "+ (1986, Sociological Focus) However, they show their divergence from Mead by finding Mead's work consistent with that of such diverse scholars as Cooley, Dewey, Thomas, and Park (Rose also added Baldwin, Simmel, and Weber, and Sumner; Blumer//////180 SOCIOLOGICAL FOCUS included Burgess, Znaniecki, Ellsworth Fans, William James, and James Mickel WilUams)\n",
       "+ (1986, Sociological Focus) In contrast, subjectivist interactionists such as Blumer and Rose have claimed to be faithful to Mead, Blumer expUcitly and Rose by impUcation \n",
       "+ (1992, American Sociological Review) Each of these characteristics has been said to contribute to the proliferation of voluntary associations and to increase levels of participation \n",
       "+ (2006, Journal for the Scientific Study of Religion) In addition, scholars have examined the influence of the organizational structure of religious groups on the formation of social capital, contrasting the horizontal structure of Protestant churches and the hierarchical structure of the Catholic Church "
      ],
      "text/plain": [
       "<IPython.core.display.Markdown object>"
      ]
     },
     "metadata": {},
     "output_type": "display_data"
    },
    {
     "data": {
      "text/markdown": [
       "# Schwartz, Joseph {Crosscutting Social Circles: Testing a macrostructural theory of intergroup relations.} 1984"
      ],
      "text/plain": [
       "<IPython.core.display.Markdown object>"
      ]
     },
     "metadata": {},
     "output_type": "display_data"
    },
    {
     "name": "stdout",
     "output_type": "stream",
     "text": [
      "[('Schwartz (1984)', 5)]\n"
     ]
    },
    {
     "data": {
      "text/markdown": [
       "+ (1989, Journal of Marriage and Family) Research on leaving the parental home has been largely confined to descriptions of demographic trends \n",
       "+ (1992, Sociological Forum) Throughout the cold war era, the Russians have been the enemy onto whom we have projected our fears and transferred our darkest traits \n",
       "+ (1993, Symbolic Interaction) Obese individuals may perceive themselves as society perceives them and play the role of a \"fat\" person \n",
       "+ (2010, American Journal of Sociology) Moreover, since relief benefits were quite meager, machines preferred to control the disbursement of jobs over relief \n",
       "+ (2010, American Journal of Sociology) Moreover, since relief benefits were quite meager, machines preferred to control the disbursement of jobs over relief "
      ],
      "text/plain": [
       "<IPython.core.display.Markdown object>"
      ]
     },
     "metadata": {},
     "output_type": "display_data"
    },
    {
     "data": {
      "text/markdown": [
       "# Shevky, Eshref, Bell, Wendell {Social area analysis: theory, illustrative application, and computational procedures} 1955"
      ],
      "text/plain": [
       "<IPython.core.display.Markdown object>"
      ]
     },
     "metadata": {},
     "output_type": "display_data"
    },
    {
     "name": "stdout",
     "output_type": "stream",
     "text": [
      "[('Shevky and Bell (1955)', 20), ('Shevky & Bell (1955)', 4)]\n"
     ]
    },
    {
     "data": {
      "text/markdown": [
       "+ (1969, American Sociological Review) (Van Arsdol, 1957, 1958; MacCannell, 1957); San Diego, Calif. (Polk, 1957); and San Francisco, Calif. \n",
       "+ (1969, American Sociological Review) Actually, the \"model\" presented by the authors \n",
       "+ (1969, American Sociological Review) possibility was admitted, it became feasible to resolve several controversies of long standing in the field of urban ecology.4 However, Shevky and Bell offered perhaps their most significant revision of the traditional ecological approach in their small monograph of 1955 in which they presented a set of theoretical propositions relating ecological variations to cultural-technological conditions \n",
       "+ (1970, The Sociological Quarterly) It is virtually axiomatic in urban sociology that increases in scale are associated with greater social heterogeneity among urban areas \n",
       "+ (1970, The Sociological Quarterly) The Index includes: (1) a measure of occupational standing, and (2) years of education completed \n",
       "+ (1970, The Sociological Quarterly) Thus, a tract inhabited largely by upper-level, blue-collar workers would receive the same score as a tract populated by semi-skilled and unskilled manual laborers \n",
       "+ (1973, Social Problems) In Fulton County an additional variable, an index of social rank \n",
       "+ (1973, Social Problems) Subsequent analyses have not always found socioeconomic status and distance from the central city to be related (Firey, 1947); but the research does support the earlier finding that residential segregation is a common urban phenomenon \n",
       "+ (1974, American Journal of Sociology) METHODS The early work in \"social area analysis\" \n",
       "+ (1974, Social Forces) The first concept attempts to describe and to explain the changing patterns of work-roles in the community \n",
       "+ (1974, Social Forces) The first concept attempts to describe and to explain the changing patterns of work-roles in the community \n",
       "+ (1975, Journal of Marriage and Family) In light of such work, it is hardly surprising that numerous attempts \n",
       "+ (1978, The Sociological Quarterly) Shevky's initial contribution was to define subareas in terms of standard scores which were then averaged to comprise the areal components \n",
       "+ (1978, The Sociological Quarterly) The contribution of social area analysis \n",
       "+ (1980, Annual Review of Sociology) However, factorial social ecology emerged in the mid- 1950s when the Shevky-Bell scheme of metropolitan 433 0360-0572 /80/0815-0433$01.00//////434 JANSON differentiation \n",
       "+ (1980, Annual Review of Sociology) The latter approach derives standards of comparison from data gathered in referring all of the cities to be compared [cf the construction of \"social areas\" \n",
       "+ (1983, Sociological Focus) However, residential areas can be expected to vary with respect to this level of turnover, since there is a good deal of correspondence between the variables on the household level that determine the propensity to move, and the variables upon which neighborhood differentiation is based \n",
       "+ (1983, The Sociological Quarterly) This measure is mainly derived from the social-area analysis approach \n",
       "+ (1985, The Sociological Quarterly) Ecological research in the social area tradition \n",
       "+ (1995, American Journal of Sociology) Finally, human ecologists have noted that population growth intensifies demand for central land and increases spatial differentiation, thus increasing segregation \n",
       "+ (1996, Social Forces) In part, this is because racial and ethnic residential segregation occurs in the context of a metropolis that is also segregated by social class and family life cycle \n",
       "+ (1996, Social Forces) In part, this is because racial and ethnic residential segregation occurs in the context of a metropolis that is also segregated by social class and family life cycle \n",
       "+ (1996, The Sociological Quarterly) From this perspective, especially as articulated by Amos Hawley (1950; 1971; 1981; 1984; 1986) and other members of the neoorthodox school "
      ],
      "text/plain": [
       "<IPython.core.display.Markdown object>"
      ]
     },
     "metadata": {},
     "output_type": "display_data"
    },
    {
     "data": {
      "text/markdown": [
       "# Siegel, P.M.Dissertation {Prestige in the American occupational structure} 1971"
      ],
      "text/plain": [
       "<IPython.core.display.Markdown object>"
      ]
     },
     "metadata": {},
     "output_type": "display_data"
    },
    {
     "name": "stdout",
     "output_type": "stream",
     "text": [
      "[('Siegel (1971)', 62)]\n"
     ]
    },
    {
     "data": {
      "text/markdown": [
       "+ (1973, American Journal of Sociology) A more serious departure from the hierarchical stratification of these major occupational groups, as presented above, occurs in the prestige of the farm category, which is equivalent to that received by lower nonmanual occupations \n",
       "+ (1974, International Journal of Sociology of the Family) In the lower range, some examples are: dancers (38), cashiers (31), and laundry operatives (18) \n",
       "+ (1975, American Sociological Review) Occupational Segmentation of Demand for Labor \"Occupations are collections of tasks which are differentiated primarily in the skill-the training and talent-necessary for their performance\" \n",
       "+ (1976, Journal of Marriage and Family) The independent variables in the models presented in the upper portion of Table 2 were the dummy variable expressing the professionalbusiness dichotomy (coded 1, if professional), the father's occupational prestige \n",
       "+ (1976, Journal of Marriage and Family) These status scores are available for 412 detailed Census occupations, and the range of values for this ranking is 9.3 to 81.5 \n",
       "+ (1977, Annual Review of Sociology) Job titles were selected to match census titles, but since less than half of the major three digit census codes were used, Siegel \"selected a subset of titles which were distributed over the major occupational groups of the US Bureau of the Census roughly in proportion to the major occupational distribution of the male experienced civilian labor force in 1960\" \n",
       "+ (1977, Sociological Focus) A study conducted in 1964 by the National Opinion Research Center on the prestige accorded to occupations has produced a score for each detailed Census occupational title \n",
       "+ (1978, Journal of Marriage and Family) Mobility research on women and prestige studies have not traditionally classified housewife as an occupation \n",
       "+ (1979, Social Problems) The Hodge-Siegel-Rossi rating system \n",
       "+ (1980, American Sociological Review) We have investigated the relationship between father's occupational prestige, as indicated by the Hodge-Rossi-Siegel Occupational Prestige Scores \n",
       "+ (1981, American Sociological Review) Duncan's Socioeconomic Index (Duncan, 1961a, 1961b; Featherman, Jones, and Hauser, 1975) and the prestige scores developed for the U.S. by Hodge, Siegel, and Rossi \n",
       "+ (1983, American Sociological Review) The 1 to 9 ratings given to each card by the respondents were converted6 into the standard NORC prestige metric ranging from 0 (low) to 100 (high) \n",
       "+ (1983, Journal of Marriage and Family) Employed women were selected equally among those in high-, medium-, and low-prestige occupations \n",
       "+ (1984, American Journal of Sociology) We tried mother's education, father's education, and father's occupational prestige coded with the Hodge-Siegel-Rossi code \n",
       "+ (1985, Journal of Health and Social Behavior) An occupational prestige score \n",
       "+ (1986, International Journal of Sociology) Relevant examples include prestige scales \n",
       "+ (1987, Journal of Marriage and Family) Each parent reported his or her age, educational attainment, and income.4 Occupational prestige was determined on the basis of the Siegel Scale \n",
       "+ (1988, American Journal of Sociology) Since the early 1940s, when North and Hatt devised a judgerated scale of occupational prestige in the United States, the concept of occupational prestige has become accepted in the literature of social stratification and mobility as a measure of socioeconomic achievement \n",
       "+ (1989, European Sociological Review) The International Occupational Prestige Scores (IPS), however, are highly correlated with the occupational prestige scores developed independently in Japan (Okamoto and Hara, 1979; Naoi, 1979) and the United States \n",
       "+ (1989, Journal of Marriage and Family) The Hodge I Siegel / Rossi occupational prestige rating system \n",
       "+ (1989, Social Forces) Alternative rankings based on Duncan SEI scores (Duncan 1961), Treiman prestige scores (Treiman 1977), and Siegel prestige scores \n",
       "+ (1989, Sociological Forum) Research has shown a high degree of stability in prestige rankings over time, across nations, and with respect to respondent instructions \n",
       "+ (1991, Sociological Methodology) and centralization in organizations, measured by the mean of responses of individuals within each organization (Aiken and Hage 1968); the need-achievement levels of countries, measured by the proportion of students telling stories with needachievement imagery (McClelland 1961); the social distance of ethnic groups (Bogardus 1959); the perceived benefits to society of selected occupations \n",
       "+ (1992, American Journal of Sociology) 0002-9602/92/9706-0005$01 .50 1658 AJS Volume 97 Number 6 (May 1992): 1658-88//////Symposium: Scaling ranks most commonly based on Duncan's (1961) socioeconomic index (SEI) or upon prestige scores \n",
       "+ (1992, American Journal of Sociology) 110-13) SEI was developed and accepted in large part because, for the first time, it provided an index of the status of all U.S. occupations; it took another decade to develop a prestige scale for all occupations \n",
       "+ (1992, American Journal of Sociology) First, the observed correlation between offspring's and father's status increases from .256 using the NORC \n",
       "+ (1992, Annual Review of Sociology) Based on the 1960 Census of Population, several new surveys were conducted in the 1960s (using nine response categories instead of the original five) to update the original scale \n",
       "+ (1992, Annual Review of Sociology) In this and in many other studies using the same method, mean profile correlations of 0.5 < R < 0.7 were found \n",
       "+ (1994, The Sociological Quarterly) \n",
       "+ (2005, American Journal of Sociology) First, an occupation’s prestige score is a weighted average of aggregated ranking scores over all raters, which reduces all information into one statistic of central tendency "
      ],
      "text/plain": [
       "<IPython.core.display.Markdown object>"
      ]
     },
     "metadata": {},
     "output_type": "display_data"
    },
    {
     "data": {
      "text/markdown": [
       "# Smith, T L {The sociology of rural life} 1957"
      ],
      "text/plain": [
       "<IPython.core.display.Markdown object>"
      ]
     },
     "metadata": {},
     "output_type": "display_data"
    },
    {
     "name": "stdout",
     "output_type": "stream",
     "text": [
      "[('Smith (1957)', 16)]\n"
     ]
    },
    {
     "data": {
      "text/markdown": [
       "+ (1969, Journal for the Scientific Study of Religion) \n",
       "+ (1971, The Sociological Quarterly) Its existence and its activities have been well documented, particularly for the period prior to the Civil War, \n",
       "+ (1975, Journal of Marriage and Family) Experimental studies mainly carried out by Byrne and his associates (Byrne, 1961, 1969, 1971) but also by earlier investigators \n",
       "+ (1978, American Journal of Sociology) \n",
       "+ (1983, Review of Religious Research) The roots in American history, particularly as self-consciously appropriated by the movement, go back much more clearly to the social activism of the evangelical revivalists of the nineteenth century with their involvement in//////262 the movements for abolition, women's rights, peace, and temperance \n",
       "+ (1986, Annual Review of Sociology) Throughout the Commission report (Commission on Country Life 1911), a constant theme was the need for thorough analysis of conditions in rural America, and one might argue reasonably that rural sociology, as well as rural community development, was a progeny of the Country Life Movement \n",
       "+ (1988, American Journal of Sociology) Henry King's Theology and the Social Consciousness and John Commons's Social Reform and the Church are just two examples of the voluminous literature of the 1890s that spurred municipal reforms, the survey of immigrants, and the formation of settlements, and that helped to shape the idea of Christian social work as a practical way of improving society \n",
       "+ (1998, Annual Review of Sociology) Northern evangelicals were active social reformers and provided the major impetus behind abolitionism, temperance, and a number of similar social movements \n",
       "+ (1998, Annual Review of Sociology) Southern evangelicals also resisted Northern evangelical social reform movements and perfectionist theology because they were associated with abolitionism \n",
       "+ (2008, Administrative Science Quarterly) Histori cal accounts have typically focused on either the role of the media (Savage, 1938; Newman, Rael, and Lapsansky, 2000; Newman, 2002; Fanuzzi, 2003; Nord, 2004) or religion \n",
       "+ (2008, Administrative Science Quarterly) It is easy for activists to appeal to the religious iden tities of congregants (Wood, 1999) because congregants are imbued with an intense moral energy that can be channeled toward reforming society's ills \n",
       "+ (2008, Administrative Science Quarterly) Some work on religion and antebellum social movements has documented the role played by religious revivals?emotional ly charged meetings at which fiery preachers thundered at large crowds of believers and potential converts \n",
       "+ (2008, Administrative Science Quarterly) We also probed to see whether it was revivals, rather than religious congregations, that drove the results on churches, to test the alternative hypothesis that revivalism led churches to embrace social reform \n",
       "+ (2008, Review of Religious Research) The fervor generated by these revivals, rather than detaching their converts from this-worldly affairs, greatly stimulated efforts to ameliorate urban poverty and abolish slavery \n",
       "+ (2010, Journal for the Scientific Study of Religion) Certainly, there is evidence of an urban brand of religiosity contradicting stereotypes of the rurality of conservative religion: the interdenominational prayer-meeting revival of 1858 started in New York and spread to other Northern cities "
      ],
      "text/plain": [
       "<IPython.core.display.Markdown object>"
      ]
     },
     "metadata": {},
     "output_type": "display_data"
    },
    {
     "data": {
      "text/markdown": [
       "# Sorokin, P A {Society, Culture, and Personality: Their Structure and Dynamics, a System of General Sociology} 1947"
      ],
      "text/plain": [
       "<IPython.core.display.Markdown object>"
      ]
     },
     "metadata": {},
     "output_type": "display_data"
    },
    {
     "name": "stdout",
     "output_type": "stream",
     "text": [
      "[('Sorokin (1947)', 46)]\n"
     ]
    },
    {
     "data": {
      "text/markdown": [
       "+ (1971, American Journal of Sociology) THE STATUS-INCONSISTENCY MODEL That in complex societies an individual's position in one social ranking or status system does not necessarily determine or coincide with his location in other status systems has long been recognized in sociological theory \n",
       "+ (1972, Social Forces) If the difference between revolutionary and evolutionary change is defined primarily as one of the \"suddenness\" or pace of structural change \n",
       "+ (1972, Social Forces) If the difference between revolutionary and evolutionary change is defined primarily as one of the \"suddenness\" or pace of structural change \n",
       "+ (1976, Journal for the Scientific Study of Religion) When one of these cultural patterns is exhausted-so that creativity can go no further \n",
       "+ (1980, Social Psychology Quarterly) Later writers have further developed the idea of sub-units of the global self and tied them to positions in the social structure \n",
       "+ (1983, Annual Review of Sociology) Indeed, generation is a key concept in social stratification research, referring to the process of status and occupational transmission from parent to child \n",
       "+ (1984, Social Psychology Quarterly) Similar attempts to describe two major kinds of relationships in terms of their solidary characteristics have a long tradition in classical as well as in modem sociological thought \n",
       "+ (1986, American Journal of Sociology) There are, of course, exceptions to the rule-Bernard (1926), who sought a compromise with the behaviorists that preserved habit in its physiological trappings; Maclver (1931), who was steeped in a tradition of European social theory antedating behaviorism and continued to speak of moral, religious, political, and economic habits \n",
       "+ (1988, Sociological Perspectives) Interest in a variety of status inconsistency effects has been evident in sociological literature for some time \n",
       "+ (1989, American Journal of Sociology) For Parsons, a \"social institution\" is a \"body of [obligatory] rules ... derivable from a common value system\" \n",
       "+ (1989, American Journal of Sociology) The point here is not simply that the schema suppresses the specificity of particular actions, but that \"there are many for [which a means-end] description is quite inapplicable\" \n",
       "+ (1989, American Journal of Sociology) this may be achieved in moral norms, abstract legal norms, ritual norms, technical standards, standards of public opinion, and elsewhere; the link between any of these domains and those rules that regulate force and fraud and bind actors together in daily conduct cannot be assumed but changes with the cultural integration of these domains and the properties of the normative standards \n",
       "+ (1989, Sociological Forum) FOUR DIMENSIONS OF OCCUPATIONAL INEQUALITY Many authors, of course, have recommended using multidimensional approaches to the study of social stratification \n",
       "+ (1997, International Review of Modern Sociology) Relative Involvement Research Methodology Our analytical model which, earlier, was described briefly herein, calls for integral, system analysis at three levels of abstraction, \n",
       "+ (1997, Polish Sociological Review) The individual has as many different social egos as there are different social groups and strata with which he is connected\" \n",
       "+ (1997, Polish Sociological Review) The nature of these roles, as well as their number, is culturally determined: the more diverse society is, the greater the number of social groups in which the individual may participate (at least potentially) \n",
       "+ (1998, Sociological Perspectives) Similarly, Sorokin (1947:119-144) maintains that cultures which stress\"the principles of love, of the Golden Rule, mutual aid, mutual respect and sympathy\" \n",
       "+ (2005, The American Sociologist) In contrast, in antagonistic interaction the meanings?values and actions \"of the parties are opposite and mu tually hinder one another\" \n",
       "+ (2005, The American Sociologist) In his autobiography he notes that while completing the writing of his comprehensive system of sociology \n",
       "+ (2005, The American Sociologist) In sociology, professional activity is focused on advancing knowledge and understanding re garding basic structures and processes within the frame of reference of culture, society, and personality \n",
       "+ (2005, The American Sociologist) Since \"none of the mem bers of this indivisible trinity (personality, society, culture) can exist without the other two\" \n",
       "+ (2005, The American Sociologist) Since \"none of the mem bers of this indivisible trinity (personality, society, culture) can exist without the other two\" (Sorokin, 1947: 63-64), each must ultimately \"be referred to the triadic manifold, or matrix in which it exists\" \n",
       "+ (2005, The American Sociologist) Solidary interaction is a situation in which \"the aspirations (meanings, values) and overt actions of the interacting parties concur and are mutually helpful for the realization of their objectives\" \n",
       "+ (2005, The American Sociologist) The Nature of Sociology Sorokin's sociology rests on the assumption that there are three \"inseparable\" components of the subject matter?personality, as thinking and acting individuals; society, the totality of interacting individuals and social relationships; and culture, composed of meanings, values, and norms and the vehicles through which they are manifested \n",
       "+ (2005, The American Sociologist) These forms of interaction also appear in more complex systems of social relationships, in which the \"familistic\" is predominately solidary and the \"compulsory\" is predominately antagonistic \n",
       "+ (2005, The American Sociologist) This basic conceptual and analytic frame of refer ence leads to a definition of sociology as \"a generalizing science of sociocultural phenomena viewed in their generic forms, types, and manifold interconnections\" \n",
       "+ (2005, The American Sociologist) This same basic delineation of the subject matter is applicable to \"special sociologies\" that focus on a particular class of sociocultural phenomena, such as family, religion, economics, or crime \n",
       "+ (2005, The American Sociologist) his theories of cultural types, integration, and change (Sorokin, 1937a; 1937b; 1941a; 1947; 1957a); his analysis and typology of social relationships (1937c); his theoretical and statistical analysis of the historical fluctuation of war and revolution (1925, 68 The American Sociologist / Fall/Winter 2005//////1937c, 1950d, [1941]1998a, [1942]1998b); his analysis of mobility and stratifica tion \n",
       "+ (2006, Journal of Marriage and Family) College graduates have historically adopted new attitudes and behaviors that diffused to individuals of other education levels "
      ],
      "text/plain": [
       "<IPython.core.display.Markdown object>"
      ]
     },
     "metadata": {},
     "output_type": "display_data"
    },
    {
     "data": {
      "text/markdown": [
       "# Srole, L {Mental health in the metropolis: The midtown Manhattan study} 1962"
      ],
      "text/plain": [
       "<IPython.core.display.Markdown object>"
      ]
     },
     "metadata": {},
     "output_type": "display_data"
    },
    {
     "name": "stdout",
     "output_type": "stream",
     "text": [
      "[('Srole (1962)', 6)]\n"
     ]
    },
    {
     "data": {
      "text/markdown": [
       "+ (1971, Journal of Marriage and Family) Thus, while according to the 1970 HEW report, single, white women in the general population report less psychological distress than married or separated white women, \n",
       "+ (1973, Journal of Marriage and Family) In the interview with the subsample of low (N = 15) and high (N= 14) alienated wives, the latter group revealed almost three times as many psychiatric symptoms as the former group when measured by the Midtown Psychiatric Symptom Scale \n",
       "+ (1973, Journal of Marriage and Family) Interview items themselves were categorized according to the following: individual and family problems; alienation and identification, before and after the move; family goals and means; and personality traits selected from the Midtown Guide \n",
       "+ (1984, Social Indicators Research) They have attempted to account for levels of well-being mainly//////00 TABLE I Literature on well-being and ill-being Academic discipline Methods (representative authors) Dependent variables (outcomes explained) Independent variables (explanatory factors) Key findings Social psychology (Bradburn, 1969; Campbells */., 1976; Andrews and Whithey, 1976) Psychiatric epidemiology \n",
       "+ (1993, Social Indicators Research) Instead, early studies sought to document the preva lence of undifferentiated symptoms of psychological distress \n",
       "+ (2004, Humboldt Journal of Social Relations) Humboldt Journal of Social Relations 28:1//////56 Ethnicity and Health A great deal has been written about the attitudes of different ethnic groups toward health, but much of it has focused on their views regarding mental illness "
      ],
      "text/plain": [
       "<IPython.core.display.Markdown object>"
      ]
     },
     "metadata": {},
     "output_type": "display_data"
    },
    {
     "data": {
      "text/markdown": [
       "# States, United {Historical statistics of the United States: Colonial times to 1957} 1965"
      ],
      "text/plain": [
       "<IPython.core.display.Markdown object>"
      ]
     },
     "metadata": {},
     "output_type": "display_data"
    },
    {
     "name": "stdout",
     "output_type": "stream",
     "text": [
      "[]\n"
     ]
    },
    {
     "data": {
      "text/markdown": [],
      "text/plain": [
       "<IPython.core.display.Markdown object>"
      ]
     },
     "metadata": {},
     "output_type": "display_data"
    },
    {
     "data": {
      "text/markdown": [
       "# Stolzenberg, R {Occupations, Labor Markets and the Process of Wage Attainment} 1975"
      ],
      "text/plain": [
       "<IPython.core.display.Markdown object>"
      ]
     },
     "metadata": {},
     "output_type": "display_data"
    },
    {
     "name": "stdout",
     "output_type": "stream",
     "text": [
      "[('Stolzenberg (1975)', 59)]\n"
     ]
    },
    {
     "data": {
      "text/markdown": [
       "+ (1977, American Journal of Sociology) 404//////Wage Attainment among Retail Clerks in different effects for market-context variables, such as industrial wage level, for different occupations \n",
       "+ (1977, Sociology of Education) -tde Ln\n",
       "+ (1978, American Sociological Review) Research by sociologists on the influence of these labor market factors has focused principally on racial differences in the allocation of occupations \n",
       "+ (1978, American Sociological Review) To do so, we must look to the theoretical heritage of functionalist theory in neoclassical conceptions of the socioeconomic order \n",
       "+ (1979, Administrative Science Quarterly) In effect, many of these studies have adopted the economists' notion of \"internal labor markets\", which posits structural constraints in institutions, and have attempted to explain these constraints more clearly \n",
       "+ (1979, Social Problems) There is, however, rather conclusive evidence that blacks do not participate in such a market \n",
       "+ (1980, American Sociological Review) Much of this research purports to show that individual achievement is a function of structural factors such as class (Wright and Perrone, 1977; Wright, 1978; Kalleberg and Griffin, 1978; 1980), authority (Kluegel, 1978; Robinson and Kelley, 1979; Wolf and Fligstein, 1979), organizational size (Stolzenberg, 1978), or labor market sector \n",
       "+ (1981, American Sociological Review) But occupation and structural elements in general-other than industry-have received little attention \n",
       "+ (1981, American Sociological Review) Only recently, however, and still to a very limited extent, has the DOT been exploited by academic social science researchers, mainly using data from the third (19%5) edition \n",
       "+ (1981, Sociological Focus) Because of this, the relationship between age and earnings is actually negative for older workers \n",
       "+ (1982, Acta Sociologica) The core sector is normally defined as the sector of the economy with oligopolistic firms and high productivity; the periphery sector is dominated by competitive capitalism and a lower level of productivity \n",
       "+ (1982, American Sociological Review) As mentioned above, women comprise the vast majority of clerical workers while men make up well over half of the skilled manual workers \n",
       "+ (1982, American Sociological Review) These changes are considered an important intervening factor because occupations not only differ with respect to their relative distributions across industrial sectors, but also with respect to wages paid and intragroup distribution of labor income \n",
       "+ (1983, American Sociological Review) \n",
       "+ (1983, American Sociological Review) The requirements for some jobs lead to a segmentation on the basis of skill specificity \n",
       "+ (1983, American Sociological Review) Thus' the concepts of primary-secondary labor markets (Piore, 1975), core and peripheral firms (Averitt, 1968), and internal-external labor markets (Doeringer and Piore, 1971) have been found useful in accounting for the differences observed in worker income \n",
       "+ (1984, The Sociological Quarterly) Competition is segmented within occupational groups and industries \n",
       "+ (1988, Social Forces) Cross-sectional analysis of the entire civilian labor force reveals a convex shape in the age-earnings profiles \n",
       "+ (1989, Social Forces) More recent research, derived from the structuralist perspective, has aimed to enhance our understanding of wage distribution by introducing organizational, industrial, and ecological dimensions of the labor market as additional sources of income inequality \n",
       "+ (1990, The Sociological Quarterly) First, it is increasingly clear that processes of occupational and income attainment differ by segment of the labor market and type of job \n",
       "+ (1991, Journal of Marriage and Family) Education is not the only, or perhaps even the major, link in the chain that has blocked the intergenerational mobility of blacks; their opportunity to translate their education into income in the racially segregated occupational structure has been severely restricted as well \n",
       "+ (1991, The Sociological Quarterly) Moreover, employed blacks differ significantly from white workers with respect to their employment conditions: blacks, relative to whites, are concentrated in low-paying and low-skilled blue-collar occupations (U.S. Department of Labor 1984); are more likely to be underemployed (Terry 1981); realize lower occupational returns to education \n",
       "+ (1993, The Sociological Quarterly) Occupational segregation and women's lower rewards at work are linked to structural labor-market conditions \n",
       "+ (1993, The Sociological Quarterly) This variable is a proxy for the scale and resources of the corporation \n",
       "+ (1995, American Sociological Review) \n",
       "+ (2000, Social Forces) Their predictions on how worker education and training affect job rewards are well supported, but frequently the effects are found to be contingent on factors such as the employer or type of work \n",
       "+ (2001, American Sociological Review) In particular, the role of occupations in shaping employment experiences is well established (Grusky and S0rensen 1998; Kohn 1977; Sorensen 1996), and the direct association between occupations and earnings is demonstrably strong \n",
       "+ (2001, American Sociological Review) The occupational segregation approach emphasizes the importance of occupational placement and mobility in the earnings attainment process \n",
       "+ (2006, Social Forces) Examples include research on how returns to skill vary across dual labor markets (Dickens and Lang 1988; Doeringer and Piore 1971), occupations \n",
       "+ (2010, American Sociological Review) "
      ],
      "text/plain": [
       "<IPython.core.display.Markdown object>"
      ]
     },
     "metadata": {},
     "output_type": "display_data"
    },
    {
     "data": {
      "text/markdown": [
       "# Terman, L. M. {Psychological factors in marital happiness} 1938"
      ],
      "text/plain": [
       "<IPython.core.display.Markdown object>"
      ]
     },
     "metadata": {},
     "output_type": "display_data"
    },
    {
     "name": "stdout",
     "output_type": "stream",
     "text": [
      "[('Terman (1938)', 34)]\n"
     ]
    },
    {
     "data": {
      "text/markdown": [
       "+ (1970, Journal of Marriage and Family) However, only nine of them \n",
       "+ (1970, Journal of Marriage and Family) The other three studies \n",
       "+ (1970, Journal of Marriage and Family) This approach contrasts sharply with the earlier attempts to predict adjustment in the early stages of marriage \n",
       "+ (1972, Journal of Marriage and Family) \n",
       "+ (1972, Journal of Marriage and Family) \n",
       "+ (1972, Journal of Marriage and Family) Although Terman noted that a \"generosity factor\" very substantially distorted appraisals of marital happiness in the socially desirable direction, he apparently did not suspect that the positive associations he obtained between marital happiness and conservative attitudes toward almost everything could have been spuriously inflated by this \"generosity factor\" \n",
       "+ (1972, Journal of Marriage and Family) This conviction, of course, had its origin in the mores of American society, but was logically buttressed by the publication and dissemination of scientific studies of marital happiness in the nineteen twenties and thirties \n",
       "+ (1972, Journal of Marriage and Family) This scale is derived from, and scored according to, Terman's schedule for predicting marital happiness \n",
       "+ (1974, Journal of Marriage and Family) Of the other six studies found in the literature on marital satisfaction trends over the family life cycle which included at least six of Duvall's eight stages, five studies \n",
       "+ (1974, Journal of Marriage and Family) Some investigators (e.g., Renee, 1970) find the absence of children associated with greater satisfaction, many investigators find no relationship \n",
       "+ (1977, Journal of Marriage and Family) Early evidence, generally from small and/or unrepresentative samples, indicated that divorced and remarried persons were as satisfied, or almost as satisfied, with their marriages as persons in first marriages \n",
       "+ (1977, Journal of Marriage and Family) Several researchers, over the years, \n",
       "+ (1977, Journal of Marriage and Family) There is a positive relationship between having had strict discipline in the home and having had premarital sexual intercourse \n",
       "+ (1978, Journal for the Scientific Study of Religion) S eparate research traditions have focused on the problems and issues in measuring religious commitment (e.g., Allport & Ross, 1967; King & Hunt, 1972) and the problems of measuring marriage happiness and satisfaction \n",
       "+ (1978, Journal of Marriage and Family) Most earlier studies indicated that amount of formal education was directly related to marital happiness or satisfaction for both husbands and wives \n",
       "+ (1978, Journal of Marriage and Family) To maximize the discriminative power of the scale items, these early studies added weights to item alternatives according to the amount of difference between the percentage from each group answering each alternative \n",
       "+ (1978, Review of Religious Research) BACKGROUND There is a long history of sociological and psychological studies//////179 of happiness in marriage \n",
       "+ (1978, Review of Religious Research) Some researchers \n",
       "+ (1979, Journal of Marriage and Family) BACKGROUND OF THE PROBLEM Competing Propositions Studies of marital satisfaction over the marital career have demonstrated a linear decline in satisfaction over the first 10 years of marriage for husbands or wives or both, variously locating the lowest level of satisfaction at the stage of the family life cycle associated with the presence of teenagers \n",
       "+ (1979, Journal of Marriage and Family) It suggests, instead, a curvilinear trend-decreasing marital satisfaction during the earlier stages, a leveling off in the second decade or so, followed by an increase over the later stages of the marital career \n",
       "+ (1980, Journal of Marriage and Family) Many studies have reported it to be a determinant of happy marriage \n",
       "+ (1980, Journal of Marriage and Family) The empirical literature does provide some indirect support for this prediction in that researchers have found positive correlations between parents' marital happiness and adjustment and favorability of the child's attitude toward marriage (Wallin, 1954) and happiness in the child's own marriage \n",
       "+ (1981, Journal of Marriage and Family) \n",
       "+ (1983, Journal of Marriage and Family) His study and two prior ones not cited by Lewis and Spanier \n",
       "+ (1985, Journal of Marriage and Family) Although a number of investigations have focused on the correlation between personality traits and marital happiness or marital satisfaction \n",
       "+ (1988, Journal of Marriage and Family) Sociologists Ernest Burgess and Leonard Cottrell had launched their monumental research project Predicting Success or Failure in Marriage (Burgess and Cottrell, 1939), and psychologist Lewis M. Terman had begun his major project, which he was to publish as Psychological Factors in Marital Happiness \n",
       "+ (1989, Journal of Marriage and Family) Mixed results also appear when the marital satisfaction levels of remarried men and remarried women are compared \n",
       "+ (1993, International Journal of Sociology of the Family) This finding concurs with that reported in previous research in the area of marital relations, where sexual satisfaction is reported to be strongly related to overall marital satisfaction and failures in communication with partners \n",
       "+ (2002, Journal of Marriage and Family) In survey research, a high percentage of spouses see their marriages as happy or extremely happy \n",
       "+ (2002, Journal of Marriage and Family) Throughout the history of research on relationship quality, researchers have been concerned about respondents' extremely positive relationship assessments "
      ],
      "text/plain": [
       "<IPython.core.display.Markdown object>"
      ]
     },
     "metadata": {},
     "output_type": "display_data"
    },
    {
     "data": {
      "text/markdown": [
       "# Theil, H {Principles of econometrics} 1970"
      ],
      "text/plain": [
       "<IPython.core.display.Markdown object>"
      ]
     },
     "metadata": {},
     "output_type": "display_data"
    },
    {
     "name": "stdout",
     "output_type": "stream",
     "text": [
      "[('Theil (1970)', 10)]\n"
     ]
    },
    {
     "data": {
      "text/markdown": [
       "+ (1977, American Journal of Sociology) Expected frequencies under a model can be estimated by using the maximum-likelihood methods described by Goodman or other estimation procedures \n",
       "+ (1977, Review of Religious Research) Though it has been used extensively in biology and economics, there has been only one discussion of it in sociological journals \n",
       "+ (1979, American Journal of Sociology) Table 1 presents the wording of the items we have selected, in both the 2 In addition to representing a landmark in the development of survey research methods, the data generated by these surveys have been used extensively in the progressive refinement of data analysis techniques in sociology \n",
       "+ (1980, Social Indicators Research) For analytical purposes, the dependent variable of abortion attitude is defined as a 'logit', or log of the ratio of the propor tion responding 'yes' to the proportion responding 'no' \n",
       "+ (1980, Sociology of Education) To avoid these problems, we employ logit regression, a log-linear method adapted to the social sciences explicitly for the purpose of performing multivariate analysis with dichotomous dependent variables \n",
       "+ (1984, American Sociological Review) We have used minimum logit chi-square regression \n",
       "+ (1985, Review of Religious Research) The main statistical procedure uses logit analysis for fitting various explanatory models \n",
       "+ (1988, The Sociological Quarterly) The effects of socioeconomic and ethnic indicators on a series of parity progression ratios are estimated through minimum logit chi-square regression procedures \n",
       "+ (1990, Journal for the Scientific Study of Religion) However, logistic regression procedure mnight be preferred in some cases \n",
       "+ (1990, Journal of Marriage and Family) Logistic regression analysis was developed specifically to handle the problems created by regressing a dichotomous dependent variable "
      ],
      "text/plain": [
       "<IPython.core.display.Markdown object>"
      ]
     },
     "metadata": {},
     "output_type": "display_data"
    },
    {
     "data": {
      "text/markdown": [
       "# Thoits, P A {Conceptual, methodological, and theoretical problems in studying social support as a buffer against life stress.} 1982"
      ],
      "text/plain": [
       "<IPython.core.display.Markdown object>"
      ]
     },
     "metadata": {},
     "output_type": "display_data"
    },
    {
     "name": "stdout",
     "output_type": "stream",
     "text": [
      "[('Thoits (1982)', 94)]\n"
     ]
    },
    {
     "data": {
      "text/markdown": [
       "+ (1982, Journal of Health and Social Behavior) There is at least some evidence that not all sources or types of social support are equally effective in reducing distress \n",
       "+ (1983, Journal of Health and Social Behavior) LaRocco failed to heed the strong and repeated qualifiers that I placed on the use of this variable and on the purpose of the buffering analysis presented in' the original article \n",
       "+ (1984, Journal of Health and Social Behavior) by an increasing awareness of its conceptual and methodological shortcomings \n",
       "+ (1985, Journal of Health and Social Behavior) For instance, in seven reviews of the social support evidence in recent years-and these are only some of the available reviews, three conclude that there is evidence of stress-buffering \n",
       "+ (1985, Sociological Perspectives) The concept of social support has been divided into two broad categories: task (or instrumental) support and emotional support \n",
       "+ (1986, American Journal of Sociology) Given accumulated findings on the importance of primary and quasiprimary social support for mental health \n",
       "+ (1986, Journal of Health and Social Behavior) It has//////EMPLOYMENT AND MENTAL HEALTH 195 been recommended that a distinction be drawn between instrumental and expressive aspects of support, because the role of available practical help may differ from that of intimate and confiding relationships \n",
       "+ (1986, Journal of Health and Social Behavior) Many researchers have attempted to resolve this issue by differentiating types of support and relating them to types of stressors \n",
       "+ (1986, Journal of Health and Social Behavior) Recent research is concerned with both differentiating types of support and linking them with types of stresses \n",
       "+ (1986, Journal of Health and Social Behavior) Social support is conceptually diffuse, and a number of writers have urged researchers to take more care over definition and measurement \n",
       "+ (1986, Journal of Health and Social Behavior) This focus seriously limits our ability to evaluate how specific support transactions ameliorate distress \n",
       "+ (1986, Sociology) 1977; Brown and Harris 1978) on the social origins of depression in women has been very influential in the field of social epidemiology \n",
       "+ (1987, Journal of Health and Social Behavior) Berkman and Syme 1979; Broadhead, Kaplan, James, Wagner, Schoenbach, Grimson, Heydon, Tibblin, and Gehlbach 1983); and (4) buffering or prevention of situational factors such as chronic strain, life events, or environmental stressors \n",
       "+ (1987, Journal of Health and Social Behavior) That women in general, married women, and unmarried women are more vulnerable to stressful circumstances than their male counterparts also has been established \n",
       "+ (1987, Journal of Health and Social Behavior) This idea of resource mediation is similar to that typically examined in studies of social supports as buffers of stress \n",
       "+ (1988, Annual Review of Sociology) At the margins: stress, buffering, and mediation The longstanding area of study of social class and mental and physical health has been the subject of renewed and more rigorous inquiry in recent years \n",
       "+ (1990, Journal of Marriage and Family) These further led to studies of buffering variables such as social support \n",
       "+ (1990, Sociological Forum) Many authors have commented on the need for improved definitions and measures of social support \n",
       "+ (1991, Journal of Health and Social Behavior) When the benefits of support are observed only in the context of a stressor, it is said to buffer the pathogenic effects of the stressor on the individual \n",
       "+ (1991, Journal of Marriage and Family) Social Support Social support is the flow between people of emotional, instrumental, or informational aid \n",
       "+ (1992, Annual Review of Sociology) Definitions of support abound, but most include whether a person's basic social needs-affection, esteem, approval, belonging, identity and security-are satisfied through interaction with others \n",
       "+ (1994, Journal of Health and Social Behavior) There is some evidence that emotional support from family and friends may partially prevent this outcome \n",
       "+ (1996, Journal of Health and Social Behavior) Empirical studies, however, have presented mixed, if not contradictory, findings and conclusions regarding the stressbuffering role of social support \n",
       "+ (1996, Sociological Methodology) Many studies of psychological well-being have documented that stressful life events, such as divorce or the death of a loved one, lower the level of psychological well-being-though their effects usually vary with gender and social status and are modified by social supports and other resources for coping \n",
       "+ (1999, Journal of Health and Social Behavior) Researchers focusing on group membership find either positive effects or insignificant effects of social participation on mental health \n",
       "+ (2004, Journal for the Scientific Study of Religion) Further, some argue that the sense of having someone who loves and understands may, in and of itself, reduce distress, regardless of whether the person provides practical help and protection \n",
       "+ (2006, Social Indicators Research) An interpretation would be that self-assessment of social isolation is mediated by a person's needs and their perception that these are being met \n",
       "+ (2006, Social Indicators Research) This is consistent with other research showing a graded relationship between mental health, particularly depression, and//////DEVELOPING THE FRIENDSHIP SCALE 539 social relationships \n",
       "+ (2007, Journal of Marriage and Family) These measures of actual support combine two very different underlying concepts: having social network support available and needing support at a given point in time \n",
       "+ (2011, Sociological Perspectives) When the elderly, poor, women, or unmarried persons (Turner, Wheaton, and Lloyd 1995) experience stress at similar levels as more privileged counterparts, they tend to exhibit higher levels of psychological distress "
      ],
      "text/plain": [
       "<IPython.core.display.Markdown object>"
      ]
     },
     "metadata": {},
     "output_type": "display_data"
    },
    {
     "data": {
      "text/markdown": [
       "# Tolbert, Charles, Horan, Patrick M., Beck, E. M. {The Structure of Economic Segmentation: A Dual Economy Approach} 1980"
      ],
      "text/plain": [
       "<IPython.core.display.Markdown object>"
      ]
     },
     "metadata": {},
     "output_type": "display_data"
    },
    {
     "name": "stdout",
     "output_type": "stream",
     "text": [
      "[('Tolbert, Horan, and Beck (1980)', 16), ('Tolbert, Horan & Beck (1980)', 11), ('Tolbert, Horan and Beck (1980)', 4), ('Tolbert II, Horan, and Beck (1980)', 1)]\n"
     ]
    },
    {
     "data": {
      "text/markdown": [
       "+ (1983, American Journal of Sociology) Many researchers argue that the major impact of individual characteristics is on the sorting of workers into positions and that the major direct determinant of rewards is the labor market in which positions are located \n",
       "+ (1985, Acta Sociologica) The various statistical studies carried out in the USA - the only ones available to date - show that the attempts at a dual classification of sectors of the economy offer no mutual confirmation and that none of them provides plain proof of a significant differentiation between sectors \n",
       "+ (1985, The Canadian Journal of Sociology / Cahiers canadiens de sociologie) The former will be based on factor and cluster analyses of primary data we have collected while the latter will be derived from an analysis of Canadian data which follows the most successful American industry-level operationalization \n",
       "+ (1985, The Canadian Journal of Sociology / Cahiers canadiens de sociologie) assets, sales, number of employees) by industry \n",
       "+ (1986, American Journal of Sociology) Furniture manufacturing consists of many small establishments, almost 85 % of which were singleunit companies in 1977 (U.S. Bureau of the Census 1981, p. 7-29), and has therefore been classified as a \"periphery\" industry \n",
       "+ (1986, American Journal of Sociology) Specifically, the emphasis on the importance of economic segment location as a causal agent in these processes provided one structural alternative to neoclassical (\"human capital\") models of earnings determination \n",
       "+ (1987, European Sociological Review) Also, more refined statistical methods of sector delimitation have been applied \n",
       "+ (1987, The Sociological Quarterly) 4/1987 THEORETICAL BACKGROUND Economic Segmentation Although diverse in scope and orientation, the economic segmentation literature shares a common concern with the ways in which macro forces in a society's economy impinge upon the process of stratification \n",
       "+ (1988, Social Forces) \n",
       "+ (1988, Social Forces) \n",
       "+ (1988, Social Forces) Emerging in the late 1960s, the dual economy perspective was integrated into a number of research papers concerned with sex differences in earnings \n",
       "+ (1988, The Sociological Quarterly) Inspired by early theoretical and empirical efforts in economics (Averitt 1968; Harrison 1972; Bluestone, Murphy and Stevenson 1973) sociologists have debated the boundaries of the core and periphery of the economy \n",
       "+ (1990, The Sociological Quarterly) However, the index indicators discussed below show face validity and approximate as closely as possible indicators of labor market and economic segmentation used in previous research \n",
       "+ (1991, Sociological Methodology) Mapping industry-level archival data onto individual data sets provided important extensions of the economic segmentation literature \n",
       "+ (1991, The Sociological Quarterly) The tripartite division of the economy into monopoly, competitive, and state sector industries associates with firm differences in size, economic scale, internal labor markets, and rates of employee turnover, and industry-wide levels of unionization \n",
       "+ (1994, American Journal of Sociology) differences across industries in the social status of their respective labor pools: younger white males are more likely to be employed in core firms that offer high wages, promotion opportunities, fringe benefits, and personnel practices designed to minimize turnover; women, older workers, and minorities are disproportionately employed in peripheral firms where such incentives are lacking \n",
       "+ (1994, American Sociological Review) Traditional labor market research, for example, has compared wages in the primary and secondary (Doeringer and Piore 1971) or core and periphery markets \n",
       "+ (1994, Social Problems) In their view, these characteristics define labor market boundaries and influence earnings, benefits, and employment opportunities \n",
       "+ (1994, Social Problems) Seeking to explain the reduced income and status attainment of women and minorities, dual labor market theory claims that disadvantaged groups are locked into an inferior, secondary labor market that does not offer access to the more desirable jobs in the primary sector of the labor market \n",
       "+ (1994, Sociological Focus) ORGANIZATIONS AND EARNINGS ATTAINMENT AMONG MANUFACTURING WORKERS 205 CONCLUSIONS For years, stratification researchers in the dual economy and segmentation ap proaches used the industry as the level of analysis in their empirical works \n",
       "+ (1995, Sociological Perspectives) The Dual Labor Market Theory of Feminization The DLMT of feminization follows quite logically from its central tenets \n",
       "+ (1996, American Sociological Review) Several writers have suggested that the private-sector U.S. economy can be divided into two subsectors with distinct forms of labor control: \"Core\" industries contain large, capital-intensive firms that depend on skilled workers; \"peripheral\" industries contain small, labor-intensive firms that employ largely unskilled workers \n",
       "+ (1998, Social Forces) As some have noted, structures and processes of opportunity vary between and even within regions of the U.S. \n",
       "+ (1998, Social Forces) As some have noted, structures and processes of opportunity vary between and even within regions of the U.S. \n",
       "+ (1998, The Sociological Quarterly) In contrast to the supply-oriented, individualistic human capital approach, neostructuralist researchers \n",
       "+ (2000, Social Forces) Early work on labor-market opportunity made the distinction between core (primary) and peripheral (secondary) labor-market areas, and it was argued that each has implications for the distribution of resources within a population given varying returns on human capital investment, training, wages, and job stability \n",
       "+ (2000, Social Forces) Early work on labor-market opportunity made the distinction between core (primary) and peripheral (secondary) labor-market areas, and it was argued that each has implications for the distribution of resources within a population given varying returns on human capital investment, training, wages, and job stability \n",
       "+ (2000, Social Forces) We find this somewhat surprising given the focus of Wilson (1987), Kasarda (1987), and stratification researchers on labor-market attributes that shape the spatialiy varying nature of disadvantage in the first place \n",
       "+ (2000, Social Forces) We find this somewhat surprising given the focus of Wilson (1987), Kasarda (1987), and stratification researchers on labor-market attributes that shape the spatialiy varying nature of disadvantage in the first place \n",
       "+ (2014, American Sociological Review) Indeed, segmented labor market theories posit that women and minorities were trapped in unstable secondary labor markets "
      ],
      "text/plain": [
       "<IPython.core.display.Markdown object>"
      ]
     },
     "metadata": {},
     "output_type": "display_data"
    },
    {
     "data": {
      "text/markdown": [
       "# Treiman, Donald J, Terrell, Kermit {Sex and the Process of Status Attainment: A Comparison of Working Women and Men} 1975"
      ],
      "text/plain": [
       "<IPython.core.display.Markdown object>"
      ]
     },
     "metadata": {},
     "output_type": "display_data"
    },
    {
     "name": "stdout",
     "output_type": "stream",
     "text": [
      "[('Treiman and Terrell (1975)', 176), ('Treiman & Terrell (1975)', 14)]\n"
     ]
    },
    {
     "data": {
      "text/markdown": [
       "+ (1976, American Sociological Review) How sexual inequalities of opportunity (sexual stratification) generate inequalities in the socioeconomic achievements of men and women (sexual inequality) is the topic of recent researches on sexual patterns of occupational mobility and status attainment \n",
       "+ (1976, American Sociological Review) Resources are characteristics of individuals (e.g., sex, race, schooling) that help them gain access to rewarded positions or increase rewards once a position has been achieved \n",
       "+ (1976, American Sociological Review) Within constant occupation groups women earn less for equivalent work and effort (Suter and Miller, 1973), and sexual pay differentials may have become more disadvantageous for women in the recent past \n",
       "+ (1976, Sociology of Education) The process of educational attainment appears to be similar for men and women in respect to the influence of social background \n",
       "+ (1977, Sociology of Education) Combined race-sex effects, either main or interactive, have therefore generally not been assessed in causal models of the sort discussed here (the major exception is Hout and Morgan, 1975; see below), even though the importance of such multiple ascribed statuses for adult achievement is documented \n",
       "+ (1978, Journal of Health and Social Behavior) \n",
       "+ (1979, American Journal of Sociology) A single or formerly married woman may have greater financial responsibilities for herself and her family (Wolf 1977), may have more serious career commitments both in terms of subjective investment (Bielby 1978) and number of hours worked (Hudis 1976), and may receive higher earnings \n",
       "+ (1979, American Sociological Review) Yet, males and females differ only slightly in levels of occupational status as measured by prestige ratings or by the SEI \n",
       "+ (1980, Annual Review of Sociology) Rogoff-Rams0y 1977; Duncan, Featherman & Duncan 1972; Goldthorpe, Payne & Llewellyn 1978) as well as additional twoor multiple-country comparisons \n",
       "+ (1980, Contemporary Sociology) The problem is that women and men with similar occupational prestige scores do not have similar incomes \n",
       "+ (1982, American Sociological Review) Those in which further education or school type has been used \n",
       "+ (1982, International Review of Modern Sociology) Possible explanations are the relatively high resemblance in labor-market conditions for black males and females \n",
       "+ (1983, American Sociological Review) Second, the early 1970s debate concerning the \"amount\" of social mobility experienced by women as compared to men, \n",
       "+ (1983, Sociology) Various specifications of O LS regression models - separate regression or path models for each population (Kerckhoff, 1974; Featherman and Hauser, 1976a and 1976b; Waite, 1976), regression or path models for the pooled population distinguishing each by dummy variables (Stolzenberg, 1976) and/or interaction terms \n",
       "+ (1983, The Sociological Quarterly) In studies utilizing national samples that measure occupational status by the Duncan index, small differences in mean occupational status exist between men and women \n",
       "+ (1984, Sociological Perspectives) Research based on the standard attainment model has emphasized similarity in the occupational attainment processes of men and women \n",
       "+ (1984, The Sociological Quarterly) A high level of occupational segregation by sex has persisted in the United States since the turn of the century \n",
       "+ (1984, The Sociological Quarterly) Similar findings were reported in studies examining samples of black and white females \n",
       "+ (1985, Journal of Health and Social Behavior) Due to discrimination and occupational segregation, many women are confined to low-paying jobs offering little opportunity for advancement \n",
       "+ (1986, Social Forces) Although it is unclear whether family size influences women's occupational attainment, most research shows that family size is negatively associated with women's earnings \n",
       "+ (1987, Journal of Marriage and Family) While the results are fairly consistent when career comparisons are between single and married women, there is very little research that contrasts different types of singlehood \n",
       "+ (1989, Social Forces) Several studies based on national samples provide support for this hypothesis \n",
       "+ (1989, Sociological Forum) Such studies are rarer, but their findings are consistent with the conclusion that there are only minor differences across capitalist industrial societies \n",
       "+ (1990, American Sociological Review) INumerous studies show that amount of schooling affects adult occupational status \n",
       "+ (1990, The Canadian Journal of Sociology / Cahiers canadiens de sociologie) At the same time, if women are being drawn to particular occupations by rising wage rates (relative to investment), we would expect a positive correlation between occupational earnings and female composition \n",
       "+ (1991, American Journal of Sociology) Status-attainment research has demonstrated that educational attainment has a much larger direct effect on socioeconomic status than does father's occupational status \n",
       "+ (1997, American Journal of Sociology) The main generalizable evidence for this belief is the finding that sizable wage effects of occupational sex composition cannot be explained by any stable worker or occupational characteristics \n",
       "+ (1997, The American Sociologist) Most relevant here was the finding that educational attainment did not work for women the way it did for men \n",
       "+ (2003, Social Problems) Earlier research demonstrates wage depreciation in female-dominated occupations in the 1940s, 1950s, and 1960s \n",
       "+ (2009, European Sociological Review) Previous studies have mostly found small differences between women's occupations and men's occupations on scales of occupational prestige "
      ],
      "text/plain": [
       "<IPython.core.display.Markdown object>"
      ]
     },
     "metadata": {},
     "output_type": "display_data"
    },
    {
     "data": {
      "text/markdown": [
       "# Turner, R H {The social context of ambition: A study of high-school seniors in Los Angeles} 1964"
      ],
      "text/plain": [
       "<IPython.core.display.Markdown object>"
      ]
     },
     "metadata": {},
     "output_type": "display_data"
    },
    {
     "name": "stdout",
     "output_type": "stream",
     "text": [
      "[('Turner (1964)', 101)]\n"
     ]
    },
    {
     "data": {
      "text/markdown": [
       "+ (1969, American Sociological Review) The status aspirations of women have been defined by particular goals-such as their own education, material possessions, and the prestige of their future husband's job \n",
       "+ (1970, American Journal of Sociology) Primary attention has been devoted to the educational aspirations of high school seniors and to the characteristics of those enrolling in college \n",
       "+ (1970, American Journal of Sociology) Recently, a number of studies have explored the hypothesis that the social status of the high school (or of its community) influences prospective or actual attendance in addition to the familiar effects of mental ability and family status \n",
       "+ (1970, American Sociological Review) \n",
       "+ (1970, American Sociological Review) \n",
       "+ (1970, Sociology of Education) Do adolescents respond to the pervasive influence of particular much effect as the level of individual family background in determining how high the child's ambition will be\" \n",
       "+ (1972, American Sociological Review) The Milwaukee research was the first to reverse a host of earlier studies which supported an association between aspirations and school status \n",
       "+ (1972, Journal of Marriage and Family) Several researchers have reported that almost all girls desire marriage (Slocum and Empey, 1957; Douvan and Adelson, 1966), and several additional studies indicate that relatively large proportions of girls desire to work after marriage \n",
       "+ (1973, American Journal of Sociology) 1958), aspire \n",
       "+ (1973, American Journal of Sociology) [while] emergent norm theories see collective behavior as regulated by a social norm which arises in a special situation\" \n",
       "+ (1973, Social Forces) See for example, the claim that \"the key status for most women lies in the husband's occupation\" \n",
       "+ (1973, The Sociological Quarterly) Previous research has indicated that females respond less strongly to particular correlates of college aspirations than males \n",
       "+ (1973, The Sociological Quarterly) This is precisely the starting point of the so-called \"emergent norm\" approach to collective behavior \n",
       "+ (1974, American Sociological Review) Ambition, as a form of motivation, is, in turn, expected to have direct effects on school grades, educational attainment and destination position in an achievement-based system \n",
       "+ (1975, Social Forces) Explanations have included such things as the operation of primeval instincts and the somewhat mysterious work of \"contagion\" \n",
       "+ (1975, Social Forces) Explanations have included such things as the operation of primeval instincts and the somewhat mysterious work of \"contagion\" \n",
       "+ (1975, Sociological Focus) A social movement's effect upon society, however, depends upon more than the pronouncements of its leaders \n",
       "+ (1976, Annual Review of Sociology) However, the totality of commitment to acceptance in this peer society has been greatly overstated, to the near exclusion of the personal ambitions that make themselves very strongly evident in later adolescence \n",
       "+ (1976, Journal of Marriage and Family) Indeed, much of the literature on the career aspirations of adolescents indicates that few girls aspire to life-time careers characterized by continuous labor force participation \n",
       "+ (1976, The Sociological Quarterly) It appears that expectations are low among the lower class as Rodman predicted and innumerable aspiration studies have shown \n",
       "+ (1977, American Sociological Review) Hence, by ascertaining the occupational status of a man one could, at the same time, determine the socioeconomic status of his wife \n",
       "+ (1978, Journal for the Scientific Study of Religion) Moreover, as these authors have themselves pointed out \n",
       "+ (1978, The Sociological Quarterly) The most closely related research attempts to answer one of two different questions: (1) what are the background characteristics and educational experiences associated with the work orientation of women in college \n",
       "+ (1979, Social Psychology Quarterly) Consistent with the recent reemphasis or recognition \n",
       "+ (1981, Symbolic Interaction) With the exception of the emergent norm approach \n",
       "+ (1982, Journal of Marriage and Family) That is, female status attainment may be determined more often by their husbands' achievements, rather than by their own attainments within extrafamilial careers \n",
       "+ (1984, Sociological Perspectives) to cling to the established order\" \n",
       "+ (1991, Sociological Forum) The evidence on high aspirations is consistent with the findings of earlier research on overaspirations \n",
       "+ (1996, Sociological Forum) These seek to explain how and when a crowd becomes violent with reference to the presence or communication of various stimuli or interactions between crowd members \n",
       "+ (2007, Sociology of Education) Findings in the 1 960s and early 1 970s, emanating from a flurry of research on the relationship between school context and edu cational expectations, showed that students from high-SES schools had higher aspirations than did those from low-SES schools, even//////46 Frost after their individual class status was con trolled "
      ],
      "text/plain": [
       "<IPython.core.display.Markdown object>"
      ]
     },
     "metadata": {},
     "output_type": "display_data"
    },
    {
     "data": {
      "text/markdown": [
       "# Valentine, C A {Culture and Poverty} 1968"
      ],
      "text/plain": [
       "<IPython.core.display.Markdown object>"
      ]
     },
     "metadata": {},
     "output_type": "display_data"
    },
    {
     "name": "stdout",
     "output_type": "stream",
     "text": [
      "[('Valentine (1968)', 52)]\n"
     ]
    },
    {
     "data": {
      "text/markdown": [
       "+ (1971, American Journal of Sociology) There is some evidence indicating that Negroes generally, and especially workingand lower-class Negroes, have developed life-styles that reflect relatively autonomous and cohesive subcultures \n",
       "+ (1971, Journal of Marriage and Family) The adaptation which the lower-class black family are seen to make to their peculiar circumstances are viewed from a middle class perspective, and such a perspective easily leads to characterizations of those adaptations as unhealthy, destructive of human potential and physically damaging \n",
       "+ (1971, Journal of Marriage and Family) This belief is often supported by the use of statistics showing a high incidence of homicides and assaults in ghetto areas (Gibbons, 1969) and by ethnographic studies of the characteristics and effects of the \"subculture\" of poverty \n",
       "+ (1972, Social Problems) In contrast to this emphasis on socialization are those who argue that the cultural traits of the poor-including low aspirationsare not transmitted in a kind of inexorable and mechanical way from generation to generation \n",
       "+ (1972, Social Problems) These apparent differences in the social structural origins of achievement motives and values probably underlie much of the current \"culture of poverty\" debate \n",
       "+ (1974, Social Problems) The other position in the debate is that of the critics \n",
       "+ (1974, Social Problems) The widely publicized debate over the existence of a culture of poverty \n",
       "+ (1974, Social Problems) These considerations are especially important in the formation of social policy \n",
       "+ (1975, Social Forces) Nonetheless, the perspective remains a key rationale for policy efforts \n",
       "+ (1975, Social Forces) VARIABLES IN THE MODEL A regression model is used to predict three standard measures of labor force participation: tural view have ranged from Rodman's (1963) notion of a value stretch to the more recent emphases on the situational or structural determinants of poverty \n",
       "+ (1975, Social Forces) VARIABLES IN THE MODEL A regression model is used to predict three standard measures of labor force participation: tural view have ranged from Rodman's (1963) notion of a value stretch to the more recent emphases on the situational or structural determinants of poverty \n",
       "+ (1976, American Sociological Review) Ethnographic research demonstrates that these communities are also characterized by a social organization containing relatively strong informal networks \n",
       "+ (1977, Journal for the Scientific Study of Religion) O'Dea, 1960) and pathological (Cutten, 1927; Boisen, 1939a, 1939b; Alland, 1962; Kaplan, 1965).1 Proponents on the other side argue that the religion of the poor is not so much disorganized as it is organized according to the values and norms of lower-class life in general, and that the religious poor make positive contributions to the development and maintenance of culture and the social order \n",
       "+ (1978, Journal of Marriage and Family) The latter perspective has been buttressed with old and new investigations which see the culture of black Americans as different from whites \n",
       "+ (1978, Journal of Marriage and Family) The presence of an unemployed conjugal male could restrict the mother's potential for maintaining supportive relationships with her consanguines (blood relatives) and with other men (Gonzalez, 1970a) or-as in the United States-remove her eligibility for welfare \n",
       "+ (1979, American Journal of Sociology) While some proponents of the Lost argument have alleged an association between communal disorganization and poverty \n",
       "+ (1979, Sociological Focus) 104 SOCIOLOGICAL FOCUS sociological imagination in recent decades, it has lately come under considerable attack \n",
       "+ (1985, Annual Review of Sociology) Issues of intense interest and contention at that time include the controversy over the \"culture of poverty\" thesis \n",
       "+ (1987, Sociology of Education) In this regard, the concept of cultural capital is potentially vulnerable to the same criticisms that have been directed at the notion of the culture of poverty \n",
       "+ (1989, The American Sociologist) \"Underclass\" Is a More Neutral Term During the 1960s and 1970s the culture-of-poverty concept was subjected to blistering criticism by liberal social scientists representing a variety of structural perspectives emphasizing the lack of opportunities available to those occupying the lowest niches in the stratification system \n",
       "+ (1989, The American Sociologist) Analyses affirming and disputing the validity of the culture-of-poverty concept were frequently plagued by oversimplification to the point of caricature, and anthropologists and others were quick to point out the impoverished quality of these presentations \n",
       "+ (1990, Journal of Marriage and Family) The use of ethnographic procedures reduces the possibility of inconsistencies between the data and their interpretation \n",
       "+ (1994, Social Problems) By contrast, in previous decades, cultural formulations emanated from anthropologists and sociologists \n",
       "+ (1994, Social Problems) Furthermore, qualitative data are the most appropriate type to assess cultural arguments (Rainwater 1987) and to critique improper conceptualizations of cultural processes as formulated in the culture of poverty framework \n",
       "+ (1996, Sociological Perspectives) \n",
       "+ (1996, Sociological Perspectives) In making this charge, he//////470 SOCIOLOGICAL PERSPECTIVES Volume 39, Number 4,1996 enters the embroglio over the Moynihan Report, denouncing it as a latter-day extension of the \"Frazierian vision\" \n",
       "+ (1996, Sociological Perspectives) The book begins with a rejection of what Valentine calls the \"pejorative tradition\" of black family studies begun by E. Franklin Frazier \n",
       "+ (1998, Journal of Marriage and Family) Although there is a range of opinion about the specific antecedents, features, and consequences of the subculture \n",
       "+ (2001, Annual Review of Sociology) It was still the case that some argued that this reform agenda often relied too heavily upon a vision of white America as a measuring rod for the possibilities of African Americans in the twentieth century (Watts 1983) and thus fostered a pathological conception of the cultural and social dimension of African-American life \n",
       "+ (2007, American Sociological Review) Indeed, scholars studying race and poverty have shied away from discussing culture since the early 1970s, after critics of scholars such as Frazier (1966), Moynihan (1965), and Lewis (1969) argued that cultural explanations of poverty ignore structural barriers and blame the victim "
      ],
      "text/plain": [
       "<IPython.core.display.Markdown object>"
      ]
     },
     "metadata": {},
     "output_type": "display_data"
    },
    {
     "data": {
      "text/markdown": [
       "# Warner, W. L., Eells, K., Meeker, M. {Social class in America: A manual of procedure for the measurement of social status} 1949"
      ],
      "text/plain": [
       "<IPython.core.display.Markdown object>"
      ]
     },
     "metadata": {},
     "output_type": "display_data"
    },
    {
     "name": "stdout",
     "output_type": "stream",
     "text": [
      "[]\n"
     ]
    },
    {
     "data": {
      "text/markdown": [],
      "text/plain": [
       "<IPython.core.display.Markdown object>"
      ]
     },
     "metadata": {},
     "output_type": "display_data"
    },
    {
     "data": {
      "text/markdown": [
       "# Wolf, Wendy C, Fligstein, Neil D {Sex and Authority in the Workplace: The Causes of Sexual Inequality} 1979"
      ],
      "text/plain": [
       "<IPython.core.display.Markdown object>"
      ]
     },
     "metadata": {},
     "output_type": "display_data"
    },
    {
     "name": "stdout",
     "output_type": "stream",
     "text": [
      "[('Wolf and Fligstein (1979)', 72), ('Wolf & Fligstein (1979)', 18), ('Wolfe and Fligstein (1979)', 1), ('Wolff and Fligstein (1979)', 1)]\n"
     ]
    },
    {
     "data": {
      "text/markdown": [
       "+ (1979, American Sociological Review) Despite these changes, women are much less likely to be in positions of power in the workplace than are men \n",
       "+ (1980, Contemporary Sociology) This could be interpreted to mean that, on the whole, people assess women workers and femaledominated jobs on the same implicit grounds that they use to assess men workers and male-dominated jobs \n",
       "+ (1981, American Sociological Review) These concerns have led to several recent attempts to measure additional occupational characteristics in the context of research on determinants of earnings (Stolzenberg, 1975; Wright and Perrone, 1977; Robinson and Kelley, 1979; Kalleberg and Griffin, 1980); malefemale earnings differentials and occupational segregation by sex \n",
       "+ (1982, The Sociological Quarterly) It ought to be noted, however, on the basis of recent studies on inequalities in organizations \n",
       "+ (1982, The Sociological Quarterly) Recent stratification research has begun to recognize this omission by including organizational characteristics, typically position in the authority hierarchy, in models of occupational and earnings attainment \n",
       "+ (1985, American Sociological Review) Crude indicators of organizational position have been used to assess authority (Robinson and Kelley, 1979; Roos, 1981), and characteristics of supervisory jobs such as the authority to hire and fire or promote have been used for the same purpose \n",
       "+ (1985, American Sociological Review) Measures taken from the literature include the absence of a supervisor and a truncated version of organizational level (Robinson and Kelley, 1979; Roos, 1981), plus supervisory authority \n",
       "+ (1986, American Sociological Review) Those efforts have been typically couched in terms of the exercise of authority \n",
       "+ (1987, Social Problems) Access to higher levels of the organization, with their accompanying privileges and power, is differentially available according to gender \n",
       "+ (1988, American Journal of Sociology) Aspects of authority, self-direction, and specialization on the job may be important for understanding social stratification in toto and for understanding intergenerational occupational mobility in particular \n",
       "+ (1988, Social Forces) Several recent papers argue that authority is both a theoretically key dimension of occupational differentiation (Spaeth 1979) and a major component of gender inequality in the workplace \n",
       "+ (1988, The Sociological Quarterly) Conceptions of structure have been proposed along the lines of class (e.g., Wright and Perrone 1977), firms (Baron and Bielby 1980), authority \n",
       "+ (1992, Social Forces) Turning back to managers, empirical evidence reveals a low share of women \n",
       "+ (1992, Social Forces) Turning back to managers, empirical evidence reveals a low share of women \n",
       "+ (1995, American Sociological Review) The beliefs and motives of actors engaged in discrimination can take many different forms: a commitment to norms barring women from exercising authority over men (Kanter 1977; Bergman 1986), stereotyped beliefs that women are too emotional to be effective managers (Kanter 1977; Reskin and Hartman 1986), belief in the efficiency of \"statistical discrimination\" \n",
       "+ (1995, American Sociological Review) While some limited research on gender inequalities and discrimination in the distribution of authority exists \n",
       "+ (1996, Social Psychology Quarterly) They are also more likely than females to become members of prestigious occupations, to hold positions of authority at work \n",
       "+ (1997, American Sociological Review) Third, as Jacobs (1992) shows, occupational integration has shifted women into positions of greater authority, from which they have been excluded in the past \n",
       "+ (1998, Acta Sociologica) This relation to other employees' work is a feature that distinguishes authority from autonomy, which is a control dimension concerning the worker's relation to his or her own work \n",
       "+ (1998, Administrative Science Quarterly) This technique, however, only reveals the degree to which the employment differences are due to measured individual attributes; all other factors are contained in an unexplained residual \n",
       "+ (1999, Social Forces) Thus, where research has extensively examined the structural factors that lead to an inequality of wages, only a few studies have systematically examined gender and power relations in organizations \n",
       "+ (1999, Social Forces) Thus, where research has extensively examined the structural factors that lead to an inequality of wages, only a few studies have systematically examined gender and power relations in organizations \n",
       "+ (1999, The Sociological Quarterly) Researchers who analyze economic structures may take as their unit of analysis work \"organizations\" (Baron and Bielby 1980), the relative racial composition of \"occupations/ jobs\" (Jacobs 1989, 1992; Tomaskovic-Devey 1993; Collins 1997), or the extent to which certain groups control the means of production through the exercise of \"job authority\" \n",
       "+ (2002, Social Forces) RACE AND GENDER Prior sociological research has established that net of personal and human capital characteristics, blacks are less likely than whites (Kluegel 1978; McGuire & Reskin 1993; Mueller, Parcel & Tanaka 1989; Smith 1999; Wilson 1997) and women are less likely than men \n",
       "+ (2004, American Sociological Review) Power, defined as \"control over resources, people, and things\" \n",
       "+ (2010, Acta Sociologica) Studies have also shown that men are more likely to be allocated to higher positions than women, given similar occupational prestige \n",
       "+ (2012, Social Forces) \n",
       "+ (2012, Social Forces) Mechanisms Behind the Gender Gap in Workplace Authority Researchers have defined and operationalized the concept of workplace authority in numerous ways, for example as the right to hire and fire, set the rate of pay, supervise the work of subordinates, participate direcdy in policy decisions in the workplace, and the possession of a formal position of authority (like an executive title) \n",
       "+ (2012, Sociological Perspectives) In our study, we address this question through a decomposition technique, most often used by labor economists, to explain the relative contribution of endowments and labor market factors to wage differences by race or gender \n",
       "+ (2013, Sociological Perspectives) Authority in the workplace is a foundational form of job control with connections to the manner in which people have “control over resources, people, and things” "
      ],
      "text/plain": [
       "<IPython.core.display.Markdown object>"
      ]
     },
     "metadata": {},
     "output_type": "display_data"
    },
    {
     "data": {
      "text/markdown": [
       "# Woodward, J {Industrial Organization: Theory and Practice} 1965"
      ],
      "text/plain": [
       "<IPython.core.display.Markdown object>"
      ]
     },
     "metadata": {},
     "output_type": "display_data"
    },
    {
     "name": "stdout",
     "output_type": "stream",
     "text": [
      "[('Woodward (1965)', 135)]\n"
     ]
    },
    {
     "data": {
      "text/markdown": [
       "+ (1968, American Sociological Review) By routineness of work we mean the degree to which organizational members have non-uniform work activities \n",
       "+ (1970, Administrative Science Quarterly) Yet \n",
       "+ (1971, Administrative Science Quarterly) There is apparently a U-shaped curvilinear relationship between technology and certain dimensions of the social structure of organizations, such as the tendency to break down the labor force into small primary groups, and, in general, the tendency toward organic-flexible, participative, informal-as opposed to mechanistichierarchic, formal-systems of management \n",
       "+ (1972, Social Forces) The growth of rational bureaucracy with its routinized procedures and its hierarchical decisions based on calculations of efficiency has been attributed to the effectiveness of such a system in producing a limited and stable range of measurable outputs such as standardized material goods \n",
       "+ (1972, Social Forces) The growth of rational bureaucracy with its routinized procedures and its hierarchical decisions based on calculations of efficiency has been attributed to the effectiveness of such a system in producing a limited and stable range of measurable outputs such as standardized material goods \n",
       "+ (1974, Administrative Science Quarterly) Task variability affects the extent to which work unit activities can be structured in a routinized, systematized, or mechanized way \n",
       "+ (1974, Sociology of Education) An apparent exception is the prominence recently given to technology as a major determinant of organizational structure \n",
       "+ (1975, Social Forces) In studies of organizations, both hierarchy (administrative ratio) and structured communications (relative size of the clerical staff) seem to be positively related to technological complexity \n",
       "+ (1975, Social Forces) In studies of organizations, both hierarchy (administrative ratio) and structured communications (relative size of the clerical staff) seem to be positively related to technological complexity \n",
       "+ (1976, American Sociological Review) Blau and The Aston Group provide strong empirical support for the importance of organizational size (Blau, 1972;Pughet al., 1969), but no less persuasive are those arguing for other factors such as environmental uncertainty (Lawrence and Lorsch, 1967; Thompson, 1967) and technology \n",
       "+ (1977, Administrative Science Quarterly) Although many typologies exist \n",
       "+ (1979, Acta Sociologica) On the one hand there 137//////are research studies which are intimately integrated in the theoretical exposition \n",
       "+ (1979, Administrative Science Quarterly) An examination of early attempts to form typologies or taxonomies of organizations reveals that they have had several things in common: First, as noted by McKelvey (1975), most of them were based on only one or two parameters \n",
       "+ (1980, Administrative Science Quarterly) The imperative of satisfying the psychological needs of organizational members (Trist and Bamforth, 1951; Argyris, 1952, 1957), and of adopting appropriate managerial styles (McGregor, 1960; Likert, 1967), technology \n",
       "+ (1981, Administrative Science Quarterly) Although general organizational theory holds that the structural features of an organization should fit the demands of environment and technology \n",
       "+ (1981, Administrative Science Quarterly) Technology \n",
       "+ (1981, Administrative Science Quarterly) The analytic technique used in this study has not been widely applied to contingency arguments in the past.1 Previous analyses of contingency ideas have ranged from rich empirical descriptions (Burns and Stalker, 1961) to diagrams and data but no tests of significance \n",
       "+ (1982, Journal of Health and Social Behavior) Differences between techno-//////86 JOURNAL OF HEALTH AND SOCIAL BEHAVIOR logical complexity, classified by the production process, e.g., unit, batch, assembly line, or continuous process, were related to differences in structural characteristics of the organization \n",
       "+ (1984, Acta Sociologica) Its greatest success is in 170//////continuous-process production \n",
       "+ (1984, Administrative Science Quarterly) If the objective was to maximize Supply's ready- 2621ASQ, June 1984//////for-issue assets, then maximum shop output would be desired and could be obtained through batch processing \n",
       "+ (1987, Administrative Science Quarterly) Past empirical studies have concluded that both technical complexity and structural complexity are positively related to administrative intensity \n",
       "+ (1987, Administrative Science Quarterly) The results suggest that the oft-replicated positive relationship between complexity and administrative intensity \n",
       "+ (1987, Sociological Theory) Contingency theory A related but somewhat different view of surveillance draws on the contingency approach to complex organizations \n",
       "+ (1989, Social Problems) Engineers are more powerful in these firms because of the high level of uncertainty with which they cope, and because their skills are essential to the organization \n",
       "+ (1990, Administrative Science Quarterly) The relationship between technology and structure has been the topic of much writing and research \n",
       "+ (1993, Administrative Science Quarterly) Adaptation theories of organizational action, including structural contingency theory \n",
       "+ (1995, Annual Review of Sociology) Theories typically placed in the adaptational camp include contingency theory \n",
       "+ (1996, American Journal of Sociology) In the late 1960s and early 1970s, sociologists devoted considerable attention to the role of technology in shaping organizations and affecting market outcomes \n",
       "+ (2004, Administrative Science Quarterly) Over time, however, to maintain such an \"imperative\" view of technology (Khandwalla, 1974) in the face of increasingly contradictory findings, researchers from an objectivist tradition have augmented their theories with additional variables on which technological outcomes are contingent, including organizational size, task complexity, and amount of centralization \n",
       "+ (2004, Sociological Theory) That is, a more complicated organization reduces the power of the top of the hierarchy (a point in keeping with many studies of organizational control) "
      ],
      "text/plain": [
       "<IPython.core.display.Markdown object>"
      ]
     },
     "metadata": {},
     "output_type": "display_data"
    },
    {
     "data": {
      "text/markdown": [
       "# Yinger, J M {Religion, society and the individual: An introduction to the sociology of religion} 1957"
      ],
      "text/plain": [
       "<IPython.core.display.Markdown object>"
      ]
     },
     "metadata": {},
     "output_type": "display_data"
    },
    {
     "name": "stdout",
     "output_type": "stream",
     "text": [
      "[('Yinger (1957)', 28)]\n"
     ]
    },
    {
     "data": {
      "text/markdown": [
       "+ (1968, Sociological Focus) In general, religious change has been defined as a shift from the spontaneous informality of the sectarian group to a formal organization, usually described as a church or denomination, \n",
       "+ (1969, American Sociological Review) Members who deviate from orthodox views on any issue are quickly expelled \n",
       "+ (1969, Social Problems) Drawing heavily on the work of Emile Durkheim, the way in which religion performs this role is usually summarized as follows \n",
       "+ (1970, American Journal of Sociology) At one pole are those who utilize an institutional model \n",
       "+ (1970, American Journal of Sociology) CONCLUSIONS Contemporary sociologists of religion have questioned the generalizations ventured by earlier theorists regarding the organizational changes which sectarian movements typically undergo in the course of their institutionalization over time \n",
       "+ (1970, American Journal of Sociology) Some writers have questioned the alleged inevitability of such declining rigor and have pointed to the retention of exacting standards of admission as an important feature of the \"institutionalized sect\" \n",
       "+ (1970, Journal for the Scientific Study of Religion) It tests selected hypotheses derived from descriptions of the church-sect typology \n",
       "+ (1971, American Journal of Sociology) There is also a large literature which suggests that conditions of social deprivation \n",
       "+ (1971, Review of Religious Research) A number of explanations for the commonly observed sex difference have been proposed \n",
       "+ (1971, Review of Religious Research) Sex.-Despite a few studies in which//////50 REVIEW OF RELIGIOUS RESEARCH the sexes were found to differ little in religiosity (Vernon, 1956; Sklare, 1958; Hadden, 1963),21 investigators have commonly found that females are more religious than males \n",
       "+ (1974, Journal for the Scientific Study of Religion) It is now understood that sects can develop along a number of lines \n",
       "+ (1974, Journal for the Scientific Study of Religion) This approach makes it possible to identify the people who are most likely to experience particular problems and find the movement's solution appealing because of their structural location, prior experiences and problem-solving perspectives \n",
       "+ (1974, The Sociological Quarterly) Several investigators of the relation of religion to socioeconomic status have found considerable variation between Protestant denominations (Warren, 1970; Featherman, 1971), and sociologists of religion have pointed to distinctive social behaviors and religious practices within//////Religion and Political Behavior 53 Protestantism \n",
       "+ (1975, American Sociological Review) A body of literature emerged which was interpreted to support the contention that religious involvement functioned to assuage the problems associated with isolation and loneliness \n",
       "+ (1975, Review of Religious Research) For an almost equal length of time, moreover, the framework has been subjected to critical revision with a number of outstanding proponents making various modifications on the original dichotomy, \n",
       "+ (1984, Review of Religious Research) Religion, according to this perspective, has lost its \"presence\" as a social force and has become less visible, less public, and less important in the lives of people \n",
       "+ (1987, Social Forces) Beyond its use as a general orienting proposition, secularization has been used in many ways ranging from the \"decline\" or \"loss\" of religion \n",
       "+ (1987, Social Forces) Beyond its use as a general orienting proposition, secularization has been used in many ways ranging from the \"decline\" or \"loss\" of religion \n",
       "+ (1987, Sociological Bulletin) Two social scientists, a foreigner \n",
       "+ (1994, Journal for the Scientific Study of Religion) Historically, religion has been seen by theoreticians as a powerful factor promoting good health among both individuals \n",
       "+ (1998, Journal for the Scientific Study of Religion) INTRODUCTION Church-sect theory, when applied, as it typically has been, to sects in single societies where they began schismatically, has proved to be full of insights concerning the development of sects/new religous movements \n",
       "+ (2001, Review of Religious Research) But, as the proponents of this definition frankly admit, \"Religion, of course, is not alone in attempting to deal with the ultimate problems of human life\" \n",
       "+ (2001, Review of Religious Research) In this tradition, religion is any system of beliefs and practices involving answers to questions about the meaning and purpose of life \n",
       "+ (2001, Review of Religious Research) Many others have followed Durkheim ([1912] 1995) in distinguishing religion from magic on the basis their goals, identifying religion as being mainly concerned with general, long-range, goals and magic as concerned with immedi- 102//////ate and concrete goals \n",
       "+ (2009, Journal for the Scientific Study of Religion) The debate about the decline-ofreligion thesis is about whether, where, and why we are witnessing a decline of institutionalized, mainline church religion on the one hand (e.g., Houtman and Mascini 2002; Noms and Inglehart 2004) and religious innovation, revitalization, and cult formation, typically occurring outside the mainline churches, on the other "
      ],
      "text/plain": [
       "<IPython.core.display.Markdown object>"
      ]
     },
     "metadata": {},
     "output_type": "display_data"
    }
   ],
   "source": [
    "for r, qstr in zip(rows,qs):\n",
    "    q = {\"citations\":{\"$elemMatch\":{\"$regex\":qstr}}}\n",
    "    cits = list(db['cits'].find(q))\n",
    "\n",
    "    display(Markdown(f\"## {' '.join(r)}\"))\n",
    "\n",
    "    counts = Counter()\n",
    "    for x in cits:\n",
    "        counts.update( [y for y in x['citations'] if re.match(qstr, y)] )\n",
    "\n",
    "    print(counts.most_common(5))\n",
    "    cits = list(filter(lambda x:any( re.match(qstr, y) for y in x['citations'] ), cits))\n",
    "\n",
    "    display(Markdown(\n",
    "        \"\\n\".join( sorted([format_cit(c) for c in sample(cits, min(30, len(cits)))]) )\n",
    "    ))"
   ]
  },
  {
   "cell_type": "markdown",
   "metadata": {},
   "source": [
    "# MOST RECENT"
   ]
  },
  {
   "cell_type": "code",
   "execution_count": 39,
   "metadata": {},
   "outputs": [
    {
     "data": {
      "text/markdown": [
       "## Ajzen, I, Fishbein, M {Understanding attitudes and predicting social behavior} 1980"
      ],
      "text/plain": [
       "<IPython.core.display.Markdown object>"
      ]
     },
     "metadata": {},
     "output_type": "display_data"
    },
    {
     "name": "stdout",
     "output_type": "stream",
     "text": [
      "[('Ajzen and Fishbein (1980)', 96), ('Ajzen & Fishbein (1980)', 17)]\n"
     ]
    },
    {
     "data": {
      "text/markdown": [
       "+ (2009, Acta Sociologica) Perhaps the two dominant theoretical perspectives on the influence of attitudes or values on demographic tran sitions are (a) Fishbein and Ajzen's theory of Reasoned Action (1975) and Planned Behaviour \n",
       "+ (2009, Sociology) In contrast, psychological theories of intention, and, in particular, the Theory of Planned Behaviour \n",
       "+ (2010, Social Psychology Quarterly) The present article advances work on the attitude-behavior linkage in behavioral cas cades via a joint consideration of two theories: the approach to the attitude-behavior linkage advanced by the theory of reasoned-planned action \n",
       "+ (2011, BMS: Bulletin of Sociological Methodology / Bulletin de Méthodologie Sociologique) For this, two theories that can be integrated in the contextual framework of value-expectancy theories (Esser, 2001: 245-9) came into consideration: Theory of Reasoned Action (TORA)lTheory of Planned Behavior (TOPB) \n",
       "+ (2014, Social Forces) The individual-level approach reflects the influential \"theory of reasoned action\" in psychology \n",
       "+ (2014, Social Forces) The individual-level approach reflects the influential \"theory of reasoned action\" in psychology \n",
       "+ (2015, American Journal of Sociology) We use the theory of reasoned action to conceptualize how endorsement of DI increases the likelihood that an individual chooses his or her own, potentially different caste, spouse \n",
       "+ (2015, American Journal of Sociology) We use the theory of reasoned action to conceptualize how endorsement of DI increases the likelihood that an individual chooses his or her own, potentially different caste, spouse \n",
       "+ (2015, Social Forces) Cultural and political circumstances or norms can increase the legitimacy of employing a specific type of argumentation \n",
       "+ (2015, Social Forces) Cultural and political circumstances or norms can increase the legitimacy of employing a specific type of argumentation "
      ],
      "text/plain": [
       "<IPython.core.display.Markdown object>"
      ]
     },
     "metadata": {},
     "output_type": "display_data"
    },
    {
     "data": {
      "text/markdown": [
       "## Alwin, Duane F., Hauser, Robert M. {The Decomposition of Effects in Path Analysis} 1975"
      ],
      "text/plain": [
       "<IPython.core.display.Markdown object>"
      ]
     },
     "metadata": {},
     "output_type": "display_data"
    },
    {
     "name": "stdout",
     "output_type": "stream",
     "text": [
      "[('Alwin and Hauser (1975)', 54), ('Alwin & Hauser (1975)', 4)]\n"
     ]
    },
    {
     "data": {
      "text/markdown": [
       "+ (1994, Journal of Marriage and Family) We answer these questions by incrementally building the reduced-form model \n",
       "+ (1994, Sociological Forum) Path analysis is its best known application (Duncan, 1966) but the same ideas can be applied to regression as a whole (Heise, 1975), theory (Stinchcombe, 1968), percentage tables (Davis, 1985), and methodological principles \n",
       "+ (1994, The Canadian Journal of Sociology / Cahiers canadiens de sociologie) The statistical analysis consists of numerous multiple regressions that proceed in stages, thereby providing a path analytic decomposition of direct and indirect effects \n",
       "+ (1995, American Journal of Sociology) The use of structural equation models enables researchers to decompose the zero-order correlation between father's and son's occupational status into the direct effect and the indirect effect through education \n",
       "+ (1995, Sociological Methodology) AN EXAMPLE Like many other authors \n",
       "+ (1995, The British Journal of Sociology) In total, the subsample consists of approximately 3,300 general and advanced level students.4 To analyse data, regression models utilizing path analytic decomposition of effects were employed \n",
       "+ (1996, American Sociological Review) Following the standard path-analytic paradigm \n",
       "+ (1997, Journal of Marriage and Family) Indirect effects were calculated by multiplying together all of the path coefficients in a multivariate path \n",
       "+ (2015, American Journal of Sociology) effects of the socioeconomic characteristics (net of one another), that the estimated effects of the socioeconomic characteristics in model 7 of table 3 indicate the direct effects of the socioeconomic characteristics net of one another and the DI scales, and that the differences between the two estimates indicate the indirect effects of the socioeconomic characteristics through the DI scales \n",
       "+ (2015, American Journal of Sociology) effects of the socioeconomic characteristics (net of one another), that the estimated effects of the socioeconomic characteristics in model 7 of table 3 indicate the direct effects of the socioeconomic characteristics net of one another and the DI scales, and that the differences between the two estimates indicate the indirect effects of the socioeconomic characteristics through the DI scales "
      ],
      "text/plain": [
       "<IPython.core.display.Markdown object>"
      ]
     },
     "metadata": {},
     "output_type": "display_data"
    },
    {
     "data": {
      "text/markdown": [
       "## Andrews, Frank M. {Multiple Classification Analysis: A report on a computer program for multiple regression using categorical predictors} 1967"
      ],
      "text/plain": [
       "<IPython.core.display.Markdown object>"
      ]
     },
     "metadata": {},
     "output_type": "display_data"
    },
    {
     "name": "stdout",
     "output_type": "stream",
     "text": [
      "[('Andrews (1967)', 11)]\n"
     ]
    },
    {
     "data": {
      "text/markdown": [
       "+ (1971, Administrative Science Quarterly) Also, the fact that overpaid subjects reduced the number of units produced, and thus their pay over time \n",
       "+ (1971, Administrative Science Quarterly) Another hypothesis in inequity theorythat the threshold for underpayment is lower than for overpayment-received fairly consistent support from different investigators \n",
       "+ (1971, Administrative Science Quarterly) METHODOLOGICAL ISSUES Recruitment-Selection There are a number of important modera.. tors-ability (Bass, 1968; Moore, 1968); past work experience (Friedman and Goodman, 1967); past wages \n",
       "+ (1971, Administrative Science Quarterly) Two studies \n",
       "+ (1974, American Sociological Review) In such studies \n",
       "+ (1977, Acta Sociologica) Results from several empirical studies have lent support to this conjecture, both when the subject of injustice is underas well as over-rewarded \n",
       "+ (1980, Journal for the Scientific Study of Religion) Eta is analogous to a simple correlation coefficient with Eta squared representing the proportion of variance explained by the independent variable without taking account of the other variables' influence on cash salary \n",
       "+ (1980, Journal for the Scientific Study of Religion) response to a one standard deviation change in the independent variable \n",
       "+ (1983, Annual Review of Sociology) More recently, Vecchio (1981) found that response in the overpaid condition depended partially on the moral maturity of the individual; the equity prediction regarding quantity was true only for \"morally mature\" subjects.12 Again, much less evidence supports (Lawler & O'Gara 1967) or refutes \n",
       "+ (1983, Annual Review of Sociology) Research has generally supported this prediction in the overpaid condition "
      ],
      "text/plain": [
       "<IPython.core.display.Markdown object>"
      ]
     },
     "metadata": {},
     "output_type": "display_data"
    },
    {
     "data": {
      "text/markdown": [
       "## Aronowitz, S {False promises: The shaping of American working class consciousness} 1973"
      ],
      "text/plain": [
       "<IPython.core.display.Markdown object>"
      ]
     },
     "metadata": {},
     "output_type": "display_data"
    },
    {
     "name": "stdout",
     "output_type": "stream",
     "text": [
      "[('Aronowitz (1973)', 73)]\n"
     ]
    },
    {
     "data": {
      "text/markdown": [
       "+ (2000, Social Problems) There has never been a labor party of consequence in the United States \n",
       "+ (2002, American Sociological Review) strike in 1968 Memphis (Beifuss 1989); the hospital workers' strike in 1969 Charleston (Fink and Greenberg 1989); Black auto workers' Revolutionary Union Movements formed in the late 1960s to the early 1970s (Geschwender 1977); the postal workers' national wildcat strike in 1970 (Rachleff 1982); and management complaints that workers were becoming increasingly militant by the late 1960s \n",
       "+ (2004, Social Forces) A considerable body of work, for example, suggests that union organization is key and may either increase the mobilization potential of workers (Cornfield 1985; McCammon 1994) or pose a debilitating, if not stifling, effect on rank-and-file activism \n",
       "+ (2004, Social Forces) A considerable body of work, for example, suggests that union organization is key and may either increase the mobilization potential of workers (Cornfield 1985; McCammon 1994) or pose a debilitating, if not stifling, effect on rank-and-file activism \n",
       "+ (2006, American Journal of Sociology) Many of these young workers shared with their on‐campus contemporaries features of the new left/counterculture: political views, music, clothing, hair styles, drug use \n",
       "+ (2006, American Journal of Sociology) Many of these young workers shared with their on‐campus contemporaries features of the new left/counterculture: political views, music, clothing, hair styles, drug use \n",
       "+ (2006, Sociological Forum) Despite its low status and low pay, messengering is a form of \"creative work\" \n",
       "+ (2006, Sociological Forum) Set against the alienation of paid labor is play-\"the one human activity within capitalist society that is noninstrumental-that is produced for its own sake\" \n",
       "+ (2006, Sociological Forum) The rationalization of the workplace has brought play and leisure to the fore in experiencing an authentic self \n",
       "+ (2006, Sociological Forum) We 'lose ourselves' and cease to measure our activities in so many units of minutes and hours\" "
      ],
      "text/plain": [
       "<IPython.core.display.Markdown object>"
      ]
     },
     "metadata": {},
     "output_type": "display_data"
    },
    {
     "data": {
      "text/markdown": [
       "## Barber, B {Social Stratification} 1957"
      ],
      "text/plain": [
       "<IPython.core.display.Markdown object>"
      ]
     },
     "metadata": {},
     "output_type": "display_data"
    },
    {
     "name": "stdout",
     "output_type": "stream",
     "text": [
      "[('Barber (1957)', 47)]\n"
     ]
    },
    {
     "data": {
      "text/markdown": [
       "+ (1979, Annual Review of Sociology) by Annual Reviews Inc. All rights reserved ASCRIBED AND ACHIEVED * 10577 BASES OF STRATIFICATION Anne Foner Department of Sociology, Rutgers University, New Brunswick, New Jersey 08903 INTRODUCTION Only a few decades ago a prominent theme in the social stratification literature was the decline in ascription and rise in achievement as the basis for distributing social rewards in modem societies \n",
       "+ (1979, The Sociological Quarterly) A major weakness of the SES approach is that it fails to take into account the fact that individuals are more complex than what objective social class position might indicate \n",
       "+ (1980, The Canadian Journal of Sociology / Cahiers canadiens de sociologie) As scores of sociological analyses have shown, such an argument is based upon normative considerations concerning the significance, type, and quantity of work, its reward structure, occupational success, and life style of industrial society, which influence definitions of capacities, roles and occupations \n",
       "+ (1981, American Journal of Sociology) Only to the degree that they act together on common tasks or stick together against outsiders \"to maintain proper fronts\" (McCall and Simmons 1966, p. 176) can they be regarded as a unit.11 From this point of view, the model of the nuclear family and its place in the stratification system as developed by functionalist stratification theory \n",
       "+ (1981, American Journal of Sociology) Parsons ([1953] 1966, [1940] 1954a, 1970) and his followers \n",
       "+ (1981, American Journal of Sociology) The most common explanation of the persistence of patterns of homogamy in such societies, which lack strong and open forms of institutional control over mate selection, is that parents and peer groups still exercise such control, though more informally \n",
       "+ (1981, American Journal of Sociology) Whereas theorists traditionally have maintained that the family is the true unit of social stratification \n",
       "+ (1981, American Sociological Review) Sociological research makes it abundantly clear that spatial mobility facilitates vertical mobility \n",
       "+ (1987, European Sociological Review) The fact that we are doubtful whether there actually exist socially structured differences among judgements concerning the social position of various occupations is not to be taken to mean that we subscribe to functionalist consensus interpretations of occupational hierarchies \n",
       "+ (1993, Sociological Forum) How is the \"horizontal\" structure differentiated \"vertically\" "
      ],
      "text/plain": [
       "<IPython.core.display.Markdown object>"
      ]
     },
     "metadata": {},
     "output_type": "display_data"
    },
    {
     "data": {
      "text/markdown": [
       "## Bibb, Robert, Form, William H {The Effects of Industrial, Occupational, and Sex Stratification on Wages in Blue-Collar Markets} 1977"
      ],
      "text/plain": [
       "<IPython.core.display.Markdown object>"
      ]
     },
     "metadata": {},
     "output_type": "display_data"
    },
    {
     "name": "stdout",
     "output_type": "stream",
     "text": [
      "[('Bibb and Form (1977)', 112), ('Bibb & Form (1977)', 23)]\n"
     ]
    },
    {
     "data": {
      "text/markdown": [
       "+ (1994, American Sociological Review) 1980) or on wage inequality across markets \n",
       "+ (1994, American Sociological Review) Our emphasis on wage variation (or dispersion) differs from previous research that has focused on the mean level of wages within a market \n",
       "+ (1994, American Sociological Review) Traditional labor market research, for example, has compared wages in the primary and secondary (Doeringer and Piore 1971) or core and periphery markets \n",
       "+ (1994, Sociological Perspectives) Whereas the human capital perspective emphasizes skills possessed by individuals (Thurow 1975), much of the sociological literature \n",
       "+ (1995, Journal of Health and Social Behavior) Labor market theories have been employed successfully to explain variations in pay \n",
       "+ (2001, Sociological Focus) Analyses of the structural divisions of labor have//////304 SOCIOLOGICAL FOCUS abounded in literatures on industrial dualism (core vs. periphery industries) and segmented labor markets (primary vs. secondary), taking research beyond its tradi tional focus on the supply-side of earnings determination and incorporating demand side factors into our understanding of these processes \n",
       "+ (2003, The Sociological Quarterly) Members of these populations are disproportionately represented in both the periphery of the economy and the secondary labor market \n",
       "+ (2005, Sociological Perspectives) Although many authors use less than precise definitions to categorize occupations and/or industries, most mirror studies that initially established categorizations for primary/secondary labor markets \n",
       "+ (2006, American Journal of Sociology) the literature never produced a consensus regarding the ideal operational link between these structural variables and the underlying institutional configurations (Baron and Bielby 1980; Baron 1984), empirical analyses consistently reveal predictable variations in earnings by occupation, industry, sector, and firm size net of individual characteristics like human capital, gender, and race \n",
       "+ (2006, American Journal of Sociology) the literature never produced a consensus regarding the ideal operational link between these structural variables and the underlying institutional configurations (Baron and Bielby 1980; Baron 1984), empirical analyses consistently reveal predictable variations in earnings by occupation, industry, sector, and firm size net of individual characteristics like human capital, gender, and race "
      ],
      "text/plain": [
       "<IPython.core.display.Markdown object>"
      ]
     },
     "metadata": {},
     "output_type": "display_data"
    },
    {
     "data": {
      "text/markdown": [
       "## Blalock, H M {Social statistics} 1960"
      ],
      "text/plain": [
       "<IPython.core.display.Markdown object>"
      ]
     },
     "metadata": {},
     "output_type": "display_data"
    },
    {
     "name": "stdout",
     "output_type": "stream",
     "text": [
      "[('Blalock (1960)', 84)]\n"
     ]
    },
    {
     "data": {
      "text/markdown": [
       "+ (1979, American Sociological Review) The lack of probability sampling prevents one from relying too heavily on significance figures in drawing conclusions.9 But since Pearson-correlation is only capable of measuring the degree of linear association, and logarithmic transformations will only detect certain forms of curvilinearity, examination of the scatterplot is always indicated before concluding that no relationship exists \n",
       "+ (1979, Journal of Marriage and Family) White welfare recipients dissolved their marriages three times more frequently than those not on welfare \n",
       "+ (1981, American Journal of Political Science) A systematic random sampling technique \n",
       "+ (1982, The Sociological Quarterly) The increase in the total organizational size was calculated as a standard growth rate for the seven-year period from 1966 to 1973 \n",
       "+ (1984, Social Problems) Since that time, many authors have considered a power deficiency to be the central factor relevant to such groups \n",
       "+ (1987, Journal of Marriage and Family) 673//////JOURNAL OF MARRIAGE AND THE FAMILY ment status, mother's occupation, and years since parental loss-the differences between younger children and adolescents were significant on the basis of tests for the differences between proportions \n",
       "+ (1987, The Sociological Quarterly) Yet it must be acknowledged that the activity of many of the objectivists is structured by the objective of formulating a set of abstract assertions \n",
       "+ (1991, Social Forces) I explored this issue by examining the coefficients of variability \n",
       "+ (1991, Social Forces) I explored this issue by examining the coefficients of variability \n",
       "+ (2000, Sociological Forum) These coefficients are simply standard deviations that have been divided by their respective means for purposes of comparison "
      ],
      "text/plain": [
       "<IPython.core.display.Markdown object>"
      ]
     },
     "metadata": {},
     "output_type": "display_data"
    },
    {
     "data": {
      "text/markdown": [
       "## Blalock, H M {Causal inferences in nonexperimental research} 1961"
      ],
      "text/plain": [
       "<IPython.core.display.Markdown object>"
      ]
     },
     "metadata": {},
     "output_type": "display_data"
    },
    {
     "name": "stdout",
     "output_type": "stream",
     "text": [
      "[('Blalock (1961)', 36)]\n"
     ]
    },
    {
     "data": {
      "text/markdown": [
       "+ (1981, American Journal of Sociology) Here the inept can receive the most protection (Goode 1967) and discrimination will be virtually costless \n",
       "+ (1981, American Journal of Sociology) la) and where individual accomplishments are measurable \n",
       "+ (1981, Humboldt Journal of Social Relations) 2 Other works which have discussed the problems of the correlation coefficient include \n",
       "+ (1986, Journal for the Scientific Study of Religion) Still, it is possible to impute some order to these variables by applying techniques for causal modelling of cross-sectional data \n",
       "+ (1991, American Journal of Sociology) A complete explanation also must specify a mechanism that describes the process by which one variable influences the other, in other words, how it is that X produces Y \n",
       "+ (1991, American Journal of Sociology) Although a concept such as 'mass' may be conceived theoretically or metaphysically as a property, it is only a pious opinion, in Eddington's words, that 'mass' as a property is equivalent to 'mass' as inferred from pointer readings\" \n",
       "+ (1991, American Journal of Sociology) Granted, historical events are often complex and unique, but this does not mean that general theories cannot help explain them \n",
       "+ (2007, Sociological Methodology) Regression coefficients, while often not explicitly termed causal effects, are gener ally intcrpreted as indicating how much the dependent variable would increase or decrease under an intervention in which the value of a par ticular independent variable is changed by one unit, while the values of the other independent variables are held constant \n",
       "+ (2011, Social Forces) Most would readily agree, for example, that power is enacted at micro-interactional (e.g., West and Zimmerman 1987), group \n",
       "+ (2011, Social Forces) Most would readily agree, for example, that power is enacted at micro-interactional (e.g., West and Zimmerman 1987), group "
      ],
      "text/plain": [
       "<IPython.core.display.Markdown object>"
      ]
     },
     "metadata": {},
     "output_type": "display_data"
    },
    {
     "data": {
      "text/markdown": [
       "## Blalock, H M, Blalock, A B {Methodology in social research} 1968"
      ],
      "text/plain": [
       "<IPython.core.display.Markdown object>"
      ]
     },
     "metadata": {},
     "output_type": "display_data"
    },
    {
     "name": "stdout",
     "output_type": "stream",
     "text": [
      "[('Blalock and Blalock (1968)', 2)]\n"
     ]
    },
    {
     "data": {
      "text/markdown": [
       "+ (1975, Journal for the Scientific Study of Religion) By comparison, slopes are less affected by sampling fluctuations and skewed population characteristics "
      ],
      "text/plain": [
       "<IPython.core.display.Markdown object>"
      ]
     },
     "metadata": {},
     "output_type": "display_data"
    },
    {
     "data": {
      "text/markdown": [
       "## Blalock, Hubert M. {Theory construction: From verbal to mathematical formulations} 1969"
      ],
      "text/plain": [
       "<IPython.core.display.Markdown object>"
      ]
     },
     "metadata": {},
     "output_type": "display_data"
    },
    {
     "name": "stdout",
     "output_type": "stream",
     "text": [
      "[('Blalock (1969)', 82)]\n"
     ]
    },
    {
     "data": {
      "text/markdown": [
       "+ (1996, Sociological Forum) INTRODUCTION During the late 1960s and early 1970s, about a dozen books \n",
       "+ (1997, Sociological Methodology) For about a decade beginning in the mid- 1960s, the promise was held out that formalizationespecially mathematization-would improve the quality of sociological theorizing and promote the development of cumulative theoretical knowledge about general social processes \n",
       "+ (1998, Sociological Perspectives) The spate of books on \"building theory\" looked very much like instructions to an erector set and resembled our pre-programed computer manuals \n",
       "+ (2002, Sociological Methodology) 1998b), philosophy (Popper 1959; Quine 1961; Hempel 1966; Lakatos 1976), economics (Debreu 1959), game theory (Farquharson 1969), linguistics (Gamut 1991, Van Benthem 1994), computer science (Wos 1996), artificial intelligence (Kamps 1998; Kamps 1999a, Kamps 1999b), social science \n",
       "+ (2010, American Journal of Sociology) Error has long been recognized as a conceptual feature of social science research, since measures are typically indirect and concepts are often linked to observed states by mechanisms that are not well understood \n",
       "+ (2010, American Journal of Sociology) Error has long been recognized as a conceptual feature of social science research, since measures are typically indirect and concepts are often linked to observed states by mechanisms that are not well understood \n",
       "+ (2010, American Journal of Sociology) Once error in the measurement of poverty status is estimated, it is removed from the structural model parameter estimates \n",
       "+ (2010, American Journal of Sociology) Once error in the measurement of poverty status is estimated, it is removed from the structural model parameter estimates \n",
       "+ (2010, Social Indicators Research) This component of the model uses information on repeated poverty observations and covariates to estimate measurement error, thereby allowing it to be removed from the structural model parameter estimates \n",
       "+ (2012, Theory and Society) Studies that did not develop a satisfactory way of dealing with verification were labeled \"verbal\" or otherwise pushed to the side as pre-scientific and passé "
      ],
      "text/plain": [
       "<IPython.core.display.Markdown object>"
      ]
     },
     "metadata": {},
     "output_type": "display_data"
    },
    {
     "data": {
      "text/markdown": [
       "## Blau, P M, Schwartz, J E {Crosscutting social circles: Testing a macrostructural theory of intergroup relations} 1984"
      ],
      "text/plain": [
       "<IPython.core.display.Markdown object>"
      ]
     },
     "metadata": {},
     "output_type": "display_data"
    },
    {
     "name": "stdout",
     "output_type": "stream",
     "text": [
      "[('Blau and Schwartz (1984)', 152), ('Blau & Schwartz (1984)', 65)]\n"
     ]
    },
    {
     "data": {
      "text/markdown": [
       "+ (2015, American Journal of Sociology) ), making homophily noticeably distinct from random interactions and making consolidation very different from intersecting social circles \n",
       "+ (2015, American Journal of Sociology) Each dimension of social life defines a context for social interaction, and each context provides an opportunity to form social ties.2/// /// In a relatively undifferentiated society, where there is not much diversity among jobs or neighborhoods, people’s interactions are not highly constrained by their social positions \n",
       "+ (2015, American Journal of Sociology) Homophily can naturally emerge as a result of “choice homophily”: individuals’ preferences to form ties with similarly positioned alters \n",
       "+ (2015, American Journal of Sociology) Our embeddedness in social contexts reflects our interests, appetites, and ambitions, which constrain the social contacts we have, the friends we make, and (unbeknownst to us) the shape of the social networks in which we live and act \n",
       "+ (2015, American Journal of Sociology) The principle of homophily is simply that “likes” attract: We tend to interact with people who share social characteristics with us \n",
       "+ (2015, American Journal of Sociology) stratified “company towns” that populated the American West in the 19th and early 20th centuries—while zero consolidation produces highly intersecting social networks in which people’s characteristics provide very little constraints on with whom they interact—for example, the ideal of the highly crosscutting, rapidly diffusing social networks that constitute social life in the modern metropolis \n",
       "+ (2015, American Journal of Sociology) “Rates of social association depend on opportunities for social contact” \n",
       "+ (2015, American Journal of Sociology) “Social associations are more prevalent between persons in proximate than those in distant social positions” \n",
       "+ (2015, Sociology of Education) Framework and Hypotheses To understand the individual and organizational components of religion and their potential impact on CRI, we draw on the work of Blau \n",
       "+ (2016, American Sociological Review) Thus, the question arises whether voluntary associations help overcome ethnic boundaries and foster intergroup cohesion, or whether they instead reproduce and reinforce existing fault lines "
      ],
      "text/plain": [
       "<IPython.core.display.Markdown object>"
      ]
     },
     "metadata": {},
     "output_type": "display_data"
    },
    {
     "data": {
      "text/markdown": [
       "## Bogue, Donald J. {The population of the United States: Historical trends and future projections} 1959"
      ],
      "text/plain": [
       "<IPython.core.display.Markdown object>"
      ]
     },
     "metadata": {},
     "output_type": "display_data"
    },
    {
     "name": "stdout",
     "output_type": "stream",
     "text": [
      "[('Bogue (1959)', 24)]\n"
     ]
    },
    {
     "data": {
      "text/markdown": [
       "+ (1973, Journal of Marriage and Family) This type of residential movement is distinguished from \"short distance change of residence within the same community\" or local movement \n",
       "+ (1974, Journal for the Scientific Study of Religion) \n",
       "+ (1975, Journal of Health and Social Behavior) For example, in the United States the infant mortality rate -has plummeted from an estimate of 99.9 infant deaths per 1,000 live births in 1915 \n",
       "+ (1976, American Sociological Review) In examining the determinants of family migration, sociologists, like demographers \n",
       "+ (1979, Journal of Marriage and Family) The settlers, however, accustomed to swampy land in Germany, possessed the necessary skills to tile and drain the soil arduously by hand \n",
       "+ (1980, Sociology of Education) Research which has examined denominational differences in education has shown large differences \n",
       "+ (1985, Hitotsubashi Journal of Social Studies) First, the volume of migration measured by aggregate data is treated as dependent variable \n",
       "+ (1989, Social Indicators Research) In the United States in 1957, fewer than 3% of persons over the age of 14 reported having no religion \n",
       "+ (1989, Social Indicators Research) There have been a number of significant attempts to arrive at generalizations concerning the selectivity of migrants \n",
       "+ (1995, The Canadian Journal of Sociology / Cahiers canadiens de sociologie) But the more generic theoretical point, and the one stressed by Cohn (1976), is a view of population movement as loosening family and community bonds, thereby removing some of the most basic sources of control and.restraint in a society "
      ],
      "text/plain": [
       "<IPython.core.display.Markdown object>"
      ]
     },
     "metadata": {},
     "output_type": "display_data"
    },
    {
     "data": {
      "text/markdown": [
       "## Bogue, Donald Joseph {The Structure of the Metropolitan Community: A Study of Dominance and Subdominance} 1949"
      ],
      "text/plain": [
       "<IPython.core.display.Markdown object>"
      ]
     },
     "metadata": {},
     "output_type": "display_data"
    },
    {
     "name": "stdout",
     "output_type": "stream",
     "text": [
      "[('Bogue (1949)', 11)]\n"
     ]
    },
    {
     "data": {
      "text/markdown": [
       "+ (1976, American Sociological Review) Patterns of functional variation by size underlie nearly all approaches to the urban hierarchy such as central place theory (Berry and Pred, 1961) and metropolitan dominance \n",
       "+ (1978, Administrative Science Quarterly) As Gras (1922) showed theoretically and others \n",
       "+ (1980, American Sociological Review) Geographers and planners following earlier work by sociologists \n",
       "+ (1982, The Sociological Quarterly) In earlier work, dominance was felt to be transmitted by fluctuations in the rhythms of production \n",
       "+ (1984, Annual Review of Sociology) Thus, the literature on interurban linkages has been primarily composed of attempts to investigate metropolitan dominance or influence as it is reflected in urban systems' relative importance in integrating the activities of societies \n",
       "+ (1987, American Sociological Review) The classics in the area \n",
       "+ (1991, American Sociological Review) We conclude that the reorganization of the airline network has been a criticalfactor transforming and integrating the spatial economy of the U.S. Human ecology views a metropolitan area's competitive position as determined by its \"dominance\" \n",
       "+ (1993, American Sociological Review) Commuting patterns were recognized as a principle indicator of economic and social integration in early theories of intrametropolitan relationships (Burgess 1924; McKenzie 1933), and they have been used to define metropolitan areas and central places since 1949 \n",
       "+ (1994, Social Forces) Advocates of human ecology \n",
       "+ (1994, Social Forces) Advocates of human ecology "
      ],
      "text/plain": [
       "<IPython.core.display.Markdown object>"
      ]
     },
     "metadata": {},
     "output_type": "display_data"
    },
    {
     "data": {
      "text/markdown": [
       "## Bornstedt, G W, Marwell, A S {The reliability of the products of two random variables} 1978"
      ],
      "text/plain": [
       "<IPython.core.display.Markdown object>"
      ]
     },
     "metadata": {},
     "output_type": "display_data"
    },
    {
     "name": "stdout",
     "output_type": "stream",
     "text": [
      "[]\n"
     ]
    },
    {
     "data": {
      "text/markdown": [],
      "text/plain": [
       "<IPython.core.display.Markdown object>"
      ]
     },
     "metadata": {},
     "output_type": "display_data"
    },
    {
     "data": {
      "text/markdown": [
       "## Bowen, William G., Finegan, Thomas Aldrich {The Economics of Labor Force Participation} 1969"
      ],
      "text/plain": [
       "<IPython.core.display.Markdown object>"
      ]
     },
     "metadata": {},
     "output_type": "display_data"
    },
    {
     "name": "stdout",
     "output_type": "stream",
     "text": [
      "[('Bowen and Finegan (1969)', 61), ('Bowen & Finegan (1969)', 10)]\n"
     ]
    },
    {
     "data": {
      "text/markdown": [
       "+ (1994, Sociological Perspectives) This conceptualization of weak labor force attachment, or disengagement from the labor force, is suggested by previous research \n",
       "+ (1996, American Sociological Review) The numbers and ages of children also affect the trade-offs women face between market work and unpaid work at home, requiring mothers to decide how best to balance their roles as provider and parent and caregiver \n",
       "+ (1996, Journal of Marriage and Family) Finally, regional unemployment rates for women reflect the opportunities-or lack of opportunities-in the local labor market \n",
       "+ (1996, Journal of Marriage and Family) The wife's educational level is positively related to her participation in the labor force \n",
       "+ (1997, American Sociological Review) Women's decisions about entering the labor market involve balancing conflicting demands on their time arising from childcare and housework responsibilities \n",
       "+ (1998, Social Forces) The calculus used to decide what maximizes family wellbeing is usually monetary in economics - the value of the wife's earnings outside the home minus the costs of replacing her labor in the home \n",
       "+ (1998, Social Forces) The calculus used to decide what maximizes family wellbeing is usually monetary in economics - the value of the wife's earnings outside the home minus the costs of replacing her labor in the home \n",
       "+ (1999, Sociological Forum) INTRODUCTION It is widely accepted \n",
       "+ (2001, Journal of Marriage and Family) By the early 1970s, however, social scientists recognized that instead there had been steady, substantial growth in the employment rate of all mothers \n",
       "+ (2001, Journal of Marriage and Family) LITERATURE REVIEW Social scientists in the 1960s and 1970s generated a flurry of important, suggestive, interdisciplinary research into the causes of growing labor force participation of married women and young mothers "
      ],
      "text/plain": [
       "<IPython.core.display.Markdown object>"
      ]
     },
     "metadata": {},
     "output_type": "display_data"
    },
    {
     "data": {
      "text/markdown": [
       "## Boyle, Richard P. {Path Analysis and Ordinal Data} 1970"
      ],
      "text/plain": [
       "<IPython.core.display.Markdown object>"
      ]
     },
     "metadata": {},
     "output_type": "display_data"
    },
    {
     "name": "stdout",
     "output_type": "stream",
     "text": [
      "[('Boyle (1970)', 35)]\n"
     ]
    },
    {
     "data": {
      "text/markdown": [
       "+ (1976, American Journal of Political Science) S 1 1 S 1 1 S 5 1 S 7 1 S 2 2 S 4 2 S 6 2 S 10 2 S 4 4 S 7 3 S 8 4 S 13 3 N 3 3 S 10 4 N 7 3 S 16 4 N 5 5 N 4 3 N 9 5 N 6 3 N 6 6 N 6 5 N 10 6 N 8 5 N 7 7 N 8 7 N 11 7 N 10 7 N 8 8 N 10 9 N 12 8 N 12 9 N 9 9 N 12 11 N 13 9 N 14 11 N 10 10 N 14 13 N 14 10 N 16 13 N 11 11 N 15 11 assumption that one's data are interval is relatively cheap compared to the increased power the assumption affords us \n",
       "+ (1977, Journal of Marriage and Family) We have taken the position of a number of previous social scientists in assuming that even though the measurements we have used do not go beyond ordinal scales, little harm is done in applying statistics to them that are really appropriate for interval scales \n",
       "+ (1977, Review of Religious Research) Since their analysis, the robustness of correlation and regression analysis has been adequately demonstrated, particularly for ordinal and dummy variables \n",
       "+ (1977, The Sociological Quarterly) Recent explorations of this technique, however, recommend its use with ordinal-scale variables, since this level of measurement does not seriously distort the coefficients produced \n",
       "+ (1979, Sociological Focus) The pragmatic validity of this approach is high (i.e., this variable correlates well with our dependent measures), consistent with the position that the treatment of ordinal measures as interval usually yields few substantive problems \n",
       "+ (1980, Journal of Marriage and Family) It appears, however, that the use of ordinal measures is justifiable for most applications \n",
       "+ (1982, Journal of Marriage and Family) Although the assumption of interval measurement of variables has not been met in our data, the empirical dangers of applying path analysis are not considered great \n",
       "+ (1982, Journal of Marriage and Family) Regression analysis with ordinal independent variables is not problematic \n",
       "+ (1983, Sociology) While regression requires that the dependent variable (although not the independent variables) be internally measured, or at minimum ordinally measured \n",
       "+ (1988, The Sociological Quarterly) This method of \"coding proportional to effect\" "
      ],
      "text/plain": [
       "<IPython.core.display.Markdown object>"
      ]
     },
     "metadata": {},
     "output_type": "display_data"
    },
    {
     "data": {
      "text/markdown": [
       "## Brunner, Edmund de S. {Rural social trends} 1928"
      ],
      "text/plain": [
       "<IPython.core.display.Markdown object>"
      ]
     },
     "metadata": {},
     "output_type": "display_data"
    },
    {
     "name": "stdout",
     "output_type": "stream",
     "text": [
      "[]\n"
     ]
    },
    {
     "data": {
      "text/markdown": [],
      "text/plain": [
       "<IPython.core.display.Markdown object>"
      ]
     },
     "metadata": {},
     "output_type": "display_data"
    },
    {
     "data": {
      "text/markdown": [
       "## Burgess, E W, Wallin, P {Engagement and marriage} 1953"
      ],
      "text/plain": [
       "<IPython.core.display.Markdown object>"
      ]
     },
     "metadata": {},
     "output_type": "display_data"
    },
    {
     "name": "stdout",
     "output_type": "stream",
     "text": [
      "[('Burgess and Wallin (1953)', 42), ('Burgess & Wallin (1953)', 6)]\n"
     ]
    },
    {
     "data": {
      "text/markdown": [
       "+ (1983, Journal of Marriage and Family) However, given previous research that supports a direct relation \n",
       "+ (1983, Journal of Marriage and Family) Other researchers studying the effect of social involvement on marital adjustment have placed church attendance with other voluntary involvements under the rubric of sociability \n",
       "+ (1983, The Sociological Quarterly) (2) In terms of a//////Urbanism and Social Psychological Well-Being 535 scale which measures four positive or negative feelings a person has about his marriage and spouse \n",
       "+ (1984, International Journal of Sociology of the Family) Well-being is also measured in terms of perceived marriage happiness (Orden and Bradburn, 1968), and by a set of four items asking the respondent how frequently in the past few months he had positive and negative feelings about his marriage \n",
       "+ (1984, Journal of Marriage and Family) Similarly, the attribution or cues that we have chosen are based on typical dimensions that emerge in sociological studies of marital conflict \n",
       "+ (1991, Journal of Marriage and Family) Journal of Marriage and the Family 53 (November 1991): 845-855 845//////846 Journal of Marriage and the Family A related premarital factor that has been virtually ignored by recent analysts but was the concern of researchers earlier in this century is whether the partners were sexually active prior to marriage (i.e., whether they were virgins) \n",
       "+ (1991, Journal of Marriage and Family) Support for this hypothesis was found in several studies conducted between the 1920s and 1950s that found that husbands and wives with no premarital sexual experience scored higher on scales of marital happiness and satisfaction (i.e., the studies' indicators of marital \"success\") than did couples in which at least one spouse had had premarital relations \n",
       "+ (1994, International Journal of Sociology of the Family) Several factors, however, have been proposed that may contribute to the role taking process of all in-laws; these include mutual intergenerational re spect and maturity of the persons involved (Kirkpatrick, 1963; Marotz Baden & Cowan, 1987), attachment and/or dependency on the family of origin (Duvall, 1954; Landis & Landis, 1958; Styker 1955), proximity to in laws after marriage \n",
       "+ (1994, International Journal of Sociology of the Family) This was not supported and is significant because they contradict previous researchers who have found proximity to be an issue \n",
       "+ (2013, Journal of Marriage and Family) Regardless of whether a courtship is largely \"sweet,\" \"sour,\" or a blended mix, rational theories presume that partners enter marriage with their eyes wide open to their partners' and relationships' strengths and weaknesses "
      ],
      "text/plain": [
       "<IPython.core.display.Markdown object>"
      ]
     },
     "metadata": {},
     "output_type": "display_data"
    },
    {
     "data": {
      "text/markdown": [
       "## Chapin, F. S. {Contemporary American institutions} 1935"
      ],
      "text/plain": [
       "<IPython.core.display.Markdown object>"
      ]
     },
     "metadata": {},
     "output_type": "display_data"
    },
    {
     "name": "stdout",
     "output_type": "stream",
     "text": [
      "[('Chapin (1935)', 2)]\n"
     ]
    },
    {
     "data": {
      "text/markdown": [
       "+ (1968, American Sociological Review) Although specialized works flourished mainly from the late twenties to the early forties \n",
       "+ (1971, The Sociological Quarterly) If, say, Chapin's 'level of living scale\" ever did measure (in part, and among other things) \"status\", its use today would be suspect "
      ],
      "text/plain": [
       "<IPython.core.display.Markdown object>"
      ]
     },
     "metadata": {},
     "output_type": "display_data"
    },
    {
     "data": {
      "text/markdown": [
       "## Collins, R {Conflict sociology: Toward an explanatory science} 1975"
      ],
      "text/plain": [
       "<IPython.core.display.Markdown object>"
      ]
     },
     "metadata": {},
     "output_type": "display_data"
    },
    {
     "name": "stdout",
     "output_type": "stream",
     "text": [
      "[('Collins (1975)', 226)]\n"
     ]
    },
    {
     "data": {
      "text/markdown": [
       "+ (2010, Social Forces) Anger has been the focus of detailed empirical and theoretical treatment in both the structural social psychology of small groups (Lovaglia and Houser 1996; Ridgeway and Johnson 1990) and more macrooriented analyses of the link between emotion and social structure \n",
       "+ (2010, Social Forces) This question, while central to early work in the sociology of emotion \n",
       "+ (2010, Sociological Forum) It is made up of corporate actors, some of whom are caught up in the moral mazes of conducting business in the interest of the company and yet still acting ethically in a changing environment \n",
       "+ (2010, Sociological Forum) More importantly, work performance is evaluated by nonperformance criteria and evaluations are ceremonially executed, particularly, as previously stated, in the case of professionals who are technically trained beyond the education and practical knowledge of management \n",
       "+ (2011, American Sociological Review) Keywords culture, coherence, social movements, sexualities, networks The means by which social cohesion is generated—in small groups, organizations, and the larger society—stands at the heart of the sociological imagination, both theoret ically \n",
       "+ (2014, International Journal of Sociology of the Family) When applied, these approachesoften link family economicswith individual investments in human capital or the requirements of social differentiation \n",
       "+ (2014, Social Problems) One hypothesis maintains that the threat of force is necessary in order to ensure that those in the top strata of society preserve the social arrangements that benefit them \n",
       "+ (2014, Social Problems) Scholars have long claimed that a concentration of political and economic power in the hands of a few can produce unstable structural conditions that must be maintained by the threat of force \n",
       "+ (2014, Sociological Forum) Hence, Simmel's (1904) fashion was based on the belief that lower status persons adopt the behaviors and ideas, modes and fashions of the higher status people because of a sometimes correct, oftentimes misattributed, belief that adopting them will bring the lower status folk greater status mobility \n",
       "+ (2014, Sociological Forum) Second, sociological rational-choice theory has always held that rationality is (1) constrained by the structural and cultural milieu in which actors are located "
      ],
      "text/plain": [
       "<IPython.core.display.Markdown object>"
      ]
     },
     "metadata": {},
     "output_type": "display_data"
    },
    {
     "data": {
      "text/markdown": [
       "## Costner, H {Criteria for measures of association} 1965"
      ],
      "text/plain": [
       "<IPython.core.display.Markdown object>"
      ]
     },
     "metadata": {},
     "output_type": "display_data"
    },
    {
     "name": "stdout",
     "output_type": "stream",
     "text": [
      "[('Costner (1965)', 38)]\n"
     ]
    },
    {
     "data": {
      "text/markdown": [
       "+ (1974, Social Forces) In order to arrive at a useful and meaningful measure of association for nominal-level variables, two considerations must be kept in mind: (a) the form of the empirical test must be identical with the form of the research hypothesis \n",
       "+ (1974, Social Forces) must be kept in mind: (a) the form of the empirical test must be identical with the form of the research hypothesis (see Costner, 1965; Duggan and Dean, 1968; Francis, 1961; Kang, 1972, 1973; Leik and Gove, 1969) and (b) the measure of association should be \"'operationally interpretable' in terms of the proportional reduction in error of estimation made possible by the relationship\" \n",
       "+ (1975, American Journal of Sociology) We usually choose a measure of association as a means of examining and parsimoniously describing the relationship between mx and m. Since, however, there is no general measure of association \n",
       "+ (1979, American Sociological Review) We will also be using PRE (Proportional Reduction in Error) measures of association \n",
       "+ (1981, The Sociological Quarterly) Although not an exhaustive list, the following may be considered as proportional reduction in error measures: Goodman and Kruskal's lambda (Guttman's coefficient of relative predictability), Goodman and Kruskal's tau-b, Goodman and Kruskal's gamma, Yule's Q, Pearson's r', correlation ratio (eta squared) \n",
       "+ (1983, Journal of Health and Social Behavior) We have presented \"PRE\" measures of association \n",
       "+ (1983, Sociological Perspectives) Gamma has the advantage of having a clearcut \"proportionate reduction in error\" interpretation \n",
       "+ (1984, Social Indicators Research) 6 In most cases Pearson's product moment correlation coefficients (r) are presented because (1) they have a proportional reduction in error interpretation when squared \n",
       "+ (1992, Social Problems) A Distributional Inequality Interpretation of T Goodman and Kruskal's 1b is an asymmetric measure of association appropriate for nominal-level data that is typically interpreted using a proportional reduction in error \n",
       "+ (1999, Sociological Perspectives) Gamma was selected as the measure of association because of its proportional reduction in error interpretation "
      ],
      "text/plain": [
       "<IPython.core.display.Markdown object>"
      ]
     },
     "metadata": {},
     "output_type": "display_data"
    },
    {
     "data": {
      "text/markdown": [
       "## Davis, J. A. {Hierarchical Models for Significance Tests in Multivariate Contingency Tables: An Exegesis of Goodman's Recent Papers} 1974"
      ],
      "text/plain": [
       "<IPython.core.display.Markdown object>"
      ]
     },
     "metadata": {},
     "output_type": "display_data"
    },
    {
     "name": "stdout",
     "output_type": "stream",
     "text": [
      "[('Davis (1974)', 45)]\n"
     ]
    },
    {
     "data": {
      "text/markdown": [
       "+ (1986, Journal for the Scientific Study of Religion) METHOD Log-linear modelling \n",
       "+ (1986, Sociology of Education) Both standard, hierarchical models and models involving constrained interactions were fitted to the 10 three-way tables analyzed, and for each table a preferred model was chosen on the basis of parsimony and fit \n",
       "+ (1990, American Journal of Sociology) In addition, baseball (in 1922) was granted immunity from antitrust laws by an act of Congress, faced no players' union, and had no rival leagues except for a short-lived effort in the late 1940s \n",
       "+ (1990, Sociological Forum) But the warrior elite presented an absolutist-bureaucratic face to//////The Individual in Japanese Ilistory 581 the rest of society, much in the manner of European governments at a similar stage of development\" \n",
       "+ (1991, Journal of Marriage and Family) The age of sibs, therefore, should be related to parental involvement, with older sibs being less close, doing fewer things with parents, and being less closely supervised.2 The precise age and times of reduced parental control and involvement are not well specified \n",
       "+ (1991, Symbolic Interaction) Literature in this vein asks about the character of historic changes in the \"stories about self \n",
       "+ (1993, The Sociological Quarterly) The most obvious reason for this is that field data are typically displayed in a narrative form, but perhaps less obvious is that field researchers are probably more prone to see themselves as narrators \n",
       "+ (1993, The Sociological Quarterly) This focus would see sociologists as spinners of professional tales that we call theories \n",
       "+ (1994, Sociological Forum) First, the central mystery of causal network analysis -decomposition into path componentssimply does not work for nonlinear relationships \n",
       "+ (2000, Journal of Marriage and Family) Much of the previous research on marital sexual behavior has been in the tradition of \"sexual demography\", or a mapping of the relationships between sexual behavior and social background variables "
      ],
      "text/plain": [
       "<IPython.core.display.Markdown object>"
      ]
     },
     "metadata": {},
     "output_type": "display_data"
    },
    {
     "data": {
      "text/markdown": [
       "## Davis, K {Human society} 1948"
      ],
      "text/plain": [
       "<IPython.core.display.Markdown object>"
      ]
     },
     "metadata": {},
     "output_type": "display_data"
    },
    {
     "name": "stdout",
     "output_type": "stream",
     "text": [
      "[('Davis (1948)', 25)]\n"
     ]
    },
    {
     "data": {
      "text/markdown": [
       "+ (1983, American Journal of Sociology) This point is not new, and for some time commentators have been pointing out that intelligence seems to be as much a function of class and culture as some inherent mental ability \n",
       "+ (1984, Social Psychology Quarterly) Similar attempts to describe two major kinds of relationships in terms of their solidary characteristics have a long tradition in classical as well as in modem sociological thought \n",
       "+ (1985, American Sociological Review) Alternative hypotheses about functional form are that political violence will be most frequent at intermediate levels of inequality (Nagel, 1974), i.e., an inverse \"U\" curve; or, just the opposite, that political violence will be most frequent at either low or high levels of inequality \n",
       "+ (1985, Sociological Perspectives) To the degree that criminal laws embody the moral principles of a particular religion, strong adherence to that religion should result in fewer violations of those criminal laws than weak (or non-) religious adherence \n",
       "+ (1989, Review of Religious Research) The first tradition sees the incompatibility to lie in the supposed contradiction between the scientific canons of detached scientific objectivity on the one hand, and committed religious belief and practice on the other \n",
       "+ (1993, Social Indicators Research) The basic assumption made by the study is that technological change will create strains in the existing normative order, and that changes will occur in the latter to alleviate these strains \n",
       "+ (1999, Annual Review of Sociology) First, throughout human history, families have helped to regulate crime rates by serving as the primary institution for passing social rules and values from one generation to the next \n",
       "+ (1999, Journal of Health and Social Behavior) These hypotheses were based on the theoretical assumption that there are mutual effects between events and norms or values \n",
       "+ (1999, Sociology of Education) They are that the gap is caused primarily by (1) differences in social class \n",
       "+ (2015, Social Indicators Research) Demographic transition theory is used by demographers to explain the trends from high mortality and high fertility to low mortality and low fertility "
      ],
      "text/plain": [
       "<IPython.core.display.Markdown object>"
      ]
     },
     "metadata": {},
     "output_type": "display_data"
    },
    {
     "data": {
      "text/markdown": [
       "## Dean, Dwight G. {Alienation: Its Meaning and Measurement} 1961"
      ],
      "text/plain": [
       "<IPython.core.display.Markdown object>"
      ]
     },
     "metadata": {},
     "output_type": "display_data"
    },
    {
     "name": "stdout",
     "output_type": "stream",
     "text": [
      "[('Dean (1961)', 53)]\n"
     ]
    },
    {
     "data": {
      "text/markdown": [
       "+ (1986, Sociological Bulletin) The cross-cultural validity of the alienation scales designed in some studies is again another operational problem \n",
       "+ (1989, International Review of Modern Sociology) Other scales, however, have also been popular \n",
       "+ (1989, Sociological Focus) :310) have questioned the distinction between alienation and modernization, Klemmack et al (1974) have questioned the conceptual distinction between social isolation \n",
       "+ (1989, Sociological Focus) Scales were developed \n",
       "+ (1989, Sociological Focus) Validity was tested by means of independent judgments of experts, and the \"split-half\" reliabilities were .78, .73, and .84, respectively \n",
       "+ (1990, Social Indicators Research) QUALITY OF WORKING LIFE 37 Need Satisfaction (QWL) and Personal Alienation The various aspects of alienation are discussed in the psychology literature \n",
       "+ (1990, Social Indicators Research) The Personal Alienation Measure: Dean's Alienation Scale \n",
       "+ (1990, Social Indicators Research) rural back ground and social status \n",
       "+ (2009, Sociological Forum) Finally, anomie has been conceptualized as a social psychological condition and various psychometric anomie scales \n",
       "+ (2015, Social Indicators Research) DeGrazia argues Dürkheim describes an anomie state of individuals as \"a painful uneasiness or anxiety, a feeling of separation from group standards, a feeling of pointlessness or that no certain goals exist\" "
      ],
      "text/plain": [
       "<IPython.core.display.Markdown object>"
      ]
     },
     "metadata": {},
     "output_type": "display_data"
    },
    {
     "data": {
      "text/markdown": [
       "## Dohrenwend, Bruce P, Dohrenwend, Barbara Snell {Social status and psychological disorder: a causal inquiry} 1969"
      ],
      "text/plain": [
       "<IPython.core.display.Markdown object>"
      ]
     },
     "metadata": {},
     "output_type": "display_data"
    },
    {
     "name": "stdout",
     "output_type": "stream",
     "text": [
      "[('Dohrenwend and Dohrenwend (1969)', 112), ('Dohrenwend & Dohrenwend (1969)', 5)]\n"
     ]
    },
    {
     "data": {
      "text/markdown": [
       "+ (2000, Journal of Health and Social Behavior) 1994; Robins and Regier 1991), and inconsistent differences when indicators of psychological distress are used \n",
       "+ (2000, Journal of Health and Social Behavior) Although existing studies confirm an association between social position and depression and anxiety \n",
       "+ (2000, Journal of Health and Social Behavior) Results of studies of extreme situations have led me and others to conclude that serious psychopathology, including but not restricted to PTSD, develops in previously normal people exposed to the most severe events in extreme situations \n",
       "+ (2000, Journal of Health and Social Behavior) The Great Depression made it clear that a person could become poor for reasons other than inherited disabilities (e. g., Elder 1974), and research during World War II suggested that situations of extreme environmental stress arising out of combat and imprisonment could produce serious psychopathology in previously normal persons \n",
       "+ (2000, Journal of Health and Social Behavior) When operationalized crosssectionally, class or socioeconomic status (e.g., parents' educational level or respondent's occupational prestige) is usually strongly related to mental health (Faris and Dunham 1939), but a long-standing interpretive problem for such results is the threat of reverse causationselection versus social causation \n",
       "+ (2000, Journal of Health and Social Behavior) minority that may be almost as large showing current nonspecific psychological distress that is severe but does not meet criteria for a specific disorder (Link and Dohrenwend 1980); and (3) where neither psychiatric disorders nor environmental adversities are randomly distributed in the population but, rather, vary with social statuses such as age, gender, ethnic/racial background, and SES \n",
       "+ (2000, Journal of Marriage and Family) BACKGROUND The persistent evidence for associations between mental health and such factors as gender (Al-Issa, 1982; Nolen-Hoeksema, 1987), marital status (Gove, 1972) and socioeconomic status \n",
       "+ (2003, Journal of Health and Social Behavior) Indeed, inequalities based on socioeconomic status and neighborhood quality differentials, whether the individuals affected attribute the inequities to unfair treatment, have been found to have important mental health consequences \n",
       "+ (2015, Journal of Health and Social Behavior) Likewise, people who occupy different socioeconomic positions experience different types of stressors \n",
       "+ (2015, Journal of Health and Social Behavior) Previous research had rejected status-related differences in exposure as an explanation for the inverse association between socioeconomic status and disorder "
      ],
      "text/plain": [
       "<IPython.core.display.Markdown object>"
      ]
     },
     "metadata": {},
     "output_type": "display_data"
    },
    {
     "data": {
      "text/markdown": [
       "## Duncan, Otis Dudley {Introduction to structural equation models} 1973"
      ],
      "text/plain": [
       "<IPython.core.display.Markdown object>"
      ]
     },
     "metadata": {},
     "output_type": "display_data"
    },
    {
     "name": "stdout",
     "output_type": "stream",
     "text": [
      "[('Duncan (1973)', 18)]\n"
     ]
    },
    {
     "data": {
      "text/markdown": [
       "+ (1979, Administrative Science Quarterly) Decentralized communication patterns can, therefore, deal with work-related uncertainty more effectively than hierarchical (that is, more centralized) communication patterns \n",
       "+ (1981, Administrative Science Quarterly) \n",
       "+ (1982, Administrative Science Quarterly) A number of empirical studies have used some form of information-processing approach \n",
       "+ (1982, Administrative Science Quarterly) BACKGROUND Previous research on uncertainty in organizations \n",
       "+ (1982, Administrative Science Quarterly) Several researchers \n",
       "+ (1982, Administrative Science Quarterly) or small groups, have managed to measure directly such aspects of information processing as the frequency of oral communications between work groups (Tushman, 1978), the extent to which policies and procedures, work plans, personal contact, and meetings are used to coordinate members of work teams (Van de Ven, Delbecq, and Koenig, 1976), and the structure of groups during decision making \n",
       "+ (1989, Administrative Science Quarterly) To create the capacity to process information, work units develop less hierarchical, more interdependent structures and engage in more intensive modes of coordination \n",
       "+ (1993, The Sociological Quarterly) For instance, diverse work has documented the use of place to communicate social rank, whether through interior decoration of dwellings (Lauman and House 1970; Pratt 1982), neighborhood landscape styles \n",
       "+ (1993, The Sociological Quarterly) Studies of community attachment, in particular, documented how such locales continue to provide a significant locus of sentiment and meaning for the self \n",
       "+ (2002, Social Psychology Quarterly) Early conversation analytic researchers focused on a turn-taking model of conversation, arguing that talk is organized in such a way that one person holds the floor at any one time "
      ],
      "text/plain": [
       "<IPython.core.display.Markdown object>"
      ]
     },
     "metadata": {},
     "output_type": "display_data"
    },
    {
     "data": {
      "text/markdown": [
       "## Duncan, Otis Dudley {Methodological Issues in the Analysis of Social Mobility} 1981"
      ],
      "text/plain": [
       "<IPython.core.display.Markdown object>"
      ]
     },
     "metadata": {},
     "output_type": "display_data"
    },
    {
     "name": "stdout",
     "output_type": "stream",
     "text": [
      "[('Duncan (1981)', 4)]\n"
     ]
    },
    {
     "data": {
      "text/markdown": [
       "+ (1985, Sociology) The clothing industry The clothing industry not only has a relatively large proportion of the workforce employed in small firms, but also has a large number of female workers (roughly 80% of the labour force), is a Wages Council industry, and wage levels tend to be low, all characteristics associated with the small firm \n",
       "+ (1986, Journal of Marriage and Family) There are several ways to constrain the four relationships to be equivalent \n",
       "+ (1988, Sociological Methodology) The intention here, in part, is to improve upon an earlier attempt \n",
       "+ (2013, Sociological Methodology) Many of the characteristic features and uses of marginal modeling can be captured by means of the MH model and its straightforward extensions "
      ],
      "text/plain": [
       "<IPython.core.display.Markdown object>"
      ]
     },
     "metadata": {},
     "output_type": "display_data"
    },
    {
     "data": {
      "text/markdown": [
       "## Duncan, Otis Dudley {Path Analysis: Sociological Examples} 1966"
      ],
      "text/plain": [
       "<IPython.core.display.Markdown object>"
      ]
     },
     "metadata": {},
     "output_type": "display_data"
    },
    {
     "name": "stdout",
     "output_type": "stream",
     "text": [
      "[('Duncan (1966)', 202)]\n"
     ]
    },
    {
     "data": {
      "text/markdown": [
       "+ (1998, American Journal of Sociology) Problems with these approaches to the measurement of circulation mobility are well known \n",
       "+ (2006, American Sociological Review) Over the past 50 years, researchers have attempted to examine the implications of differential fertility for the study of social mobility and, conversely, to incorporate intergenerational mobility and assortative mating into the study of differential population growth \n",
       "+ (2006, European Sociological Review) Upwardly mobile persons did not have fewer or weaker contacts with their family members than their origin and destination positions would suggest \n",
       "+ (2007, European Sociological Review) However, very little empirical testing of those models were done then or later \n",
       "+ (2008, American Journal of Sociology) An example is the classical problem in mobility analysis of distinguishing the effects of socioeconomic mobility or distance moved on an outcome variable from the effects of origin and destination statuses \n",
       "+ (2010, American Journal of Political Science) The expected correlations between family members were derived from the path model \n",
       "+ (2013, American Journal of Sociology) 2005) with formal demographic approaches of population projection that describe how groups sort and reproduce across generations \n",
       "+ (2013, American Journal of Sociology) 2005) with formal demographic approaches of population projection that describe how groups sort and reproduce across generations \n",
       "+ (2015, American Sociological Review) BACKGROUND Social Stratification , Demographic Differentials , and Descent-Line Dynamics Classic approaches to the study of social stratification and mobility do little to illuminate the implications of status differentiation in one generation for long-term \"processes of 'social metabolism'\" \n",
       "+ (2015, Sociological Perspectives) "
      ],
      "text/plain": [
       "<IPython.core.display.Markdown object>"
      ]
     },
     "metadata": {},
     "output_type": "display_data"
    },
    {
     "data": {
      "text/markdown": [
       "## Duncan, Otis Dudley, Haller, Archibald O., Portes, Alejandro {Peer Influences on Aspirations: A Reinterpretation} 1968"
      ],
      "text/plain": [
       "<IPython.core.display.Markdown object>"
      ]
     },
     "metadata": {},
     "output_type": "display_data"
    },
    {
     "name": "stdout",
     "output_type": "stream",
     "text": [
      "[('Duncan, Haller, and Portes (1968)', 10), ('Duncan, Haller and Portes (1968)', 3), ('Duncan, Haller & Portes (1968)', 2)]\n"
     ]
    },
    {
     "data": {
      "text/markdown": [
       "+ (1977, Annual Review of Sociology) Through the early 1970s, the influence of Wright's approach on sociologists was evident both in expository treatments of more complex models (Blalock 1969a, 1970, 1971; Costner 1969, 1971; Duncan 1968, 1969, 1972; Heise 1969; Land 1970; Althauser & Heberlein 1970; Althauser, Heberlein & Scott 1971) and in more sophisticated empirical applications \n",
       "+ (1978, Annual Review of Sociology) Other research on the influence of significant others has included (a) assessing the reciprocal kinds of influence peers exert on one another \n",
       "+ (1979, Sociology of Education) Through well-documented processes of interpersonal and reference group influence \n",
       "+ (1989, Social Psychology Quarterly) Although a few studies have assessed reciprocal influence between friends \n",
       "+ (1989, Social Psychology Quarterly) Because most research on influence has failed to do so \n",
       "+ (1991, Sociological Methodology) *University of California, Santa Barbara tUniversity of Wisconsin, Madison 167//////168 WILLIAM T. BIELBY AND ROSS L. MATSUEDA For example, economists attempt to estimate simultaneous relationships among sets of supply-and-demand equations (Liu 1963), sociologists seek to disentangle the reciprocal influence of one peer on another \n",
       "+ (2003, Sociological Perspectives) I find it notable that through the years sociologists have pioneered many of the most advanced statistical innovations that we now routinely use, such as log-linear analysis (Goodman 1978), event history analysis (Allison 1982; Tuma 1982), structural equation modeling \n",
       "+ (2010, Journal of Health and Social Behavior) Given the important role of relationships in mediating the adverse effects of health insults and the long-observed impact of peer influences on academic achievement \n",
       "+ (2013, American Sociological Review) A diligent peer, even one with whom the student does not frequently interact, may help a student set expectations about how many hours one should spend studying, whether one should regularly attend classes, and the satisfaction one should derive from achieving good grades \n",
       "+ (2013, Sociology of Education) The Wisconsin model did not assume that the educational requirements of expected jobs would determine college expectations, as would be implied by the gray arrow pointing to Expect to Enter College in Figure 1 "
      ],
      "text/plain": [
       "<IPython.core.display.Markdown object>"
      ]
     },
     "metadata": {},
     "output_type": "display_data"
    },
    {
     "data": {
      "text/markdown": [
       "## Edwards, Richard, Reich, Michael, Gordon, David M. {Labor market segmentation} 1975"
      ],
      "text/plain": [
       "<IPython.core.display.Markdown object>"
      ]
     },
     "metadata": {},
     "output_type": "display_data"
    },
    {
     "name": "stdout",
     "output_type": "stream",
     "text": [
      "[('Edwards, Reich, and Gordon (1975)', 6), ('Edwards, Reich & Gordon (1975)', 2), ('Edwards, Reich and Gordon (1975)', 1)]\n"
     ]
    },
    {
     "data": {
      "text/markdown": [
       "+ (1978, American Journal of Sociology) Several recent contextual approaches to the problem of ethnic divisions emphasize the differential stratification of ethnic groups within the labor market \n",
       "+ (1980, American Journal of Sociology) Radical economists have described the existence of a dual labor market within the American economy \n",
       "+ (1980, American Journal of Sociology) The movement's antipathy toward nonwhite labor was based not only 1 Although not entirely dissimilar, Bonacich's \"split labor market\" hypothesis should not be confused with the theory of the dual economy (Averitt 1968; Beck, Horan, and Tolbert 1978), with labor market segmentation theory \n",
       "+ (1981, American Journal of Sociology) However, radical economists who have recently tackled the problem have offered their own rationale for segmentation along with a class-oriented interpretation \n",
       "+ (1985, Sociological Focus) See for example, research on dual labor market theory and labor market segmentation \n",
       "+ (1992, American Sociological Review) male-dominated occupations when they form a relatively large share of the labor force (Kanter 1977).4 And an institutionalist perspective preI Women's concentration in less desirable jobs has been attributed to such diverse factors as sex differences in family responsibilities (Polachek 1981), exclusion by male co-workers or labor unions (Milkman 1987; Cockburn 1991), employer discrimination \n",
       "+ (1995, Social Forces) Theories of labor market segmentation challenge this view, its proponents arguing that the//////1074 / Social Forces 73:3, March 1995 processes that govern hiring, promotion, and wages differ depending on occupation, industry, and the characteristics of the firm \n",
       "+ (1995, Social Forces) Theories of labor market segmentation challenge this view, its proponents arguing that the//////1074 / Social Forces 73:3, March 1995 processes that govern hiring, promotion, and wages differ depending on occupation, industry, and the characteristics of the firm \n",
       "+ (2003, The Sociological Quarterly) While black workers have historically been overrepresented in secondary labor market jobs "
      ],
      "text/plain": [
       "<IPython.core.display.Markdown object>"
      ]
     },
     "metadata": {},
     "output_type": "display_data"
    },
    {
     "data": {
      "text/markdown": [
       "## Featherman, David L., Hauser, Robert M. {Sexual Inequalities and Socioeconomic Achievement in the U.S., 1962-1973} 1976"
      ],
      "text/plain": [
       "<IPython.core.display.Markdown object>"
      ]
     },
     "metadata": {},
     "output_type": "display_data"
    },
    {
     "name": "stdout",
     "output_type": "stream",
     "text": [
      "[('Featherman and Hauser (1976)', 119), ('Featherman & Hauser (1976)', 14)]\n"
     ]
    },
    {
     "data": {
      "text/markdown": [
       "+ (2006, Sociological Perspectives) Earlier research identified family responsibilities and traditional immigrant ////// Beyond Asian American 263 cultures as institutionalized barriers that negatively affect women’s ability to garner high-wage jobs \n",
       "+ (2007, The Canadian Journal of Sociology / Cahiers canadiens de sociologie) In the US literature, much debate has flowed over the years concerning whether prestige-scaling occupations reveals as much information as simply working from census data giving information on, say, the educational levels typical of different occupations \n",
       "+ (2008, Sociological Focus) Although research suggests that although women consistently receive fewer rewards at work than men \n",
       "+ (2011, Social Forces) By the early 1970s, the association between black fathers' and sons' occupational status had increased as the sons of high-status fathers rose towards the top of the occupational hierarchy \n",
       "+ (2011, Social Forces) By the early 1970s, the association between black fathers' and sons' occupational status had increased as the sons of high-status fathers rose towards the top of the occupational hierarchy \n",
       "+ (2011, Social Forces) Motivated by changing American race relations, sociologists studied mobility trends for black Americans, focusing on occupations instead of incomes \n",
       "+ (2011, Social Forces) Motivated by changing American race relations, sociologists studied mobility trends for black Americans, focusing on occupations instead of incomes \n",
       "+ (2013, American Journal of Sociology) On average, black Americans begin life with lower levels of parental socioeconomic status, have lower average occupational standing, and are less able to convert their educational attainment to higher occupational status \n",
       "+ (2013, American Journal of Sociology) On average, black Americans begin life with lower levels of parental socioeconomic status, have lower average occupational standing, and are less able to convert their educational attainment to higher occupational status \n",
       "+ (2014, American Sociological Review) By the 1973 OCG survey, family background effects had emerged "
      ],
      "text/plain": [
       "<IPython.core.display.Markdown object>"
      ]
     },
     "metadata": {},
     "output_type": "display_data"
    },
    {
     "data": {
      "text/markdown": [
       "## Fischer, C S {To dwell among friends} 1982"
      ],
      "text/plain": [
       "<IPython.core.display.Markdown object>"
      ]
     },
     "metadata": {},
     "output_type": "display_data"
    },
    {
     "name": "stdout",
     "output_type": "stream",
     "text": [
      "[('Fischer (1982)', 393)]\n"
     ]
    },
    {
     "data": {
      "text/markdown": [
       "+ (2015, American Journal of Sociology) Regardless, blacks also have smaller social networks than whites, and they are less able to mobilize their ties to secure resources \n",
       "+ (2015, American Journal of Sociology) Regardless, blacks also have smaller social networks than whites, and they are less able to mobilize their ties to secure resources \n",
       "+ (2015, American Journal of Sociology) Regardless, blacks also have smaller social networks than whites, and they are less able to mobilize their ties to secure resources \n",
       "+ (2015, American Journal of Sociology) The social cost of greater individual identity and freedom in the transition to industrial society lies in not only the greater predisposition to psychological tensions but also weaker social contact \n",
       "+ (2015, Sociological Forum) Other contexts are socially less homogenous; in this way, they limit the likelihood of social similarity in the rela tions that arise in them \n",
       "+ (2015, Sociological Forum) People's tendency to interact in socially homogenous contexts can be viewed as an important factor in their propensity to initiate personal relations with similar others \n",
       "+ (2015, Sociological Perspectives) Social support also has an important function in friendships by complementing support that people receive from formal institutions//////406 Sociological Perspectives 58(3) such as family, school, and work \n",
       "+ (2015, Sociological Perspectives) The results resonated with previous findings that people socialize with different sets of friends to engage in different types of activities \n",
       "+ (2016, American Sociological Review) As personal networks have increased in size, they have also become more diverse and more sparsely connected, but this//////Smith and Papachristos 647 does not mean a loss of close personal ties \n",
       "+ (2016, American Sociological Review) Rainie and Well man (2012) show that technology enhances some of our social ties through increased face-to-face contact, and intimate and multi plex relationships still make up an important part of large personal networks "
      ],
      "text/plain": [
       "<IPython.core.display.Markdown object>"
      ]
     },
     "metadata": {},
     "output_type": "display_data"
    },
    {
     "data": {
      "text/markdown": [
       "## Flacks, Richard {The Liberated Generation: An Exploration of the Roots of Student Protest} 1967"
      ],
      "text/plain": [
       "<IPython.core.display.Markdown object>"
      ]
     },
     "metadata": {},
     "output_type": "display_data"
    },
    {
     "name": "stdout",
     "output_type": "stream",
     "text": [
      "[('Flacks (1967)', 70)]\n"
     ]
    },
    {
     "data": {
      "text/markdown": [
       "+ (1992, American Journal of Sociology) 0002-9602/92/9705-0001$01.50 AJS Volume 97 Number 5 (March 1992): 1211-40 1211//////American Journal of Sociology social isolation and alienation (Aberle 1966; Kornhauser 1959), feelings of \"relative deprivation\" (Davies 1969; Feierabend, Feierabend, and Nesvold 1969; Geschwender 1968; Gurr 1970; Morrison 1973), consistency between movement goals and parental values \n",
       "+ (1993, Berkeley Journal of Sociology) factors are examined, including measures of alienation and ideology (Cryns and Finn, 1973; Gold, Friedman, and Christie, 1971), the class and status backgrounds of activists' families (Westby and Braungart, 1966; Braungart, 1971), institutional characteristics of universities and colleges (Scott and El-Assal, 1969; Säsajima, Davis, and Petersen, 1968), and various combinations of these factors \n",
       "+ (1993, Berkeley Journal of Sociology) to liberal sociology - it does not validate but challenges the legitimacy of the establishment - its structural analysis of the student movement is remarkably consistent with the \"modernization\" thesis of structuralfunctionalism In his early paper on the new left, Richard Flacks attributes the student movement to a conflict between the values of activist families and the occupational system \n",
       "+ (1993, Social Indicators Research) Over the last several decades social researchers have attempted to measure alienation in ethnic or small outgroups \n",
       "+ (1993, Sociological Forum) As a result, the study of membership characteristics has long been an important aspect of social movement scholarship \n",
       "+ (1993, Sociological Forum) Similarly, evidence that 1960s student activists had liberal or radical parents \n",
       "+ (1994, Sociological Perspectives) There are well-established literatures on the effects of socialization and networks in collective action participation \n",
       "+ (1997, The Canadian Journal of Sociology / Cahiers canadiens de sociologie) In particular, the New Left movement of the 1960s and 1970s in North America had students supporting the disadvantaged, while, at the same time, relishing independence from social institutions such as an \"overbearing\" state and a \"sanctimonious\" church which were seen to threaten or suffocate individual liberties \n",
       "+ (2010, Acta Sociologica) Apparently US radicals were predominantly (upper) middle class \n",
       "+ (2010, Acta Sociologica) radicals acting in accordance with their parents' ideology or at least with the sympathy of their parents "
      ],
      "text/plain": [
       "<IPython.core.display.Markdown object>"
      ]
     },
     "metadata": {},
     "output_type": "display_data"
    },
    {
     "data": {
      "text/markdown": [
       "## Friedrichs, R W {A sociology of sociology} 1970"
      ],
      "text/plain": [
       "<IPython.core.display.Markdown object>"
      ]
     },
     "metadata": {},
     "output_type": "display_data"
    },
    {
     "name": "stdout",
     "output_type": "stream",
     "text": [
      "[('Friedrichs (1970)', 83)]\n"
     ]
    },
    {
     "data": {
      "text/markdown": [
       "+ (1998, Polish Sociological Review) This, paradoxically, has revealed the historical rooting of the argument saying that classical and contemporary argumentations are suprahistorically \"equivalent\"; by suspending ideology and metaphysics I have been able to show both the ideological and the metaphysical origins of many theoretical controversies \n",
       "+ (1998, The American Sociologist) Two other self-analytical works, The Sociology of Sociology (Reynolds and Reynolds 1970) and A Sociology of Sociology \n",
       "+ (1999, The American Sociologist) In 1964, George Homans, a former proponent of functionalism, repudiated that position in his presidential address to the American Sociological Association \n",
       "+ (1999, The American Sociologist) Such revolutionary events could hardly be explained in terms of \"system maintenance\" and \"functional integration\" \n",
       "+ (2001, American Sociological Review) A decade later, Small presented a paper at the American Sociological Society's first meeting in which he argued vigorously that social research was not an end in itself but should serve to improve society \n",
       "+ (2002, The American Sociologist) \"Alfred McClung Lee's Multivalent Man (1966) was the first of what one might expect to be a wave of introductory texts in the recaptured mode\" \n",
       "+ (2002, The American Sociologist) Hiller's theoretical framework for looking at Canadianization is firmly rooted in the sociology of sociology tradition \n",
       "+ (2004, Sociological Bulletin) More revealing, perhaps, is the profession's underlying tension between scientific recognition and social reformism, typified in its ongoing ambi valence concerning growing academic prestige, on the one hand, and//////Contemporary Professional Sociology in A merica 315 potential relevance to public policy on the other, reflected in the contrast between 'objective' research and political activism \n",
       "+ (2006, The American Sociologist) This largely theoretical research describes a fractured discipline structured by solidly bound, autonomous groups \n",
       "+ (2015, Canadian Journal of Sociology / Cahiers canadiens de sociologie) Ever since Marx’s (in)famous Thesis Eleven (Marx 1978) and the qualification of Weber’s work as a ‘dialogue with the intellectual ghost of Karl Marx’ (Zeitlin 1987), sociology has been, one way or another, on a quest to understand and define its nature, its purpose and relevance, and its audiences "
      ],
      "text/plain": [
       "<IPython.core.display.Markdown object>"
      ]
     },
     "metadata": {},
     "output_type": "display_data"
    },
    {
     "data": {
      "text/markdown": [
       "## Gamson, W A {Power and discontent} 1966"
      ],
      "text/plain": [
       "<IPython.core.display.Markdown object>"
      ]
     },
     "metadata": {},
     "output_type": "display_data"
    },
    {
     "name": "stdout",
     "output_type": "stream",
     "text": [
      "[('Gamson (1966)', 22)]\n"
     ]
    },
    {
     "data": {
      "text/markdown": [
       "+ (1973, American Sociological Review) In the second strategy, the investigator selects an issue in which he already has some interest, perhaps because of his interest in a preferred outcome, such as fluoridation of the water supply \n",
       "+ (1973, Social Forces) Others combine aggregate data with interview data drawn from the field sites (Clark, 1968b) and still others rely solely on interview data from the field \n",
       "+ (1975, Social Forces) Although the reputational approach that we have employed has been subject to considerable criticism (e.g., Dahl, 1958; Ehrlich, 1967; Polsby, 1963) on the theoretical side there is growing recognition that reputation is at least one resource of influence and hence of power \n",
       "+ (1975, Social Forces) Although the reputational approach that we have employed has been subject to considerable criticism (e.g., Dahl, 1958; Ehrlich, 1967; Polsby, 1963) on the theoretical side there is growing recognition that reputation is at least one resource of influence and hence of power \n",
       "+ (1976, Administrative Science Quarterly) Professional roles are often permitted greater discretion and are supported by the authority of professional codes, which may conflict with organizational goals \n",
       "+ (1976, Social Problems) Additionally, previous to this study there were intensive investigations of teaching orientations in particular departments and in specific colleges \n",
       "+ (1977, American Journal of Sociology) A polarized structure, for example, is likely to produce rancorous conflict and highly public controversy \n",
       "+ (1978, Journal for the Scientific Study of Religion) Such definitions are more likely to prevail if the issues are defined as primarily utilitarian, or if symbolic conflicts are sufficiently minimal that conflicts of authority or basic values may be avoided \n",
       "+ (1978, Journal for the Scientific Study of Religion) are also more likely to become intense and to be defined as irresolvable to the extent that social differences//////JOURNAL FOR THE SCIENTIFIC STUDY OF RELIGION between movement and organization reinforce ideological differences (Niebuhr, 1957), and to the extent that the members of the two parties differ on a set of mutually reinforcing social statuses, rather than having cross-cutting social ties \n",
       "+ (1988, American Sociological Review) with distinctive objectives, dividing workers on the basis of their special interests (Gouldner 1959; Simon 1964); (c) more complicated linkages among units of organizations, thus increasing uncertainty about social boundaries (Crozier 1964; Dubin 1959; White 1961); and (d) greater opportunity for individual differences and clearer group identities, which then serve as targets for hostility "
      ],
      "text/plain": [
       "<IPython.core.display.Markdown object>"
      ]
     },
     "metadata": {},
     "output_type": "display_data"
    },
    {
     "data": {
      "text/markdown": [
       "## Goldberger, A S {Econometric theory} 1964"
      ],
      "text/plain": [
       "<IPython.core.display.Markdown object>"
      ]
     },
     "metadata": {},
     "output_type": "display_data"
    },
    {
     "name": "stdout",
     "output_type": "stream",
     "text": [
      "[('Goldberger (1964)', 57)]\n"
     ]
    },
    {
     "data": {
      "text/markdown": [
       "+ (1986, American Sociological Review) Another possible option is to stay with years of graded schooling as the dependent variable and use the tobit which was created for the analysis of censored data \n",
       "+ (1986, Journal of Health and Social Behavior) Although there are potential problems inherent in regression analysis with a dichotomous dependent variable \n",
       "+ (1986, Journal of Marriage and Family) There is much discussion in the literature about the adequacy of analyzing dichotomous dependent variables by using ordinary least squares equations to establish parameter estimates \n",
       "+ (1987, American Sociological Review) 52 (June:380-390)//////ROBUST AND NONPARAMETRIC METHODS 381 NONNORMAL RESIDUALS AND THEIR CONSEQUENCES Ordinary least squares regression yields efficient and unbiased estimates of population regression parameters and their associated standard errors when the Gauss-Markov theorem is applicable \n",
       "+ (1988, Sociological Methodology) Extended discussions of path analysis and structural equations models are numerous \n",
       "+ (1988, Sociological Methodology) The -1 and E2 are called error or disturbance terms; they take up the slack in the empirical relationship between R and S and between Y and R and S. The system (9) and (10) is \"recursive,\" in the language of structural equations, because Y(u) does not occur on the right-hand side of equation (9) \n",
       "+ (1988, Sociological Methodology) This is often discussed in econometrics as the conditions under which ordinary least squares estimates give unbiased estimates of structural parameters \n",
       "+ (1988, Sociological Methodology) all other relevant causes that are not measured \n",
       "+ (1990, Journal for the Scientific Study of Religion) Typological regression standardization has most of the limitations of straightforward regression analysis and, if dichotomies are used as dependent variables, the further restrictions and violations of assumptions that have been widely discussed in the literature \n",
       "+ (2007, European Sociological Review) OLS can provide a robust alternative to Maximum Likelihood Estimation (MLE) estimation if the values in one of the two cells of the dependent variable do not exceed 20- 25 per cent "
      ],
      "text/plain": [
       "<IPython.core.display.Markdown object>"
      ]
     },
     "metadata": {},
     "output_type": "display_data"
    },
    {
     "data": {
      "text/markdown": [
       "## Goodman, Leo A. {Analyzing qualitative/categorical data: Log-linear models and latent-structure analysis} 1978"
      ],
      "text/plain": [
       "<IPython.core.display.Markdown object>"
      ]
     },
     "metadata": {},
     "output_type": "display_data"
    },
    {
     "name": "stdout",
     "output_type": "stream",
     "text": [
      "[('Goodman (1978)', 34)]\n"
     ]
    },
    {
     "data": {
      "text/markdown": [
       "+ (1990, Symbolic Interaction) Representatives of this shift in psychology include Bruner (1986), Romanyshyn (1982) and Sarbin (1986); in history a major proponent is Hayden White (1973, 1986); in the developing ‘cognitive sciences’ there is the notable work of Lakoff and Johnson (1980, 1987); In philosophy, Goodman’s ideas on ‘worldmaking’ are central \n",
       "+ (1991, Sociological Methodology) Simultaneous Equations: A Loglinear Approach An alternative strategy for analysis of simultaneous relations among discrete variables is to extend standard loglinear and logit models for categorical data \n",
       "+ (1992, Sociology of Education) On the other hand, the nonextreme distribution of our outcome (62 percent of girls and 64 percent of boys are in single-sex schools) suggests that ordinary least-squares (OLS) regression would also provide unbiased estimates \n",
       "+ (1993, Sociological Perspectives) Innovative work that goes on to win the highest awards invents new worlds, much like artistic or literary creation \n",
       "+ (2003, American Journal of Sociology) More recently, however, scholars have claimed that the seemingly small acts of defiance engaged in by persons in subordinate positions also make history, albeit a history that often seems to remain “on course.” To the extent that they, too, are “world‐making” activities \n",
       "+ (2003, Sociological Perspectives) I find it notable that through the years sociologists have pioneered many of the most advanced statistical innovations that we now routinely use, such as log-linear analysis \n",
       "+ (2005, Social Indicators Research) Finally, it was determined that that there were too many different dimensions to the concept of \"housing quality\" for it to be reducible to one variable \n",
       "+ (2009, Symbolic Interaction) When scopic systems are systematically used they may have “world-making” effects \n",
       "+ (2011, Theory and Society) In this capacity, classification is a \"way of worldmaking,\" marking objects and practices as symbols that carry meaning, placing them inside a coherent system of categories, furnishing the concepts that allow different people to have similar perceptions, avoiding the skepticism about words because they now possess a literal meaning \n",
       "+ (2014, American Sociological Review) It is traditionally viewed as comprising those features of the symbolic functioning of a work that are characteristic of author, period, place, or school "
      ],
      "text/plain": [
       "<IPython.core.display.Markdown object>"
      ]
     },
     "metadata": {},
     "output_type": "display_data"
    },
    {
     "data": {
      "text/markdown": [
       "## Goodman, Leo A. {The Relationship between Modified and Usual Multiple-Regression Approaches to the Analysis of Dichotomous Variables} 1976"
      ],
      "text/plain": [
       "<IPython.core.display.Markdown object>"
      ]
     },
     "metadata": {},
     "output_type": "display_data"
    },
    {
     "name": "stdout",
     "output_type": "stream",
     "text": [
      "[('Goodman (1976)', 25)]\n"
     ]
    },
    {
     "data": {
      "text/markdown": [
       "+ (1986, American Journal of Sociology) As the dependent variables in this analysis can have codes of only zero or one, we estimated all equations using logistic regression, a maximumlikelihood technique appropriate for analysis of dichotomous dependent variables \n",
       "+ (1986, American Sociological Review) Beyond a proportion of .75-.80, the log-odds begin to increase exponentially, whereas within the .25-.75 range they increase only linearly \n",
       "+ (1987, Journal of Marriage and Family) For this reason we used logistic regression, estimated with maximum likelihood, a technique appropriate for analysis of dichotomous dependent variables \n",
       "+ (1987, Sociology of Education) There are well-known reservations about using regression in such cases, though in practice, such difficulties are minimal unless the marginals are highly skewed \n",
       "+ (1989, The Sociological Quarterly) We note that when the split on a dichtomous dependent variable is between 25% and 75%, OLS and the statistically more correct log-linear analysis techniques yield similar results \n",
       "+ (1990, Journal for the Scientific Study of Religion) As long as they are in the 24%-75% range, ordinary regression results are safely interpretable \n",
       "+ (1992, Journal of Marriage and Family) Moreover, use of linear regression or discriminant analysis is problematic when the dependent variable is so extremely skewed as is the case in this study \n",
       "+ (1992, Sociology of Education) Given the nature of the outcome, we selected logistic regression as the preferred analytic technique \n",
       "+ (1997, Sociological Perspectives) A metaphor \"always involves transfers in the sense that some labels of the scheme are given new extensions\" \n",
       "+ (2000, Symbolic Interaction) A great amount of theoretical effort has been directed to the process of art interpretation "
      ],
      "text/plain": [
       "<IPython.core.display.Markdown object>"
      ]
     },
     "metadata": {},
     "output_type": "display_data"
    },
    {
     "data": {
      "text/markdown": [
       "## Goodman, Leo A. {A Modified Multiple Regression Approach to the Analysis of Dichotomous Variables} 1972"
      ],
      "text/plain": [
       "<IPython.core.display.Markdown object>"
      ]
     },
     "metadata": {},
     "output_type": "display_data"
    },
    {
     "name": "stdout",
     "output_type": "stream",
     "text": [
      "[('Goodman (1972)', 147)]\n"
     ]
    },
    {
     "data": {
      "text/markdown": [
       "+ (1994, Sociology of Religion) Latent class analysis and certain related techniques \n",
       "+ (1996, Sociological Perspectives) With them, we can determine not only if one variable accounts for variation in another but, more importantly, if adding a variable significantly improves the fit or explanatory power of a particular model \n",
       "+ (1996, The Canadian Journal of Sociology / Cahiers canadiens de sociologie) Therefore, I used log-linear models to analyze the data, a technique well-suited for multi-category nominal variables, which also tests the presence or absence of association between variables net of marginal effects \n",
       "+ (1997, Polish Sociological Review) 274 HENRYK DOMAttSKI Beginning in the 1970s, several writers offered approaches to the problem of \"allowing for\" structural changes which drew on the application of log linear models to analysis of multivariate contingency tables \n",
       "+ (1997, Polish Sociological Review) The simplest constrained diagonals model specifies a single parameter for all diagonal cells of the mobility table, testing the proposition that immobility exceeds what would be expected on the basis of perfect mobility by the same proportion in all occupational categories \n",
       "+ (1998, American Sociological Review) Models 2 through 5 belong to a class of models called social-distance models \n",
       "+ (1998, Polish Sociological Review) Several writers offered approach to the problem of \"allowing for\" structural changes which drew on application of log linear models to analysis of multivariate contingency tables \n",
       "+ (1998, Polish Sociological Review) Simplest constrained diagonals model specifies a single parameter for all diagonal cells of the mobility table, testing the proposition that immobility exceeds what would be expected on the basis of perfect mobility by the same proportion in all occupational categories \n",
       "+ (2000, American Journal of Sociology) This sex‐linked difference can be also be demonstrated by fitting a log‐linear model that combines quasi‐independence \n",
       "+ (2007, Annual Review of Sociology) tios is equal to 1 "
      ],
      "text/plain": [
       "<IPython.core.display.Markdown object>"
      ]
     },
     "metadata": {},
     "output_type": "display_data"
    },
    {
     "data": {
      "text/markdown": [
       "## Goodman, Leo A. {A General Model for the Analysis of Surveys} 1972"
      ],
      "text/plain": [
       "<IPython.core.display.Markdown object>"
      ]
     },
     "metadata": {},
     "output_type": "display_data"
    },
    {
     "name": "stdout",
     "output_type": "stream",
     "text": [
      "[('Goodman (1972)', 147)]\n"
     ]
    },
    {
     "data": {
      "text/markdown": [
       "+ (1994, Sociology of Religion) Latent class analysis and certain related techniques \n",
       "+ (1996, Sociological Perspectives) With them, we can determine not only if one variable accounts for variation in another but, more importantly, if adding a variable significantly improves the fit or explanatory power of a particular model \n",
       "+ (1996, The Canadian Journal of Sociology / Cahiers canadiens de sociologie) Therefore, I used log-linear models to analyze the data, a technique well-suited for multi-category nominal variables, which also tests the presence or absence of association between variables net of marginal effects \n",
       "+ (1997, Polish Sociological Review) 274 HENRYK DOMAttSKI Beginning in the 1970s, several writers offered approaches to the problem of \"allowing for\" structural changes which drew on the application of log linear models to analysis of multivariate contingency tables \n",
       "+ (1997, Polish Sociological Review) The simplest constrained diagonals model specifies a single parameter for all diagonal cells of the mobility table, testing the proposition that immobility exceeds what would be expected on the basis of perfect mobility by the same proportion in all occupational categories \n",
       "+ (1998, American Sociological Review) Models 2 through 5 belong to a class of models called social-distance models \n",
       "+ (1998, Polish Sociological Review) Several writers offered approach to the problem of \"allowing for\" structural changes which drew on application of log linear models to analysis of multivariate contingency tables \n",
       "+ (1998, Polish Sociological Review) Simplest constrained diagonals model specifies a single parameter for all diagonal cells of the mobility table, testing the proposition that immobility exceeds what would be expected on the basis of perfect mobility by the same proportion in all occupational categories \n",
       "+ (2000, American Journal of Sociology) This sex‐linked difference can be also be demonstrated by fitting a log‐linear model that combines quasi‐independence \n",
       "+ (2007, Annual Review of Sociology) tios is equal to 1 "
      ],
      "text/plain": [
       "<IPython.core.display.Markdown object>"
      ]
     },
     "metadata": {},
     "output_type": "display_data"
    },
    {
     "data": {
      "text/markdown": [
       "## Goodman, Leo A. {The Multivariate Analysis of Qualitative Data: Interactions among Multiple Classifications} 1970"
      ],
      "text/plain": [
       "<IPython.core.display.Markdown object>"
      ]
     },
     "metadata": {},
     "output_type": "display_data"
    },
    {
     "name": "stdout",
     "output_type": "stream",
     "text": [
      "[('Goodman (1970)', 28)]\n"
     ]
    },
    {
     "data": {
      "text/markdown": [
       "+ (1987, American Sociological Review) We fit standard hierarchical models \n",
       "+ (1990, Sociological Methodology) 2Elementary loglinear models are also easier to interpret than nonelementary loglinear models \n",
       "+ (1990, The American Sociologist) Specifically, we have responses (R) to the questions in a set (Q) in different years (Y), and the null hypothesis that there has been no change in responses to the questions in the set corresponds 202 The American Sociologist/Fall 1990//////to the specification that the R is independent of Y given Q, or equivalently that there are no {Y*R} or {Y*Q*R} interactions \n",
       "+ (1994, Journal for the Scientific Study of Religion) But Chaves (1989) and Hout and Greeley (1987) used contingency tables to display data subjected to logistic regression analysis - a subset of log linear modeling \n",
       "+ (1998, Sociological Methodology) Researchers who have data on one country, one group, or one time point have available a large number of models that can be used to analyze the two-way association that is the focus of concern, especially but not exclusively if the categories of each variable can be ordered along a single dimension \n",
       "+ (2007, Annual Review of Sociology) els and 10 kinds that are somewhat less simple) \n",
       "+ (2007, Annual Review of Sociology) ships among m polytomous variables \n",
       "+ (2011, American Journal of Political Science) Counterinsurgency appeared to be succeeding \n",
       "+ (2012, Administrative Science Quarterly) Because all the variables in our analysis are categorical, and many conditional relationships may exist in the data, we used log-linear techniques \n",
       "+ (2012, Administrative Science Quarterly) We also used the estimated parameters obtained from the saturated model as a guide to selecting which parameters should be included in the selected unsaturated model "
      ],
      "text/plain": [
       "<IPython.core.display.Markdown object>"
      ]
     },
     "metadata": {},
     "output_type": "display_data"
    },
    {
     "data": {
      "text/markdown": [
       "## Goodman, Leo A, Kruskal, William H {Measures of Association for Cross Classifications} 1954"
      ],
      "text/plain": [
       "<IPython.core.display.Markdown object>"
      ]
     },
     "metadata": {},
     "output_type": "display_data"
    },
    {
     "name": "stdout",
     "output_type": "stream",
     "text": [
      "[('Goodman and Kruskal (1954)', 37)]\n"
     ]
    },
    {
     "data": {
      "text/markdown": [
       "+ (1976, American Journal of Political Science) AMERICAN JOURNAL OF POLITICAL SCIENCE, XX, 4, November 1976 781//////782 Jere Bruner the closing years of the nineteenth century, although the departure from chi-square-based measures and the elaboration of rank-order coefficients for tables larger than 2 X 2 is a somewhat more recent development \n",
       "+ (1976, Sociological Methodology) 252 ROBERT K. LEIK Some attempts to deal with strictly ordinal variables concentrate on developing a measure of association \n",
       "+ (1976, Sociological Methodology) Thus the operational interpretation of ND meets certain desirable criteria for a descriptive statistic \n",
       "+ (1977, Review of Religious Research) Our methodological strategy entails using gamma \n",
       "+ (1985, Social Indicators Research) Given a matrix of inter-item gamma association coefficients \n",
       "+ (1992, Social Problems) A Distributional Inequality Interpretation of T Goodman and Kruskal's 1b is an asymmetric measure of association appropriate for nominal-level data that is typically interpreted using a proportional reduction in error \n",
       "+ (1992, Social Problems) However, they also note that \"in many cases association-however measured-would not be much affected by any reasonable redefinition of the classes\" \n",
       "+ (1995, American Journal of Political Science) One way to assess the relative contribution of the key independent variables is to compute the proportionate reduction of error obtained by adding each variable to the model \n",
       "+ (2002, Sociological Methodology) Carlson (1992) used Goodman and Kruskal's rb \n",
       "+ (2010, Journal for the Scientific Study of Religion) We use Goodman and Kruskal's gamma as the measure of association "
      ],
      "text/plain": [
       "<IPython.core.display.Markdown object>"
      ]
     },
     "metadata": {},
     "output_type": "display_data"
    },
    {
     "data": {
      "text/markdown": [
       "## Gordon, D M {Theories of poverty and underemployment: Orthodox, radical, and dual labor market perspectives} 1972"
      ],
      "text/plain": [
       "<IPython.core.display.Markdown object>"
      ]
     },
     "metadata": {},
     "output_type": "display_data"
    },
    {
     "name": "stdout",
     "output_type": "stream",
     "text": [
      "[('Gordon (1972)', 144)]\n"
     ]
    },
    {
     "data": {
      "text/markdown": [
       "+ (2001, Sociological Forum) Although \"dual labor market analysts refer to the employment problems of women only implicitly\" \n",
       "+ (2001, Sociological Forum) Segmentation Theories Other analysts contend that occupational sex segregation results from the confinement of different types of workers to different labor markets \n",
       "+ (2003, Social Forces) Despite this historically contentious debate, poverty scholars increasingly conclude that in advanced capitalist democracies, a relative definition is more appropriate \n",
       "+ (2003, Social Forces) Despite this historically contentious debate, poverty scholars increasingly conclude that in advanced capitalist democracies, a relative definition is more appropriate \n",
       "+ (2003, The Sociological Quarterly) Jobs in this segment of the labor market generally require few skills, necessitate little job training, provide minimal job security, pay low wages, and provide limited mobility \n",
       "+ (2005, Social Forces) THE LIBERAL ECONOMIC CRITIQUE Arguably, the most powerful critique of the welfare state emerges from liberal economics \n",
       "+ (2005, Social Forces) THE LIBERAL ECONOMIC CRITIQUE Arguably, the most powerful critique of the welfare state emerges from liberal economics \n",
       "+ (2005, Sociological Perspectives) Frequent dismissals, even if they are based on the economic needs of a firm or an entire industry, look like unstable work histories to potential primary labor market employers \n",
       "+ (2005, Sociological Perspectives) Secondary labor market jobs, by contrast, are low paying and low in status \n",
       "+ (2005, Sociological Perspectives) Workers cycle in and out of secondary labor market jobs regularly, so while workers may value such jobs, those same workers will face regular bouts of unemployment "
      ],
      "text/plain": [
       "<IPython.core.display.Markdown object>"
      ]
     },
     "metadata": {},
     "output_type": "display_data"
    },
    {
     "data": {
      "text/markdown": [
       "## Gordon, Robert A {Issues in Multiple Regression} 1968"
      ],
      "text/plain": [
       "<IPython.core.display.Markdown object>"
      ]
     },
     "metadata": {},
     "output_type": "display_data"
    },
    {
     "name": "stdout",
     "output_type": "stream",
     "text": [
      "[('Gordon (1968)', 86)]\n"
     ]
    },
    {
     "data": {
      "text/markdown": [
       "+ (1995, The Sociological Quarterly) Both variables are measuring the same concept (mentor's eminence), and adding both will underestimate their individual effects \n",
       "+ (1996, Social Indicators Research) homicide rates could for a large part be ascribed to multicollinearity.3 When two regressors are more highly inter related with each other than either is with the dependent variable, all explained variance will often be allocated to that particular regressor that possesses the (possibly slightly) higher correlation with the dependent variable, even though there may be no theoretical basis for \n",
       "+ (1996, Social Problems) Finally, Land and colleagues (1990) stress the need to be sensitive to Gordon's partialling fallacy, a statistical inference problem related to multicollinearity \n",
       "+ (1997, Journal of Marriage and Family) Second, because the three indicators of socioeconomic status are highly correlated, the inclusion of all three in one model would introduce multicollinearity \n",
       "+ (1997, Journal of Marriage and Family) The inclusion of highly correlated variables in the same model often results in problems of multicollinearity \n",
       "+ (1998, Journal of Marriage and Family) Thus, the changing of signs for racial composition may be a consequence of \"partialling\" \n",
       "+ (1998, Social Forces) This redundancy can be especially problematic, attenuating the effects of each indicator, given the explanatory power they each share \n",
       "+ (1998, Social Forces) This redundancy can be especially problematic, attenuating the effects of each indicator, given the explanatory power they each share \n",
       "+ (1999, Social Psychology Quarterly) These dimensions of the self have been used in past research on the self-concept (Felson 1981, 1985; Pelham and Swann 1989; Swann De La Ronde, and Hixon 1994) and are dimensions on which individuals are likely to evaluate themselves \n",
       "+ (2004, American Sociological Review) CBOs in poor urban neighborhoods are thus structurally positioned to reprise the role of the political machine, despite the social science consensus that the machine is dead "
      ],
      "text/plain": [
       "<IPython.core.display.Markdown object>"
      ]
     },
     "metadata": {},
     "output_type": "display_data"
    },
    {
     "data": {
      "text/markdown": [
       "## Gove, Walter R, Tudor, Jeannette F {Adult Sex Roles and Mental Illness} 1973"
      ],
      "text/plain": [
       "<IPython.core.display.Markdown object>"
      ]
     },
     "metadata": {},
     "output_type": "display_data"
    },
    {
     "name": "stdout",
     "output_type": "stream",
     "text": [
      "[('Gove and Tudor (1973)', 141), ('Gove & Tudor (1973)', 15)]\n"
     ]
    },
    {
     "data": {
      "text/markdown": [
       "+ (2000, Social Indicators Research) The paucity of gender specific indicators in the area of social networks and family life is most surprising given the plethora of empirical data showing gender specific responses to marriage \n",
       "+ (2002, American Journal of Sociology) \n",
       "+ (2002, Social Psychology Quarterly) Compared with unpaid domestic work, employment is associated with status, power, economic independence, and noneconomic rewards, for both men and women \n",
       "+ (2005, Social Psychology Quarterly) Because previous research has found gender differences in the association between marriage and mental health \n",
       "+ (2005, Sociological Perspectives) DIFFERENTIAL EXPOSURE The differential exposure hypothesis in the sociology of mental health maintains that females are more likely than males to be depressed because they are exposed to more stress \n",
       "+ (2005, Sociological Perspectives) That is, researchers proposed that either: (1) females were exposed to more stress than males \n",
       "+ (2005, Sociological Perspectives) This hypothesis was specified to explain gender differences in adult mental health, and early explanations for women’s higher levels of exposure to stress focused on the social roles occupied by men and women in society, positing that the social roles of women (housewife and mother) are more stress-provoking and unfulfilling than those of men (worker and father) \n",
       "+ (2006, Journal of Marriage and Family) Ever since the classic work of Goves and his colleagues, authors have been examining gender differences in the benefits of marriage and in the health costs of divorce \n",
       "+ (2007, Journal of Health and Social Behavior) For example, women are much more likely than men to be in such subordinate positions, which partially ex plains their higher rates of distress \n",
       "+ (2009, Journal of Health and Social Behavior) The Role Strain Hypothesis asserts that engaging in mul tiple roles causes role overload and strain which is deleterious to women's health "
      ],
      "text/plain": [
       "<IPython.core.display.Markdown object>"
      ]
     },
     "metadata": {},
     "output_type": "display_data"
    },
    {
     "data": {
      "text/markdown": [
       "## Gross, N, Mason, W S, McEachern, A W {Explorations in role analysis: Studies of the school superintendency role} 1958"
      ],
      "text/plain": [
       "<IPython.core.display.Markdown object>"
      ]
     },
     "metadata": {},
     "output_type": "display_data"
    },
    {
     "name": "stdout",
     "output_type": "stream",
     "text": [
      "[('Gross, Mason and McEachern (1958)', 2), ('Gross, Mason, and McEachern (1958)', 2), ('Gross, Mason & McEachern (1958)', 1)]\n"
     ]
    },
    {
     "data": {
      "text/markdown": [
       "+ (1973, American Sociological Review) This is not the place to review the rich vocabulary for role analysis proposed by various studies \n",
       "+ (1974, Journal of Marriage and Family) In this respect we draw from the work of Gross, Merton and Bates in that each position involves more than one role \n",
       "+ (1978, Annual Review of Sociology) Role generally refers to social locations or positions that embody expectations for behavior \n",
       "+ (1991, American Journal of Sociology) As in structural role theory, we define role as a bundle of norms and expectations-the behaviors expected from and anticipated by one 280//////Role as Resource who occupies a position (or status) in a social structure \n",
       "+ (1991, The Sociological Quarterly) In fact, the extensive literature on role conflict and role strain illustrates its popularity "
      ],
      "text/plain": [
       "<IPython.core.display.Markdown object>"
      ]
     },
     "metadata": {},
     "output_type": "display_data"
    },
    {
     "data": {
      "text/markdown": [
       "## Haberman, Shelby {Analysis of Qualitative Data} 1979"
      ],
      "text/plain": [
       "<IPython.core.display.Markdown object>"
      ]
     },
     "metadata": {},
     "output_type": "display_data"
    },
    {
     "name": "stdout",
     "output_type": "stream",
     "text": [
      "[('Haberman (1979)', 30)]\n"
     ]
    },
    {
     "data": {
      "text/markdown": [
       "+ (1991, American Journal of Sociology) My multivariate analysis follows those of Blau and Duncan (1967) and Warren (1966) and extends them by making comparisons over time and by using multivariate log-linear models of variable social distance mobility \n",
       "+ (1991, American Journal of Sociology) The tendency to avoid marriages with people distant in status can be assessed with models of social-distance mobility \n",
       "+ (1992, Sociological Forum) The data are analyzed with a log-linear model suitable for the multivariate analysis of countable data \n",
       "+ (1992, Sociological Methodology) The multinomial logit model can be used if the response variable is polytomous \n",
       "+ (1998, American Sociological Review) The simplest model is the fixed-distance model (Models 2 and 3 in Table 1) \n",
       "+ (1998, Sociological Methodology) X = t. The standard latent class model assumes that R and C are conditionally independent given X, which may be written as follows: T X RIX CIX 7Tii =EIt T I t x7t (1 ) t = I//////LATENT CLASS MARGINAL MODELS 299 The 1-class model is the usual model of statistical independence, and models having more than a single class may be viewed as log-linear models for indirectly observed contingency tables \n",
       "+ (1999, Sociological Methodology) Interval analyses are based on assigning scores to the categories of the ordinal variables, as in linear-by-linear association models \n",
       "+ (2000, American Journal of Sociology) While this article analyzes gender-role attitudes for an illustrative application, previous applications of latent-class analysis focused on a variety of variables, including not only attitudinal variables, such as attitude about universalistic/particularistic values (Goodman 1974b; Clogg and Goodman 1985), attitude toward nontherapeutic abortion \n",
       "+ (2001, Sociological Methodology) Latent-class models \n",
       "+ (2013, Sociological Methodology) Many of the characteristic features and uses of marginal modeling can be captured by means of the MH model and its straightforward extensions "
      ],
      "text/plain": [
       "<IPython.core.display.Markdown object>"
      ]
     },
     "metadata": {},
     "output_type": "display_data"
    },
    {
     "data": {
      "text/markdown": [
       "## Hall, R H {Organizations: structure and progress} 1972"
      ],
      "text/plain": [
       "<IPython.core.display.Markdown object>"
      ]
     },
     "metadata": {},
     "output_type": "display_data"
    },
    {
     "name": "stdout",
     "output_type": "stream",
     "text": [
      "[('Hall (1972)', 121)]\n"
     ]
    },
    {
     "data": {
      "text/markdown": [
       "+ (2008, Sociological Focus) Common to the constructivist approach is that people live within socially con structed realities where interactions with friends, strangers, co-workers, and family determine the meaning of social things \n",
       "+ (2008, Sociological Focus) We embrace this resurgence; our perspective comes from the interactionist literature that considers power as a (re)negotiation between differentially resourced actors who have divergent interests \n",
       "+ (2008, Symbolic Interaction) Numerous interpretivist studies have generally examined the performance of policy, administration, and budgeting activities \n",
       "+ (2010, American Sociological Review) Talk is a basic element in the politics of signification \n",
       "+ (2010, Journal of Marriage and Family) Emotion-focused family coping strategies might include avoiding the problem or engaging in escapism (Havlovic & Keenan, 1991), thinking positively (Havlovic & Keenan, 1 99 1 ), and managing psychological strains by working harder and sacrificing personal well-being for that of the family \n",
       "+ (2013, Social Forces) The process is fundamentally dramaturgical \n",
       "+ (2013, Social Forces) The process is fundamentally dramaturgical \n",
       "+ (2014, The American Sociologist) This has been so, despite their relevance for the study of the processes and outcomes of negotiated interactions \n",
       "+ (2014, The American Sociologist) This view of society connotes Symbolic Interactionism, but it has also been associated with Max Weber \n",
       "+ (2014, The American Sociologist) constrained\" "
      ],
      "text/plain": [
       "<IPython.core.display.Markdown object>"
      ]
     },
     "metadata": {},
     "output_type": "display_data"
    },
    {
     "data": {
      "text/markdown": [
       "## Hanushek, E A, Jackson, J E {Statistical methods for social scientists} 1977"
      ],
      "text/plain": [
       "<IPython.core.display.Markdown object>"
      ]
     },
     "metadata": {},
     "output_type": "display_data"
    },
    {
     "name": "stdout",
     "output_type": "stream",
     "text": [
      "[('Hanushek and Jackson (1977)', 250), ('Hanushek & Jackson (1977)', 46)]\n"
     ]
    },
    {
     "data": {
      "text/markdown": [
       "+ (2001, Sociological Forum) This procedure gives more weight to aggregate-level measures based on larger numbers of cases since they are presumably more accurate and should show less variance than measures based on smaller numbers of cases \n",
       "+ (2003, International Journal of Sociology) That probability can be expressed as a linear function of a set of explanatory variables: P(t) = a + U?ixi However, since probabilities are bounded by 0 and 1, the use of the simple probability as a dependent variable in an OLS analysis can result in computa tional and interpretive difficulties \n",
       "+ (2003, Symbolic Interaction) Logistic regression is the most common and most versatile of these methods \n",
       "+ (2006, American Sociological Review) Nationally representative samples such as the Current Population Survey include the public and nonprofit sectors, in which the gains of women and minorities have 1 Because log-odds (logit) is undefined at values of 0 and 1, we substituted 0 with 1/2Nj, and 1 with 1-1/2Nj, where Nj is the number of managers in establishment j \n",
       "+ (2007, Sociological Methodology) For the logistic regression model when u(2) _ U(1) = 1, the predic tive comparison (1) is a \"predicted change in probability\" \n",
       "+ (2009, American Journal of Sociology) I thus substituted 0 with 1/2N/// /// j/// , and 1 with 1 − 1/2N/// /// j/// , where N/// /// j/// is the number of managers in establishment j \n",
       "+ (2009, American Journal of Sociology) I thus substituted 0 with 1/2N/// /// j/// , and 1 with 1 − 1/2N/// /// j/// , where N/// /// j/// is the number of managers in establishment j \n",
       "+ (2012, Acta Sociologica) If one//////Koger and van de Werfhorst: Economic inequality 257 has a reasonable knowledge about the distinctive variance value of each error distribution it is possible to remedy the problem by generating distinct weights for each multivariate observation \n",
       "+ (2014, American Sociological Review) Zero values were substituted with l/2Nj, and 1 with 1 - l/2Nj, where Nj is the number of managers in establishment j \n",
       "+ (2014, Social Problems) Because natural logs are undefined at values of 0, we substituted 0 with 1/2Nj, where Nj is the number of managers in establishment j "
      ],
      "text/plain": [
       "<IPython.core.display.Markdown object>"
      ]
     },
     "metadata": {},
     "output_type": "display_data"
    },
    {
     "data": {
      "text/markdown": [
       "## Harman, H H, Holzinger, K J {Modern Factor Analysis} 1960"
      ],
      "text/plain": [
       "<IPython.core.display.Markdown object>"
      ]
     },
     "metadata": {},
     "output_type": "display_data"
    },
    {
     "name": "stdout",
     "output_type": "stream",
     "text": [
      "[]\n"
     ]
    },
    {
     "data": {
      "text/markdown": [],
      "text/plain": [
       "<IPython.core.display.Markdown object>"
      ]
     },
     "metadata": {},
     "output_type": "display_data"
    },
    {
     "data": {
      "text/markdown": [
       "## Heise, D R {Sociological methodology} 1975"
      ],
      "text/plain": [
       "<IPython.core.display.Markdown object>"
      ]
     },
     "metadata": {},
     "output_type": "display_data"
    },
    {
     "name": "stdout",
     "output_type": "stream",
     "text": [
      "[('Heise (1975)', 35)]\n"
     ]
    },
    {
     "data": {
      "text/markdown": [
       "+ (1988, Journal of Marriage and Family) A first use of causal modeling is as a heuristic tool for organizing and expressing one's thoughts about the expected nature of relationships among variables; for this use it has almost unanimous approval \n",
       "+ (1988, Sociological Methodology) Extended discussions of path analysis and structural equations models are numerous \n",
       "+ (1989, American Sociological Review) \n",
       "+ (1989, Annual Review of Sociology) Now, however, major textbooks on multivariate methods routinely include chapters on covariance structure models \n",
       "+ (1990, Social Psychology Quarterly) I refer to diagrams such as those displayed in Figure 1(b) as scalar flowgraphs in order to distinguish them from path diagrams \n",
       "+ (1991, Sociological Methodology) Three sociological \"texts\" all appeared in 1975 \n",
       "+ (1994, Sociological Forum) Path analysis is its best known application (Duncan, 1966) but the same ideas can be applied to regression as a whole \n",
       "+ (2004, American Journal of Sociology) We will analyze correlations between primary emotions in order to see how movement between distant, mutually inhibiting emotions can be expedited by passage through transitional emotions.2/// /// /// 2/// Inferring transitions over time from cross‐sectional correlations is similar to making causal inferences from cross‐sectional data \n",
       "+ (2004, Sociology of Religion) Nonrecursive models require that instrumental variables be identified for both dependent variables in the loop, with the criteria that the instruments are strongly correlated with one dependent variable in the loop and have no theorized effect on the other \n",
       "+ (2005, Sociological Perspectives) Depending on the two prerequisites, this model shows two potential oscillating saddle points "
      ],
      "text/plain": [
       "<IPython.core.display.Markdown object>"
      ]
     },
     "metadata": {},
     "output_type": "display_data"
    },
    {
     "data": {
      "text/markdown": [
       "## Hess, Robert D, Torney, Judith V {The development of political attitudes in children} 1967"
      ],
      "text/plain": [
       "<IPython.core.display.Markdown object>"
      ]
     },
     "metadata": {},
     "output_type": "display_data"
    },
    {
     "name": "stdout",
     "output_type": "stream",
     "text": [
      "[('Hess and Torney (1967)', 28), ('Hess & Torney (1967)', 3)]\n"
     ]
    },
    {
     "data": {
      "text/markdown": [
       "+ (1980, American Journal of Political Science) However, the number of studies is not large, and the variety of methodology and findings defies categorization \n",
       "+ (1984, American Journal of Political Science) Second, theoretical evidence argued that party identification should develop in childhood and result primarily from contact with parents \n",
       "+ (1986, American Journal of Political Science) They then argued that such basic attitudes persisted largely unchanged throughout the adult years \n",
       "+ (1986, Annual Review of Sociology) Research has also indicated that the quality of political thought is modified by factors such as intelligence, family background, gender and ethnic differences, and social class, while the direction of political orientation is influenced by socialization agents such as family, friends, teachers, and media \n",
       "+ (1988, American Journal of Political Science) The implications of reference group theory for the impact of partisan ties on issue attitudes are straightforward: an individual may develop a personal attachment to one of the parties as a result of socialization processes \n",
       "+ (1989, American Journal of Political Science) One is the existence of a reservoir of allegiance developed during the childhood political socialization process \n",
       "+ (1991, American Journal of Political Science) Furthermore, these orientations are presumed to persist relatively unchanged throughout adulthood and to shape citizens' attitudes on new concrete political issues that become the subject of public debate \n",
       "+ (2012, American Journal of Political Science) Family, in particular, has long been seen as a primary environmen tal influence on political attitudes in this literature, with significant positive relationships between parents and off spring on political orientations being uncontroversially interpreted as the impact of common environmental so cialization rather than genes \n",
       "+ (2012, American Journal of Political Science) Other studies focusing on explicit political attitudes have used stories and pictures to demonstrate that children, some as young as four or five and even prior to their first year of school, possess independent political attitudes \n",
       "+ (2012, American Journal of Political Science) Recent scholarship, however, has demonstrated that political attitudes de velop much earlier than previously suspected "
      ],
      "text/plain": [
       "<IPython.core.display.Markdown object>"
      ]
     },
     "metadata": {},
     "output_type": "display_data"
    },
    {
     "data": {
      "text/markdown": [
       "## Hodson, Randy {Labor in the Monopoly, Competitive, and State Sectors- of Production} 1978"
      ],
      "text/plain": [
       "<IPython.core.display.Markdown object>"
      ]
     },
     "metadata": {},
     "output_type": "display_data"
    },
    {
     "name": "stdout",
     "output_type": "stream",
     "text": [
      "[('Hodson (1978)', 84)]\n"
     ]
    },
    {
     "data": {
      "text/markdown": [
       "+ (2000, Social Forces) Early work on labor-market opportunity made the distinction between core (primary) and peripheral (secondary) labor-market areas, and it was argued that each has implications for the distribution of resources within a population given varying returns on human capital investment, training, wages, and job stability \n",
       "+ (2000, Social Forces) Early work on labor-market opportunity made the distinction between core (primary) and peripheral (secondary) labor-market areas, and it was argued that each has implications for the distribution of resources within a population given varying returns on human capital investment, training, wages, and job stability \n",
       "+ (2000, Social Forces) We find this somewhat surprising given the focus of Wilson (1987), Kasarda (1987), and stratification researchers on labor-market attributes that shape the spatialiy varying nature of disadvantage in the first place \n",
       "+ (2000, Social Forces) We find this somewhat surprising given the focus of Wilson (1987), Kasarda (1987), and stratification researchers on labor-market attributes that shape the spatialiy varying nature of disadvantage in the first place \n",
       "+ (2001, Sociological Focus) Analyses of the structural divisions of labor have//////304 SOCIOLOGICAL FOCUS abounded in literatures on industrial dualism (core vs. periphery industries) and segmented labor markets (primary vs. secondary), taking research beyond its tradi tional focus on the supply-side of earnings determination and incorporating demand side factors into our understanding of these processes \n",
       "+ (2003, Social Problems) I tested for industry variation by including the dummy variables “monopoly,” “state,” and “competitive,” following the industrial segmentation perspective \n",
       "+ (2003, The Sociological Quarterly) The preponderance of research on the structural determinants of work outcomes, either explicitly or implicitly, assumed a parallel structure between segmented labor markets and dual economic sectors, locating primary labor market occupations in the core of the economy and secondary labor market occupations in the periphery of the economy \n",
       "+ (2007, The Sociological Quarterly) It further meant that the \"legitimate\" terrain of industrial conflict had been reduced to the particulars of the wage package and those elements that impinged directly upon the economic well-being of workers.4 Further, the accord was centered primarily in the monopoly sector of the dual economy \n",
       "+ (2011, Social Forces) These two sectors are also often referred to as the monopoly and competitive sectors \n",
       "+ (2011, Social Forces) These two sectors are also often referred to as the monopoly and competitive sectors "
      ],
      "text/plain": [
       "<IPython.core.display.Markdown object>"
      ]
     },
     "metadata": {},
     "output_type": "display_data"
    },
    {
     "data": {
      "text/markdown": [
       "## Horan, Patrick M. {Is Status Attainment Research Atheoretical?} 1978"
      ],
      "text/plain": [
       "<IPython.core.display.Markdown object>"
      ]
     },
     "metadata": {},
     "output_type": "display_data"
    },
    {
     "name": "stdout",
     "output_type": "stream",
     "text": [
      "[('Horan (1978)', 58)]\n"
     ]
    },
    {
     "data": {
      "text/markdown": [
       "+ (1992, Social Indicators Research) Theoreti cally they stem from the functionalist approach and from the human capital theory that emphasizes the investments in skill, education and work experience as determinants of material work rewards \n",
       "+ (1994, American Sociological Review) 1980) or on wage inequality across markets \n",
       "+ (1994, The Sociological Quarterly) They base this conclusion on two main postulates: (1) studies of social stratification should focus on structured inequalities and structural change; and (2) since occupational prestige scores are averaged judgments, they are of little utility in social stratification research thus conceived \n",
       "+ (1995, Annual Review of Sociology) The adequacy of the status attainment models was soon questioned because they seemed implicitly to assume a wholly \"open\" society in which individuals were able to compete for desired outcomes \n",
       "+ (1995, European Sociological Review) Among criticisms that have been made of such approaches, one of the most common is that these models presuppose the existence of an 'open, fully competitive market process in which individual characteristics are identified and rewarded according to their societal value' \n",
       "+ (1995, The Canadian Journal of Sociology / Cahiers canadiens de sociologie) Researchers using this perspective generally assume that labour markets are open, equitable, rational, and efficient, that individuals have equal power and information available to them when looking for work, and that there is consensus regarding the value and prestige of occupational positions \n",
       "+ (1996, Sociology of Education) This model has increased understanding of the stratification of educational and occupational attainment in American society and has stimulated a wide body of literature that has sought to replicate (Alexander, Eckland, and Griffin 1975; Jencks, Crouse, and Meuser 1983), elaborate on (Alexander and Eckland 1975; Teachman 1987), or refute \n",
       "+ (1997, Sociological Perspectives) Finally, when it is even more rarely acknowledged that a phase dealing with status attainment research exists and is, to varying degrees, important in the intellectual career of Blau (see McPherson 1993), the theoretical significance of this work is negated, minimized, or misinterpreted \n",
       "+ (2001, Social Indicators Research) This perspective which is essentially individualistic, stresses the impact of merit, skills, and performance on the rewards received in the labor market \n",
       "+ (2006, Sociology of Education) Some studies have sought to extend this research to include the social-psychological factors that mediate parental characteristics (Sewell and H?user 1975), while others have highlighted struc tural forces, especially economic forces, that shape the attainment process "
      ],
      "text/plain": [
       "<IPython.core.display.Markdown object>"
      ]
     },
     "metadata": {},
     "output_type": "display_data"
    },
    {
     "data": {
      "text/markdown": [
       "## Hyman, H. {The Value Systems of Different Classes} 1966"
      ],
      "text/plain": [
       "<IPython.core.display.Markdown object>"
      ]
     },
     "metadata": {},
     "output_type": "display_data"
    },
    {
     "name": "stdout",
     "output_type": "stream",
     "text": [
      "[('Hyman (1966)', 27)]\n"
     ]
    },
    {
     "data": {
      "text/markdown": [
       "+ (1984, Journal of Health and Social Behavior) According to this argument, failures and inadequacies can be blamed on one's place in society rather than on oneself, and striving for success can be comfortably put aside \n",
       "+ (1985, Annual Review of Sociology) Upper status groups are more likely than lower status groups to believe that anyone has the opportunity to move ahead in American society \n",
       "+ (1985, Annual Review of Sociology) lower status groups to believe that anyone has the opportunity to move ahead in American society (Hyman 1966, Huber & Form 1973:90-7); that opportunities for achievement are essentially equal for all (Huber & Form 1973:90-9, van Fossen 1979:304, Jackman & Jackman 1983:208-10); and that mobility is the product of hard work and ability rather than luck or having been born to well-to-do parents \n",
       "+ (1986, Sociological Focus) The earliest studies \n",
       "+ (1986, Sociological Focus) These studies stand in contrast to others \n",
       "+ (1990, American Journal of Sociology) The consolation-prize theory of alienation says that rejecting responsibility for outcomes in their own lives helps low-status people feel less distressed by their situation \n",
       "+ (1990, Journal of Health and Social Behavior) Theory and research say clearly that instrumentalists have higher social and economic status than fatalists \n",
       "+ (1993, The Sociological Quarterly) Tendencies to hold individuals responsible for failure or success is most pronounced among those in upper \n",
       "+ (2007, European Sociological Review) For instance, the observed association between the families' economic resources and educational outcomes may actually not be the consequence of perceived costs, but could well be due to class-specific norms and values, which are correlated with wealth \n",
       "+ (2008, European Sociological Review) Over a span of more than three decades from the 1940s to the 1980s, research on status incon sistency went from escalation to boom to downfall "
      ],
      "text/plain": [
       "<IPython.core.display.Markdown object>"
      ]
     },
     "metadata": {},
     "output_type": "display_data"
    },
    {
     "data": {
      "text/markdown": [
       "## Kahl, J A {The American class structure: With an introduction by Kingsley Davis} 1965"
      ],
      "text/plain": [
       "<IPython.core.display.Markdown object>"
      ]
     },
     "metadata": {},
     "output_type": "display_data"
    },
    {
     "name": "stdout",
     "output_type": "stream",
     "text": [
      "[('Kahl (1965)', 11)]\n"
     ]
    },
    {
     "data": {
      "text/markdown": [
       "+ (1972, American Sociological Review) This clarity is especially critical in motivational research, where the validity and reliability of achievement motivation constructs (Krumboltz, 1957), their situational fragility (McClelland, 1958), and their probable multi-dimensionality \n",
       "+ (1972, American Sociological Review) While some social psychologists argue that the components of achievement orientation are multiple \n",
       "+ (1972, Social Problems) (2) A value orientations questionnaire similar to those used in previous research on achievement values was also administered to the subjects \n",
       "+ (1972, Social Problems) Despite the fact that achievement is a multidimensional phenomenon, only two of its dimensions have been emphasized in the current literature: (1) achievement as psychological motive (McClelland, 1961, Rosen, 1964); (2)//////Achievement in Rural South 497 achievement as a cultural value orientation which channels and guides individual motives \n",
       "+ (1972, Social Problems) In either their traditional or modern profile, these values are seen as guiding, channeling, and circumscribing the goals and ends toward which individuals strive \n",
       "+ (1973, International Journal of Sociology of the Family) Largely on the basis of earlier studies which produced findings suggesting that \"independence from family\" and socioeconomic status were positively cor related \n",
       "+ (1973, International Journal of Sociology of the Family) More recent research has produced evidence linking low authoritarian con trol by parents as well as independence from family with such variables as high 145//////INTERNATIONAL JOURNAL OF SOCIOLOGY OF THE FAMILY levels of achievement motivation and high occupational and educational attain ment \n",
       "+ (1973, International Journal of Sociology of the Family) Recent research \n",
       "+ (1978, Annual Review of Sociology) VALUE AND RELATED INVENTORIES Scales of questionnaire items have been used to assess one or multiple components of ambition or a global achievement orientation \n",
       "+ (1989, American Journal of Sociology) In addition to this inferential evidence, a few studies focus directly on the significance of work for self esteem, and these studies also show considerable variation in this relationship "
      ],
      "text/plain": [
       "<IPython.core.display.Markdown object>"
      ]
     },
     "metadata": {},
     "output_type": "display_data"
    },
    {
     "data": {
      "text/markdown": [
       "## Kardiner, Abram {The Psychological Frontiers of Society} 1945"
      ],
      "text/plain": [
       "<IPython.core.display.Markdown object>"
      ]
     },
     "metadata": {},
     "output_type": "display_data"
    },
    {
     "name": "stdout",
     "output_type": "stream",
     "text": [
      "[('Kardiner (1945)', 2)]\n"
     ]
    },
    {
     "data": {
      "text/markdown": [
       "+ (1988, Social Psychology Quarterly) The practice of good mothering in American society, for example, is said to lead to a pattern of passive adaptation in the basic personality structure "
      ],
      "text/plain": [
       "<IPython.core.display.Markdown object>"
      ]
     },
     "metadata": {},
     "output_type": "display_data"
    },
    {
     "data": {
      "text/markdown": [
       "## Keniston, Kenneth {Young Radicals: Notes on Committed Youth} 1968"
      ],
      "text/plain": [
       "<IPython.core.display.Markdown object>"
      ]
     },
     "metadata": {},
     "output_type": "display_data"
    },
    {
     "name": "stdout",
     "output_type": "stream",
     "text": [
      "[('Keniston (1968)', 60)]\n"
     ]
    },
    {
     "data": {
      "text/markdown": [
       "+ (1986, Annual Review of Sociology) that this was life-course generational conflict par excellence, as young people rejected the adult generation and acted out a host of deep-seated emotional conflicts in the political arena (Feuer 1969, Hendin 1975, Duncan 1980), other scholars contended that activist youth were not rebelling against parents and their politics but were merely carrying out the political values learned in the home \n",
       "+ (1988, Sociological Perspectives) These include social inheritance of religious preference (Hoge and Roozen, 1979; Roof and McKinney, 1986), perpetuation of ethnic identity, which has political ramifications (Parenti, 1967), the linkage between liberal parents and radical offspring during an era of protest and militancy \n",
       "+ (1991, Social Forces) factors have been proposed as explanations for activism: \"authoritarian personality characteristics\" (Hoffer 1951; Lipset & Rabb 1973); social isolation and alienation (Aberle 1966; Kornhauser 1959); feelings of \"relative deprivation (Davies 1971; Feierabend, Feierabend & Nesvold 1969; Geschwender 1968; Gurr 1970; Morrison 1973); agreement between movement goals and the values of one's parents \n",
       "+ (1991, Social Forces) factors have been proposed as explanations for activism: \"authoritarian personality characteristics\" (Hoffer 1951; Lipset & Rabb 1973); social isolation and alienation (Aberle 1966; Kornhauser 1959); feelings of \"relative deprivation (Davies 1971; Feierabend, Feierabend & Nesvold 1969; Geschwender 1968; Gurr 1970; Morrison 1973); agreement between movement goals and the values of one's parents \n",
       "+ (1992, American Journal of Sociology) 0002-9602/92/9705-0001$01.50 AJS Volume 97 Number 5 (March 1992): 1211-40 1211//////American Journal of Sociology social isolation and alienation (Aberle 1966; Kornhauser 1959), feelings of \"relative deprivation\" (Davies 1969; Feierabend, Feierabend, and Nesvold 1969; Geschwender 1968; Gurr 1970; Morrison 1973), consistency between movement goals and parental values \n",
       "+ (1993, Berkeley Journal of Sociology) According to Feuer, student activists are motivated by \"an emotional rebellion in which there is always present a disillusionment with and rejection of the values of the older generation...\" (Feuer, 1969: 11).1 But the evidence from social psychology indicates that students participating in campus protest activities held values similar to those of their parents \n",
       "+ (1993, Sociological Forum) Similarly, evidence that 1960s student activists had liberal or radical parents \n",
       "+ (1997, The Canadian Journal of Sociology / Cahiers canadiens de sociologie) In particular, the New Left movement of the 1960s and 1970s in North America had students supporting the disadvantaged, while, at the same time, relishing independence from social institutions such as an \"overbearing\" state and a \"sanctimonious\" church which were seen to threaten or suffocate individual liberties \n",
       "+ (2005, Social Indicators Research) Studies on participants in the 1960s-1970s student rebellions illustrate this point \n",
       "+ (2007, Sociological Forum) FACT 2: INDIVIDUAL MENTAL TRAITS DO NOT MATTER According to Klandermans (1997:4), \"research on social move ment participation demonstrates time and again that to become active in a social movement, one doesn't need any special personality traits\" "
      ],
      "text/plain": [
       "<IPython.core.display.Markdown object>"
      ]
     },
     "metadata": {},
     "output_type": "display_data"
    },
    {
     "data": {
      "text/markdown": [
       "## Kerlinger, F N, Pedhazur, E J {Multiple regression in behavioral research} 1973"
      ],
      "text/plain": [
       "<IPython.core.display.Markdown object>"
      ]
     },
     "metadata": {},
     "output_type": "display_data"
    },
    {
     "name": "stdout",
     "output_type": "stream",
     "text": [
      "[('Kerlinger and Pedhazur (1973)', 68), ('Kerlinger & Pedhazur (1973)', 2)]\n"
     ]
    },
    {
     "data": {
      "text/markdown": [
       "+ (1985, Journal of Marriage and Family) Hypothesis 4, concerning the variance accounted for by own versus spouse's behavior, and Hypothesis 5, concerning the variance accounted for by objective versus subjective variables, were tested using the formula for the significance of variables added to the regression equation \n",
       "+ (1986, American Sociological Review) The R2s for the two equations (with and without the block of change determinants) were compared using an appropriate hierarchical F-test \n",
       "+ (1987, Social Psychology Quarterly) This unique variance is the squared semipartial correlation between the dependent variable and the variable or block of variables of interest, after the effects of the other independent variables have been removed \n",
       "+ (1988, Review of Religious Research) In addition, it is possible to calculate standardized as well as unstandardized coefficients and to utilize dummy variables in the structural equations \n",
       "+ (1988, The Sociological Quarterly) Each level is represented by a dummy variable \n",
       "+ (1988, The Sociological Quarterly) We assessed the contribution of husband's characteristics by comparing the explained variance of equations, including the characteristics of both spouses and the explained variance of equations that regressed the logged odds on progression on wife's characteristics alone \n",
       "+ (1989, Journal of Marriage and Family) Canonical correlation analysis can be considered as a generalization of multiple regression, with multiple dependent as well as independent variables \n",
       "+ (1989, The Sociological Quarterly) In discriminant analysis, each independent variable has a weight on a discriminant function, which indicates how it is related to that function; this weight can be interpreted as a partial regression coefficient that represents the net effect of the variable on that particular function \n",
       "+ (1992, Journal of Marriage and Family) These seven items taken together discriminated well between masculine and feminine identities, as revealed by an R2 of .83, and 98.8% of cases correctly classified \n",
       "+ (2004, Acta Sociologica) It has been shown that inclusion of ordinal variables in OLS regression models usually does not distort the results in any major way "
      ],
      "text/plain": [
       "<IPython.core.display.Markdown object>"
      ]
     },
     "metadata": {},
     "output_type": "display_data"
    },
    {
     "data": {
      "text/markdown": [
       "## Kolb, John H., Brunner, Edmund de S. {A study of rural society} 1946"
      ],
      "text/plain": [
       "<IPython.core.display.Markdown object>"
      ]
     },
     "metadata": {},
     "output_type": "display_data"
    },
    {
     "name": "stdout",
     "output_type": "stream",
     "text": [
      "[]\n"
     ]
    },
    {
     "data": {
      "text/markdown": [],
      "text/plain": [
       "<IPython.core.display.Markdown object>"
      ]
     },
     "metadata": {},
     "output_type": "display_data"
    },
    {
     "data": {
      "text/markdown": [
       "## Labovitz, S {Some Observations on Measurement and Statistics} 1967"
      ],
      "text/plain": [
       "<IPython.core.display.Markdown object>"
      ]
     },
     "metadata": {},
     "output_type": "display_data"
    },
    {
     "name": "stdout",
     "output_type": "stream",
     "text": [
      "[('Labovitz (1967)', 32)]\n"
     ]
    },
    {
     "data": {
      "text/markdown": [
       "+ (1978, American Sociological Review) The multiple-indicator dependent variable constructs were typically considered interval \n",
       "+ (1979, American Sociological Review) A second approach recommends the calculation of interval statistics directly from ordinal data, i.e., treating the ordinal data as if it were interval \n",
       "+ (1980, Administrative Science Quarterly) The statistical analyses shown below followed the practice of researchers who believe that multivariate parametric statistical techniques can be used with ordinal-level measures \n",
       "+ (1980, Journal of Marriage and Family) It appears, however, that the use of ordinal measures is justifiable for most applications \n",
       "+ (1982, Journal of Marriage and Family) Regression analysis with ordinal independent variables is not problematic \n",
       "+ (1983, American Sociological Review) focus on the relationship between an underlying continuous variable and its rank-order counterpart \n",
       "+ (1983, Sociological Perspectives) 473//////474 SOCIOLOGICAL PERSPECTIVES / OCTOBER 1983 Second, methodologists have examined the possibility of applying interval level statistics to ordinal or nominal level data \n",
       "+ (1983, Sociology) While regression requires that the dependent variable (although not the independent variables) be internally measured, or at minimum ordinally measured \n",
       "+ (1983, The Sociological Quarterly) Although the presanction flood insurance adoption variable was measured at the ordinal level, good arguments exist for violating the level of measurement assumption of OLS regression \n",
       "+ (1985, Journal of Marriage and Family) However, research suggests that regression analysis on what some might consider ordinal data does not result in significant errors and consequently is commonly used "
      ],
      "text/plain": [
       "<IPython.core.display.Markdown object>"
      ]
     },
     "metadata": {},
     "output_type": "display_data"
    },
    {
     "data": {
      "text/markdown": [
       "## Labovitz, Sanford {The Assignment of Numbers to Rank Order Categories} 1970"
      ],
      "text/plain": [
       "<IPython.core.display.Markdown object>"
      ]
     },
     "metadata": {},
     "output_type": "display_data"
    },
    {
     "name": "stdout",
     "output_type": "stream",
     "text": [
      "[('Labovitz (1970)', 32)]\n"
     ]
    },
    {
     "data": {
      "text/markdown": [
       "+ (1980, Journal of Health and Social Behavior) In the present report, only Pearsonian r's, as prerequisite to partial correlation analysis \n",
       "+ (1982, Journal of Marriage and Family) Thurstone pioneered equal-appearing interval scales composed of differentially weighted items (Thurstone and Chane, 1929), but simpler procedures and empirical studies showing that violating interval-data assumptions made little practical difference have made the laborious Thurstone scaling procedures obsolete \n",
       "+ (1983, American Sociological Review) I am certainly not the first to examine the use of rank order measures of underlying continuous variables \n",
       "+ (1983, American Sociological Review) focus on the relationship between an underlying continuous variable and its rank-order counterpart \n",
       "+ (1983, Sociological Perspectives) 473//////474 SOCIOLOGICAL PERSPECTIVES / OCTOBER 1983 Second, methodologists have examined the possibility of applying interval level statistics to ordinal or nominal level data \n",
       "+ (1984, American Sociological Review) Consider the longstanding debate on the use of parametric statistics on ordinal data \n",
       "+ (1984, Journal of Marriage and Family) According to his findings \n",
       "+ (1984, Journal of Marriage and Family) The loss of information or error from using an interval-level statistic with ordinal-level data occurs because the differences between successive adjacent integer values may not be constant, constant differences between adjacent integer values being one of the assumptions of interval-level statistics \n",
       "+ (1989, The Sociological Quarterly) Response categories for all variables were coded and analyzed as interval measures in accordance with a parametric strategy for multivariate analyses \n",
       "+ (1995, Journal of Health and Social Behavior) Although there is a substantial precedent for treating ordinal variables as continuous in the general linear model "
      ],
      "text/plain": [
       "<IPython.core.display.Markdown object>"
      ]
     },
     "metadata": {},
     "output_type": "display_data"
    },
    {
     "data": {
      "text/markdown": [
       "## Land, K {Principles of path analysis} 1969"
      ],
      "text/plain": [
       "<IPython.core.display.Markdown object>"
      ]
     },
     "metadata": {},
     "output_type": "display_data"
    },
    {
     "name": "stdout",
     "output_type": "stream",
     "text": [
      "[('Land (1969)', 68)]\n"
     ]
    },
    {
     "data": {
      "text/markdown": [
       "+ (1982, Sociological Focus) 2 Defined as the path coefficient, which refers to the amount of change in the independent variable when both are measured in standard deviation units and the effects of all other variables in the particular equation have been controlled \n",
       "+ (1982, Sociological Focus) 4 Defined as that part of the total correlation between an endogenous (inde pendent) variable on growth which is due to common cause \n",
       "+ (1982, Sociological Focus) ^Defined as that part of the total correlation between an exogenous variable and growth due to the correlations of the exogenous variables to other exogenous variables, which in turn are causally related to growth \n",
       "+ (1982, Sociological Methodology) Despite the enormous interest in indirect effects displayed by sociologists \n",
       "+ (1983, Sociological Focus) Duration and mobility have been found to be negatively related by a number of researchers \n",
       "+ (1986, American Sociological Review) Attrition tends to occur fairly early \n",
       "+ (1987, Journal of Marriage and Family) Each model is written as a set of structural equations that represent the causal processes assumed to operate among the variables under consideration \n",
       "+ (1988, American Sociological Review) Multiple-regression equations and standardized beta weights were calculated for a just-identified two-stage path model with the retained variables \n",
       "+ (1993, BMS: Bulletin of Sociological Methodology / Bulletin de Méthodologie Sociologique) This pattern of behaviour corresponds to what is called the cumulative-inertia axiom which implies that the probability for a (further) change of residence decreases as duration of residence increases \n",
       "+ (2006, Journal of Health and Social Behavior) Based on the bivariate correlations and standardized beta coefficients, I conduct path analyses "
      ],
      "text/plain": [
       "<IPython.core.display.Markdown object>"
      ]
     },
     "metadata": {},
     "output_type": "display_data"
    },
    {
     "data": {
      "text/markdown": [
       "## Lenski, Gerhard E. {Status Crystallization: A Non-Vertical Dimension of Social Status} 1954"
      ],
      "text/plain": [
       "<IPython.core.display.Markdown object>"
      ]
     },
     "metadata": {},
     "output_type": "display_data"
    },
    {
     "name": "stdout",
     "output_type": "stream",
     "text": [
      "[('Lenski (1954)', 82)]\n"
     ]
    },
    {
     "data": {
      "text/markdown": [
       "+ (2008, European Sociological Review) Actually, this form was used before by Horan (1971), and it is a special case, when only two dimensions are considered, of the general form of a measurement, the square root of the sum of the squared deviations from the mean,1 which was used in many studies \n",
       "+ (2008, European Sociological Review) More importantly, echoing his theoretical insight, his analysis of empirical data found the hypothesized relations between status inconsistency and social participation and political attitudes \n",
       "+ (2008, European Sociological Review) Over a span of more than three decades from the 1940s to the 1980s, research on status incon sistency went from escalation to boom to downfall \n",
       "+ (2008, European Sociological Review) Previous Methods The first wave of empirical research on status inconsistency employed simple statistical methods, which produced more positive than negative evidence \n",
       "+ (2009, Social Psychology Quarterly) Hence American sociologists increasingly saw status as an attribute of per sons pertaining to their position in a single continuous ranking of esteem, as in the clas sic work of Laumann (1966).1//////VERTICAL HIERARCHIES 243 Thus sociologists increasingly agreed that status is about some sort of vertical ordering, and that it involves some sort of esteem \n",
       "+ (2009, Social Psychology Quarterly) Thus despite the explicit interest in role differentiation and indeed conflict at this time \n",
       "+ (2010, American Sociological Review) Similar issues complicate the study of status incon sistency, where researchers seek to understand the social psychological consequences of large gaps between types of status hierarchies, especially between educational and occupational attainments \n",
       "+ (2014, American Journal of Sociology) To the extent that the same social dimensions characterize separation across multiple contexts and to the extent that key social attributes tend to be highly correlated among individuals, their effects will reinforce one another and consolidate group differences \n",
       "+ (2017, American Journal of Political Science) In sum, this reasoning suggests that irredentism is most likely when there is a large kin group suffering sta tus inconsistency as a result of the disparity between its numerical dominance and its middling economic status \n",
       "+ (2017, American Journal of Political Science) The mismatch between the kin group's prominent demographic position, on the one hand, and its middling economic status, on the other, creates status inconsistency that fosters group grievances "
      ],
      "text/plain": [
       "<IPython.core.display.Markdown object>"
      ]
     },
     "metadata": {},
     "output_type": "display_data"
    },
    {
     "data": {
      "text/markdown": [
       "## Loomis, Charles P., Beegle, Joseph A. {Rural Social Systems: A Textbook in Rural Sociology and Anthropology} 1950"
      ],
      "text/plain": [
       "<IPython.core.display.Markdown object>"
      ]
     },
     "metadata": {},
     "output_type": "display_data"
    },
    {
     "name": "stdout",
     "output_type": "stream",
     "text": [
      "[('Loomis and Beegle (1950)', 1)]\n"
     ]
    },
    {
     "data": {
      "text/markdown": [
       "+ (1970, Journal for the Scientific Study of Religion) By providing participation in an intimate and emotional primary group the religious sect cushions the shock of rapid exposure to urbanism (Johnson 1963; Holt 1940); sectarian churches may also stem from the breakdown of gemeinschaft-like communities "
      ],
      "text/plain": [
       "<IPython.core.display.Markdown object>"
      ]
     },
     "metadata": {},
     "output_type": "display_data"
    },
    {
     "data": {
      "text/markdown": [
       "## MacIver, R M {Society: its structure and changes} 1931"
      ],
      "text/plain": [
       "<IPython.core.display.Markdown object>"
      ]
     },
     "metadata": {},
     "output_type": "display_data"
    },
    {
     "name": "stdout",
     "output_type": "stream",
     "text": [
      "[('MacIver (1931)', 2)]\n"
     ]
    },
    {
     "data": {
      "text/markdown": [
       "+ (1989, American Journal of Sociology) The problem itself, though, was a recurrent one among social scientists in the United States of the period who were seeking to identify-through an issue that commanded broad popular interest-the dark spots in behaviorist and orthodox economic theorizing and to establish that their own discipline furnished the explanation of how the problem is solved \n",
       "+ (1994, Sociological Perspectives) His understanding of \"the ecological approach\" was stunted by his time as well as his political science origins "
      ],
      "text/plain": [
       "<IPython.core.display.Markdown object>"
      ]
     },
     "metadata": {},
     "output_type": "display_data"
    },
    {
     "data": {
      "text/markdown": [
       "## MacIver, Robert M., Page, Charles Hunt {Society: An Introductory Analysis} 1937"
      ],
      "text/plain": [
       "<IPython.core.display.Markdown object>"
      ]
     },
     "metadata": {},
     "output_type": "display_data"
    },
    {
     "name": "stdout",
     "output_type": "stream",
     "text": [
      "[]\n"
     ]
    },
    {
     "data": {
      "text/markdown": [],
      "text/plain": [
       "<IPython.core.display.Markdown object>"
      ]
     },
     "metadata": {},
     "output_type": "display_data"
    },
    {
     "data": {
      "text/markdown": [
       "## Mandel, E {Late Capitalism} 1972"
      ],
      "text/plain": [
       "<IPython.core.display.Markdown object>"
      ]
     },
     "metadata": {},
     "output_type": "display_data"
    },
    {
     "name": "stdout",
     "output_type": "stream",
     "text": [
      "[('Mandel (1972)', 4)]\n"
     ]
    },
    {
     "data": {
      "text/markdown": [
       "+ (1982, American Journal of Sociology) Aid programs, together with other foreign expenditures and capital exports, developed new markets in the Third World at the expense of the U.S. balance of payments and the supreme role of the dollar \n",
       "+ (1982, The Canadian Journal of Sociology / Cahiers canadiens de sociologie) A substantial body of literature suggests that this concept merely needs to be specified, not rejected: e.g., merchants may suppress industrial growth if they are involved in import-export sectors that profit from a scarcity of local production, if they are unable to develop industrial production themselves, and if the domestic market is insufficient to support worldscale technology \n",
       "+ (1982, The Canadian Journal of Sociology / Cahiers canadiens de sociologie) However, Lenin is more commonly interpreted to define finance capital as the \"coalescence of bank and industrial capital,\" which implies the dominance of neither of these capital pools "
      ],
      "text/plain": [
       "<IPython.core.display.Markdown object>"
      ]
     },
     "metadata": {},
     "output_type": "display_data"
    },
    {
     "data": {
      "text/markdown": [
       "## Martin, J, Roberts, C {Women and employment: A lifetime perspective : The report of the 1980 DE/OPCS Women and Employment Survey} 1984"
      ],
      "text/plain": [
       "<IPython.core.display.Markdown object>"
      ]
     },
     "metadata": {},
     "output_type": "display_data"
    },
    {
     "name": "stdout",
     "output_type": "stream",
     "text": [
      "[('Martin and Roberts (1984)', 78), ('Martin & Roberts (1984)', 6)]\n"
     ]
    },
    {
     "data": {
      "text/markdown": [
       "+ (1996, European Sociological Review) Recent British work-history surveys include the 1975 National Training Survey, which was never fully coded (Elias and Main, 1982), the 1980 Women and Employment Survey, which did not include men \n",
       "+ (1996, Sociology) In the last decade there has been a dramatic decline in the percentage of mothers with pre-school age children who have no paid job, dropping from 76 per cent in 1980 \n",
       "+ (1997, Sociology) Previous researchers have identified the return to paid employment after childbirth as the critical phase in determining patterns of occupational mobility throughout women's careers \n",
       "+ (1997, Sociology) This reflects earlier motherhood but also the great increase in mothers returning to paid work between the first and second birth \n",
       "+ (2001, European Sociological Review) Introduction In the 1970s and 1980s women's employment in Britain was characterized by a period out of the labour market starting at first childbirth and a return to employment some years later, often in a part-time job \n",
       "+ (2001, European Sociological Review) The increasing availability of longitudinal data in Britain has shown the extent of change in employment patterns by age cohort and, in particular, the increased attachment to the labour market of successive cohorts \n",
       "+ (2001, European Sociological Review) tional downgrading \n",
       "+ (2001, Social Indicators Research) The use of occupational class, believed to be one of the most powerful single indicators, has been criticized, since occupa tion is presumed to have less stability in women's lives than men's \n",
       "+ (2002, Sociology) By contrast, from an early age young women expected to have a job first and then become mothers; employment was temporarily located before and after motherhood \n",
       "+ (2006, Journal of Marriage and Family) ployed than noncarers, and if they are employed, they are more likely to be in part-time jobs than noncarers "
      ],
      "text/plain": [
       "<IPython.core.display.Markdown object>"
      ]
     },
     "metadata": {},
     "output_type": "display_data"
    },
    {
     "data": {
      "text/markdown": [
       "## Mayo, E {The social problems of an industrial civilization} 1945"
      ],
      "text/plain": [
       "<IPython.core.display.Markdown object>"
      ]
     },
     "metadata": {},
     "output_type": "display_data"
    },
    {
     "name": "stdout",
     "output_type": "stream",
     "text": [
      "[('Mayo (1945)', 6)]\n"
     ]
    },
    {
     "data": {
      "text/markdown": [
       "+ (1973, Administrative Science Quarterly) The \"human relations\" group \n",
       "+ (1989, Sociological Forum) The first moved away from discourses of how conflict should be handled \n",
       "+ (1990, Sociological Focus) On the other hand, natural system theorists argued that no organization fully succeeds in controlling all sources of power \n",
       "+ (2004, American Journal of Sociology) The focus on job‐level practices builds on a long tradition of human relations research, which, over the last half century, has stressed the importance of employee training and respect for employees as human beings \n",
       "+ (2004, American Journal of Sociology) The focus on job‐level practices builds on a long tradition of human relations research, which, over the last half century, has stressed the importance of employee training and respect for employees as human beings \n",
       "+ (2009, American Journal of Sociology) Companies and their consultants developed a human relations (HR) model of management "
      ],
      "text/plain": [
       "<IPython.core.display.Markdown object>"
      ]
     },
     "metadata": {},
     "output_type": "display_data"
    },
    {
     "data": {
      "text/markdown": [
       "## Mead, Margaret {Coming of age in Samoa: A psychological study of primitive youth for western civilization} 1928"
      ],
      "text/plain": [
       "<IPython.core.display.Markdown object>"
      ]
     },
     "metadata": {},
     "output_type": "display_data"
    },
    {
     "name": "stdout",
     "output_type": "stream",
     "text": [
      "[('Mead (1928)', 8)]\n"
     ]
    },
    {
     "data": {
      "text/markdown": [
       "+ (1973, Social Problems) Recent theorists (for example: Kitsuse, 1962; Becker, 1963, 1964; Scheff, 1966; Lemert, 1967), leaning heavily on the prevision of their forefathers \n",
       "+ (1974, Social Forces) In this society, performance of adult roles such as those attending marriage and parenthood ideally are to be separated from childhood roles by a lengthy interval known as adolescence, characterized by the abandonment of dependent child roles and the adoption of complex and often ambiguous sets of roles intermediate to the transition to adult roles \n",
       "+ (1974, Social Forces) In this society, performance of adult roles such as those attending marriage and parenthood ideally are to be separated from childhood roles by a lengthy interval known as adolescence, characterized by the abandonment of dependent child roles and the adoption of complex and often ambiguous sets of roles intermediate to the transition to adult roles \n",
       "+ (1982, Language in Society) THE DATA BASE: DATA COLLECTION METHODOLOGY While this study draws on ethnographies of American and Western Samoan societies \n",
       "+ (1982, Language in Society) There has long existed an interest in childhood and socialization, particularly among anthropologists \n",
       "+ (1984, International Review of Modern Sociology) For example, Coming of Age in Samoa \n",
       "+ (1998, Symbolic Interaction) this literature, and each, to some degree, is relevant to the conceptual framework developed in this arti- ~ l eB.o~dil y markings, such as tattoos, can communicate one or more of the following: (1) personal identity, (2) cultural values and practices, and (3) membership in sub-groups within societies that are rebellious, peripheral, marginalized, or otherwise set apart from the “mainstream” \n",
       "+ (2000, Sociological Bulletin) It seems we are stuck with the problem of divergent ethnographic accounts of the same cultural area, something which anthropologists have never really resolved since the debate over Mead's accounts of Samoa "
      ],
      "text/plain": [
       "<IPython.core.display.Markdown object>"
      ]
     },
     "metadata": {},
     "output_type": "display_data"
    },
    {
     "data": {
      "text/markdown": [
       "## Merton, Robert K, Lazarsfield, Paul F {Continuities in social research} 1950"
      ],
      "text/plain": [
       "<IPython.core.display.Markdown object>"
      ]
     },
     "metadata": {},
     "output_type": "display_data"
    },
    {
     "name": "stdout",
     "output_type": "stream",
     "text": [
      "[]\n"
     ]
    },
    {
     "data": {
      "text/markdown": [],
      "text/plain": [
       "<IPython.core.display.Markdown object>"
      ]
     },
     "metadata": {},
     "output_type": "display_data"
    },
    {
     "data": {
      "text/markdown": [
       "## Nettler, G. {Explaining Crime} 1974"
      ],
      "text/plain": [
       "<IPython.core.display.Markdown object>"
      ]
     },
     "metadata": {},
     "output_type": "display_data"
    },
    {
     "name": "stdout",
     "output_type": "stream",
     "text": [
      "[('Nettler (1974)', 15)]\n"
     ]
    },
    {
     "data": {
      "text/markdown": [
       "+ (1979, American Sociological Review) The possibility that these data also reflect trends in rates at which offenses are reported to the police has motivated extensive victimology research \n",
       "+ (1979, Sociological Focus) The reports by Adler (1975) and others which conclude that levels of female violent crime have increased \n",
       "+ (1980, American Sociological Review) The major criticism concerns the unrepresentativity of the items selected \n",
       "+ (1982, The Sociological Quarterly) As Hirschi (1975:190) notes, when the focus is on social psychological variables such as family or peer relationships, \"the findings are generally similar whether one is looking at self-reported misbehavior or at official measures of delinquency\" \n",
       "+ (1985, Annual Review of Sociology) Ideas that at first seemed fruitful, such as Cressey's (1953) explanation of embezzlement in terms of \"nonsharable financial problems\", have failed to attract a body of literature to support them \n",
       "+ (1985, The Sociological Quarterly) 4/1985 Although offenses known to the police typically underestimate the amount of crime because of non-reporting, these are still the best data available on a city-wide basis \n",
       "+ (1987, Social Forces) Inaccuracies in crime reports have been detailed in other places \n",
       "+ (1987, Social Forces) Inaccuracies in crime reports have been detailed in other places \n",
       "+ (1996, Social Forces) Although the UCR data are not perfect estimates of actual risk, they are official risk and have been used by many investigators in previous studies as some of the best available measures of risk \n",
       "+ (1996, Social Forces) Although the UCR data are not perfect estimates of actual risk, they are official risk and have been used by many investigators in previous studies as some of the best available measures of risk "
      ],
      "text/plain": [
       "<IPython.core.display.Markdown object>"
      ]
     },
     "metadata": {},
     "output_type": "display_data"
    },
    {
     "data": {
      "text/markdown": [
       "## Nie, N H, Bent, D H, Hull, C H {SPSS: statistical package for the social sciences} 1975"
      ],
      "text/plain": [
       "<IPython.core.display.Markdown object>"
      ]
     },
     "metadata": {},
     "output_type": "display_data"
    },
    {
     "name": "stdout",
     "output_type": "stream",
     "text": [
      "[]\n"
     ]
    },
    {
     "data": {
      "text/markdown": [],
      "text/plain": [
       "<IPython.core.display.Markdown object>"
      ]
     },
     "metadata": {},
     "output_type": "display_data"
    },
    {
     "data": {
      "text/markdown": [
       "## Odum, Howard Washington {Southern Regions of the United States} 1936"
      ],
      "text/plain": [
       "<IPython.core.display.Markdown object>"
      ]
     },
     "metadata": {},
     "output_type": "display_data"
    },
    {
     "name": "stdout",
     "output_type": "stream",
     "text": [
      "[('Odum (1936)', 9)]\n"
     ]
    },
    {
     "data": {
      "text/markdown": [
       "+ (1973, American Journal of Sociology) It was indeed a massive investigation \n",
       "+ (1982, American Journal of Sociology) Other regional sociologists use the imprecise metaphor of colonialism to explain the South's relatively \"backward\" economic performance, pointing to the dependent character of its growth and to alleged effects of northern \"imperialism\" \n",
       "+ (1992, Social Problems) In the 1930s, the concept of region and the South as a region were central topics for some social scientists \n",
       "+ (1992, Social Problems) The expression is grounded in historical usage which combines and confuses (1) the richness and agricultural uses of the earth in the Mississippi Delta (see Coleman and Hall 1974; Gotsch-Thompson 1984; Hilliard 1979); (2) the old \"cotton counties\" \n",
       "+ (1992, Social Problems) What we call the \"Black Belt\" has often been called by others the \"cotton counties\" or \"plantation counties\" \n",
       "+ (2004, The American Sociologist) In the United States two conceptual precursors of the movement were Recent So cial Trends in the United States (Ogburn, 1933) and Southern Regions of the United States \n",
       "+ (2006, Social Indicators Research) In the U. S. two conceptual precursors of the movement were Recent Social Trends in the United States (Ogburn, 1933) and Southern Regions of the United States \n",
       "+ (2012, Sociological Forum) BACKGROUND The South as \" Place \" and Regional Identity The U.S. South has long been the focus of sociological inquiry "
      ],
      "text/plain": [
       "<IPython.core.display.Markdown object>"
      ]
     },
     "metadata": {},
     "output_type": "display_data"
    },
    {
     "data": {
      "text/markdown": [
       "## Parsons, T, Bales, R F, Shils, E A {Working papers in the theory of action} 1953"
      ],
      "text/plain": [
       "<IPython.core.display.Markdown object>"
      ]
     },
     "metadata": {},
     "output_type": "display_data"
    },
    {
     "name": "stdout",
     "output_type": "stream",
     "text": [
      "[('Parsons, Bales, and Shils (1953)', 6), ('Parsons, Bales and Shils (1953)', 2), ('Parsons, Bales & Shils (1953)', 1)]\n"
     ]
    },
    {
     "data": {
      "text/markdown": [
       "+ (1981, American Journal of Sociology) are: (1) the differentiation of cultural system, social system, and personality, and the analysis of institutionalization and internalization in The Social System (1951) and Toward a General Theory of Action (Parsons and Shils 1951); (2) the differentiation of levels of systems and the macroscopic-microscopic application of the four-function paradigm in Working Papers in the Theory of Action \n",
       "+ (1982, American Journal of Sociology) 1951), Toward a General Theory of Action (Parsons and Shils 1951a), and Family, Socialization, and Interaction Process (Parsons and Bales 1956b); it is true of the differentiation of the subsystems of action and the analyses using multiple \"system references\" with the help of the microscopic-macroscopic applications of the four-function paradigm in Working Papers in the Theory of Action \n",
       "+ (1982, American Journal of Sociology) The pattern variables can be used to indicate with precision the specific relations between opposed modes of orientations of action which have been joined together by the interpenetration of different subsystems of action \n",
       "+ (1983, The Canadian Journal of Sociology / Cahiers canadiens de sociologie) This voluntaristic action frame of reference is translated into the AGIL scheme (see Figure 1, and below), which is itself abstracted by defining it in terms of the two dimensions of symbolic complexity and contingency of action \n",
       "+ (1986, Acta Sociologica) AGIL space revisited, or Parsons trying to avoid meeting Marx I will in the following make all references to a semi-formalized and simplified version of the theoretical AGIL model formulated in Working Papers in the Theory of Action \n",
       "+ (1990, American Journal of Sociology) AGIL: Parsons's Analytic Dimensions Certainly the most ambitious formulation of definitive dimensions in modern sociology was offered by Talcott Parsons \n",
       "+ (1996, American Journal of Sociology) The resulting amalgam of small group observation and pattern variable conceptualization was complex and ambiguous in its details \n",
       "+ (2000, Sociological Theory) Probably the most important distinction among holidays from this viewpoint is that some use narratives, drama, and ceremonies to directly enforce commitments to shared beliefs-which I shall refer to as recommitment holidays-and others fulfill this role indirectly, by releasing tensions that result from the close adherence to beliefs, which I term tension-management holidays \n",
       "+ (2013, Social Psychology Quarterly) Such sex-role specialization was supposed to have important functions in child socialization and stability of the nuclear family "
      ],
      "text/plain": [
       "<IPython.core.display.Markdown object>"
      ]
     },
     "metadata": {},
     "output_type": "display_data"
    },
    {
     "data": {
      "text/markdown": [
       "## Parsons, T, Shils, E {Toward a general theory of action} 1951"
      ],
      "text/plain": [
       "<IPython.core.display.Markdown object>"
      ]
     },
     "metadata": {},
     "output_type": "display_data"
    },
    {
     "name": "stdout",
     "output_type": "stream",
     "text": [
      "[('Parsons and Shils (1951)', 106), ('Parsons & Shils (1951)', 13)]\n"
     ]
    },
    {
     "data": {
      "text/markdown": [
       "+ (2013, Annual Review of Sociology) In Parsons's theory of action, situations provide the means and conditions of action, values motivate the pursuit of some ends rather than others, and norms limit the selection of means to achieve those ends \n",
       "+ (2013, Annual Review of Sociology) Perhaps the most important explanation is the assimilation of the moral domain in Parsons's theory under the heading of \"moral norms\" and \"moral consensus\" \n",
       "+ (2014, American Journal of Sociology) Without speaking for all theories of social action, therefore, I shall nevertheless attempt to defend the narrower claim that many of these theories—including rational choice theory (Hedström and Stern 2008) along with the many related strains of individualism (Lukes 1968; Mayhew 1980; Boudon 1987), structural-functionalism \n",
       "+ (2014, Social Psychology Quarterly) At midcentury, functionalists argued that internalized culture in the form of goals and values motivates action \n",
       "+ (2015, American Journal of Sociology) Parsons and Shils \n",
       "+ (2015, American Sociological Review) Dual-process models represent an elegant solution to the problems inherent in action theories that overemphasize either situational structures (e.g., DiMaggio 1997; Swidler 2001) or individual volition \n",
       "+ (2015, American Sociological Review) Functionalists typically assumed rather than demonstrated the efficacy of val ues, or inferred values from observed behav iors, essentially using the same data points as both independent and dependent variables \n",
       "+ (2015, American Sociological Review) These values guide individuals in the conscious, rational selection of goals, provide a rubric by which strategies for obtaining those goals can be evaluated, and shape normative expectations in interaction situations \n",
       "+ (2015, Sociological Theory) This is not surprising given how closely intertwined the notion of belief has traditionally been for both Parsonian action theory \n",
       "+ (2016, Polish Sociological Review) This concept, which has its roots in the Parsonian EquilibriumFunction model "
      ],
      "text/plain": [
       "<IPython.core.display.Markdown object>"
      ]
     },
     "metadata": {},
     "output_type": "display_data"
    },
    {
     "data": {
      "text/markdown": [
       "## Poulantzas, N {Classes in contemporary capitalism} 1975"
      ],
      "text/plain": [
       "<IPython.core.display.Markdown object>"
      ]
     },
     "metadata": {},
     "output_type": "display_data"
    },
    {
     "name": "stdout",
     "output_type": "stream",
     "text": [
      "[('Poulantzas (1975)', 61)]\n"
     ]
    },
    {
     "data": {
      "text/markdown": [
       "+ (1993, American Sociological Review) The central claim made by Marxists is that the state's interventions will contribute to the concentration and centralization of capital \n",
       "+ (1993, Annual Review of Sociology) These analyses derive from the Marxist perspective but also make the critical historical observation that the petite bourgeoisie was not entirely absorbed into wage employment with the transition to industrial capitalism \n",
       "+ (1994, Social Forces) Marxist class analysis, on the other hand, has neglected the topic and at times has openly disavowed it \n",
       "+ (1994, Social Forces) Marxist class analysis, on the other hand, has neglected the topic and at times has openly disavowed it \n",
       "+ (1994, The British Journal of Sociology) Such a view, his critics go on to argue, is not only unwarranted given current levels of methodological sophistication and the kinds of evidence these methods can produce, but is also dangerous in that it may legitimate invidious stereotyping \n",
       "+ (1995, Sociology) Structural approaches, for example -in recent years particularly associated with Marxism - tend to see individual preferences and so on as overdetermined by structural position: in other words, these can be read off from class (and other) position \n",
       "+ (1996, The Canadian Journal of Sociology / Cahiers canadiens de sociologie) There are at least two reasons for this shortcoming: (a) Marx never systematically developed his conception of class and class structure, resulting in little agreement about the variety of Marxist conceptualizations of class \n",
       "+ (2000, Annual Review of Sociology) Neo-Marxian authors have expanded the traditional Marxian formulation by considering the unique situations of different occupational groups, yet location in the productive order remains the essential explanatory dynamic \n",
       "+ (2000, Social Problems) Since conflicts of interest between capitalist class fractions make coordinated participation problematic, the state identifies capital's interests and translates them into policy outputs, in the process, insuring its own survival and growth \n",
       "+ (2002, International Journal of Sociology) The psychological impact of social class on individuals has been widely studied in sociology "
      ],
      "text/plain": [
       "<IPython.core.display.Markdown object>"
      ]
     },
     "metadata": {},
     "output_type": "display_data"
    },
    {
     "data": {
      "text/markdown": [
       "## Reiss, Albert J. Reiss {Occupations and social status} 1961"
      ],
      "text/plain": [
       "<IPython.core.display.Markdown object>"
      ]
     },
     "metadata": {},
     "output_type": "display_data"
    },
    {
     "name": "stdout",
     "output_type": "stream",
     "text": [
      "[('Reiss (1961)', 106)]\n"
     ]
    },
    {
     "data": {
      "text/markdown": [
       "+ (1994, The Sociological Quarterly) Early efforts include studies of the self-reported criteria employed by individuals grading occupations \n",
       "+ (1994, The Sociological Quarterly) It was originally posed because the common operational definitions of occupational prestige were imprecise \n",
       "+ (1996, Social Indicators Research) Begun in places like Great Britain and the United States \n",
       "+ (1997, Sociological Methodology) The first was carried out at NORC in 1947 by North and Hatt, but its major findings were not reported for more than a decade \n",
       "+ (1997, Sociological Methodology) While the two more recent prestige surveys obtained ratings for all occupational titles in the then-current Census classification schemes, only 90 titles were rated in the 1947 NORC survey \n",
       "+ (2000, The Canadian Journal of Sociology / Cahiers canadiens de sociologie) One of the main arguments justifying the rejection of normative interpretations of occupational prestige is that respondents to prestige surveys overwhelmingly mention material advantages of occupations when asked to explain their ratings \n",
       "+ (2004, Annual Review of Sociology) anisms of discredited and discreditable sexual beings \n",
       "+ (2005, Sociological Focus) E-mail: matt.pruitt@wku.edu 189//////190 SOCIOLOGICAL FOCUS Research has reported various types of male prostitutes, including street hustlers, bar hustlers, peer delinquents, escorts, call boys, and masseurs \n",
       "+ (2009, European Sociological Review) Occupational Prestige as an Indicator of Societal Values Prestige has long been of sociological interest, espe cially for stratification researchers \n",
       "+ (2009, European Sociological Review) Prestige represents a hierarchy of individual positions (Wegener, 1992) and reflects shared norms and values in society "
      ],
      "text/plain": [
       "<IPython.core.display.Markdown object>"
      ]
     },
     "metadata": {},
     "output_type": "display_data"
    },
    {
     "data": {
      "text/markdown": [
       "## Robinson, Robert V., Kelley, Jonathan {Class as Conceived by Marx and Dahrendorf: Effects on Income Inequality and Politics in the United States and Great Britain} 1979"
      ],
      "text/plain": [
       "<IPython.core.display.Markdown object>"
      ]
     },
     "metadata": {},
     "output_type": "display_data"
    },
    {
     "name": "stdout",
     "output_type": "stream",
     "text": [
      "[('Robinson and Kelley (1979)', 62)]\n"
     ]
    },
    {
     "data": {
      "text/markdown": [
       "+ (1992, American Sociological Review) Studies of the intergenerational transmission of inequality have consistently demonstrated the multidimensionality of this process \n",
       "+ (1992, Sociological Perspectives) Women are less likely to be in managerial occupations than men (U.S. Department of Labor 1987:178-179) or to have supervisory responsibilities \n",
       "+ (1993, American Sociological Review) Furthermore, Wright's typologies for representing the command and control properties of jobs differ from the more parsimonious specifications that have been employed by others \n",
       "+ (1993, American Sociological Review) One prominent line of thought and research emphasizes the control and command properties of jobs \n",
       "+ (1993, The Sociological Quarterly) Neo-Marxist contributions to new structuralism center on the role of the class structure in capitalist society, specifically the antagonistic relations between, and changing fortunes//////Positional Power, Class, and Individual Earnings Inequality 87 of, capitalists, petty bourgeoisie, managers, and proletariat \n",
       "+ (1995, American Sociological Review) Combined additively, they give a powerful, flexible model of class \n",
       "+ (1995, American Sociological Review) Second, authority is one of the central ways in which the financial rewards of work are allocated \n",
       "+ (2001, International Journal of Sociology) Indeed, the self-employed generally enjoy higher economic rewards and job satis faction than most employed persons \n",
       "+ (2004, American Sociological Review) The last point is important because racial and gender differences in workplace power are an important source of wage inequality \n",
       "+ (2008, Polish Sociological Review) According to these premises, in the course//////POLARIZED SOCIAL-CLASS STRUCTURE 345 of macro-social changes, some class indicators increase while others lose their importance "
      ],
      "text/plain": [
       "<IPython.core.display.Markdown object>"
      ]
     },
     "metadata": {},
     "output_type": "display_data"
    },
    {
     "data": {
      "text/markdown": [
       "## Rose, A {Theory and Method in the Social Sciences} 1954"
      ],
      "text/plain": [
       "<IPython.core.display.Markdown object>"
      ]
     },
     "metadata": {},
     "output_type": "display_data"
    },
    {
     "name": "stdout",
     "output_type": "stream",
     "text": [
      "[('Rose (1954)', 20)]\n"
     ]
    },
    {
     "data": {
      "text/markdown": [
       "+ (1975, Sociological Bulletin) The tradition of voluntary associations is said to be weak in France \n",
       "+ (1975, The Sociological Quarterly) in organizations increases members' information, trains them in social interaction and leadership skills, and provides other personal//////Political Participation 30o7 resources essential for effective political activity (Olsen, 1972); (4) that group activity encourages a sense of satisfaction with democratic processes as members come to perceive how these processes work in concrete situations \n",
       "+ (1976, Social Problems) Constraints 19 and the growth of externally funded and group research \n",
       "+ (1976, Social Problems) The founders believed that, given an adequate conceptual scheme, research undertaken for practical purposes would not merely serve these ends, but would also lead to theoretical advances \n",
       "+ (1982, The Sociological Quarterly) Of the several useful group typologies available \n",
       "+ (1982, The Sociological Quarterly) Solidary groups are \"expressive\" organizations \n",
       "+ (1986, Sociological Focus) However, they show their divergence from Mead by finding Mead's work consistent with that of such diverse scholars as Cooley, Dewey, Thomas, and Park (Rose also added Baldwin, Simmel, and Weber, and Sumner; Blumer//////180 SOCIOLOGICAL FOCUS included Burgess, Znaniecki, Ellsworth Fans, William James, and James Mickel WilUams)\n",
       "+ (1986, Sociological Focus) In contrast, subjectivist interactionists such as Blumer and Rose have claimed to be faithful to Mead, Blumer expUcitly and Rose by impUcation \n",
       "+ (1992, American Sociological Review) Each of these characteristics has been said to contribute to the proliferation of voluntary associations and to increase levels of participation \n",
       "+ (2006, Journal for the Scientific Study of Religion) In addition, scholars have examined the influence of the organizational structure of religious groups on the formation of social capital, contrasting the horizontal structure of Protestant churches and the hierarchical structure of the Catholic Church "
      ],
      "text/plain": [
       "<IPython.core.display.Markdown object>"
      ]
     },
     "metadata": {},
     "output_type": "display_data"
    },
    {
     "data": {
      "text/markdown": [
       "## Schwartz, Joseph {Crosscutting Social Circles: Testing a macrostructural theory of intergroup relations.} 1984"
      ],
      "text/plain": [
       "<IPython.core.display.Markdown object>"
      ]
     },
     "metadata": {},
     "output_type": "display_data"
    },
    {
     "name": "stdout",
     "output_type": "stream",
     "text": [
      "[('Schwartz (1984)', 5)]\n"
     ]
    },
    {
     "data": {
      "text/markdown": [
       "+ (1989, Journal of Marriage and Family) Research on leaving the parental home has been largely confined to descriptions of demographic trends \n",
       "+ (1992, Sociological Forum) Throughout the cold war era, the Russians have been the enemy onto whom we have projected our fears and transferred our darkest traits \n",
       "+ (1993, Symbolic Interaction) Obese individuals may perceive themselves as society perceives them and play the role of a \"fat\" person \n",
       "+ (2010, American Journal of Sociology) Moreover, since relief benefits were quite meager, machines preferred to control the disbursement of jobs over relief \n",
       "+ (2010, American Journal of Sociology) Moreover, since relief benefits were quite meager, machines preferred to control the disbursement of jobs over relief "
      ],
      "text/plain": [
       "<IPython.core.display.Markdown object>"
      ]
     },
     "metadata": {},
     "output_type": "display_data"
    },
    {
     "data": {
      "text/markdown": [
       "## Shevky, Eshref, Bell, Wendell {Social area analysis: theory, illustrative application, and computational procedures} 1955"
      ],
      "text/plain": [
       "<IPython.core.display.Markdown object>"
      ]
     },
     "metadata": {},
     "output_type": "display_data"
    },
    {
     "name": "stdout",
     "output_type": "stream",
     "text": [
      "[('Shevky and Bell (1955)', 20), ('Shevky & Bell (1955)', 4)]\n"
     ]
    },
    {
     "data": {
      "text/markdown": [
       "+ (1978, The Sociological Quarterly) The contribution of social area analysis \n",
       "+ (1980, Annual Review of Sociology) However, factorial social ecology emerged in the mid- 1950s when the Shevky-Bell scheme of metropolitan 433 0360-0572 /80/0815-0433$01.00//////434 JANSON differentiation \n",
       "+ (1980, Annual Review of Sociology) The latter approach derives standards of comparison from data gathered in referring all of the cities to be compared [cf the construction of \"social areas\" \n",
       "+ (1983, Sociological Focus) However, residential areas can be expected to vary with respect to this level of turnover, since there is a good deal of correspondence between the variables on the household level that determine the propensity to move, and the variables upon which neighborhood differentiation is based \n",
       "+ (1983, The Sociological Quarterly) This measure is mainly derived from the social-area analysis approach \n",
       "+ (1985, The Sociological Quarterly) Ecological research in the social area tradition \n",
       "+ (1995, American Journal of Sociology) Finally, human ecologists have noted that population growth intensifies demand for central land and increases spatial differentiation, thus increasing segregation \n",
       "+ (1996, Social Forces) In part, this is because racial and ethnic residential segregation occurs in the context of a metropolis that is also segregated by social class and family life cycle \n",
       "+ (1996, Social Forces) In part, this is because racial and ethnic residential segregation occurs in the context of a metropolis that is also segregated by social class and family life cycle \n",
       "+ (1996, The Sociological Quarterly) From this perspective, especially as articulated by Amos Hawley (1950; 1971; 1981; 1984; 1986) and other members of the neoorthodox school "
      ],
      "text/plain": [
       "<IPython.core.display.Markdown object>"
      ]
     },
     "metadata": {},
     "output_type": "display_data"
    },
    {
     "data": {
      "text/markdown": [
       "## Siegel, P.M.Dissertation {Prestige in the American occupational structure} 1971"
      ],
      "text/plain": [
       "<IPython.core.display.Markdown object>"
      ]
     },
     "metadata": {},
     "output_type": "display_data"
    },
    {
     "name": "stdout",
     "output_type": "stream",
     "text": [
      "[('Siegel (1971)', 62)]\n"
     ]
    },
    {
     "data": {
      "text/markdown": [
       "+ (1992, American Journal of Sociology) 0002-9602/92/9706-0005$01 .50 1658 AJS Volume 97 Number 6 (May 1992): 1658-88//////Symposium: Scaling ranks most commonly based on Duncan's (1961) socioeconomic index (SEI) or upon prestige scores \n",
       "+ (1992, Annual Review of Sociology) Based on the 1960 Census of Population, several new surveys were conducted in the 1960s (using nine response categories instead of the original five) to update the original scale \n",
       "+ (1992, Annual Review of Sociology) In this and in many other studies using the same method, mean profile correlations of 0.5 < R < 0.7 were found \n",
       "+ (1993, Sociological Forum) Seventy-three percent of BFW respondents hold occupations with scores above 50 on the familiar Hodge-Siegel-Rossi prestige scale \n",
       "+ (1994, The Sociological Quarterly) \n",
       "+ (1995, Sociological Forum) As we detail elsewhere (Cohn et al., 1993), BFW members are best described as conscience constituents, with a full 85% holding college or graduate degrees, and 73% holding occupations with scores above 50 on the Hodge-Siegel-Rossi prestige scale \n",
       "+ (1996, American Journal of Sociology) Occupational prestige is a scale developed for NORC \n",
       "+ (1998, American Sociological Review) INDEPENDENT VARIABLES Individual-Level Predictors Individual-level characteristics serving as controls included education (years of schooling), occupational prestige \n",
       "+ (2005, American Journal of Sociology) First, an occupation’s prestige score is a weighted average of aggregated ranking scores over all raters, which reduces all information into one statistic of central tendency \n",
       "+ (2007, The Canadian Journal of Sociology / Cahiers canadiens de sociologie) Pineo and Porter had deliberately cloned methods used by the National Opinion Research Centre (NORC) in the Hodge, Siegel, Rossi study in the//////68 Canadian Journal of Sociology United States "
      ],
      "text/plain": [
       "<IPython.core.display.Markdown object>"
      ]
     },
     "metadata": {},
     "output_type": "display_data"
    },
    {
     "data": {
      "text/markdown": [
       "## Smith, T L {The sociology of rural life} 1957"
      ],
      "text/plain": [
       "<IPython.core.display.Markdown object>"
      ]
     },
     "metadata": {},
     "output_type": "display_data"
    },
    {
     "name": "stdout",
     "output_type": "stream",
     "text": [
      "[('Smith (1957)', 16)]\n"
     ]
    },
    {
     "data": {
      "text/markdown": [
       "+ (1986, Annual Review of Sociology) Throughout the Commission report (Commission on Country Life 1911), a constant theme was the need for thorough analysis of conditions in rural America, and one might argue reasonably that rural sociology, as well as rural community development, was a progeny of the Country Life Movement \n",
       "+ (1988, American Journal of Sociology) Henry King's Theology and the Social Consciousness and John Commons's Social Reform and the Church are just two examples of the voluminous literature of the 1890s that spurred municipal reforms, the survey of immigrants, and the formation of settlements, and that helped to shape the idea of Christian social work as a practical way of improving society \n",
       "+ (1998, Annual Review of Sociology) Northern evangelicals were active social reformers and provided the major impetus behind abolitionism, temperance, and a number of similar social movements \n",
       "+ (1998, Annual Review of Sociology) Southern evangelicals also resisted Northern evangelical social reform movements and perfectionist theology because they were associated with abolitionism \n",
       "+ (2008, Administrative Science Quarterly) Histori cal accounts have typically focused on either the role of the media (Savage, 1938; Newman, Rael, and Lapsansky, 2000; Newman, 2002; Fanuzzi, 2003; Nord, 2004) or religion \n",
       "+ (2008, Administrative Science Quarterly) It is easy for activists to appeal to the religious iden tities of congregants (Wood, 1999) because congregants are imbued with an intense moral energy that can be channeled toward reforming society's ills \n",
       "+ (2008, Administrative Science Quarterly) Some work on religion and antebellum social movements has documented the role played by religious revivals?emotional ly charged meetings at which fiery preachers thundered at large crowds of believers and potential converts \n",
       "+ (2008, Administrative Science Quarterly) We also probed to see whether it was revivals, rather than religious congregations, that drove the results on churches, to test the alternative hypothesis that revivalism led churches to embrace social reform \n",
       "+ (2008, Review of Religious Research) The fervor generated by these revivals, rather than detaching their converts from this-worldly affairs, greatly stimulated efforts to ameliorate urban poverty and abolish slavery \n",
       "+ (2010, Journal for the Scientific Study of Religion) Certainly, there is evidence of an urban brand of religiosity contradicting stereotypes of the rurality of conservative religion: the interdenominational prayer-meeting revival of 1858 started in New York and spread to other Northern cities "
      ],
      "text/plain": [
       "<IPython.core.display.Markdown object>"
      ]
     },
     "metadata": {},
     "output_type": "display_data"
    },
    {
     "data": {
      "text/markdown": [
       "## Sorokin, P A {Society, Culture, and Personality: Their Structure and Dynamics, a System of General Sociology} 1947"
      ],
      "text/plain": [
       "<IPython.core.display.Markdown object>"
      ]
     },
     "metadata": {},
     "output_type": "display_data"
    },
    {
     "name": "stdout",
     "output_type": "stream",
     "text": [
      "[('Sorokin (1947)', 46)]\n"
     ]
    },
    {
     "data": {
      "text/markdown": [
       "+ (2005, The American Sociologist) In contrast, in antagonistic interaction the meanings?values and actions \"of the parties are opposite and mu tually hinder one another\" \n",
       "+ (2005, The American Sociologist) In sociology, professional activity is focused on advancing knowledge and understanding re garding basic structures and processes within the frame of reference of culture, society, and personality \n",
       "+ (2005, The American Sociologist) Since \"none of the mem bers of this indivisible trinity (personality, society, culture) can exist without the other two\" \n",
       "+ (2005, The American Sociologist) Since \"none of the mem bers of this indivisible trinity (personality, society, culture) can exist without the other two\" (Sorokin, 1947: 63-64), each must ultimately \"be referred to the triadic manifold, or matrix in which it exists\" \n",
       "+ (2005, The American Sociologist) Solidary interaction is a situation in which \"the aspirations (meanings, values) and overt actions of the interacting parties concur and are mutually helpful for the realization of their objectives\" \n",
       "+ (2005, The American Sociologist) The Nature of Sociology Sorokin's sociology rests on the assumption that there are three \"inseparable\" components of the subject matter?personality, as thinking and acting individuals; society, the totality of interacting individuals and social relationships; and culture, composed of meanings, values, and norms and the vehicles through which they are manifested \n",
       "+ (2005, The American Sociologist) This basic conceptual and analytic frame of refer ence leads to a definition of sociology as \"a generalizing science of sociocultural phenomena viewed in their generic forms, types, and manifold interconnections\" \n",
       "+ (2005, The American Sociologist) This same basic delineation of the subject matter is applicable to \"special sociologies\" that focus on a particular class of sociocultural phenomena, such as family, religion, economics, or crime \n",
       "+ (2005, The American Sociologist) his theories of cultural types, integration, and change (Sorokin, 1937a; 1937b; 1941a; 1947; 1957a); his analysis and typology of social relationships (1937c); his theoretical and statistical analysis of the historical fluctuation of war and revolution (1925, 68 The American Sociologist / Fall/Winter 2005//////1937c, 1950d, [1941]1998a, [1942]1998b); his analysis of mobility and stratifica tion \n",
       "+ (2006, Journal of Marriage and Family) College graduates have historically adopted new attitudes and behaviors that diffused to individuals of other education levels "
      ],
      "text/plain": [
       "<IPython.core.display.Markdown object>"
      ]
     },
     "metadata": {},
     "output_type": "display_data"
    },
    {
     "data": {
      "text/markdown": [
       "## Srole, L {Mental health in the metropolis: The midtown Manhattan study} 1962"
      ],
      "text/plain": [
       "<IPython.core.display.Markdown object>"
      ]
     },
     "metadata": {},
     "output_type": "display_data"
    },
    {
     "name": "stdout",
     "output_type": "stream",
     "text": [
      "[('Srole (1962)', 6)]\n"
     ]
    },
    {
     "data": {
      "text/markdown": [
       "+ (1971, Journal of Marriage and Family) Thus, while according to the 1970 HEW report, single, white women in the general population report less psychological distress than married or separated white women, \n",
       "+ (1973, Journal of Marriage and Family) In the interview with the subsample of low (N = 15) and high (N= 14) alienated wives, the latter group revealed almost three times as many psychiatric symptoms as the former group when measured by the Midtown Psychiatric Symptom Scale \n",
       "+ (1973, Journal of Marriage and Family) Interview items themselves were categorized according to the following: individual and family problems; alienation and identification, before and after the move; family goals and means; and personality traits selected from the Midtown Guide \n",
       "+ (1984, Social Indicators Research) They have attempted to account for levels of well-being mainly//////00 TABLE I Literature on well-being and ill-being Academic discipline Methods (representative authors) Dependent variables (outcomes explained) Independent variables (explanatory factors) Key findings Social psychology (Bradburn, 1969; Campbells */., 1976; Andrews and Whithey, 1976) Psychiatric epidemiology \n",
       "+ (1993, Social Indicators Research) Instead, early studies sought to document the preva lence of undifferentiated symptoms of psychological distress \n",
       "+ (2004, Humboldt Journal of Social Relations) Humboldt Journal of Social Relations 28:1//////56 Ethnicity and Health A great deal has been written about the attitudes of different ethnic groups toward health, but much of it has focused on their views regarding mental illness "
      ],
      "text/plain": [
       "<IPython.core.display.Markdown object>"
      ]
     },
     "metadata": {},
     "output_type": "display_data"
    },
    {
     "data": {
      "text/markdown": [
       "## States, United {Historical statistics of the United States: Colonial times to 1957} 1965"
      ],
      "text/plain": [
       "<IPython.core.display.Markdown object>"
      ]
     },
     "metadata": {},
     "output_type": "display_data"
    },
    {
     "name": "stdout",
     "output_type": "stream",
     "text": [
      "[]\n"
     ]
    },
    {
     "data": {
      "text/markdown": [],
      "text/plain": [
       "<IPython.core.display.Markdown object>"
      ]
     },
     "metadata": {},
     "output_type": "display_data"
    },
    {
     "data": {
      "text/markdown": [
       "## Stolzenberg, R {Occupations, Labor Markets and the Process of Wage Attainment} 1975"
      ],
      "text/plain": [
       "<IPython.core.display.Markdown object>"
      ]
     },
     "metadata": {},
     "output_type": "display_data"
    },
    {
     "name": "stdout",
     "output_type": "stream",
     "text": [
      "[('Stolzenberg (1975)', 59)]\n"
     ]
    },
    {
     "data": {
      "text/markdown": [
       "+ (1994, American Sociological Review) 1980) or on wage inequality across markets \n",
       "+ (1995, American Sociological Review) \n",
       "+ (1998, Sociological Bulletin) LABOUR MARKET SEGMENTATION AND STRATIFICATION In the late 1970s, the arena for the study of stratification shifted from the full socioeconomic life cycle to the study of labour markets in the United States \n",
       "+ (2000, Social Forces) Their predictions on how worker education and training affect job rewards are well supported, but frequently the effects are found to be contingent on factors such as the employer or type of work \n",
       "+ (2000, Social Forces) Their predictions on how worker education and training affect job rewards are well supported, but frequently the effects are found to be contingent on factors such as the employer or type of work \n",
       "+ (2001, American Sociological Review) In particular, the role of occupations in shaping employment experiences is well established (Grusky and S0rensen 1998; Kohn 1977; Sorensen 1996), and the direct association between occupations and earnings is demonstrably strong \n",
       "+ (2001, American Sociological Review) The occupational segregation approach emphasizes the importance of occupational placement and mobility in the earnings attainment process \n",
       "+ (2006, Social Forces) Examples include research on how returns to skill vary across dual labor markets (Dickens and Lang 1988; Doeringer and Piore 1971), occupations \n",
       "+ (2006, Social Forces) Examples include research on how returns to skill vary across dual labor markets (Dickens and Lang 1988; Doeringer and Piore 1971), occupations \n",
       "+ (2010, American Sociological Review) "
      ],
      "text/plain": [
       "<IPython.core.display.Markdown object>"
      ]
     },
     "metadata": {},
     "output_type": "display_data"
    },
    {
     "data": {
      "text/markdown": [
       "## Terman, L. M. {Psychological factors in marital happiness} 1938"
      ],
      "text/plain": [
       "<IPython.core.display.Markdown object>"
      ]
     },
     "metadata": {},
     "output_type": "display_data"
    },
    {
     "name": "stdout",
     "output_type": "stream",
     "text": [
      "[('Terman (1938)', 34)]\n"
     ]
    },
    {
     "data": {
      "text/markdown": [
       "+ (1981, Journal of Marriage and Family) \n",
       "+ (1981, Journal of Marriage and Family) These four deal with marital success (Bernard, 1933), marital adjustment (Bowerman, 1957; Locke and Wallace, 1959), and marital happiness \n",
       "+ (1983, Journal of Marriage and Family) His study and two prior ones not cited by Lewis and Spanier \n",
       "+ (1985, Journal of Marriage and Family) Although a number of investigations have focused on the correlation between personality traits and marital happiness or marital satisfaction \n",
       "+ (1988, Journal of Marriage and Family) Sociologists Ernest Burgess and Leonard Cottrell had launched their monumental research project Predicting Success or Failure in Marriage (Burgess and Cottrell, 1939), and psychologist Lewis M. Terman had begun his major project, which he was to publish as Psychological Factors in Marital Happiness \n",
       "+ (1989, Journal of Marriage and Family) Mixed results also appear when the marital satisfaction levels of remarried men and remarried women are compared \n",
       "+ (1991, Journal of Marriage and Family) Journal of Marriage and the Family 53 (November 1991): 845-855 845//////846 Journal of Marriage and the Family A related premarital factor that has been virtually ignored by recent analysts but was the concern of researchers earlier in this century is whether the partners were sexually active prior to marriage (i.e., whether they were virgins) \n",
       "+ (1993, International Journal of Sociology of the Family) This finding concurs with that reported in previous research in the area of marital relations, where sexual satisfaction is reported to be strongly related to overall marital satisfaction and failures in communication with partners \n",
       "+ (2002, Journal of Marriage and Family) In survey research, a high percentage of spouses see their marriages as happy or extremely happy \n",
       "+ (2002, Journal of Marriage and Family) Throughout the history of research on relationship quality, researchers have been concerned about respondents' extremely positive relationship assessments "
      ],
      "text/plain": [
       "<IPython.core.display.Markdown object>"
      ]
     },
     "metadata": {},
     "output_type": "display_data"
    },
    {
     "data": {
      "text/markdown": [
       "## Theil, H {Principles of econometrics} 1970"
      ],
      "text/plain": [
       "<IPython.core.display.Markdown object>"
      ]
     },
     "metadata": {},
     "output_type": "display_data"
    },
    {
     "name": "stdout",
     "output_type": "stream",
     "text": [
      "[('Theil (1970)', 10)]\n"
     ]
    },
    {
     "data": {
      "text/markdown": [
       "+ (1977, American Journal of Sociology) Expected frequencies under a model can be estimated by using the maximum-likelihood methods described by Goodman or other estimation procedures \n",
       "+ (1977, Review of Religious Research) Though it has been used extensively in biology and economics, there has been only one discussion of it in sociological journals \n",
       "+ (1979, American Journal of Sociology) Table 1 presents the wording of the items we have selected, in both the 2 In addition to representing a landmark in the development of survey research methods, the data generated by these surveys have been used extensively in the progressive refinement of data analysis techniques in sociology \n",
       "+ (1980, Social Indicators Research) For analytical purposes, the dependent variable of abortion attitude is defined as a 'logit', or log of the ratio of the propor tion responding 'yes' to the proportion responding 'no' \n",
       "+ (1980, Sociology of Education) To avoid these problems, we employ logit regression, a log-linear method adapted to the social sciences explicitly for the purpose of performing multivariate analysis with dichotomous dependent variables \n",
       "+ (1984, American Sociological Review) We have used minimum logit chi-square regression \n",
       "+ (1985, Review of Religious Research) The main statistical procedure uses logit analysis for fitting various explanatory models \n",
       "+ (1988, The Sociological Quarterly) The effects of socioeconomic and ethnic indicators on a series of parity progression ratios are estimated through minimum logit chi-square regression procedures \n",
       "+ (1990, Journal for the Scientific Study of Religion) However, logistic regression procedure mnight be preferred in some cases \n",
       "+ (1990, Journal of Marriage and Family) Logistic regression analysis was developed specifically to handle the problems created by regressing a dichotomous dependent variable "
      ],
      "text/plain": [
       "<IPython.core.display.Markdown object>"
      ]
     },
     "metadata": {},
     "output_type": "display_data"
    },
    {
     "data": {
      "text/markdown": [
       "## Thoits, P A {Conceptual, methodological, and theoretical problems in studying social support as a buffer against life stress.} 1982"
      ],
      "text/plain": [
       "<IPython.core.display.Markdown object>"
      ]
     },
     "metadata": {},
     "output_type": "display_data"
    },
    {
     "name": "stdout",
     "output_type": "stream",
     "text": [
      "[('Thoits (1982)', 94)]\n"
     ]
    },
    {
     "data": {
      "text/markdown": [
       "+ (2006, Journal of Marriage and Family) Those not receiving support at a given point may fall into two diametrically opposed categories: those who need assistance but lack support from their networks and those who have support available when needed but at the moment do not need it \n",
       "+ (2006, Social Indicators Research) Both physical and mental health status are also predictive of social isolation \n",
       "+ (2007, Journal of Marriage and Family) These measures of actual support combine two very different underlying concepts: having social network support available and needing support at a given point in time \n",
       "+ (2009, Journal of Health and Social Behavior) Social support refers to whether a person's basic social needs-affec tion, esteem, approval, belonging, identity, and security-are satisfied through interactions with others \n",
       "+ (2011, Sociological Perspectives) When the elderly, poor, women, or unmarried persons (Turner, Wheaton, and Lloyd 1995) experience stress at similar levels as more privileged counterparts, they tend to exhibit higher levels of psychological distress \n",
       "+ (2014, Journal of Health and Social Behavior) Third, the interaction effect of social support with social stressors observed through cross-sectional data can be confounded by their effect on one another \n",
       "+ (2014, Social Indicators Research) This conceptualization is also known as social embeddedness \n",
       "+ (2014, Social Indicators Research) This perspective suggests that social support is mainly health effective through emotional support and that the absence of (emotionally satisfying) social relationships work as stressors, regardless of whether other stressful situations exist \n",
       "+ (2014, Social Psychology Quarterly) Sociologists have highlighted social support as an important resource \n",
       "+ (2014, Social Psychology Quarterly) Sociologists have studied types of social support, including: perceived emotional support through affection, sympathy, understanding, and acceptance; informational support via advice; and instrumental support, such as tangible help with family or work obligations, accommodations, and finances "
      ],
      "text/plain": [
       "<IPython.core.display.Markdown object>"
      ]
     },
     "metadata": {},
     "output_type": "display_data"
    },
    {
     "data": {
      "text/markdown": [
       "## Tolbert, Charles, Horan, Patrick M., Beck, E. M. {The Structure of Economic Segmentation: A Dual Economy Approach} 1980"
      ],
      "text/plain": [
       "<IPython.core.display.Markdown object>"
      ]
     },
     "metadata": {},
     "output_type": "display_data"
    },
    {
     "name": "stdout",
     "output_type": "stream",
     "text": [
      "[('Tolbert, Horan, and Beck (1980)', 16), ('Tolbert, Horan & Beck (1980)', 11), ('Tolbert, Horan and Beck (1980)', 4), ('Tolbert II, Horan, and Beck (1980)', 1)]\n"
     ]
    },
    {
     "data": {
      "text/markdown": [
       "+ (1995, Sociological Perspectives) The Dual Labor Market Theory of Feminization The DLMT of feminization follows quite logically from its central tenets \n",
       "+ (1996, American Sociological Review) Several writers have suggested that the private-sector U.S. economy can be divided into two subsectors with distinct forms of labor control: \"Core\" industries contain large, capital-intensive firms that depend on skilled workers; \"peripheral\" industries contain small, labor-intensive firms that employ largely unskilled workers \n",
       "+ (1998, Social Forces) As some have noted, structures and processes of opportunity vary between and even within regions of the U.S. \n",
       "+ (1998, Social Forces) As some have noted, structures and processes of opportunity vary between and even within regions of the U.S. \n",
       "+ (1998, The Sociological Quarterly) In contrast to the supply-oriented, individualistic human capital approach, neostructuralist researchers \n",
       "+ (2000, Social Forces) Early work on labor-market opportunity made the distinction between core (primary) and peripheral (secondary) labor-market areas, and it was argued that each has implications for the distribution of resources within a population given varying returns on human capital investment, training, wages, and job stability \n",
       "+ (2000, Social Forces) Early work on labor-market opportunity made the distinction between core (primary) and peripheral (secondary) labor-market areas, and it was argued that each has implications for the distribution of resources within a population given varying returns on human capital investment, training, wages, and job stability \n",
       "+ (2000, Social Forces) We find this somewhat surprising given the focus of Wilson (1987), Kasarda (1987), and stratification researchers on labor-market attributes that shape the spatialiy varying nature of disadvantage in the first place \n",
       "+ (2000, Social Forces) We find this somewhat surprising given the focus of Wilson (1987), Kasarda (1987), and stratification researchers on labor-market attributes that shape the spatialiy varying nature of disadvantage in the first place \n",
       "+ (2014, American Sociological Review) Indeed, segmented labor market theories posit that women and minorities were trapped in unstable secondary labor markets "
      ],
      "text/plain": [
       "<IPython.core.display.Markdown object>"
      ]
     },
     "metadata": {},
     "output_type": "display_data"
    },
    {
     "data": {
      "text/markdown": [
       "## Treiman, Donald J, Terrell, Kermit {Sex and the Process of Status Attainment: A Comparison of Working Women and Men} 1975"
      ],
      "text/plain": [
       "<IPython.core.display.Markdown object>"
      ]
     },
     "metadata": {},
     "output_type": "display_data"
    },
    {
     "name": "stdout",
     "output_type": "stream",
     "text": [
      "[('Treiman and Terrell (1975)', 176), ('Treiman & Terrell (1975)', 14)]\n"
     ]
    },
    {
     "data": {
      "text/markdown": [
       "+ (1997, American Journal of Sociology) The main generalizable evidence for this belief is the finding that sizable wage effects of occupational sex composition cannot be explained by any stable worker or occupational characteristics \n",
       "+ (1997, The American Sociologist) Most relevant here was the finding that educational attainment did not work for women the way it did for men \n",
       "+ (2000, European Sociological Review) It makes little difference, however, since correlations between overall and native-male values are quite high \n",
       "+ (2000, European Sociological Review) One notable consequence is a large gender gap in earnings \n",
       "+ (2000, Journal of Marriage and Family) Some studies have focused solely on the influence of parental modeling on children's educational aspirations and attainment \n",
       "+ (2003, Social Problems) Earlier research demonstrates wage depreciation in female-dominated occupations in the 1940s, 1950s, and 1960s \n",
       "+ (2008, European Sociological Review) Earlier studies in the USA, Australia, the UK, and Ireland report similar findings \n",
       "+ (2008, Journal for the Scientific Study of Religion) Family origins create both advantages and disadvantages for one's future life chances, with educational attainment being strongly affected by the socioeconomic and intellectual features of family background \n",
       "+ (2009, European Sociological Review) Previous studies have mostly found small differences between women's occupations and men's occupations on scales of occupational prestige \n",
       "+ (2012, American Sociological Review) First, children may be more likely to model their behaviors after the attitudes of the same-sex parent "
      ],
      "text/plain": [
       "<IPython.core.display.Markdown object>"
      ]
     },
     "metadata": {},
     "output_type": "display_data"
    },
    {
     "data": {
      "text/markdown": [
       "## Turner, R H {The social context of ambition: A study of high-school seniors in Los Angeles} 1964"
      ],
      "text/plain": [
       "<IPython.core.display.Markdown object>"
      ]
     },
     "metadata": {},
     "output_type": "display_data"
    },
    {
     "name": "stdout",
     "output_type": "stream",
     "text": [
      "[('Turner (1964)', 101)]\n"
     ]
    },
    {
     "data": {
      "text/markdown": [
       "+ (1987, Journal for the Scientific Study of Religion) Much of this literature details the effects of various organizational characteristics on the success or failure of the group \n",
       "+ (1988, Social Psychology Quarterly) Another refinement of the dominant value approach is found in Hyman Rodman's (1963) concept of value stretch and my concept of value relevancy \n",
       "+ (1991, Sociological Forum) Several studies in the 1960s and 1970s showed that American youth did, indeed, overaspire occupationally as well as educationally \n",
       "+ (1991, Sociological Forum) The evidence on high aspirations is consistent with the findings of earlier research on overaspirations \n",
       "+ (1993, Sociological Theory) For example, social psychological work on power (Cook and Emerson 1978), status (Berger, Zelditch, Anderson, and Cohen 1972), roles \n",
       "+ (1996, Sociological Forum) These seek to explain how and when a crowd becomes violent with reference to the presence or communication of various stimuli or interactions between crowd members \n",
       "+ (1996, Sociological Forum) While deviant behavior must be alleged if there is to be social control, the offense itself, be it a minor infraction or an act 99//////Senechal de la Roche lynching as \"a form of murder\" unrelated to social control: \"The events precipitating lynchings are only excuses for the conflict which ultimately would have occurred on virtually any pretext\" \n",
       "+ (1998, Sociological Forum) INTRODUCTION Emergent Norm Theory (ENT) posits that nontraditional, collective behavior emerges from the crucible of a normative crisis \n",
       "+ (2007, Sociology of Education) Findings in the 1 960s and early 1 970s, emanating from a flurry of research on the relationship between school context and edu cational expectations, showed that students from high-SES schools had higher aspirations than did those from low-SES schools, even//////46 Frost after their individual class status was con trolled \n",
       "+ (2015, Sociological Bulletin) None of that would leave an impact on an outsider who is not a member of the Ndembu tribe "
      ],
      "text/plain": [
       "<IPython.core.display.Markdown object>"
      ]
     },
     "metadata": {},
     "output_type": "display_data"
    },
    {
     "data": {
      "text/markdown": [
       "## Valentine, C A {Culture and Poverty} 1968"
      ],
      "text/plain": [
       "<IPython.core.display.Markdown object>"
      ]
     },
     "metadata": {},
     "output_type": "display_data"
    },
    {
     "name": "stdout",
     "output_type": "stream",
     "text": [
      "[('Valentine (1968)', 52)]\n"
     ]
    },
    {
     "data": {
      "text/markdown": [
       "+ (1994, Social Problems) By contrast, in previous decades, cultural formulations emanated from anthropologists and sociologists \n",
       "+ (1995, American Journal of Sociology) Critics accused the deprivationists of ignoring the arbitrary middle-class biases within schools that disadvantaged working-class students and questioned the explanatory emphasis deprivationists placed on cultural over structural factors \n",
       "+ (1996, Sociological Perspectives) \n",
       "+ (1996, Sociological Perspectives) \n",
       "+ (1996, Sociological Perspectives) In making this charge, he//////470 SOCIOLOGICAL PERSPECTIVES Volume 39, Number 4,1996 enters the embroglio over the Moynihan Report, denouncing it as a latter-day extension of the \"Frazierian vision\" \n",
       "+ (1996, Sociological Perspectives) The book begins with a rejection of what Valentine calls the \"pejorative tradition\" of black family studies begun by E. Franklin Frazier \n",
       "+ (1998, Journal of Marriage and Family) Although there is a range of opinion about the specific antecedents, features, and consequences of the subculture \n",
       "+ (2001, Annual Review of Sociology) It was still the case that some argued that this reform agenda often relied too heavily upon a vision of white America as a measuring rod for the possibilities of African Americans in the twentieth century (Watts 1983) and thus fostered a pathological conception of the cultural and social dimension of African-American life \n",
       "+ (2002, American Journal of Sociology) dismissed the relevance of/// culture based on the analysis of census data that provide no measures of culture/// whatsoever.” In fact, the authors could simply have written of the/// “dismissal of culture based on no data whatsoever.”/// Part of this reluctance to deal with culture stems from the tendency to rely on the/// conceptions of culture as norms and values prevalent during the 1950s and 1960s/// \n",
       "+ (2007, American Sociological Review) Indeed, scholars studying race and poverty have shied away from discussing culture since the early 1970s, after critics of scholars such as Frazier (1966), Moynihan (1965), and Lewis (1969) argued that cultural explanations of poverty ignore structural barriers and blame the victim "
      ],
      "text/plain": [
       "<IPython.core.display.Markdown object>"
      ]
     },
     "metadata": {},
     "output_type": "display_data"
    },
    {
     "data": {
      "text/markdown": [
       "## Warner, W. L., Eells, K., Meeker, M. {Social class in America: A manual of procedure for the measurement of social status} 1949"
      ],
      "text/plain": [
       "<IPython.core.display.Markdown object>"
      ]
     },
     "metadata": {},
     "output_type": "display_data"
    },
    {
     "name": "stdout",
     "output_type": "stream",
     "text": [
      "[]\n"
     ]
    },
    {
     "data": {
      "text/markdown": [],
      "text/plain": [
       "<IPython.core.display.Markdown object>"
      ]
     },
     "metadata": {},
     "output_type": "display_data"
    },
    {
     "data": {
      "text/markdown": [
       "## Wolf, Wendy C, Fligstein, Neil D {Sex and Authority in the Workplace: The Causes of Sexual Inequality} 1979"
      ],
      "text/plain": [
       "<IPython.core.display.Markdown object>"
      ]
     },
     "metadata": {},
     "output_type": "display_data"
    },
    {
     "name": "stdout",
     "output_type": "stream",
     "text": [
      "[('Wolf and Fligstein (1979)', 72), ('Wolf & Fligstein (1979)', 18), ('Wolfe and Fligstein (1979)', 1), ('Wolff and Fligstein (1979)', 1)]\n"
     ]
    },
    {
     "data": {
      "text/markdown": [
       "+ (2010, Acta Sociologica) Studies have also shown that men are more likely to be allocated to higher positions than women, given similar occupational prestige \n",
       "+ (2010, The Sociological Quarterly) No matter how authority is measured, a variety of studies have found that, after controlling for an assortment of relevant variables, whites are more likely to exercise authority at work than minorities (Kluegel 1978; McGuire and Reskin 1993; Smith 1997, 1999; Wilson 1997; Smith 2001; Elliott and Smith 2004), and men are more likely to do so than women \n",
       "+ (2012, Social Forces) \n",
       "+ (2012, Social Forces) \n",
       "+ (2012, Social Forces) Mechanisms Behind the Gender Gap in Workplace Authority Researchers have defined and operationalized the concept of workplace authority in numerous ways, for example as the right to hire and fire, set the rate of pay, supervise the work of subordinates, participate direcdy in policy decisions in the workplace, and the possession of a formal position of authority (like an executive title) \n",
       "+ (2012, Social Forces) Mechanisms Behind the Gender Gap in Workplace Authority Researchers have defined and operationalized the concept of workplace authority in numerous ways, for example as the right to hire and fire, set the rate of pay, supervise the work of subordinates, participate direcdy in policy decisions in the workplace, and the possession of a formal position of authority (like an executive title) \n",
       "+ (2012, Sociological Perspectives) In our study, we address this question through a decomposition technique, most often used by labor economists, to explain the relative contribution of endowments and labor market factors to wage differences by race or gender \n",
       "+ (2013, Sociological Perspectives) As noted above, there is ample prior evidence that women have generally tended to receive fewer pecuniary rewards than men for the same level of job authority \n",
       "+ (2013, Sociological Perspectives) Authority in the workplace is a foundational form of job control with connections to the manner in which people have “control over resources, people, and things” \n",
       "+ (2013, Sociological Perspectives) Authority represents a central indicator of status and legitimacy in many work contexts "
      ],
      "text/plain": [
       "<IPython.core.display.Markdown object>"
      ]
     },
     "metadata": {},
     "output_type": "display_data"
    },
    {
     "data": {
      "text/markdown": [
       "## Woodward, J {Industrial Organization: Theory and Practice} 1965"
      ],
      "text/plain": [
       "<IPython.core.display.Markdown object>"
      ]
     },
     "metadata": {},
     "output_type": "display_data"
    },
    {
     "name": "stdout",
     "output_type": "stream",
     "text": [
      "[('Woodward (1965)', 135)]\n"
     ]
    },
    {
     "data": {
      "text/markdown": [
       "+ (1997, Sociology) In contrast to previous studies, which have sought to explain supervisory roles in terms of their link with structural factors such as technology, organisational size and formalisation \n",
       "+ (1997, Sociology) Previous studies have established the importance of various structural factors in shaping supervisory systems, for example the size of the organisation, process technology, payment systems, and so on \n",
       "+ (1999, Annual Review of Sociology) Some underlying propositions that apply to an industrial technology determinist view are: (a) Technology is the solution to the problems organizations face, particularly with respect to competitiveness; (b) organizations must adapt to accommodate the technology, after it is installed; (c) technology type determines the best organizational design \n",
       "+ (1999, Sociological Perspectives) HYPOTHESES: ORGANIZATIONAL CHARACTERISTICS THAT DROVE ADOPTION Size and Complexity Several scholars have explored the association between organizational complexity and technology \n",
       "+ (2002, American Sociological Review) This seems an especially reasonable assumption in industries like chemical production, which depend on continuous process systems \n",
       "+ (2004, Administrative Science Quarterly) Over time, however, to maintain such an \"imperative\" view of technology (Khandwalla, 1974) in the face of increasingly contradictory findings, researchers from an objectivist tradition have augmented their theories with additional variables on which technological outcomes are contingent, including organizational size, task complexity, and amount of centralization \n",
       "+ (2004, Sociological Theory) That is, a more complicated organization reduces the power of the top of the hierarchy (a point in keeping with many studies of organizational control) \n",
       "+ (2011, Sociology of Education) 2007), few program designs that aim at technol ogy implementation have seriously considered the complexity of teaching \n",
       "+ (2011, Sociology of Education) As a result, teaching is complex because teachers must both adapt practices to local contexts and coordinate with each other as they do so \n",
       "+ (2013, The American Sociologist) Likewise, in Contingency theory the object of analysis is primarily profitoriented organizations "
      ],
      "text/plain": [
       "<IPython.core.display.Markdown object>"
      ]
     },
     "metadata": {},
     "output_type": "display_data"
    },
    {
     "data": {
      "text/markdown": [
       "## Yinger, J M {Religion, society and the individual: An introduction to the sociology of religion} 1957"
      ],
      "text/plain": [
       "<IPython.core.display.Markdown object>"
      ]
     },
     "metadata": {},
     "output_type": "display_data"
    },
    {
     "name": "stdout",
     "output_type": "stream",
     "text": [
      "[('Yinger (1957)', 28)]\n"
     ]
    },
    {
     "data": {
      "text/markdown": [
       "+ (1984, Review of Religious Research) Religion, according to this perspective, has lost its \"presence\" as a social force and has become less visible, less public, and less important in the lives of people \n",
       "+ (1987, Social Forces) Beyond its use as a general orienting proposition, secularization has been used in many ways ranging from the \"decline\" or \"loss\" of religion \n",
       "+ (1987, Social Forces) Beyond its use as a general orienting proposition, secularization has been used in many ways ranging from the \"decline\" or \"loss\" of religion \n",
       "+ (1987, Sociological Bulletin) Two social scientists, a foreigner \n",
       "+ (1994, Journal for the Scientific Study of Religion) Historically, religion has been seen by theoreticians as a powerful factor promoting good health among both individuals \n",
       "+ (1998, Journal for the Scientific Study of Religion) INTRODUCTION Church-sect theory, when applied, as it typically has been, to sects in single societies where they began schismatically, has proved to be full of insights concerning the development of sects/new religous movements \n",
       "+ (2001, Review of Religious Research) But, as the proponents of this definition frankly admit, \"Religion, of course, is not alone in attempting to deal with the ultimate problems of human life\" \n",
       "+ (2001, Review of Religious Research) In this tradition, religion is any system of beliefs and practices involving answers to questions about the meaning and purpose of life \n",
       "+ (2001, Review of Religious Research) Many others have followed Durkheim ([1912] 1995) in distinguishing religion from magic on the basis their goals, identifying religion as being mainly concerned with general, long-range, goals and magic as concerned with immedi- 102//////ate and concrete goals \n",
       "+ (2009, Journal for the Scientific Study of Religion) The debate about the decline-ofreligion thesis is about whether, where, and why we are witnessing a decline of institutionalized, mainline church religion on the one hand (e.g., Houtman and Mascini 2002; Noms and Inglehart 2004) and religious innovation, revitalization, and cult formation, typically occurring outside the mainline churches, on the other "
      ],
      "text/plain": [
       "<IPython.core.display.Markdown object>"
      ]
     },
     "metadata": {},
     "output_type": "display_data"
    }
   ],
   "source": [
    "for r, qstr in zip(rows,qs):\n",
    "    q = {\"citations\":{\"$elemMatch\":{\"$regex\":qstr}}}\n",
    "    cits = list(db['cits'].find(q))\n",
    "\n",
    "    display(Markdown(f\"## {' '.join(r)}\"))\n",
    "\n",
    "    counts = Counter()\n",
    "    for x in cits:\n",
    "        counts.update( [y for y in x['citations'] if re.match(qstr, y)] )\n",
    "\n",
    "    print(counts.most_common(5))\n",
    "    cits = list(filter(lambda x:any( re.match(qstr, y) for y in x['citations'] ), cits))\n",
    "    cits = sorted(cits, key=lambda x:-db['docs'].find_one({\"_id\":x['doc']})['year'])\n",
    "\n",
    "    display(Markdown(\n",
    "        \"\\n\".join( sorted([format_cit(c) for c in cits[:10]]) )\n",
    "    ))"
   ]
  }
 ],
 "metadata": {
  "kernelspec": {
   "display_name": "Python 3",
   "language": "python",
   "name": "python3"
  },
  "language_info": {
   "codemirror_mode": {
    "name": "ipython",
    "version": 3
   },
   "file_extension": ".py",
   "mimetype": "text/x-python",
   "name": "python",
   "nbconvert_exporter": "python",
   "pygments_lexer": "ipython3",
   "version": "3.7.5"
  }
 },
 "nbformat": 4,
 "nbformat_minor": 4
}
