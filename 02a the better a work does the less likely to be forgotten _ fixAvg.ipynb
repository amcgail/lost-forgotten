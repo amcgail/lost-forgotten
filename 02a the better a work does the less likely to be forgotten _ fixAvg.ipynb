{
 "cells": [
  {
   "cell_type": "code",
   "execution_count": 4,
   "metadata": {},
   "outputs": [],
   "source": [
    "from knowknow import *"
   ]
  },
  {
   "cell_type": "code",
   "execution_count": 12,
   "metadata": {},
   "outputs": [],
   "source": [
    "from load_db import db"
   ]
  },
  {
   "cell_type": "code",
   "execution_count": 13,
   "metadata": {},
   "outputs": [],
   "source": [
    "#db = Dataset('sociology-wos-73b')\n",
    "#top_1970 = stats.top_decade_stratified(db, 'c', 0.01, yRange=(1970,1980), debug=True)"
   ]
  },
  {
   "cell_type": "code",
   "execution_count": 14,
   "metadata": {},
   "outputs": [
    {
     "name": "stdout",
     "output_type": "stream",
     "text": [
      "loading variable sociology-wos-74b/ind ___ c from disk\n"
     ]
    }
   ],
   "source": [
    "total = 0\n",
    "died = 0\n",
    "died1 = 0\n",
    "\n",
    "#top_1970_n = top_1970['name']\n",
    "min_top_cited = float('inf')\n",
    "all_avgbet = []\n",
    "all_totals = []\n",
    "\n",
    "for name in db.items('c'):\n",
    "    tt = db.trend('c', name)\n",
    "    \n",
    "    all_totals.append( (name, tt.sum_between(1970,1980)) )\n",
    "    \n",
    "    # only count among works that are cited at least 5 times in 1970-1980\n",
    "    range1 = tt.sum_between(1970,1980) \n",
    "    if range1 < 5:\n",
    "        continue        \n",
    "        \n",
    "    total += 1\n",
    "    \n",
    "    #range1 = min(min_top_cited, )\n",
    "    B,D = tt.births_deaths(death_cutoff=0.1)\n",
    "    B1,D1 = tt.births_deaths(death_cutoff=0)\n",
    "    \n",
    "    # did they die?\n",
    "    if len(D):\n",
    "        if D[-1] >= 1970:\n",
    "            died += 1\n",
    "    # did they die?\n",
    "    if len(D1):\n",
    "        if D1[-1] >= 1970:\n",
    "            died1 += 1\n",
    "            \n",
    "    # how are they doing now?\n",
    "    ab = tt.avg_between(2005,2015)\n",
    "    all_avgbet.append(ab)"
   ]
  },
  {
   "cell_type": "code",
   "execution_count": 15,
   "metadata": {},
   "outputs": [],
   "source": [
    "prop1 = died / total"
   ]
  },
  {
   "cell_type": "code",
   "execution_count": 16,
   "metadata": {},
   "outputs": [],
   "source": [
    "prop2 = died1 / total"
   ]
  },
  {
   "cell_type": "code",
   "execution_count": 17,
   "metadata": {},
   "outputs": [],
   "source": [
    "prop3 = sum( np.array(all_avgbet) < 1e-8 ) / len(all_avgbet)"
   ]
  },
  {
   "cell_type": "code",
   "execution_count": 113,
   "metadata": {},
   "outputs": [
    {
     "data": {
      "text/plain": [
       "(0.6828232537706839, 0.6211744032801289, 0.4255381461414556)"
      ]
     },
     "execution_count": 113,
     "metadata": {},
     "output_type": "execute_result"
    }
   ],
   "source": [
    "prop1, prop2, prop3"
   ]
  },
  {
   "cell_type": "code",
   "execution_count": 18,
   "metadata": {},
   "outputs": [
    {
     "data": {
      "text/plain": [
       "(0.6828232537706839, 0.6211744032801289, 0.4255381461414556)"
      ]
     },
     "execution_count": 18,
     "metadata": {},
     "output_type": "execute_result"
    }
   ],
   "source": [
    "prop1, prop2, prop3"
   ]
  },
  {
   "cell_type": "code",
   "execution_count": 44,
   "metadata": {},
   "outputs": [
    {
     "data": {
      "text/markdown": [
       "\n",
       "62% of works that got at least 5 citations between 1970 and 1980\n",
       "    went at least a decade without being cited.\n",
       "43% were not cited whatsoever between 2005 and 2015.\n"
      ],
      "text/plain": [
       "<IPython.core.display.Markdown object>"
      ]
     },
     "metadata": {},
     "output_type": "display_data"
    }
   ],
   "source": [
    "display(Markdown(f\"\"\"\n",
    "{prop2:0.0%} of works that got at least 5 citations between 1970 and 1980\n",
    "    went at least a decade without being cited.\n",
    "{prop3:0.0%} were not cited whatsoever between 2005 and 2015.\n",
    "\"\"\"))"
   ]
  },
  {
   "cell_type": "code",
   "execution_count": 49,
   "metadata": {},
   "outputs": [],
   "source": [
    "cy = db.by('c','fy').cits"
   ]
  },
  {
   "cell_type": "code",
   "execution_count": 50,
   "metadata": {},
   "outputs": [],
   "source": [
    "cited = set()\n",
    "\n",
    "for (c,fy), C in cy.items():\n",
    "    if C <= 0:\n",
    "        continue\n",
    "    if 1970 <= fy <= 1980:\n",
    "        cited.add(c)"
   ]
  },
  {
   "cell_type": "code",
   "execution_count": 51,
   "metadata": {},
   "outputs": [],
   "source": [
    "total_cited = len(cited)"
   ]
  },
  {
   "cell_type": "code",
   "execution_count": 52,
   "metadata": {},
   "outputs": [
    {
     "data": {
      "text/plain": [
       "18543"
      ]
     },
     "execution_count": 52,
     "metadata": {},
     "output_type": "execute_result"
    }
   ],
   "source": [
    "total_cited"
   ]
  },
  {
   "cell_type": "code",
   "execution_count": 53,
   "metadata": {},
   "outputs": [],
   "source": [
    "total = 0\n",
    "died = 0\n",
    "for name in cited:\n",
    "    total += 1\n",
    "    B,D = db.trend('c', name).births_deaths(death_cutoff=0.1)\n",
    "    \n",
    "    if len(D):\n",
    "        died += 1"
   ]
  },
  {
   "cell_type": "code",
   "execution_count": 54,
   "metadata": {},
   "outputs": [],
   "source": [
    "prop2 = died / total"
   ]
  },
  {
   "cell_type": "code",
   "execution_count": 55,
   "metadata": {},
   "outputs": [
    {
     "data": {
      "text/plain": [
       "(0.6828232537706839, 0.7830987434611444)"
      ]
     },
     "execution_count": 55,
     "metadata": {},
     "output_type": "execute_result"
    }
   ],
   "source": [
    "prop1, prop2"
   ]
  },
  {
   "cell_type": "code",
   "execution_count": 56,
   "metadata": {},
   "outputs": [],
   "source": [
    "cited_after_1990 = set()"
   ]
  },
  {
   "cell_type": "code",
   "execution_count": 57,
   "metadata": {},
   "outputs": [],
   "source": [
    "for (c,fy), C in cy.items():\n",
    "    if C <= 0:\n",
    "        continue\n",
    "    if 1990 < fy and c in cited:\n",
    "        cited_after_1990.add(c)"
   ]
  },
  {
   "cell_type": "code",
   "execution_count": 60,
   "metadata": {},
   "outputs": [],
   "source": [
    "p1 = 1 - len(cited_after_1990) / len(cited)"
   ]
  },
  {
   "cell_type": "code",
   "execution_count": 61,
   "metadata": {},
   "outputs": [],
   "source": [
    "died = 0\n",
    "total = 0\n",
    "\n",
    "for c in cited:\n",
    "    total += 1\n",
    "    ct = db.trend('c', c)\n",
    "    B,D =  ct.births_deaths( death_cutoff=0 )\n",
    "    if len(D):\n",
    "        died += 1"
   ]
  },
  {
   "cell_type": "code",
   "execution_count": 62,
   "metadata": {},
   "outputs": [],
   "source": [
    "p2 = died/total"
   ]
  },
  {
   "cell_type": "code",
   "execution_count": 69,
   "metadata": {},
   "outputs": [],
   "source": [
    "died = 0\n",
    "total = 0\n",
    "\n",
    "for c in cited:\n",
    "    total += 1\n",
    "    ct = db.trend('c', c)\n",
    "    \n",
    "    if ct.avg_between(2005,2015) >= 1:\n",
    "        died += 1"
   ]
  },
  {
   "cell_type": "code",
   "execution_count": 70,
   "metadata": {},
   "outputs": [],
   "source": [
    "p3 = died/total"
   ]
  },
  {
   "cell_type": "code",
   "execution_count": 71,
   "metadata": {},
   "outputs": [
    {
     "data": {
      "text/plain": [
       "0.06347408725664672"
      ]
     },
     "execution_count": 71,
     "metadata": {},
     "output_type": "execute_result"
    }
   ],
   "source": [
    "p3"
   ]
  },
  {
   "cell_type": "code",
   "execution_count": 72,
   "metadata": {},
   "outputs": [],
   "source": [
    "all_avgbet = []\n",
    "\n",
    "died = 0\n",
    "total = 0\n",
    "\n",
    "for c in db.items('c'):\n",
    "    total += 1\n",
    "    ct = db.trend('c', c)\n",
    "    ab = ct.avg_between(2005,2015)\n",
    "    all_avgbet.append(ab)"
   ]
  },
  {
   "cell_type": "code",
   "execution_count": 73,
   "metadata": {},
   "outputs": [],
   "source": [
    "p4 = sum( np.array(all_avgbet) > 1 ) / len(all_avgbet)"
   ]
  },
  {
   "cell_type": "code",
   "execution_count": 74,
   "metadata": {},
   "outputs": [
    {
     "data": {
      "text/plain": [
       "0.1293906595706512"
      ]
     },
     "execution_count": 74,
     "metadata": {},
     "output_type": "execute_result"
    }
   ],
   "source": [
    "p4"
   ]
  },
  {
   "cell_type": "code",
   "execution_count": 75,
   "metadata": {},
   "outputs": [
    {
     "data": {
      "text/markdown": [
       "\n",
       "\n",
       "The lifespan of a cited work is well described in aggregate by a lognormal distribution.\n",
       "The work reaches its maximum after a few years, declines slowly for 5-10 years, eventually recieving its last citation.\n",
       "\n",
       "A few statistics should be sufficient to illustrate that cited works are almost surely headed to the grave, never to be revived.\n",
       "There were 18,543 works cited for the first time in the years 1970 to 1980.\n",
       "19% of these would not receive another citation after 1980.\n",
       "75% of works cited in the 70s has gone at least a decade without being cited at all.\n",
       "And only 6% received at least 1 citation per year on average between 2005 and 2015, \n",
       "For comparison, 87% of works first cited between 2005 and 2015 received a yearly average of at least 1 citation.\n"
      ],
      "text/plain": [
       "<IPython.core.display.Markdown object>"
      ]
     },
     "metadata": {},
     "output_type": "display_data"
    }
   ],
   "source": [
    "display(Markdown(f\"\"\"\n",
    "\n",
    "The lifespan of a cited work is well described in aggregate by a lognormal distribution.\n",
    "The work reaches its maximum after a few years, declines slowly for 5-10 years, eventually recieving its last citation.\n",
    "\n",
    "A few statistics should be sufficient to illustrate that cited works are almost surely headed to the grave, never to be revived.\n",
    "There were {total_cited:,} works cited for the first time in the years 1970 to 1980.\n",
    "{p1:0.0%} of these would not receive another citation after 1980.\n",
    "{p2:0.0%} of works cited in the 70s has gone at least a decade without being cited at all.\n",
    "And only {p3:0.0%} received at least 1 citation per year on average between 2005 and 2015, \n",
    "For comparison, {1-p4:0.0%} of works first cited between 2005 and 2015 received a yearly average of at least 1 citation.\n",
    "\"\"\"))"
   ]
  },
  {
   "cell_type": "markdown",
   "metadata": {},
   "source": [
    "# top 1%"
   ]
  },
  {
   "cell_type": "code",
   "execution_count": 76,
   "metadata": {},
   "outputs": [
    {
     "data": {
      "text/plain": [
       "83615"
      ]
     },
     "execution_count": 76,
     "metadata": {},
     "output_type": "execute_result"
    }
   ],
   "source": [
    "len(all_totals)"
   ]
  },
  {
   "cell_type": "code",
   "execution_count": 77,
   "metadata": {},
   "outputs": [],
   "source": [
    "totns = np.array([x[1] for x in all_totals])\n",
    "\n",
    "top1q = np.quantile(totns, 0.99)\n",
    "top1 = [x for x,c in all_totals if c >= top1q]"
   ]
  },
  {
   "cell_type": "code",
   "execution_count": 78,
   "metadata": {},
   "outputs": [],
   "source": [
    "all_avgbet = []\n",
    "\n",
    "died = 0\n",
    "total = 0\n",
    "\n",
    "for c in top1:\n",
    "    total += 1\n",
    "    ct = db.trend('c', c)\n",
    "    ab = ct.avg_between(2005,2015)\n",
    "    all_avgbet.append(ab)"
   ]
  },
  {
   "cell_type": "code",
   "execution_count": 79,
   "metadata": {},
   "outputs": [
    {
     "data": {
      "text/plain": [
       "874"
      ]
     },
     "execution_count": 79,
     "metadata": {},
     "output_type": "execute_result"
    }
   ],
   "source": [
    "len(top1)"
   ]
  },
  {
   "cell_type": "code",
   "execution_count": 80,
   "metadata": {},
   "outputs": [
    {
     "data": {
      "text/plain": [
       "874"
      ]
     },
     "execution_count": 80,
     "metadata": {},
     "output_type": "execute_result"
    }
   ],
   "source": [
    "len(all_avgbet)"
   ]
  },
  {
   "cell_type": "code",
   "execution_count": 81,
   "metadata": {},
   "outputs": [],
   "source": [
    "p1 = sum( np.array(all_avgbet) > 1 ) / len(all_avgbet)"
   ]
  },
  {
   "cell_type": "code",
   "execution_count": 84,
   "metadata": {},
   "outputs": [
    {
     "data": {
      "text/markdown": [
       "\n",
       "83,615 works in this dataset were cited at some point between 1970 and 1980.\n",
       "The top 1% consists of 874 cited works which have at least 21.0 citations in this decade.\n",
       "Of these 44.5% got at least 1 citation per year in 2005 - 2015.\n",
       "For comparison, for all works cited at least 5 times in the 1970s this statistic is just 6%.\n"
      ],
      "text/plain": [
       "<IPython.core.display.Markdown object>"
      ]
     },
     "metadata": {},
     "output_type": "display_data"
    }
   ],
   "source": [
    "display(Markdown(f\"\"\"\n",
    "{len(all_totals):,} works in this dataset were cited at some point between 1970 and 1980.\n",
    "The top 1% consists of {len(all_avgbet)} cited works which have at least {top1q} citations in this decade.\n",
    "Of these {p1:0.1%} got at least 1 citation per year in 2005 - 2015.\n",
    "For comparison, for all works cited at least 5 times in the 1970s this statistic is just {p3:0.0%}.\n",
    "\"\"\"))"
   ]
  },
  {
   "cell_type": "code",
   "execution_count": 83,
   "metadata": {},
   "outputs": [
    {
     "data": {
      "text/plain": [
       "0.010452669975482868"
      ]
     },
     "execution_count": 83,
     "metadata": {},
     "output_type": "execute_result"
    }
   ],
   "source": [
    "874/83615"
   ]
  }
 ],
 "metadata": {
  "kernelspec": {
   "display_name": "Python 3",
   "language": "python",
   "name": "python3"
  },
  "language_info": {
   "codemirror_mode": {
    "name": "ipython",
    "version": 3
   },
   "file_extension": ".py",
   "mimetype": "text/x-python",
   "name": "python",
   "nbconvert_exporter": "python",
   "pygments_lexer": "ipython3",
   "version": "3.7.5"
  }
 },
 "nbformat": 4,
 "nbformat_minor": 4
}
